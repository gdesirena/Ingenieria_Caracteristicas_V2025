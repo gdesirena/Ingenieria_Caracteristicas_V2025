{
 "cells": [
  {
   "cell_type": "markdown",
   "metadata": {},
   "source": [
    "<img style=\"float: left;;\" src='Figures/iteso.jpg' width=\"100\" height=\"200\"/></a>\n",
    "\n",
    "# <center> <font color= #000047> Extracción </font> </center>"
   ]
  },
  {
   "cell_type": "code",
   "execution_count": 7,
   "metadata": {
    "colab": {
     "base_uri": "https://localhost:8080/"
    },
    "executionInfo": {
     "elapsed": 33412,
     "status": "ok",
     "timestamp": 1692217800800,
     "user": {
      "displayName": "Carlos Arellano",
      "userId": "03055712073717640513"
     },
     "user_tz": 360
    },
    "id": "e-6IsmGPLBYv",
    "outputId": "95ee7a7e-073e-4acb-cc65-55aebc8ce456"
   },
   "outputs": [
    {
     "name": "stdout",
     "output_type": "stream",
     "text": [
      "Mounted at /content/drive\n"
     ]
    }
   ],
   "source": [
    "# Cargar archivos\n",
    "\n",
    "from google.colab import drive\n",
    "drive.mount('/content/drive')"
   ]
  },
  {
   "cell_type": "code",
   "execution_count": 8,
   "metadata": {
    "executionInfo": {
     "elapsed": 14,
     "status": "ok",
     "timestamp": 1692217807721,
     "user": {
      "displayName": "Carlos Arellano",
      "userId": "03055712073717640513"
     },
     "user_tz": 360
    },
    "id": "ZMhPPgsWMuna"
   },
   "outputs": [],
   "source": [
    "# Almacenamos la ruta de los archivos en una variable\n",
    "ruta='/content/drive/MyDrive/Colab Notebooks/ITESO/Ingeniería de características/P2023_MCD3735A/Módulo 1 - Extracción de datos de diferentes fuentes/'"
   ]
  },
  {
   "cell_type": "markdown",
   "metadata": {
    "id": "7YrxXqpaM_vz"
   },
   "source": [
    "# Archivos de texto\n",
    "### De texto a `DataFrame`"
   ]
  },
  {
   "cell_type": "code",
   "execution_count": 9,
   "metadata": {
    "executionInfo": {
     "elapsed": 236,
     "status": "ok",
     "timestamp": 1692217813710,
     "user": {
      "displayName": "Carlos Arellano",
      "userId": "03055712073717640513"
     },
     "user_tz": 360
    },
    "id": "lVBS42QqM93C"
   },
   "outputs": [],
   "source": [
    "import pandas as pd"
   ]
  },
  {
   "cell_type": "code",
   "execution_count": null,
   "metadata": {
    "id": "bC2UoY-3OERa"
   },
   "outputs": [],
   "source": [
    "# Extracción a partir de texto separado por tabular\n",
    "pd.read_fwf(ruta+'texto_2.txt',header=None) # No se puede especificar el separador"
   ]
  },
  {
   "cell_type": "code",
   "execution_count": null,
   "metadata": {
    "id": "HQw9zaACUvWT"
   },
   "outputs": [],
   "source": [
    "pd.read_table(ruta+'texto_2.txt',header=None) # sep='\\t'"
   ]
  },
  {
   "cell_type": "code",
   "execution_count": null,
   "metadata": {
    "id": "vUuAuUDwRneU"
   },
   "outputs": [],
   "source": [
    "# Extracción a partir de texto separado por comas\n",
    "pd.read_table(ruta+'texto_1.txt',sep=' ',header=None)"
   ]
  },
  {
   "cell_type": "code",
   "execution_count": null,
   "metadata": {
    "id": "k5UV-xudUSrt"
   },
   "outputs": [],
   "source": [
    "pd.read_csv(ruta+'texto_2.txt',header=None,sep='\\t') # sep=','"
   ]
  },
  {
   "cell_type": "markdown",
   "metadata": {
    "id": "AQjLmme7SXIl"
   },
   "source": [
    "### Expresiones regulares"
   ]
  },
  {
   "cell_type": "code",
   "execution_count": null,
   "metadata": {
    "id": "MWJgvNriStQN"
   },
   "outputs": [],
   "source": [
    "# Conversión de archivo a variable\n",
    "file=open(ruta+'texto_3.txt')     # Abrir...\n",
    "texto=file.read()\n",
    "file.close()                      # ...despues cerrar"
   ]
  },
  {
   "cell_type": "code",
   "execution_count": null,
   "metadata": {
    "id": "feff8TdZtlqD"
   },
   "outputs": [],
   "source": [
    "texto"
   ]
  },
  {
   "cell_type": "code",
   "execution_count": null,
   "metadata": {
    "id": "66dBBQ9XJxx7"
   },
   "outputs": [],
   "source": [
    "# Si ocurre un error durante la ejecución, la variable file se cierra siempre:\n",
    "with open(ruta+'texto_3.txt') as file:\n",
    "  texto=file.read()"
   ]
  },
  {
   "cell_type": "code",
   "execution_count": null,
   "metadata": {
    "id": "QkESv8KTuDb6"
   },
   "outputs": [],
   "source": [
    "texto"
   ]
  },
  {
   "cell_type": "code",
   "execution_count": null,
   "metadata": {
    "id": "zyPE9c8iKm0w"
   },
   "outputs": [],
   "source": [
    "# Separamos cada palabra de la variable de texto\n",
    "texto.split()"
   ]
  },
  {
   "cell_type": "code",
   "execution_count": null,
   "metadata": {
    "id": "-3beMzSxv4K7"
   },
   "outputs": [],
   "source": [
    "texto.split?"
   ]
  },
  {
   "cell_type": "code",
   "execution_count": null,
   "metadata": {
    "id": "Cc9l3pyAS-3U"
   },
   "outputs": [],
   "source": [
    "# Conteo de palabras. Expresiones regulares\n",
    "import re"
   ]
  },
  {
   "cell_type": "code",
   "execution_count": null,
   "metadata": {
    "id": "9Qj-b6vvwQkt"
   },
   "outputs": [],
   "source": [
    "#re.split?"
   ]
  },
  {
   "cell_type": "code",
   "execution_count": null,
   "metadata": {
    "id": "2CEa8vfhwdbz"
   },
   "outputs": [],
   "source": [
    "# \\w -> [a-z][A-Z][_][0-9]\n",
    "# \\W -> [*,.]\n",
    "# \\d -> [0-9]\n",
    "# \\s -> [\\t][  ]\n",
    "L=re.split('\\W',texto)\n",
    "L"
   ]
  },
  {
   "cell_type": "code",
   "execution_count": null,
   "metadata": {
    "id": "EQFMBKWgM4x6"
   },
   "outputs": [],
   "source": [
    "# Convertimos la lista a set\n",
    "S=set(L)\n",
    "S.discard('')\n",
    "S"
   ]
  },
  {
   "cell_type": "code",
   "execution_count": null,
   "metadata": {
    "id": "OMIDBwsjN-X4"
   },
   "outputs": [],
   "source": [
    "# Buscamos las palabras no repetidas del set en la variable de texto para poderlas contar\n",
    "re.findall?"
   ]
  },
  {
   "cell_type": "code",
   "execution_count": null,
   "metadata": {
    "id": "UDcXo3G1zXgy"
   },
   "outputs": [],
   "source": [
    "re.findall('en',texto,flags=re.I)"
   ]
  },
  {
   "cell_type": "code",
   "execution_count": null,
   "metadata": {
    "id": "2ecNdbInz-R-"
   },
   "outputs": [],
   "source": [
    "d={}\n",
    "for palabra in S:\n",
    "  d[palabra]=len(re.findall(palabra,texto,flags=re.I))\n",
    "d"
   ]
  },
  {
   "cell_type": "code",
   "execution_count": null,
   "metadata": {
    "id": "B_1qoqTi0n7B"
   },
   "outputs": [],
   "source": [
    "df=pd.DataFrame(d.items(),columns=['Palabra','No.'])"
   ]
  },
  {
   "cell_type": "code",
   "execution_count": null,
   "metadata": {
    "id": "O5wL5GWS1oNZ"
   },
   "outputs": [],
   "source": [
    "df.head()"
   ]
  },
  {
   "cell_type": "markdown",
   "metadata": {
    "id": "4BDjmVMmWm1N"
   },
   "source": [
    "# Archivos excel"
   ]
  },
  {
   "cell_type": "code",
   "execution_count": null,
   "metadata": {
    "id": "KFBkoWYwWpNY"
   },
   "outputs": [],
   "source": [
    "# A partir de la función\n",
    "pd.read_excel(ruta+'API_SI.POV.DDAY_DS2_en_excel_v2_1930012.xls')"
   ]
  },
  {
   "cell_type": "code",
   "execution_count": null,
   "metadata": {
    "id": "TDyzFaTvQ6J5"
   },
   "outputs": [],
   "source": [
    "# Importamos la clase ExcelFile\n",
    "from pandas import ExcelFile"
   ]
  },
  {
   "cell_type": "code",
   "execution_count": null,
   "metadata": {
    "id": "1UFvGANEQx6h"
   },
   "outputs": [],
   "source": [
    "# A partir de la clase\n",
    "obj=ExcelFile(ruta+'API_SI.POV.DDAY_DS2_en_excel_v2_1930012.xls')\n",
    "obj.parse() # Importa la primera página"
   ]
  },
  {
   "cell_type": "markdown",
   "metadata": {
    "id": "vQiaN1CIWsVd"
   },
   "source": [
    "# Archivos JSON"
   ]
  },
  {
   "cell_type": "code",
   "execution_count": 16,
   "metadata": {
    "executionInfo": {
     "elapsed": 250,
     "status": "ok",
     "timestamp": 1692218515369,
     "user": {
      "displayName": "Carlos Arellano",
      "userId": "03055712073717640513"
     },
     "user_tz": 360
    },
    "id": "wWBS0iS0qdJw"
   },
   "outputs": [],
   "source": [
    "pd.read_json?"
   ]
  },
  {
   "cell_type": "code",
   "execution_count": null,
   "metadata": {
    "id": "xYJ8VnaKW-bT"
   },
   "outputs": [],
   "source": [
    "df_1=pd.read_json(ruta+'data.json',orient='split')\n",
    "df_1"
   ]
  },
  {
   "cell_type": "code",
   "execution_count": null,
   "metadata": {
    "id": "lVBNONmCqFfP"
   },
   "outputs": [],
   "source": [
    "pd.DataFrame(df_1['categories'][0])"
   ]
  },
  {
   "cell_type": "markdown",
   "metadata": {
    "id": "FRQrhHL1YFV5"
   },
   "source": [
    "# Archivos XML"
   ]
  },
  {
   "cell_type": "code",
   "execution_count": null,
   "metadata": {
    "id": "CrPB-fs9YIGr"
   },
   "outputs": [],
   "source": [
    "import xml.etree.ElementTree as ET"
   ]
  },
  {
   "cell_type": "code",
   "execution_count": null,
   "metadata": {
    "id": "4GwBGl3arayx"
   },
   "outputs": [],
   "source": [
    "archivo_1=ET.parse(ruta+'tabla_1.xml')\n",
    "raiz=archivo_1.getroot()"
   ]
  },
  {
   "cell_type": "code",
   "execution_count": null,
   "metadata": {
    "id": "IYVVWnnzTX4b"
   },
   "outputs": [],
   "source": [
    "for nodo in raiz:\n",
    "  print(nodo.attrib,nodo.text,nodo.tag)\n",
    "  for sn in nodo:\n",
    "    print(sn.attrib,sn.text,sn.tag)"
   ]
  },
  {
   "cell_type": "code",
   "execution_count": null,
   "metadata": {
    "colab": {
     "base_uri": "https://localhost:8080/"
    },
    "executionInfo": {
     "elapsed": 195,
     "status": "ok",
     "timestamp": 1674611008061,
     "user": {
      "displayName": "Carlos Arellano",
      "userId": "03055712073717640513"
     },
     "user_tz": 360
    },
    "id": "ust5KKPs62q7",
    "outputId": "0b924440-c8e5-41b1-d3e3-82736d425780"
   },
   "outputs": [
    {
     "name": "stdout",
     "output_type": "stream",
     "text": [
      "documents {'count': 'N'} \n",
      "        \n"
     ]
    }
   ],
   "source": [
    "archivo_2=ET.parse(ruta+'tabla_2.xml')\n",
    "root=archivo_2.getroot()\n",
    "for nodo in root:\n",
    "  print(nodo.tag,nodo.attrib,nodo.text)"
   ]
  },
  {
   "cell_type": "code",
   "execution_count": null,
   "metadata": {
    "id": "QvdB5caG7Q63"
   },
   "outputs": [],
   "source": [
    "for nodo in root:\n",
    "  for subn in nodo:\n",
    "    print(subn.tag,subn.attrib,subn.text)"
   ]
  },
  {
   "cell_type": "code",
   "execution_count": null,
   "metadata": {
    "id": "lGztj-ugBS_g"
   },
   "outputs": [],
   "source": [
    "d={}\n",
    "for nodo in raiz:\n",
    "  d[nodo.tag]=[]\n",
    "for nodo in raiz:\n",
    "  d[nodo.tag].append(nodo.attrib['name'])\n",
    "for nodo in raiz:\n",
    "  for sn in nodo:\n",
    "    d[sn.tag]=[]\n",
    "for nodo in raiz:\n",
    "  for sn in nodo:\n",
    "    d[sn.tag].append(sn.text)\n",
    "d"
   ]
  },
  {
   "cell_type": "code",
   "execution_count": null,
   "metadata": {
    "id": "9HKDlmfkCFJX"
   },
   "outputs": [],
   "source": [
    "pd.DataFrame(d)"
   ]
  },
  {
   "cell_type": "markdown",
   "metadata": {
    "id": "HcfJwbBsfbli"
   },
   "source": [
    "```python\n",
    "df_1 = pd.DataFrame(columns = columnas)\n",
    "for nodo in raiz:\n",
    "  L = []\n",
    "  L.append(nodo.attrib['name'])\n",
    "  for sn in nodo:\n",
    "    L.append(sn.text)\n",
    "  df_1 = df_1.append(pd.DataFrame([L], columns=columnas), ignore_index=True)\n",
    "```"
   ]
  },
  {
   "cell_type": "code",
   "execution_count": null,
   "metadata": {
    "id": "jJql5i1PhqLo"
   },
   "outputs": [],
   "source": [
    "archivo=ET.parse(ruta+'tabla_2.xml')\n",
    "raiz=archivo.getroot()"
   ]
  },
  {
   "cell_type": "code",
   "execution_count": null,
   "metadata": {
    "id": "rdlBjCyNe4p8"
   },
   "outputs": [],
   "source": [
    "L=[]\n",
    "for n in raiz.findall('documents/document'):\n",
    "  d={}\n",
    "  d[n.tag]=n.text\n",
    "  for k,v in n.attrib.items():\n",
    "    d[k]=v\n",
    "  L.append(d)\n",
    "pd.DataFrame(L)"
   ]
  },
  {
   "cell_type": "markdown",
   "metadata": {
    "id": "VuD9knap3cLj"
   },
   "source": [
    "---"
   ]
  },
  {
   "cell_type": "code",
   "execution_count": null,
   "metadata": {
    "id": "24Ixwav93a0U"
   },
   "outputs": [],
   "source": [
    "archivo='IFC-Subscriptions-and-Voting-Power-of-Member-Count.xml'\n",
    "file=ET.parse(ruta+archivo)\n",
    "root=file.getroot()\n",
    "\n",
    "for nodo in root:\n",
    "  for snodo in nodo:\n",
    "    print(snodo.tag,snodo.attrib,snodo.text)\n",
    "    for ssnodo in snodo:\n",
    "      print(ssnodo.tag,ssnodo.attrib,ssnodo.text)"
   ]
  },
  {
   "cell_type": "markdown",
   "metadata": {
    "id": "-SdrSO1Q4n0Z"
   },
   "source": [
    "---"
   ]
  },
  {
   "cell_type": "markdown",
   "metadata": {
    "id": "ZRlzBzprYxAV"
   },
   "source": [
    "# Archivos SHP"
   ]
  },
  {
   "cell_type": "code",
   "execution_count": null,
   "metadata": {
    "id": "6bIHz-f0YwWC"
   },
   "outputs": [],
   "source": [
    "# %conda !pip !conda\n",
    "%pip install geopandas"
   ]
  },
  {
   "cell_type": "code",
   "execution_count": null,
   "metadata": {
    "id": "x_QzkteiY41T"
   },
   "outputs": [],
   "source": [
    "import geopandas as gpd"
   ]
  },
  {
   "cell_type": "code",
   "execution_count": null,
   "metadata": {
    "id": "OI72ru5pZGGl"
   },
   "outputs": [],
   "source": [
    "rutaCOVID='/content/drive/MyDrive/Colab Notebooks/ITESO/Ingeniería de características/P2023_MCDV3735A/Módulo 1 - Extracción de datos de diferentes fuentes/COVID_INDIA_POC-shp/'\n",
    "gpd.read_file(rutaCOVID+'COVID_INDIA_POC.shp')"
   ]
  },
  {
   "cell_type": "markdown",
   "metadata": {
    "id": "UfDfG-2GZGbf"
   },
   "source": [
    "# Archivos imágen"
   ]
  },
  {
   "cell_type": "code",
   "execution_count": null,
   "metadata": {
    "id": "aByjGKZUZL_z"
   },
   "outputs": [],
   "source": [
    "import numpy as np\n",
    "import matplotlib.pyplot as plt"
   ]
  },
  {
   "cell_type": "code",
   "execution_count": null,
   "metadata": {
    "colab": {
     "base_uri": "https://localhost:8080/"
    },
    "executionInfo": {
     "elapsed": 271,
     "status": "ok",
     "timestamp": 1674613070990,
     "user": {
      "displayName": "Carlos Arellano",
      "userId": "03055712073717640513"
     },
     "user_tz": 360
    },
    "id": "hSWX-twoZOKu",
    "outputId": "3dde026d-070c-47b2-9cef-01150e066ef9"
   },
   "outputs": [
    {
     "data": {
      "text/plain": [
       "(199, 309, 4)"
      ]
     },
     "execution_count": 64,
     "metadata": {},
     "output_type": "execute_result"
    }
   ],
   "source": [
    "I=plt.imread(ruta+'imagen.bmp')\n",
    "I.shape"
   ]
  },
  {
   "cell_type": "code",
   "execution_count": null,
   "metadata": {
    "id": "CQLwW9Yx8Cxs"
   },
   "outputs": [],
   "source": [
    "plt.imshow(I)"
   ]
  },
  {
   "cell_type": "code",
   "execution_count": null,
   "metadata": {
    "id": "SrOKKxB1u3x5"
   },
   "outputs": [],
   "source": [
    "I[0,0,0] # pixel (0,0) de la matriz roja"
   ]
  },
  {
   "cell_type": "code",
   "execution_count": null,
   "metadata": {
    "id": "Bsf9EdmkubjY"
   },
   "outputs": [],
   "source": [
    "plt.imshow(I[:,:,0],cmap='gray') # Matriz roja"
   ]
  },
  {
   "cell_type": "code",
   "execution_count": null,
   "metadata": {
    "colab": {
     "base_uri": "https://localhost:8080/"
    },
    "executionInfo": {
     "elapsed": 125,
     "status": "ok",
     "timestamp": 1674613511938,
     "user": {
      "displayName": "Carlos Arellano",
      "userId": "03055712073717640513"
     },
     "user_tz": 360
    },
    "id": "zcCtmNp6vVkO",
    "outputId": "61317add-4722-44fd-cb15-f71a9cb9d49f"
   },
   "outputs": [
    {
     "data": {
      "text/plain": [
       "(199, 309)"
      ]
     },
     "execution_count": 70,
     "metadata": {},
     "output_type": "execute_result"
    }
   ],
   "source": [
    "G=I.mean(axis=2)\n",
    "G.shape"
   ]
  },
  {
   "cell_type": "code",
   "execution_count": null,
   "metadata": {
    "id": "zrDz-o3hvlVN"
   },
   "outputs": [],
   "source": [
    "plt.imshow(G)"
   ]
  },
  {
   "cell_type": "code",
   "execution_count": null,
   "metadata": {
    "id": "Xp_-mL3nvumd"
   },
   "outputs": [],
   "source": [
    "G[0,0]"
   ]
  }
 ],
 "metadata": {
  "colab": {
   "authorship_tag": "ABX9TyPqUYnWUof7Eo4SjyQR8MFR",
   "mount_file_id": "11cBGjZ8uzuVbqHGETC0huHCGxFz0MEeR",
   "provenance": [
    {
     "file_id": "11cBGjZ8uzuVbqHGETC0huHCGxFz0MEeR",
     "timestamp": 1660679616179
    }
   ]
  },
  "kernelspec": {
   "display_name": "Python 3 (ipykernel)",
   "language": "python",
   "name": "python3"
  },
  "language_info": {
   "codemirror_mode": {
    "name": "ipython",
    "version": 3
   },
   "file_extension": ".py",
   "mimetype": "text/x-python",
   "name": "python",
   "nbconvert_exporter": "python",
   "pygments_lexer": "ipython3",
   "version": "3.8.8"
  }
 },
 "nbformat": 4,
 "nbformat_minor": 1
}
