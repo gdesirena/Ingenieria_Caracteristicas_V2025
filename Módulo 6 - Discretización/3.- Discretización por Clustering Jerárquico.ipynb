{
 "cells": [
  {
   "cell_type": "markdown",
   "metadata": {},
   "source": [
    "<img style=\"float: left;;\" src='Figures/iteso.jpg' width=\"50\" height=\"100\"/></a>\n",
    "\n",
    "# <center> <font color= #000047> Discretización por Clustering Jerárquico\n",
    "\n"
   ]
  },
  {
   "cell_type": "markdown",
   "metadata": {},
   "source": [
    "El clustering jerárquico puede utilizarse para **discretizar** variables numéricas, es decir, agrupar valores continuos en categorías o intervalos. Esto es útil para:\n",
    "- Transformar variables continuas en variables categóricas para modelos que requieren categorías.\n",
    "- Descubrir agrupamientos naturales en los datos sin definir previamente los límites de los intervalos.\n",
    "\n",
    "El clustering jerárquico es una técnica de agrupamiento no supervisado que construye una jerarquía de clusters. Existen dos enfoques principales:\n",
    "- **Aglomerativo (bottom-up):** Cada punto inicia como un cluster y se van fusionando sucesivamente.\n",
    "- **Divisivo (top-down):** Todos los puntos inician en un solo cluster y se van dividiendo.\n",
    "\n",
    "El método más común es el aglomerativo.\n",
    "\n",
    "\n",
    "1. **Matriz de distancias:** Se calcula la distancia entre todos los pares de puntos. Por ejemplo, la distancia euclidiana:\n",
    "$$\n",
    "d(x_i, x_j) = \\sqrt{\\sum_{k=1}^p (x_{ik} - x_{jk})^2}\n",
    "$$\n",
    "\n",
    "2. **Criterios de enlace (linkage):** Determinan cómo se calcula la distancia entre clusters:\n",
    "\n",
    "|Método               |                         | \n",
    "|:-------------------:|:------------------------------------------|\n",
    "|**Complete**             | $d(u,v) = \\max(d(u[i],k[i]),d(v[i],k[i]))$ |\n",
    "|**Single**               | $d(u,v) = \\min(d(u[i],k[i]),d(v[i],k[i]))$ |\n",
    "|**Average**              | $d(u,v) = \\frac{n_u d(u[i],k[i]) + n_v d(v[i],k[i])}{n_u + n_v}$|\n",
    "|**Centroid**             | $d(u,v) = ||c_u - c_v ||_2 = \\sqrt(\\frac{n_u d(u[i],k[i]) + n_v d(v[i],k[i])}{n_u + n_v} - \\frac{n_u n_v d(u[i],v[i])}{(n_u + n_v)^2})$                      |\n",
    "|**Ward**                 | $d(u,v) = \\sqrt(\\frac{n_u d(u[i],k[i]) + (n_v + n_k) d(v[i],k[i]) - n_k d(u[i],v[i])}{n_u + n_v + n_k})$                      |\n",
    "\n",
    "3. **Algoritmo aglomerativo:**\n",
    "   1. Cada punto es un cluster.\n",
    "   2. Calcular la matriz de distancias entre clusters.\n",
    "   3. Fusionar los dos clusters más cercanos.\n",
    "   4. Repetir hasta que quede un solo cluster o se alcance el número deseado.\n"
   ]
  },
  {
   "cell_type": "markdown",
   "metadata": {},
   "source": [
    "## Ejemplo de Clustering Jerárquico"
   ]
  },
  {
   "cell_type": "code",
   "execution_count": null,
   "metadata": {},
   "outputs": [],
   "source": [
    "import numpy as np\n",
    "import pandas as pd\n",
    "from matplotlib import pyplot as plt\n",
    "\n",
    "#Método para calcular los clusters usando el algoritmo de Clustering Jerárquico\n",
    "from scipy.cluster import hierarchy"
   ]
  },
  {
   "cell_type": "code",
   "execution_count": null,
   "metadata": {},
   "outputs": [],
   "source": [
    "np.random.seed(100)\n",
    "a = np.random.multivariate_normal([10,10], [[3,0],[0,3]], size=[100])\n",
    "b = np.random.multivariate_normal([0,20], [[3,0],[0,3]], size=[100])\n",
    "c = np.random.multivariate_normal([20,20], [[3,0],[0,3]], size=[100])\n",
    "\n",
    "x = np.concatenate((a,b,c))"
   ]
  },
  {
   "cell_type": "code",
   "execution_count": null,
   "metadata": {},
   "outputs": [],
   "source": [
    "len(x)"
   ]
  },
  {
   "cell_type": "code",
   "execution_count": null,
   "metadata": {
    "scrolled": true
   },
   "outputs": [],
   "source": [
    "x"
   ]
  },
  {
   "cell_type": "code",
   "execution_count": null,
   "metadata": {},
   "outputs": [],
   "source": [
    "plt.figure(figsize=(6,4))\n",
    "plt.scatter(x[:,0], x[:,1])\n",
    "plt.xlabel('$x1$')\n",
    "plt.ylabel('$x2$')\n",
    "plt.grid()\n",
    "plt.show()"
   ]
  },
  {
   "cell_type": "code",
   "execution_count": null,
   "metadata": {
    "scrolled": true
   },
   "outputs": [],
   "source": [
    "help(hierarchy)"
   ]
  },
  {
   "cell_type": "code",
   "execution_count": null,
   "metadata": {
    "scrolled": true
   },
   "outputs": [],
   "source": [
    "help(hierarchy.linkage)"
   ]
  },
  {
   "cell_type": "code",
   "execution_count": null,
   "metadata": {},
   "outputs": [],
   "source": [
    "Z = hierarchy.linkage(x, metric='euclidean', method= 'ward')"
   ]
  },
  {
   "cell_type": "code",
   "execution_count": null,
   "metadata": {},
   "outputs": [],
   "source": [
    "len(Z)"
   ]
  },
  {
   "cell_type": "code",
   "execution_count": null,
   "metadata": {},
   "outputs": [],
   "source": [
    "pd.DataFrame(Z)"
   ]
  },
  {
   "cell_type": "code",
   "execution_count": null,
   "metadata": {
    "scrolled": true
   },
   "outputs": [],
   "source": [
    "help(hierarchy.dendrogram)"
   ]
  },
  {
   "cell_type": "markdown",
   "metadata": {},
   "source": [
    "## Criterios de selección de grupos\n"
   ]
  },
  {
   "cell_type": "code",
   "execution_count": null,
   "metadata": {},
   "outputs": [],
   "source": [
    "plt.figure(figsize=(10,8))\n",
    "dn = hierarchy.dendrogram(Z)\n",
    "\n",
    "plt.title('Dendograma Completo')\n",
    "plt.xlabel('Indices de las muestras')\n",
    "plt.ylabel('Distancias de similitud')\n",
    "plt.show()"
   ]
  },
  {
   "cell_type": "code",
   "execution_count": null,
   "metadata": {},
   "outputs": [],
   "source": [
    "plt.figure(figsize=(10,8))\n",
    "dn = hierarchy.dendrogram(Z, truncate_mode ='level', p=3)\n",
    "\n",
    "plt.title('Dendograma Completo')\n",
    "plt.xlabel('Indices de las muestras')\n",
    "plt.ylabel('Distancias de similitud')\n",
    "plt.show()"
   ]
  },
  {
   "cell_type": "code",
   "execution_count": null,
   "metadata": {},
   "outputs": [],
   "source": [
    "grupos_opt = 3\n",
    "grupos_datos = hierarchy.fcluster(Z,grupos_opt, criterion='maxclust')\n",
    "# Como tarea para investigar, qué hace el método fcluster ()\n",
    "grupos_datos"
   ]
  },
  {
   "cell_type": "code",
   "execution_count": null,
   "metadata": {},
   "outputs": [],
   "source": [
    "len(grupos_datos)"
   ]
  },
  {
   "cell_type": "code",
   "execution_count": null,
   "metadata": {},
   "outputs": [],
   "source": [
    "X = pd.DataFrame(x, columns=['x1','x2'])\n",
    "X['cluster'] = grupos_datos"
   ]
  },
  {
   "cell_type": "code",
   "execution_count": null,
   "metadata": {
    "scrolled": true
   },
   "outputs": [],
   "source": [
    "X"
   ]
  },
  {
   "cell_type": "code",
   "execution_count": null,
   "metadata": {},
   "outputs": [],
   "source": [
    "plt.figure(figsize=(6,4))\n",
    "plt.scatter(X['x1'].values, X['x2'].values, c=X['cluster'].values)\n",
    "plt.xlabel('$x1$')\n",
    "plt.ylabel('$x2$')\n",
    "plt.grid()\n",
    "plt.show()"
   ]
  },
  {
   "cell_type": "markdown",
   "metadata": {},
   "source": [
    "### Criterio del Codo (1er criterio)\n"
   ]
  },
  {
   "cell_type": "code",
   "execution_count": null,
   "metadata": {},
   "outputs": [],
   "source": [
    "pd.DataFrame(Z)"
   ]
  },
  {
   "cell_type": "code",
   "execution_count": null,
   "metadata": {},
   "outputs": [],
   "source": [
    "last = Z[-15:,2]\n",
    "last_rev = last[::-1]\n",
    "indx_group = np.arange(1, len(last_rev)+1)\n",
    "indx_group"
   ]
  },
  {
   "cell_type": "code",
   "execution_count": null,
   "metadata": {},
   "outputs": [],
   "source": [
    "last_rev"
   ]
  },
  {
   "cell_type": "code",
   "execution_count": null,
   "metadata": {},
   "outputs": [],
   "source": [
    "#Grafica del criterio del codo\n",
    "plt.plot(indx_group, last_rev)\n",
    "plt.xlabel('Número de grupos')\n",
    "plt.ylabel('Inercia de las distancias entre grupos')\n",
    "plt.grid()\n",
    "plt.show()"
   ]
  },
  {
   "cell_type": "code",
   "execution_count": null,
   "metadata": {},
   "outputs": [],
   "source": [
    "#El número de grupos opt mediante el criterio del codo es 3\n",
    "grupos_opt = 3\n",
    "grupos_datos = hierarchy.fcluster(Z,grupos_opt, criterion='maxclust')\n",
    "# Como tarea para investigar, qué hace el método fcluster ()\n",
    "grupos_datos"
   ]
  },
  {
   "cell_type": "code",
   "execution_count": null,
   "metadata": {},
   "outputs": [],
   "source": [
    "plt.figure(figsize=(6,4))\n",
    "plt.scatter(X['x1'].values, X['x2'].values, c=X['cluster'].values)\n",
    "plt.xlabel('$x1$')\n",
    "plt.ylabel('$x2$')\n",
    "plt.grid()\n",
    "plt.show()\n"
   ]
  },
  {
   "cell_type": "code",
   "execution_count": null,
   "metadata": {},
   "outputs": [],
   "source": [
    "def criterio_codo(Z, n_grupos):\n",
    "    last = Z[-n_grupos:,2]\n",
    "    last_rev = last[::-1]\n",
    "    indx_group = np.arange(1,len(last_rev)+1)\n",
    "    \n",
    "    #Gráfica del codo\n",
    "    plt.plot(indx_group, last_rev)\n",
    "    plt.xlabel('Número de grupos')\n",
    "    plt.ylabel('Inercia de las distancias entre grupos')\n",
    "    plt.grid()\n",
    "    plt.show()"
   ]
  },
  {
   "cell_type": "code",
   "execution_count": null,
   "metadata": {},
   "outputs": [],
   "source": [
    "criterio_codo(Z, 30)"
   ]
  },
  {
   "cell_type": "markdown",
   "metadata": {},
   "source": [
    "### Criterio del gradiente\n"
   ]
  },
  {
   "cell_type": "code",
   "execution_count": null,
   "metadata": {},
   "outputs": [],
   "source": [
    "last = Z[-6:,2]\n",
    "gradiente = np.diff(last)\n",
    "grad_rev = gradiente[::-1]\n",
    "\n",
    "indx_group = np.arange(2,len(grad_rev)+2)\n",
    "\n",
    "#Graficar el criterio del gradiente\n",
    "plt.plot(indx_group, grad_rev)\n",
    "plt.xlabel('Núemro de grupos')\n",
    "plt.ylabel('Gradiente de la inercia en las distancias entre grupos')\n",
    "plt.grid()\n",
    "plt.show()"
   ]
  },
  {
   "cell_type": "code",
   "execution_count": null,
   "metadata": {},
   "outputs": [],
   "source": [
    "def criterio_gradiente(Z, n_grupos):\n",
    "    last = Z[-n_grupos:,2]\n",
    "    gradiente = np.diff(last)\n",
    "    grad_rev = gradiente[::-1]\n",
    "\n",
    "    indx_group = np.arange(2,len(grad_rev)+2)\n",
    "\n",
    "    #Graficar el criterio del gradiente\n",
    "    plt.plot(indx_group, grad_rev)\n",
    "    plt.xlabel('Número de grupos')\n",
    "    plt.ylabel('Gradiente de la inercia en las distancias entre grupos')\n",
    "    plt.grid()\n",
    "    plt.show()"
   ]
  },
  {
   "cell_type": "code",
   "execution_count": null,
   "metadata": {},
   "outputs": [],
   "source": [
    "criterio_gradiente(Z, 5)"
   ]
  },
  {
   "cell_type": "code",
   "execution_count": null,
   "metadata": {},
   "outputs": [],
   "source": []
  },
  {
   "cell_type": "markdown",
   "metadata": {},
   "source": [
    "## Aplicar número de grupos opt"
   ]
  },
  {
   "cell_type": "code",
   "execution_count": null,
   "metadata": {},
   "outputs": [],
   "source": [
    "#El número de grupos opt mediante el criterio del codo es 3\n",
    "grupos_opt = 3\n",
    "grupos_datos = hierarchy.fcluster(Z,grupos_opt, criterion='maxclust')\n",
    "# Como tarea para investigar, qué hace el método fcluster ()\n",
    "grupos_datos"
   ]
  },
  {
   "cell_type": "code",
   "execution_count": null,
   "metadata": {},
   "outputs": [],
   "source": [
    "plt.figure(figsize=(6,4))\n",
    "plt.scatter(X['x1'].values, X['x2'].values, c=X['cluster'].values)\n",
    "plt.xlabel('$x1$')\n",
    "plt.ylabel('$x2$')\n",
    "plt.grid()\n",
    "plt.show()"
   ]
  },
  {
   "cell_type": "markdown",
   "metadata": {},
   "source": [
    "## Ejemplo 2: \n",
    "\n",
    "Consideremos el datasety `shopping-data.csv`, este dataset contiene información sobre el ingreso anual y gastos de clientes de una empresa.\n",
    "\n",
    "Conservaremos las columnas Ingresos anuales (en miles de dólares) y Puntuación de gastos (1-100). La columna Spending Score indica la frecuencia con la que una persona gasta dinero en un centro comercial en una escala del 1 al 100, siendo 100 el que más gasta."
   ]
  },
  {
   "cell_type": "code",
   "execution_count": null,
   "metadata": {},
   "outputs": [],
   "source": [
    "data = pd.read_csv('shopping-data.csv')"
   ]
  },
  {
   "cell_type": "code",
   "execution_count": null,
   "metadata": {},
   "outputs": [],
   "source": [
    "data.head()"
   ]
  },
  {
   "cell_type": "code",
   "execution_count": null,
   "metadata": {},
   "outputs": [],
   "source": [
    "data_split = data.iloc[:,-2:]"
   ]
  },
  {
   "cell_type": "code",
   "execution_count": null,
   "metadata": {},
   "outputs": [],
   "source": [
    "data_split.head()"
   ]
  },
  {
   "cell_type": "code",
   "execution_count": null,
   "metadata": {
    "scrolled": true
   },
   "outputs": [],
   "source": [
    "data_split.values"
   ]
  },
  {
   "cell_type": "code",
   "execution_count": null,
   "metadata": {},
   "outputs": [],
   "source": [
    "# Visualizar los datos Anual income vs Spending Score\n",
    "plt.figure(figsize=(6,4))\n",
    "plt.scatter(data_split.values[:,0],data_split.values[:,1])\n",
    "plt.xlabel('Anual Income (k$)')\n",
    "plt.ylabel('Spending Score (1-100)')\n",
    "plt.grid()\n",
    "plt.show()"
   ]
  },
  {
   "cell_type": "code",
   "execution_count": null,
   "metadata": {},
   "outputs": [],
   "source": [
    "#Aplicar el clustering Jerárquico (Elegir el criterio de linkage, metrica de similitud)\n",
    "#Decidir cuántos grupos seleccionar para la clusterización\n",
    "# - Dendrogramna\n",
    "# - C. codo\n",
    "# - C. Gradiente\n",
    "# Graficar los datos con la clusterización (con sus grupos correspondientes)\n"
   ]
  },
  {
   "cell_type": "code",
   "execution_count": null,
   "metadata": {},
   "outputs": [],
   "source": [
    "Z = hierarchy.linkage(data_split.values, metric='euclidean', method='ward')"
   ]
  },
  {
   "cell_type": "code",
   "execution_count": null,
   "metadata": {},
   "outputs": [],
   "source": [
    "pd.DataFrame(Z)"
   ]
  },
  {
   "cell_type": "code",
   "execution_count": null,
   "metadata": {},
   "outputs": [],
   "source": [
    "# Dendrograma\n",
    "plt.figure(figsize=(10,8))\n",
    "dn = hierarchy.dendrogram(Z)\n",
    "plt.title('Dendrograma completo')\n",
    "plt.xlabel('Ind. de las muestras')\n",
    "plt.ylabel('Distancia de similitud')\n",
    "plt.show()"
   ]
  },
  {
   "cell_type": "code",
   "execution_count": null,
   "metadata": {},
   "outputs": [],
   "source": [
    "#Con el dendrograma de arriba se puede conlcuir que podemos agrupar con 5 grupos"
   ]
  },
  {
   "cell_type": "code",
   "execution_count": null,
   "metadata": {},
   "outputs": [],
   "source": [
    "#Criterio del codo\n",
    "criterio_codo(Z, 15)"
   ]
  },
  {
   "cell_type": "code",
   "execution_count": null,
   "metadata": {},
   "outputs": [],
   "source": [
    "# Con el criterio del codo se puede concluir que tenemos 5 o 7 grupos"
   ]
  },
  {
   "cell_type": "code",
   "execution_count": null,
   "metadata": {},
   "outputs": [],
   "source": [
    "#Criterio del codo\n",
    "criterio_gradiente(Z, 15)"
   ]
  },
  {
   "cell_type": "code",
   "execution_count": null,
   "metadata": {},
   "outputs": [],
   "source": [
    "# Con el criterio del gradiente se puede observar que se puede clusterizar con 3, 5 o 7, 8"
   ]
  },
  {
   "cell_type": "code",
   "execution_count": null,
   "metadata": {},
   "outputs": [],
   "source": [
    "grup_opt =3\n",
    "grupos_datos = hierarchy.fcluster(Z, grup_opt, criterion='maxclust')\n"
   ]
  },
  {
   "cell_type": "code",
   "execution_count": null,
   "metadata": {},
   "outputs": [],
   "source": [
    "# Visualizar los datos Anual income vs Spending Score\n",
    "plt.figure(figsize=(6,4))\n",
    "plt.scatter(data_split.values[:,0],data_split.values[:,1], c=grupos_datos)\n",
    "plt.xlabel('Anual Income (k$)')\n",
    "plt.ylabel('Spending Score (1-100)')\n",
    "plt.grid()\n",
    "plt.show()"
   ]
  },
  {
   "cell_type": "markdown",
   "metadata": {},
   "source": [
    "## Discretización de datos usando clustering jerárquico\n",
    "\n",
    "**Procedimiento:**\n",
    "1. Aplicar clustering jerárquico sobre la variable o variables de interés (puede ser univariado o multivariado).\n",
    "2. Cortar el dendrograma en el número deseado de clusters (bins).\n",
    "3. Asignar a cada dato la etiqueta de su cluster, que actúa como la categoría discreta.\n",
    "\n",
    "#### Ejemplo: Discretización de una variable continua\n",
    "Supongamos que queremos discretizar la variable `petal length (cm)` del dataset Iris en 4 categorías usando clustering jerárquico."
   ]
  },
  {
   "cell_type": "code",
   "execution_count": null,
   "metadata": {},
   "outputs": [],
   "source": [
    "from sklearn.datasets import load_iris\n",
    "# Cargar datos\n",
    "iris = load_iris()\n",
    "X = iris.data\n",
    "labels = iris.target"
   ]
  },
  {
   "cell_type": "code",
   "execution_count": null,
   "metadata": {},
   "outputs": [],
   "source": [
    "# Usar clustering jerárquico para discretizar petal length\n",
    "petal_length = X[:, 2].reshape(-1, 1)\n",
    "Z_petal = hierarchy.linkage(petal_length, method='ward')\n",
    "petal_bins = hierarchy.fcluster(Z_petal, t=4, criterion='maxclust')\n",
    "\n",
    "plt.figure(figsize=(8,4))\n",
    "plt.scatter(petal_length, np.zeros_like(petal_length), c=petal_bins, cmap='tab10', s=50)\n",
    "plt.xlabel('Petal length (cm)')\n",
    "plt.yticks([])\n",
    "plt.title('Discretización de petal length usando clustering jerárquico')\n",
    "plt.show()\n",
    "\n"
   ]
  },
  {
   "cell_type": "markdown",
   "metadata": {},
   "source": [
    "- La discretización jerárquica puede ser útil como preprocesamiento para modelos que funcionan bien con variables categóricas (árboles, Naive Bayes, reglas, etc.).\n",
    "- Puede ayudar a capturar patrones no lineales o a reducir el sobreajuste en variables continuas con outliers."
   ]
  },
  {
   "cell_type": "code",
   "execution_count": null,
   "metadata": {},
   "outputs": [],
   "source": []
  }
 ],
 "metadata": {
  "kernelspec": {
   "display_name": "Python 3 (ipykernel)",
   "language": "python",
   "name": "python3"
  },
  "language_info": {
   "codemirror_mode": {
    "name": "ipython",
    "version": 3
   },
   "file_extension": ".py",
   "mimetype": "text/x-python",
   "name": "python",
   "nbconvert_exporter": "python",
   "pygments_lexer": "ipython3",
   "version": "3.12.7"
  }
 },
 "nbformat": 4,
 "nbformat_minor": 4
}
