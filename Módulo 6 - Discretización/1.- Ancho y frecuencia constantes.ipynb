{
 "cells": [
  {
   "cell_type": "markdown",
   "metadata": {},
   "source": [
    "<img style=\"float: left;;\" src='Figures/iteso.jpg' width=\"100\" height=\"200\"/></a>\n",
    "\n",
    "# <center> <font color= #000047> Ancho y Frecuencia Constantes </font> </center>"
   ]
  },
  {
   "cell_type": "markdown",
   "metadata": {},
   "source": [
    "La discretización de variables continuas sirve para transformar valores numéricos continuos en categorías discretas o rangos, lo que facilita el análisis de datos y el entrenamiento de modelos de aprendizaje automático. Este proceso puede simplificar datos complejos, mejorar la interpretabilidad de modelos y, en algunos casos, optimizar el rendimiento de algoritmos que no manejan bien datos continuos."
   ]
  },
  {
   "cell_type": "code",
   "execution_count": null,
   "metadata": {
    "colab": {
     "base_uri": "https://localhost:8080/",
     "height": 487
    },
    "executionInfo": {
     "elapsed": 3963,
     "status": "ok",
     "timestamp": 1683076373339,
     "user": {
      "displayName": "Carlos Arellano",
      "userId": "03055712073717640513"
     },
     "user_tz": 360
    },
    "id": "-jChlu4M9Pci",
    "outputId": "86f97d3d-645e-47cc-bff4-c77b26c4757c"
   },
   "outputs": [],
   "source": [
    "import numpy as np\n",
    "import matplotlib.pyplot as plt\n",
    "import pandas as pd\n",
    "from sklearn.linear_model import LinearRegression\n",
    "\n",
    "N=10**4\n",
    "normal=np.random.normal(size=(N,1))\n",
    "gamma=np.random.gamma(shape=4,size=(N,1))\n",
    "x=0.5*normal+0.5*gamma\n",
    "y=x**2+1+np.random.uniform(-5,5,(N,1))\n",
    "df=pd.DataFrame(np.concatenate((x,y),axis=1),columns=('x','y'))\n",
    "df.hist(bins=50)"
   ]
  },
  {
   "cell_type": "code",
   "execution_count": null,
   "metadata": {
    "colab": {
     "base_uri": "https://localhost:8080/",
     "height": 430
    },
    "executionInfo": {
     "elapsed": 828,
     "status": "ok",
     "timestamp": 1683076374164,
     "user": {
      "displayName": "Carlos Arellano",
      "userId": "03055712073717640513"
     },
     "user_tz": 360
    },
    "id": "5FDuvVo3_ZP-",
    "outputId": "25070896-142d-49a5-864d-2c0d9603a0e4"
   },
   "outputs": [],
   "source": [
    "plt.scatter(df['x'],df['y'],s=5)\n",
    "plt.grid()"
   ]
  },
  {
   "cell_type": "code",
   "execution_count": null,
   "metadata": {
    "colab": {
     "base_uri": "https://localhost:8080/"
    },
    "executionInfo": {
     "elapsed": 20,
     "status": "ok",
     "timestamp": 1683076374165,
     "user": {
      "displayName": "Carlos Arellano",
      "userId": "03055712073717640513"
     },
     "user_tz": 360
    },
    "id": "6LqEGMELAEmA",
    "outputId": "591c2664-9163-498b-8d08-b5dfc8d4db5e"
   },
   "outputs": [],
   "source": [
    "#@title Discretización por ancho constante\n",
    "bins=50\n",
    "ancho=(df.x.max()-df.x.min())/bins\n",
    "#intervalos=np.arange(df.x.min(),df.x.max()+ancho,ancho)\n",
    "intervalos=np.linspace(df.x.min(),df.x.max(),bins+1)\n",
    "ancho,intervalos"
   ]
  },
  {
   "cell_type": "code",
   "execution_count": null,
   "metadata": {
    "executionInfo": {
     "elapsed": 21,
     "status": "ok",
     "timestamp": 1683076374167,
     "user": {
      "displayName": "Carlos Arellano",
      "userId": "03055712073717640513"
     },
     "user_tz": 360
    },
    "id": "FEBA38DTQqD8",
    "scrolled": true
   },
   "outputs": [],
   "source": [
    "pd.cut?"
   ]
  },
  {
   "cell_type": "code",
   "execution_count": null,
   "metadata": {
    "colab": {
     "base_uri": "https://localhost:8080/",
     "height": 206
    },
    "executionInfo": {
     "elapsed": 21,
     "status": "ok",
     "timestamp": 1683076374168,
     "user": {
      "displayName": "Carlos Arellano",
      "userId": "03055712073717640513"
     },
     "user_tz": 360
    },
    "id": "OICbOanKROY3",
    "outputId": "eae9a080-1c9f-40f9-f187-e1e9f78b88ca"
   },
   "outputs": [],
   "source": [
    "# Discretización\n",
    "#\n",
    "# Se obtienen valores distribuidos a lo largo del rango de 'x' de forma que le asignamos la misma importancia\n",
    "df['ancho_x']=pd.cut(df.x,intervalos,include_lowest=True)\n",
    "df.head()"
   ]
  },
  {
   "cell_type": "code",
   "execution_count": null,
   "metadata": {
    "colab": {
     "base_uri": "https://localhost:8080/"
    },
    "executionInfo": {
     "elapsed": 20,
     "status": "ok",
     "timestamp": 1683076374168,
     "user": {
      "displayName": "Carlos Arellano",
      "userId": "03055712073717640513"
     },
     "user_tz": 360
    },
    "id": "zyLdubJ9SCXq",
    "outputId": "a8635536-b019-4dd6-e9ec-efeb1787ddd2"
   },
   "outputs": [],
   "source": [
    "df['ancho_x'].value_counts()"
   ]
  },
  {
   "cell_type": "code",
   "execution_count": null,
   "metadata": {
    "colab": {
     "base_uri": "https://localhost:8080/",
     "height": 561
    },
    "executionInfo": {
     "elapsed": 2178,
     "status": "ok",
     "timestamp": 1683076376329,
     "user": {
      "displayName": "Carlos Arellano",
      "userId": "03055712073717640513"
     },
     "user_tz": 360
    },
    "id": "Aslf8BVdSl0w",
    "outputId": "ded543ab-6a7b-4b4d-cb2f-dc3f443d6048"
   },
   "outputs": [],
   "source": [
    "df['ancho_x'].astype('str').hist(figsize=(15,5),bins=50,xrot=90)"
   ]
  },
  {
   "cell_type": "code",
   "execution_count": null,
   "metadata": {
    "colab": {
     "base_uri": "https://localhost:8080/"
    },
    "executionInfo": {
     "elapsed": 19,
     "status": "ok",
     "timestamp": 1683076376329,
     "user": {
      "displayName": "Carlos Arellano",
      "userId": "03055712073717640513"
     },
     "user_tz": 360
    },
    "id": "lpW8tP3TUDs2",
    "outputId": "f0db2a8b-632c-46dd-b38f-6c1046cba919"
   },
   "outputs": [],
   "source": [
    "x=df.groupby('ancho_x', observed=False)['x'].mean()\n",
    "y=df.groupby('ancho_x',  observed=False)['y'].mean()\n",
    "x.isna().sum(),y.isna().sum()"
   ]
  },
  {
   "cell_type": "code",
   "execution_count": null,
   "metadata": {
    "colab": {
     "base_uri": "https://localhost:8080/"
    },
    "executionInfo": {
     "elapsed": 15,
     "status": "ok",
     "timestamp": 1683076376330,
     "user": {
      "displayName": "Carlos Arellano",
      "userId": "03055712073717640513"
     },
     "user_tz": 360
    },
    "id": "k1X61h0cU486",
    "outputId": "b28d0ef4-bc8a-4eae-e75c-0d59c13ddd40"
   },
   "outputs": [],
   "source": [
    "#x=x.dropna()\n",
    "#y=y.dropna()\n",
    "while(x.isna().sum()>0): # Parche\n",
    "    nans_x=np.where(x.isna())\n",
    "    for idx in nans_x:\n",
    "        x.iloc[idx]=x.iloc[idx-1]\n",
    "        y.iloc[idx]=y.iloc[idx-1]\n",
    "x.isna().sum()"
   ]
  },
  {
   "cell_type": "code",
   "execution_count": null,
   "metadata": {
    "colab": {
     "base_uri": "https://localhost:8080/"
    },
    "executionInfo": {
     "elapsed": 13,
     "status": "ok",
     "timestamp": 1683076376330,
     "user": {
      "displayName": "Carlos Arellano",
      "userId": "03055712073717640513"
     },
     "user_tz": 360
    },
    "id": "bdv3x_O7VLkB",
    "outputId": "ddff8fab-adee-4f00-80a5-d185b9e45341"
   },
   "outputs": [],
   "source": [
    "y.isna().sum()"
   ]
  },
  {
   "cell_type": "code",
   "execution_count": null,
   "metadata": {
    "colab": {
     "base_uri": "https://localhost:8080/"
    },
    "executionInfo": {
     "elapsed": 10,
     "status": "ok",
     "timestamp": 1683076376330,
     "user": {
      "displayName": "Carlos Arellano",
      "userId": "03055712073717640513"
     },
     "user_tz": 360
    },
    "id": "rMURmiHnXJBW",
    "outputId": "ff4ab990-ffa9-4201-a4ff-c01cf7e890f6"
   },
   "outputs": [],
   "source": [
    "#Regresión\n",
    "lin_ancho_x=LinearRegression()\n",
    "lin_ancho_x.fit(x.values.reshape(-1,1),y)\n",
    "predict_ancho_x=lin_ancho_x.predict(df['x'].values.reshape(-1,1))"
   ]
  },
  {
   "cell_type": "code",
   "execution_count": null,
   "metadata": {
    "executionInfo": {
     "elapsed": 8,
     "status": "ok",
     "timestamp": 1683076376331,
     "user": {
      "displayName": "Carlos Arellano",
      "userId": "03055712073717640513"
     },
     "user_tz": 360
    },
    "id": "iT6h8RN6X6A0"
   },
   "outputs": [],
   "source": [
    "lin_SD=LinearRegression()\n",
    "lin_SD.fit(df[['x']],df['y'])\n",
    "predict_SD=lin_SD.predict(df[['x']])"
   ]
  },
  {
   "cell_type": "code",
   "execution_count": null,
   "metadata": {
    "colab": {
     "base_uri": "https://localhost:8080/",
     "height": 430
    },
    "executionInfo": {
     "elapsed": 1814,
     "status": "ok",
     "timestamp": 1683076378137,
     "user": {
      "displayName": "Carlos Arellano",
      "userId": "03055712073717640513"
     },
     "user_tz": 360
    },
    "id": "0ry8_zFOYYfA",
    "outputId": "73f13f9c-9409-4c09-d50a-d7c1c73bc971"
   },
   "outputs": [],
   "source": [
    "# Gráfico\n",
    "plt.scatter(df.x,df.y,s=5)\n",
    "plt.plot(df.x,predict_SD,'k',label='Regresión sin discretizar')\n",
    "plt.plot(df.x,predict_ancho_x,'r',label='Regresión con ancho constante')\n",
    "plt.scatter(x,y,marker='x',s=20,label='Valores discretizados con ancho constante')\n",
    "plt.legend()\n",
    "plt.grid()"
   ]
  },
  {
   "cell_type": "code",
   "execution_count": null,
   "metadata": {
    "colab": {
     "base_uri": "https://localhost:8080/"
    },
    "executionInfo": {
     "elapsed": 15,
     "status": "ok",
     "timestamp": 1683076378139,
     "user": {
      "displayName": "Carlos Arellano",
      "userId": "03055712073717640513"
     },
     "user_tz": 360
    },
    "id": "mayHVW4_Z8-p",
    "outputId": "68681f44-71cb-43af-f2d6-02ad75e52ea1"
   },
   "outputs": [],
   "source": [
    "# Discretización con frecuencia constante\n",
    "# Usamos la misma cantidad de contenedores\n",
    "bins"
   ]
  },
  {
   "cell_type": "code",
   "execution_count": null,
   "metadata": {
    "colab": {
     "base_uri": "https://localhost:8080/"
    },
    "executionInfo": {
     "elapsed": 15,
     "status": "ok",
     "timestamp": 1683076378140,
     "user": {
      "displayName": "Carlos Arellano",
      "userId": "03055712073717640513"
     },
     "user_tz": 360
    },
    "id": "z-vPB41WbCmj",
    "outputId": "071088e3-00c8-4ea6-ba2a-d39a834c6446"
   },
   "outputs": [],
   "source": [
    "df.x.shape[0] # Cantidad de observaciones"
   ]
  },
  {
   "cell_type": "code",
   "execution_count": null,
   "metadata": {
    "colab": {
     "base_uri": "https://localhost:8080/"
    },
    "executionInfo": {
     "elapsed": 13,
     "status": "ok",
     "timestamp": 1683076378140,
     "user": {
      "displayName": "Carlos Arellano",
      "userId": "03055712073717640513"
     },
     "user_tz": 360
    },
    "id": "-K_6fPSTbOAa",
    "outputId": "ac6e2d49-dbee-4c46-9fcc-681fb5597a6b"
   },
   "outputs": [],
   "source": [
    "# Cada contenedor tendrá 200 observaciones\n",
    "df.x.shape[0]/bins"
   ]
  },
  {
   "cell_type": "code",
   "execution_count": null,
   "metadata": {
    "executionInfo": {
     "elapsed": 12,
     "status": "ok",
     "timestamp": 1683076378140,
     "user": {
      "displayName": "Carlos Arellano",
      "userId": "03055712073717640513"
     },
     "user_tz": 360
    },
    "id": "hMAeAcDZbuCl",
    "scrolled": true
   },
   "outputs": [],
   "source": [
    "pd.qcut?"
   ]
  },
  {
   "cell_type": "code",
   "execution_count": null,
   "metadata": {
    "colab": {
     "base_uri": "https://localhost:8080/"
    },
    "executionInfo": {
     "elapsed": 13,
     "status": "ok",
     "timestamp": 1683076378141,
     "user": {
      "displayName": "Carlos Arellano",
      "userId": "03055712073717640513"
     },
     "user_tz": 360
    },
    "id": "fhqNgLtncze5",
    "outputId": "6b18a073-2c75-4643-ef0d-a119cbbc81c9"
   },
   "outputs": [],
   "source": [
    "ancho"
   ]
  },
  {
   "cell_type": "code",
   "execution_count": null,
   "metadata": {
    "colab": {
     "base_uri": "https://localhost:8080/"
    },
    "executionInfo": {
     "elapsed": 11,
     "status": "ok",
     "timestamp": 1683076378141,
     "user": {
      "displayName": "Carlos Arellano",
      "userId": "03055712073717640513"
     },
     "user_tz": 360
    },
    "id": "lUpNedSAbaVZ",
    "outputId": "edff91ef-eca9-4f19-995d-d25e4b2979df"
   },
   "outputs": [],
   "source": [
    "# Discretización\n",
    "df['freq_x'], intervalos = pd.qcut(df.x,bins, retbins=True)"
   ]
  },
  {
   "cell_type": "code",
   "execution_count": null,
   "metadata": {
    "colab": {
     "base_uri": "https://localhost:8080/",
     "height": 206
    },
    "executionInfo": {
     "elapsed": 10,
     "status": "ok",
     "timestamp": 1683076378141,
     "user": {
      "displayName": "Carlos Arellano",
      "userId": "03055712073717640513"
     },
     "user_tz": 360
    },
    "id": "piqD4ea7ctso",
    "outputId": "d9acc091-74c7-4f49-dd74-d66229b05bc8"
   },
   "outputs": [],
   "source": [
    "df"
   ]
  },
  {
   "cell_type": "code",
   "execution_count": null,
   "metadata": {
    "colab": {
     "base_uri": "https://localhost:8080/"
    },
    "executionInfo": {
     "elapsed": 11,
     "status": "ok",
     "timestamp": 1683076378142,
     "user": {
      "displayName": "Carlos Arellano",
      "userId": "03055712073717640513"
     },
     "user_tz": 360
    },
    "id": "NE-uMPgmdxRN",
    "outputId": "d264952c-960a-442f-bfd0-e57bdea08f8a"
   },
   "outputs": [],
   "source": [
    "df['freq_x'].value_counts()"
   ]
  },
  {
   "cell_type": "code",
   "execution_count": null,
   "metadata": {
    "executionInfo": {
     "elapsed": 309,
     "status": "ok",
     "timestamp": 1683076378441,
     "user": {
      "displayName": "Carlos Arellano",
      "userId": "03055712073717640513"
     },
     "user_tz": 360
    },
    "id": "MOP1qV6adI3B"
   },
   "outputs": [],
   "source": [
    "xF = df.groupby('freq_x', observed=False)['x'].mean()\n",
    "yF = df.groupby('freq_x', observed=False)['y'].mean()"
   ]
  },
  {
   "cell_type": "code",
   "execution_count": null,
   "metadata": {},
   "outputs": [],
   "source": [
    "xF.isna().sum(), yF.isna().sum()"
   ]
  },
  {
   "cell_type": "code",
   "execution_count": null,
   "metadata": {
    "executionInfo": {
     "elapsed": 7,
     "status": "ok",
     "timestamp": 1683076378443,
     "user": {
      "displayName": "Carlos Arellano",
      "userId": "03055712073717640513"
     },
     "user_tz": 360
    },
    "id": "71FgpnvCekj0"
   },
   "outputs": [],
   "source": [
    "#Regresión\n",
    "lin_freq_x=LinearRegression()\n",
    "lin_freq_x.fit(xF.values.reshape(-1,1),yF)\n",
    "predict_freq_x=lin_freq_x.predict(df[['x']].values)"
   ]
  },
  {
   "cell_type": "code",
   "execution_count": null,
   "metadata": {
    "colab": {
     "base_uri": "https://localhost:8080/",
     "height": 430
    },
    "executionInfo": {
     "elapsed": 823,
     "status": "ok",
     "timestamp": 1683076379259,
     "user": {
      "displayName": "Carlos Arellano",
      "userId": "03055712073717640513"
     },
     "user_tz": 360
    },
    "id": "r3-P_K99ayoU",
    "outputId": "7763582e-a6e6-4de6-dbe4-54c855c2d4bf"
   },
   "outputs": [],
   "source": [
    "# Gráfico\n",
    "plt.scatter(df.x,df.y,s=5)\n",
    "plt.plot(df.x,predict_SD,'k',label='Regresión sin discretizar')\n",
    "plt.plot(df.x,predict_ancho_x,'r',label='Regresión con ancho constante')\n",
    "plt.plot(df.x,predict_freq_x,'g',label='Regresión con frecuencia constante')\n",
    "plt.scatter(xF,yF,marker='x',s=20,label='Valores discretizados con frecuencia constante')\n",
    "plt.legend()\n",
    "plt.grid()"
   ]
  },
  {
   "cell_type": "code",
   "execution_count": null,
   "metadata": {
    "colab": {
     "base_uri": "https://localhost:8080/"
    },
    "executionInfo": {
     "elapsed": 356,
     "status": "ok",
     "timestamp": 1683076477767,
     "user": {
      "displayName": "Carlos Arellano",
      "userId": "03055712073717640513"
     },
     "user_tz": 360
    },
    "id": "J5S_hLZ7KyHP",
    "outputId": "fe37bf36-59b4-4d57-a715-20b86a803f41"
   },
   "outputs": [],
   "source": [
    "# Modelo con datos sin discretizar\n",
    "lin_SD.coef_, lin_SD.intercept_"
   ]
  },
  {
   "cell_type": "code",
   "execution_count": null,
   "metadata": {
    "colab": {
     "base_uri": "https://localhost:8080/"
    },
    "executionInfo": {
     "elapsed": 142,
     "status": "ok",
     "timestamp": 1683076532987,
     "user": {
      "displayName": "Carlos Arellano",
      "userId": "03055712073717640513"
     },
     "user_tz": 360
    },
    "id": "f8wi0tdwLPBO",
    "outputId": "072977ed-c479-4685-8015-5336337bb628"
   },
   "outputs": [],
   "source": [
    "# Modelo con datos discretizados\n",
    "lin_freq_x.coef_, lin_freq_x.intercept_"
   ]
  },
  {
   "cell_type": "markdown",
   "metadata": {
    "id": "EUeu_gB6Lddq"
   },
   "source": [
    "# Modelos conseguidos\n",
    "Modelo con datos sin discretizar\n",
    "$$\n",
    "y=?\n",
    "$$\n",
    "Modelo con datos discretizados con frecuencia constante\n",
    "$$\n",
    "y=?\n",
    "$$"
   ]
  },
  {
   "cell_type": "markdown",
   "metadata": {},
   "source": [
    "## Ejemplo 2"
   ]
  },
  {
   "cell_type": "code",
   "execution_count": null,
   "metadata": {},
   "outputs": [],
   "source": [
    "titanic_df = pd.read_csv(\"titanic.csv\")"
   ]
  },
  {
   "cell_type": "code",
   "execution_count": null,
   "metadata": {},
   "outputs": [],
   "source": [
    "titanic_df.info()"
   ]
  },
  {
   "cell_type": "code",
   "execution_count": null,
   "metadata": {},
   "outputs": [],
   "source": [
    "titanic_df['Age'].hist()"
   ]
  },
  {
   "cell_type": "code",
   "execution_count": null,
   "metadata": {},
   "outputs": [],
   "source": [
    "titanic_df['Age'].describe()"
   ]
  },
  {
   "cell_type": "code",
   "execution_count": null,
   "metadata": {},
   "outputs": [],
   "source": [
    "def cut_age(df, cut_values, label_names):\n",
    "    df[\"Age_labels\"] = pd.cut(df['Age'], bins=cut_values, labels=label_names)\n",
    "    return df"
   ]
  },
  {
   "cell_type": "code",
   "execution_count": null,
   "metadata": {},
   "outputs": [],
   "source": [
    "cut_values = [0,3,12,19,35,60,80]\n",
    "labels_names = ['infants', 'children', 'teenagers', 'young adults', 'middle adults', 'seniors']"
   ]
  },
  {
   "cell_type": "code",
   "execution_count": null,
   "metadata": {},
   "outputs": [],
   "source": [
    "cut_age(titanic_df, cut_values, labels_names)"
   ]
  },
  {
   "cell_type": "code",
   "execution_count": null,
   "metadata": {},
   "outputs": [],
   "source": [
    "import seaborn as sns"
   ]
  },
  {
   "cell_type": "code",
   "execution_count": null,
   "metadata": {},
   "outputs": [],
   "source": [
    "sns.catplot(x='Age_labels', row='Survived', kind=\"count\", data=titanic_df, aspect=4, height=3)"
   ]
  },
  {
   "cell_type": "code",
   "execution_count": null,
   "metadata": {},
   "outputs": [],
   "source": [
    "def qcut_fare(df, cut_values, label_names):\n",
    "    df[\"Fare_labels\"] = pd.qcut(df['Fare'], cut_values, labels=label_names)\n",
    "    return df\n",
    "labels=['range1','range2','range3','range4']\n",
    "titanic_df = qcut_fare(titanic_df, 4, labels)"
   ]
  },
  {
   "cell_type": "code",
   "execution_count": null,
   "metadata": {},
   "outputs": [],
   "source": [
    "titanic_df"
   ]
  },
  {
   "cell_type": "code",
   "execution_count": null,
   "metadata": {},
   "outputs": [],
   "source": [
    "sns.catplot(x='Fare_labels',  kind=\"count\", data=titanic_df, aspect=4, height=3)"
   ]
  },
  {
   "cell_type": "code",
   "execution_count": null,
   "metadata": {},
   "outputs": [],
   "source": []
  },
  {
   "cell_type": "code",
   "execution_count": null,
   "metadata": {},
   "outputs": [],
   "source": []
  }
 ],
 "metadata": {
  "colab": {
   "authorship_tag": "ABX9TyOXZWH4zJLZC96Q5W+TvAPg",
   "provenance": []
  },
  "kernelspec": {
   "display_name": "Python 3 (ipykernel)",
   "language": "python",
   "name": "python3"
  },
  "language_info": {
   "codemirror_mode": {
    "name": "ipython",
    "version": 3
   },
   "file_extension": ".py",
   "mimetype": "text/x-python",
   "name": "python",
   "nbconvert_exporter": "python",
   "pygments_lexer": "ipython3",
   "version": "3.12.7"
  }
 },
 "nbformat": 4,
 "nbformat_minor": 4
}
