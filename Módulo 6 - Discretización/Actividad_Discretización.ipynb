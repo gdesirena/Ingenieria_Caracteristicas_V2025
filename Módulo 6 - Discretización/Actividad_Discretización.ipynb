{
 "cells": [
  {
   "cell_type": "markdown",
   "id": "b05f7754",
   "metadata": {},
   "source": [
    "<img style=\"float: left;;\" src='Figures/iteso.jpg' width=\"100\" height=\"200\"/></a>\n",
    "\n",
    "# <center> <font color= #000047> Actividad Discretización de Variables</font> </center>"
   ]
  },
  {
   "cell_type": "markdown",
   "id": "99f1f5b5",
   "metadata": {
    "id": "99f1f5b5"
   },
   "source": [
    "**1.- Obtener una clusterización mediante clustering jerárquico del dataset 'shopping-data.csv' utilizando las columnas:**\n",
    "\n",
    "- Gender\n",
    "- Age\n",
    "- Anual Income\n",
    "- Spending Score"
   ]
  },
  {
   "cell_type": "code",
   "execution_count": 10,
   "id": "5fd933ca",
   "metadata": {},
   "outputs": [],
   "source": []
  },
  {
   "cell_type": "markdown",
   "id": "c8b20c96",
   "metadata": {},
   "source": [
    " **2.- Obtenga una discretización por clustering  Jeráquico del dataset 'dataKmeans.csv' obtenga los modelos lineales de cada grupo.**"
   ]
  },
  {
   "cell_type": "code",
   "execution_count": null,
   "id": "60467404-4cbb-417b-bf6b-1e79c9df5a0a",
   "metadata": {},
   "outputs": [],
   "source": []
  },
  {
   "cell_type": "markdown",
   "id": "dad61cf1-9754-44fd-83cd-c852848ffae0",
   "metadata": {},
   "source": [
    "**3.- Considere el dataset \"apples_and_oranges.csv\", obtenga un modelo de clasificación por Arboles de decision. Realice una predicción de una nueva muestra y Grafique el arbol de desición.**"
   ]
  },
  {
   "cell_type": "code",
   "execution_count": null,
   "id": "e22284ba-1440-4a63-b69a-e1981cd6a57f",
   "metadata": {},
   "outputs": [],
   "source": []
  }
 ],
 "metadata": {
  "colab": {
   "provenance": []
  },
  "kernelspec": {
   "display_name": "Python 3 (ipykernel)",
   "language": "python",
   "name": "python3"
  },
  "language_info": {
   "codemirror_mode": {
    "name": "ipython",
    "version": 3
   },
   "file_extension": ".py",
   "mimetype": "text/x-python",
   "name": "python",
   "nbconvert_exporter": "python",
   "pygments_lexer": "ipython3",
   "version": "3.12.7"
  }
 },
 "nbformat": 4,
 "nbformat_minor": 5
}
