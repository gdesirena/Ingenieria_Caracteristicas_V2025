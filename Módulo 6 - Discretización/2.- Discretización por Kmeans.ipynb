{
 "cells": [
  {
   "cell_type": "markdown",
   "metadata": {},
   "source": [
    "<img style=\"float: left;;\" src='Figures/iteso.jpg' width=\"50\" height=\"100\"/></a>\n",
    "\n",
    "# <center> <font color= #000047> Discretización por Kmeans\n"
   ]
  },
  {
   "cell_type": "markdown",
   "metadata": {},
   "source": [
    "## Introducción\n"
   ]
  },
  {
   "cell_type": "markdown",
   "metadata": {},
   "source": [
    "K-Means es un algoritmo no supervisado de Clustering. Se utiliza cuando tenemos un montón de datos sin etiquetar. El objetivo de este algoritmo es el de encontrar “K” grupos (clusters) entre los datos crudos. "
   ]
  },
  {
   "cell_type": "markdown",
   "metadata": {},
   "source": [
    "**¿Cómo funciona?**"
   ]
  },
  {
   "cell_type": "markdown",
   "metadata": {},
   "source": [
    "El algoritmo trabaja iterativamente para asignar a cada “muestra” uno de los “K” grupos basado en sus características. Son agrupados en base a la similitud de sus features (las columnas). Como resultado de ejecutar el algoritmo tendremos:\n",
    "\n",
    "\n",
    "> Los `“centroids”` de cada grupo que serán unas “coordenadas” de cada uno de los K conjuntos qu>e se utilizarán para poder etiquetar nuevas muestras.\n",
    "\n",
    "> `Etiquetas` para el conjunto de datos de entrenamiento. Cada etiqueta perteneciente a uno de los K grupos formados.\n",
    "\n",
    "Los grupos se van definiendo de manera “orgánica”, es decir que se va ajustando su posición en cada iteración del proceso, hasta que converge el algoritmo. Una vez hallados los centroids deberemos analizarlos para ver cuales son sus características únicas, frente a la de los otros grupos. Estos grupos son las etiquetas que genera el algoritmo."
   ]
  },
  {
   "cell_type": "markdown",
   "metadata": {},
   "source": [
    "## Algoritmo K-means"
   ]
  },
  {
   "cell_type": "markdown",
   "metadata": {},
   "source": [
    "El algoritmo utiliza una proceso **iterativo** en el que se van ajustando los grupos para producir el resultado final. Para ejecutar el algoritmo deberemos pasar como entrada el `conjunto de datos` y un valor de `K`. El conjunto de datos serán las características o features para cada punto. Las posiciones iniciales de los K centroids serán asignadas de manera aleatoria de cualquier punto del conjunto de datos de entrada. Luego se itera en dos pasos:\n",
    "\n",
    "> 1.- **Paso de asignación** $argmin_{c_i \\in C} dist(c_i, x)^2$\n",
    "\n",
    "> 2.- **Paso de actualización del Centroide**  En este paso los centroides de cada grupo son recalculados. Esto se hace tomando una media de todos los puntos asignados en el paso anterior. $c_i = \\frac{1}{|s_i|}\\sum_{x_i \\in s_i} x_i$\n",
    "\n",
    "El algoritmo itera entre estos pasos hasta cumplir un criterio de detención:\n",
    "*  si no hay cambios en los puntos asignados a los grupos,\n",
    "* o si la suma de las distancias se minimiza,\n",
    "* o se alcanza un número máximo de iteraciones.\n",
    "\n",
    "El algoritmo converge a un resultado que puede ser el óptimo local, por lo que será conveniente volver a ejecutar más de una vez con puntos iniciales aleatorios para confirmar si hay una salida mejor.\n",
    "\n"
   ]
  },
  {
   "cell_type": "code",
   "execution_count": null,
   "metadata": {},
   "outputs": [],
   "source": [
    "import numpy as np\n",
    "import matplotlib.pyplot as plt\n",
    "import pandas as pd\n",
    "from sklearn.datasets import make_blobs"
   ]
  },
  {
   "cell_type": "code",
   "execution_count": null,
   "metadata": {},
   "outputs": [],
   "source": [
    "def euclidean_distance(x1, x2):\n",
    "    return np.sqrt(np.sum((x1-x2)**2))"
   ]
  },
  {
   "cell_type": "code",
   "execution_count": null,
   "metadata": {},
   "outputs": [],
   "source": [
    "class Keans:\n",
    "\n",
    "    def __init__(self, K=5, max_iters=100, plot_steps=False):\n",
    "        self.K = K\n",
    "        self.max_iters = max_iters\n",
    "        self.plot_steps = plot_steps\n",
    "\n",
    "        # lista de indices por cada cluster\n",
    "        self.clusters = [[] for _ in range(self.K)]\n",
    "\n",
    "        # centroides de cada cluster \n",
    "        self.centroids = []\n",
    "\n",
    "\n",
    "    def predict(self, X):\n",
    "        self.X = X\n",
    "        self.n_samples, self.n_features = X.shape\n",
    "\n",
    "        # Inicialización\n",
    "        random_sample_idxs = np.random.choice(self.n_samples, self.K, replace=False)\n",
    "        self.centroids = [self.X[idx] for idx in random_sample_idxs]\n",
    "\n",
    "        # Optimizando los clusters\n",
    "        for _ in range(self.max_iters):\n",
    "            # asignación de cada punto al centroide más cercano\n",
    "            self.clusters = self._create_clusters(self.centroids)\n",
    "\n",
    "            if self.plot_steps:\n",
    "                self.plot()\n",
    "\n",
    "            # calculo de los nuevos centroides desde los clusters\n",
    "            centroids_old = self.centroids\n",
    "            self.centroids = self._get_centroids(self.clusters)\n",
    "\n",
    "            if self._is_converged(centroids_old, self.centroids):\n",
    "                break\n",
    "\n",
    "            if self.plot_steps:\n",
    "                self.plot()\n",
    "\n",
    "        # Clasificación de los samples como indices en sus clusters \n",
    "        return self._get_cluster_labels(self.clusters)\n",
    "\n",
    "\n",
    "    def _get_cluster_labels(self, clusters):\n",
    "        # cada sample obtendrá una etiqueta del cluster al que le corresponde\n",
    "        labels = np.empty(self.n_samples)\n",
    "        for cluster_idx, cluster in enumerate(clusters):\n",
    "            for sample_idx in cluster:\n",
    "                labels[sample_idx] = cluster_idx\n",
    "\n",
    "        return labels\n",
    "\n",
    "\n",
    "    def _create_clusters(self, centroids):\n",
    "        # Asignación de los samples a el centroide más cercano\n",
    "        clusters = [[] for _ in range(self.K)]\n",
    "        for idx, sample in enumerate(self.X):\n",
    "            centroid_idx = self._closest_centroid(sample, centroids)\n",
    "            clusters[centroid_idx].append(idx)\n",
    "        return clusters\n",
    "\n",
    "    def _closest_centroid(self, sample, centroids):\n",
    "        # distancia del punto actual con cada centroide\n",
    "        distances = [euclidean_distance(sample, point) for point in centroids]\n",
    "        closest_idx = np.argmin(distances)\n",
    "        return closest_idx\n",
    "\n",
    "\n",
    "    def _get_centroids(self, clusters):\n",
    "        # asignación de la media de los centroides de cada cluster\n",
    "        centroids = np.zeros((self.K, self.n_features))\n",
    "        for cluster_idx, cluster in enumerate(clusters):\n",
    "            cluster_mean = np.mean(self.X[cluster], axis=0)\n",
    "            centroids[cluster_idx] = cluster_mean\n",
    "        return centroids\n",
    "\n",
    "    def _is_converged(self, centroids_old, centroids):\n",
    "        # distancias entre el viejo y nuevos centroides, para todos los centroide\n",
    "        distances = [euclidean_distance(centroids_old[i], centroids[i]) for i in range(self.K)]\n",
    "        return sum(distances) == 0\n",
    "\n",
    "    def plot(self):\n",
    "        fig, ax = plt.subplots(figsize=(12, 8))\n",
    "\n",
    "        for i, index in enumerate(self.clusters):\n",
    "            point = self.X[index].T\n",
    "            ax.scatter(*point)\n",
    "\n",
    "        for point in self.centroids:\n",
    "            ax.scatter(*point, marker=\"x\", color=\"black\", linewidth=2)\n",
    "\n",
    "        plt.show()\n"
   ]
  },
  {
   "cell_type": "code",
   "execution_count": null,
   "metadata": {
    "scrolled": true
   },
   "outputs": [],
   "source": [
    "np.random.seed(42)\n",
    "from sklearn.datasets import make_blobs\n",
    "\n",
    "X, y = make_blobs(\n",
    "    centers=3, n_samples=500, n_features=2, shuffle=True, random_state=40\n",
    ")\n",
    "print(X.shape)\n",
    "\n",
    "clusters = len(np.unique(y))\n",
    "print(clusters)\n",
    "\n",
    "k = KMeans(K=clusters, max_iters=150, plot_steps=True)\n",
    "y_pred = k.predict(X)\n",
    "\n",
    "k.plot()"
   ]
  },
  {
   "cell_type": "markdown",
   "metadata": {},
   "source": [
    "## Criterios de Elección de Grupos\n",
    "\n",
    "> Criterio del codo\n",
    "\n",
    "> Criterio del gradiente"
   ]
  },
  {
   "cell_type": "markdown",
   "metadata": {},
   "source": [
    "## Ejemplo 1"
   ]
  },
  {
   "cell_type": "code",
   "execution_count": null,
   "metadata": {},
   "outputs": [],
   "source": [
    "#%% Generar datos aleatorios\n",
    "X, Y = make_blobs(n_samples=1500, random_state=5)"
   ]
  },
  {
   "cell_type": "code",
   "execution_count": null,
   "metadata": {},
   "outputs": [],
   "source": [
    "X"
   ]
  },
  {
   "cell_type": "code",
   "execution_count": null,
   "metadata": {},
   "outputs": [],
   "source": [
    "Y"
   ]
  },
  {
   "cell_type": "code",
   "execution_count": null,
   "metadata": {},
   "outputs": [],
   "source": [
    "plt.figure(figsize=(6,4))\n",
    "plt.scatter(X[:,0],X[:,1])\n",
    "plt.show()"
   ]
  },
  {
   "cell_type": "code",
   "execution_count": null,
   "metadata": {},
   "outputs": [],
   "source": [
    "from sklearn.cluster import KMeans\n",
    "#%% Aplicar el algoritmo Kmeans\n",
    "model = KMeans(n_clusters=10, random_state=5, init='random')\n",
    "model = model.fit(X)\n",
    "grupos = model.predict(X)\n",
    "centroides = model.cluster_centers_"
   ]
  },
  {
   "cell_type": "code",
   "execution_count": null,
   "metadata": {},
   "outputs": [],
   "source": [
    "grupos"
   ]
  },
  {
   "cell_type": "code",
   "execution_count": null,
   "metadata": {},
   "outputs": [],
   "source": [
    "centroides"
   ]
  },
  {
   "cell_type": "code",
   "execution_count": null,
   "metadata": {},
   "outputs": [],
   "source": [
    "plt.figure(figsize=(6,4))\n",
    "plt.scatter(X[:,0],X[:,1], c=grupos)\n",
    "plt.plot(centroides[:,0], centroides[:,1], 'x')\n",
    "plt.show()"
   ]
  },
  {
   "cell_type": "code",
   "execution_count": null,
   "metadata": {},
   "outputs": [],
   "source": [
    "model.inertia_"
   ]
  },
  {
   "cell_type": "code",
   "execution_count": null,
   "metadata": {},
   "outputs": [],
   "source": [
    "#%% Criterio de selección del codo\n",
    "ngroup = 15\n",
    "inercias = np.zeros(ngroup)\n",
    "\n",
    "for k in np.arange(1,ngroup):\n",
    "    model = KMeans(n_clusters = k, random_state=5, init='random')\n",
    "    model = model.fit(X)\n",
    "    inercias[k] = model.inertia_\n",
    "    \n",
    "plt.figure(figsize=(6,4))\n",
    "plt.plot(np.arange(1,ngroup), inercias[1:])\n",
    "plt.xlabel('Número de grupos')\n",
    "plt.ylabel('Inercias')\n",
    "    "
   ]
  },
  {
   "cell_type": "code",
   "execution_count": null,
   "metadata": {},
   "outputs": [],
   "source": []
  },
  {
   "cell_type": "code",
   "execution_count": null,
   "metadata": {},
   "outputs": [],
   "source": [
    "#%% Definiendo el número de grupos optimos\n",
    "#%% Aplicar el algoritmo Kmeans con 2 grupos\n",
    "model = KMeans(n_clusters=2, random_state=5, init='random')\n",
    "model = model.fit(X)\n",
    "grupos = model.predict(X)\n",
    "centroides = model.cluster_centers_\n",
    "\n",
    "plt.figure(figsize=(6,4))\n",
    "plt.scatter(X[:,0],X[:,1], c=grupos)\n",
    "plt.plot(centroides[:,0], centroides[:,1], 'x')\n",
    "plt.show()"
   ]
  },
  {
   "cell_type": "code",
   "execution_count": null,
   "metadata": {},
   "outputs": [],
   "source": [
    "# Función del criterio de selección de grupos (criterio del codo)\n",
    "def criterio_codo_kmeans(ngroup, data):\n",
    "    inercias = np.zeros(ngroup)\n",
    "\n",
    "    for k in np.arange(1,ngroup):\n",
    "        model = KMeans(n_clusters = k, random_state=5, init='random')\n",
    "        model = model.fit(data)\n",
    "        inercias[k] = model.inertia_\n",
    "        \n",
    "    plt.figure(figsize=(6,4))\n",
    "    plt.plot(np.arange(1,ngroup), inercias[1:])\n",
    "    plt.xlabel('Número de grupos')\n",
    "    plt.ylabel('Inercias')\n",
    "    \n",
    "    "
   ]
  },
  {
   "cell_type": "code",
   "execution_count": null,
   "metadata": {},
   "outputs": [],
   "source": [
    "criterio_codo_kmeans(5,X)"
   ]
  },
  {
   "cell_type": "code",
   "execution_count": null,
   "metadata": {},
   "outputs": [],
   "source": [
    "# Función del criterio de selección de grupos (criterio del gradiente)\n",
    "def criterio_gradiente_kmeans(ngroup, data):\n",
    "    inercias = np.zeros(ngroup)\n",
    "\n",
    "    for k in np.arange(1,ngroup):\n",
    "        model = KMeans(n_clusters = k, random_state=5, init='random')\n",
    "        model = model.fit(data)\n",
    "        inercias[k] = model.inertia_\n",
    "    \n",
    "    #Derivar las inercias y graficar el gradiente\n",
    "    gradiente =  np.diff(inercias)\n",
    "    plt.figure(figsize=(6,4))\n",
    "    plt.plot(np.arange(1,ngroup), gradiente)\n",
    "    plt.xlabel('Número de grupos')\n",
    "    plt.ylabel('Inercias')\n",
    "    "
   ]
  },
  {
   "cell_type": "code",
   "execution_count": null,
   "metadata": {},
   "outputs": [],
   "source": [
    "criterio_gradiente_kmeans(15,X)"
   ]
  },
  {
   "cell_type": "markdown",
   "metadata": {},
   "source": [
    "### Discretización"
   ]
  },
  {
   "cell_type": "code",
   "execution_count": null,
   "metadata": {},
   "outputs": [],
   "source": [
    "from sklearn.linear_model import LinearRegression\n",
    "\n",
    "df=pd.read_csv('dataKmeans.csv')\n",
    "plt.scatter(df.x,df.y,s=5)\n",
    "plt.grid()"
   ]
  },
  {
   "cell_type": "code",
   "execution_count": null,
   "metadata": {},
   "outputs": [],
   "source": [
    "df.hist(bins=50)"
   ]
  },
  {
   "cell_type": "code",
   "execution_count": null,
   "metadata": {},
   "outputs": [],
   "source": [
    "criterio_codo_kmeans(ngroup=10, data=df[['x']])"
   ]
  },
  {
   "cell_type": "code",
   "execution_count": null,
   "metadata": {},
   "outputs": [],
   "source": [
    "# Centroides\n",
    "k=3\n",
    "ctr=np.random.uniform(df.x.min(),df.x.max(),k)\n",
    "ctr"
   ]
  },
  {
   "cell_type": "code",
   "execution_count": null,
   "metadata": {},
   "outputs": [],
   "source": [
    "#Algoritmo Kmeans básico\n",
    "dif=[]\n",
    "for c_i in ctr:\n",
    "    dif.append(np.abs(c_i-df[['x']].values))\n",
    "distancias=np.concatenate(dif,axis=1)\n",
    "grupos=np.argmin(distancias,axis=1)\n",
    "df_copia=df.copy()\n",
    "df_copia['kmeans']=grupos\n",
    "df_copia.groupby('kmeans')['x'].mean()"
   ]
  },
  {
   "cell_type": "code",
   "execution_count": null,
   "metadata": {},
   "outputs": [],
   "source": [
    "df_copia['kmeans'].value_counts()"
   ]
  },
  {
   "cell_type": "code",
   "execution_count": null,
   "metadata": {},
   "outputs": [],
   "source": [
    "ctr_anterior=np.ones(k)*np.inf\n",
    "eps=1e-6\n",
    "while(np.abs(ctr-ctr_anterior).sum()>eps): # Minkowski con p=1, criterio de paro\n",
    "    dif=[]\n",
    "    for c_i in ctr:\n",
    "        dif.append(np.abs(c_i-df[['x']].values))\n",
    "    distancias=np.concatenate(dif,axis=1)\n",
    "    grupos=np.argmin(distancias,axis=1)\n",
    "    df_copia=df.copy()\n",
    "    df_copia['kmeans']=grupos\n",
    "    ctr_anterior=ctr.copy()\n",
    "    ctr=df_copia.groupby('kmeans')['x'].mean().values\n",
    "df['kmeans']=grupos\n",
    "df.groupby('kmeans')['x'].hist(bins='auto')\n",
    "ctr"
   ]
  },
  {
   "cell_type": "markdown",
   "metadata": {},
   "source": [
    "#### Regresión lineal de los datos discretizados"
   ]
  },
  {
   "cell_type": "code",
   "execution_count": null,
   "metadata": {},
   "outputs": [],
   "source": [
    "# Modelo con datos sin discretizar\n",
    "lin_SD=LinearRegression()\n",
    "lin_SD.fit(df[['x']],df['y'])\n",
    "predict_SD=lin_SD.predict(df[['x']])\n",
    "\n",
    "# Modelo con datos discretizados con K-means\n",
    "lin_kmeans=LinearRegression()\n",
    "x=ctr.reshape(-1,1)\n",
    "y=df.groupby('kmeans')['y'].mean()\n",
    "lin_kmeans.fit(x,y)\n",
    "predict_kmeans=lin_kmeans.predict(df[['x']].values)\n",
    "\n",
    "# Gráfica\n",
    "plt.scatter(df.x,df.y,s=5,c='k')\n",
    "plt.plot(df.x,predict_SD,'g',label='Regresión sin discretizar',lw=3)\n",
    "plt.plot(df.x,predict_kmeans,'r',label='Regresión con K-means')\n",
    "plt.legend()\n",
    "plt.grid()"
   ]
  },
  {
   "cell_type": "code",
   "execution_count": null,
   "metadata": {},
   "outputs": [],
   "source": [
    "# Modelo con datos sin discretizar\n",
    "lin_SD.coef_,lin_SD.intercept_"
   ]
  },
  {
   "cell_type": "code",
   "execution_count": null,
   "metadata": {},
   "outputs": [],
   "source": [
    "# Modelo con datos discretizados usando K-means\n",
    "lin_kmeans.coef_,lin_kmeans.intercept_"
   ]
  },
  {
   "cell_type": "code",
   "execution_count": null,
   "metadata": {},
   "outputs": [],
   "source": [
    "lin_SD.score(df[['x']],df['y']),lin_kmeans.score(df[['x']].values,df['y'])"
   ]
  },
  {
   "cell_type": "code",
   "execution_count": null,
   "metadata": {},
   "outputs": [],
   "source": [
    "plt.scatter(df.x,df.y,c='k',s=5)\n",
    "lin_centroides=[]\n",
    "for c_i in range(k):\n",
    "    x=df[df['kmeans']==c_i][['x']]\n",
    "    y=df[df['kmeans']==c_i]['y']\n",
    "    lin_centroides.append(LinearRegression())\n",
    "    lin_centroides[-1].fit(x,y)\n",
    "\n",
    "    plt.plot(x,lin_centroides[-1].predict(x),label='Grupo '+str(c_i))\n",
    "plt.legend()\n",
    "plt.grid()"
   ]
  },
  {
   "cell_type": "code",
   "execution_count": null,
   "metadata": {},
   "outputs": [],
   "source": []
  }
 ],
 "metadata": {
  "kernelspec": {
   "display_name": "Python 3 (ipykernel)",
   "language": "python",
   "name": "python3"
  },
  "language_info": {
   "codemirror_mode": {
    "name": "ipython",
    "version": 3
   },
   "file_extension": ".py",
   "mimetype": "text/x-python",
   "name": "python",
   "nbconvert_exporter": "python",
   "pygments_lexer": "ipython3",
   "version": "3.12.7"
  }
 },
 "nbformat": 4,
 "nbformat_minor": 4
}
