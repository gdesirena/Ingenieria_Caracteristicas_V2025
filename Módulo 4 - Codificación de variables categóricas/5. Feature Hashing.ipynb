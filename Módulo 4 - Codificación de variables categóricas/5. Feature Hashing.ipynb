{
 "cells": [
  {
   "cell_type": "markdown",
   "metadata": {},
   "source": [
    "<img style=\"float: left;;\" src='Figures/iteso.jpg' width=\"100\" height=\"200\"/></a>\n",
    "\n",
    "# <center> <font color= #000047> 5.- Feature Hashing </font> </center>"
   ]
  },
  {
   "cell_type": "markdown",
   "metadata": {},
   "source": [
    "Feature Hashing, también conocido como el **\"hashing trick\"**, es una técnica para transformar variables categóricas de alta cardinalidad en un espacio de características de tamaño fijo. Es especialmente útil cuando el número de categorías posibles es muy grande o desconocido.\n",
    "\n",
    "La **cardinalidad** de una variable categórica es el número de categorías únicas que contiene.\n",
    "\n",
    "Se considera que una variable tiene **alta cardinalidad** cuando el número de categorías distintas es grande en relación al número de observaciones o al contexto del problema. No existe un umbral universal, pero algunas reglas prácticas son:\n",
    "\n",
    "- Si el número de categorías es mayor a 10-20, puede considerarse moderadamente alta.\n",
    "- Si hay decenas, cientos o miles de categorías únicas, es claramente alta cardinalidad.\n",
    "- Si el número de categorías es comparable al número de filas (por ejemplo, un identificador único por registro), la cardinalidad es extremadamente alta.\n",
    "\n",
    "**Ejemplos de variables de alta cardinalidad:**\n",
    "- Códigos postales\n",
    "- Nombres de productos\n",
    "- IDs de usuario\n",
    "- Direcciones de correo electrónico\n",
    "\n",
    "**¿Por qué es importante?**\n",
    "Las variables de alta cardinalidad pueden causar problemas de memoria y sobreajuste si se codifican con técnicas tradicionales como one-hot encoding. Por eso, técnicas como feature hashing son útiles en estos casos.\n",
    "\n",
    "#### Ejemplo:\n",
    "\n",
    "Supón que tienes 10,000 países distintos y decides usar m=100 buckets. Cada país se asigna a un bucket usando una función hash y la operación módulo. Así, solo necesitas 100 columnas para representar cualquier país, aunque pierdes la capacidad de distinguir perfectamente entre todos ellos si hay colisiones.\n"
   ]
  },
  {
   "cell_type": "code",
   "execution_count": null,
   "metadata": {
    "colab": {
     "base_uri": "https://localhost:8080/",
     "height": 206
    },
    "executionInfo": {
     "elapsed": 887,
     "status": "ok",
     "timestamp": 1678846854244,
     "user": {
      "displayName": "Carlos Arellano",
      "userId": "03055712073717640513"
     },
     "user_tz": 360
    },
    "id": "DeP2AEJdD9wP",
    "outputId": "3c3e5726-b062-42fc-d1a8-c4c46bd80244"
   },
   "outputs": [],
   "source": [
    "import pandas as pd\n",
    "import numpy as np\n",
    "import matplotlib.pyplot as plt\n",
    "\n",
    "df=pd.read_csv('Países.csv')\n",
    "df.head()"
   ]
  },
  {
   "cell_type": "code",
   "execution_count": null,
   "metadata": {
    "colab": {
     "base_uri": "https://localhost:8080/",
     "height": 351
    },
    "executionInfo": {
     "elapsed": 2507,
     "status": "ok",
     "timestamp": 1678847127158,
     "user": {
      "displayName": "Carlos Arellano",
      "userId": "03055712073717640513"
     },
     "user_tz": 360
    },
    "id": "C6vGpfPfEf8U",
    "outputId": "d492b254-7fd2-4a64-8c1b-9eecaf602ae7"
   },
   "outputs": [],
   "source": []
  },
  {
   "cell_type": "code",
   "execution_count": null,
   "metadata": {
    "colab": {
     "base_uri": "https://localhost:8080/"
    },
    "executionInfo": {
     "elapsed": 139,
     "status": "ok",
     "timestamp": 1678847289212,
     "user": {
      "displayName": "Carlos Arellano",
      "userId": "03055712073717640513"
     },
     "user_tz": 360
    },
    "id": "DtA_mnq6Ffpg",
    "outputId": "655c587d-1f2e-42e0-b4e1-0f889653550b"
   },
   "outputs": [],
   "source": [
    "# Cardinalidad de 'Países'\n"
   ]
  },
  {
   "cell_type": "code",
   "execution_count": null,
   "metadata": {
    "colab": {
     "base_uri": "https://localhost:8080/",
     "height": 351
    },
    "executionInfo": {
     "elapsed": 1146,
     "status": "ok",
     "timestamp": 1678847780874,
     "user": {
      "displayName": "Carlos Arellano",
      "userId": "03055712073717640513"
     },
     "user_tz": 360
    },
    "id": "WeTAUPW7GhpP",
    "outputId": "c009af65-20b9-41dd-d30c-089d05628936"
   },
   "outputs": [],
   "source": [
    "#Suma acumulada\n"
   ]
  },
  {
   "cell_type": "code",
   "execution_count": null,
   "metadata": {
    "colab": {
     "base_uri": "https://localhost:8080/"
    },
    "executionInfo": {
     "elapsed": 149,
     "status": "ok",
     "timestamp": 1678848020027,
     "user": {
      "displayName": "Carlos Arellano",
      "userId": "03055712073717640513"
     },
     "user_tz": 360
    },
    "id": "-muSyoCuIt5w",
    "outputId": "c0f2584a-24a1-499e-b705-8e8e5f3f304c"
   },
   "outputs": [],
   "source": []
  },
  {
   "cell_type": "markdown",
   "metadata": {},
   "source": [
    "### ¿Cómo funciona Feature hashing?\n",
    "\n",
    "1. **Definir el número de buckets (m):**\n",
    "   Se elige un número fijo de columnas (buckets) donde se mapearán las categorías. Este número es mucho menor que la cantidad total de categorías posibles.\n",
    "\n",
    "2. **Aplicar una función hash:**\n",
    "   Cada categoría se transforma usando una función hash (por ejemplo, hash de Python, MurmurHash, etc.), que convierte el valor de la categoría en un número entero.\n",
    "\n",
    "3. **Asignar a un bucket:**\n",
    "   El valor hash se reduce al rango de buckets usando la operación módulo (`hash(categoría) % m`). Así, cada categoría se asigna a uno de los m buckets.\n",
    "\n",
    "4. **Codificación:**\n",
    "   Para cada observación, se crea un vector de longitud m, donde solo el bucket correspondiente a la categoría tiene un valor distinto de cero (por ejemplo, 1 o la frecuencia), y el resto son ceros. Si varias categorías caen en el mismo bucket, sus valores se suman (esto se llama colisión).\n",
    "\n",
    "### Algunas Ventajas:\n",
    "- Permite trabajar con variables categóricas de alta cardinalidad sin crear miles de columnas.\n",
    "- El espacio de representación es fijo y controlable.\n",
    "- Es eficiente en memoria y velocidad.\n",
    "\n",
    "### Riegos que puede haber con es:\n",
    "- Puede haber colisiones: diferentes categorías pueden terminar en el mismo bucket, perdiendo información.\n",
    "- No es interpretable: no es posible saber a qué categoría corresponde cada bucket.\n"
   ]
  },
  {
   "cell_type": "markdown",
   "metadata": {},
   "source": [
    "#### Ejemplo"
   ]
  },
  {
   "cell_type": "code",
   "execution_count": null,
   "metadata": {},
   "outputs": [],
   "source": []
  },
  {
   "cell_type": "code",
   "execution_count": null,
   "metadata": {
    "id": "p8CyG9ZWI8yH",
    "scrolled": true
   },
   "outputs": [],
   "source": [
    "#Por conteo de categorías\n"
   ]
  },
  {
   "cell_type": "code",
   "execution_count": null,
   "metadata": {},
   "outputs": [],
   "source": []
  },
  {
   "cell_type": "code",
   "execution_count": null,
   "metadata": {},
   "outputs": [],
   "source": []
  },
  {
   "cell_type": "markdown",
   "metadata": {},
   "source": [
    "#### Función hash"
   ]
  },
  {
   "cell_type": "markdown",
   "metadata": {},
   "source": [
    "Una función hash es una función determinista que asigna un entero potencialmente ilimitado a un rango finito de enteros [1, m]. Dado que el dominio de entrada es potencialmente mayor que el rango de salida, varios números pueden asignarse al mismo resultado. Esto se llama una colisión. Una función hash uniforme asegura que aproximadamente la misma cantidad de números se asignen a cada uno de los m contenedores.\n",
    "\n",
    "Visualmente, podemos pensar en una función hash como una máquina que recibe bolas numeradas (claves) y las dirige a uno de los m contenedores. Las bolas con el mismo número siempre serán dirigidas al mismo contenedor. Esto mantiene el espacio de características mientras reduce el almacenamiento y el tiempo de procesamiento durante el entrenamiento y evaluación de algún algoritmo de aprendizaje automático.\n",
    "\n",
    "Las funciones hash pueden construirse para cualquier objeto que pueda representarse numéricamente (lo cual es cierto para cualquier dato que pueda almacenarse en una computadora): números, cadenas, estructuras complejas, etc."
   ]
  },
  {
   "cell_type": "code",
   "execution_count": null,
   "metadata": {
    "id": "FCcNEypNKfj5"
   },
   "outputs": [],
   "source": [
    "# Función Hash tomando en cuenta la frecuencia\n"
   ]
  },
  {
   "cell_type": "code",
   "execution_count": null,
   "metadata": {
    "id": "XNZetwoQLVXk",
    "scrolled": true
   },
   "outputs": [],
   "source": [
    "# sin conteo\n"
   ]
  },
  {
   "cell_type": "code",
   "execution_count": null,
   "metadata": {
    "colab": {
     "base_uri": "https://localhost:8080/"
    },
    "executionInfo": {
     "elapsed": 116,
     "status": "ok",
     "timestamp": 1678848929032,
     "user": {
      "displayName": "Carlos Arellano",
      "userId": "03055712073717640513"
     },
     "user_tz": 360
    },
    "id": "_KRFVjavMCbL",
    "outputId": "50a83557-7cb6-44d5-c837-a6c20218f3f3"
   },
   "outputs": [],
   "source": [
    "# Otra función hash\n"
   ]
  },
  {
   "cell_type": "code",
   "execution_count": null,
   "metadata": {},
   "outputs": [],
   "source": []
  },
  {
   "cell_type": "markdown",
   "metadata": {},
   "source": [
    "### Función hash simple (basado en el módulo)"
   ]
  },
  {
   "cell_type": "code",
   "execution_count": null,
   "metadata": {},
   "outputs": [],
   "source": []
  },
  {
   "cell_type": "code",
   "execution_count": null,
   "metadata": {},
   "outputs": [],
   "source": []
  },
  {
   "cell_type": "markdown",
   "metadata": {},
   "source": [
    "### Usando librerías"
   ]
  },
  {
   "cell_type": "markdown",
   "metadata": {},
   "source": [
    "#### FeatureHasher de scikit-learn\n",
    "\n",
    "`FeatureHasher` es una clase de scikit-learn (`sklearn.feature_extraction.FeatureHasher`) que implementa la técnica de **feature hashing** (hashing trick) para transformar variables categóricas (o texto) en un espacio de características de tamaño fijo. Es especialmente útil para datos de alta cardinalidad y/o cuando el espacio de posibles categorías es muy grande o desconocido.\n",
    "\n",
    "##### Funcionamiento\n",
    "\n",
    "1. **Entrada esperada**:\n",
    "   - Recibe una lista de diccionarios, una matriz dispersa o un DataFrame donde cada fila representa una muestra y cada columna una característica categórica o de texto.\n",
    "   - Cada valor puede ser una cadena, un número o una lista de tokens (en el caso de texto).\n",
    "\n",
    "2. **Proceso de hashing**:\n",
    "   - Para cada par `(característica, valor)` en cada muestra, se calcula un hash usando una función hash rápida (por defecto, MurmurHash3 de 32 bits).\n",
    "   - El hash se reduce al rango `[0, n_features-1]` usando la operación módulo, donde `n_features` es el número de columnas de salida (buckets).\n",
    "\n",
    "3. **Asignación de valores**:\n",
    "   - Si el valor es numérico, se suma ese valor en el bucket correspondiente.\n",
    "   - Si el valor es categórico (cadena), se suma 1 en el bucket correspondiente.\n",
    "   - Para evitar que los buckets sean siempre positivos (y reducir colisiones), el signo del valor se determina usando el hash (puede ser +1 o -1).\n",
    "\n",
    "4. **Salida**:\n",
    "   - Devuelve una matriz dispersa (`scipy.sparse`) de tamaño `(n_samples, n_features)`, donde cada fila es la representación hash de la muestra original.\n",
    "\n",
    "##### argumentos de entrada principales\n",
    "\n",
    "- `n_features`: Número de columnas (buckets) de salida. Controla la dimensionalidad y la probabilidad de colisiones.\n",
    "- `input_type`: Tipo de entrada. Puede ser `'dict'`, `'pair'`, o `'string'`.\n",
    "- `alternate_sign`: Si es `True` (por defecto), alterna el signo de los valores para reducir el sesgo por colisiones.\n",
    "\n",
    "`FeatureHasher` de scikit-learn es una herramienta poderosa para convertir variables categóricas o texto en vectores numéricos de tamaño fijo, usando hashing eficiente y controlando la dimensionalidad, a costa de perder interpretabilidad y permitir colisiones controladas."
   ]
  },
  {
   "cell_type": "code",
   "execution_count": null,
   "metadata": {},
   "outputs": [],
   "source": [
    "## Ejemplo de uso\n",
    "from sklearn.feature_extraction import FeatureHasher\n",
    "\n",
    "# Supón que tienes una lista de diccionarios con variables categóricas\n",
    "data = [\n",
    "    {'color': 'red', 'shape': 'circle'},\n",
    "    {'color': 'blue', 'shape': 'square'},\n",
    "    {'color': 'green', 'shape': 'triangle'},\n",
    "    {'color': 'red', 'shape': 'square'}\n",
    "]\n",
    "data_df = pd.DataFrame(data)\n",
    "data_df"
   ]
  },
  {
   "cell_type": "code",
   "execution_count": null,
   "metadata": {},
   "outputs": [],
   "source": [
    "# Crear el hasher con 8 buckets\n",
    "\n",
    "# Transformar los datos\n",
    "\n",
    "# X es una matriz dispersa (sparse matrix)\n",
    "\n"
   ]
  },
  {
   "cell_type": "markdown",
   "metadata": {},
   "source": [
    "**MurmurHash3** es una función hash no criptográfica, rápida y eficiente, ampliamente utilizada para aplicaciones como hash tables y feature hashing. La versión de 32 bits produce un entero de 32 bits a partir de una cadena o secuencia de bytes.\n",
    "\n",
    "- **No criptográfica:** No es segura para aplicaciones de seguridad, pero es muy rápida y tiene baja tasa de colisiones para uso general.\n",
    "- **Determinística:** La misma entrada y semilla siempre producen el mismo hash.\n",
    "- **Uniformidad:** Distribuye los valores de hash de manera uniforme, lo que es ideal para hashing en estructuras de datos y machine learning.\n",
    "\n",
    "En scikit-learn y otras librerías, MurmurHash3 se usa internamente para convertir cadenas en índices de buckets de manera eficiente y reproducible.\n"
   ]
  },
  {
   "cell_type": "code",
   "execution_count": null,
   "metadata": {},
   "outputs": [],
   "source": [
    "from sklearn.utils.murmurhash import murmurhash3_32\n",
    "\n",
    "# Ejemplo: obtener el hash de una cadena\n",
    "valor = \"Mexico\"\n",
    "hash_val = murmurhash3_32(valor, seed=0)\n",
    "print(hash_val)"
   ]
  },
  {
   "cell_type": "code",
   "execution_count": null,
   "metadata": {
    "scrolled": true
   },
   "outputs": [],
   "source": [
    "help(murmurhash3_32)"
   ]
  },
  {
   "cell_type": "code",
   "execution_count": null,
   "metadata": {
    "executionInfo": {
     "elapsed": 130,
     "status": "ok",
     "timestamp": 1678849218431,
     "user": {
      "displayName": "Carlos Arellano",
      "userId": "03055712073717640513"
     },
     "user_tz": 360
    },
    "id": "D9cUAVRhMpOl"
   },
   "outputs": [],
   "source": [
    "# Función hash MurmurHash3 de 32 bits\n"
   ]
  },
  {
   "cell_type": "code",
   "execution_count": null,
   "metadata": {
    "id": "5b0d8r_IOS14"
   },
   "outputs": [],
   "source": [
    "#!pip install category-encoders"
   ]
  },
  {
   "cell_type": "markdown",
   "metadata": {},
   "source": [
    "#### Category Encoders"
   ]
  },
  {
   "cell_type": "code",
   "execution_count": null,
   "metadata": {
    "executionInfo": {
     "elapsed": 796,
     "status": "ok",
     "timestamp": 1678849673490,
     "user": {
      "displayName": "Carlos Arellano",
      "userId": "03055712073717640513"
     },
     "user_tz": 360
    },
    "id": "DjdhcBLJPEJ0"
   },
   "outputs": [],
   "source": [
    "#Usando category_encoders para dataset de países\n"
   ]
  },
  {
   "cell_type": "code",
   "execution_count": null,
   "metadata": {
    "colab": {
     "base_uri": "https://localhost:8080/",
     "height": 487
    },
    "executionInfo": {
     "elapsed": 570,
     "status": "ok",
     "timestamp": 1678849801908,
     "user": {
      "displayName": "Carlos Arellano",
      "userId": "03055712073717640513"
     },
     "user_tz": 360
    },
    "id": "N5U9CjN9PQTo",
    "outputId": "727a7e3b-dbec-49d7-af50-faa7cbf61218"
   },
   "outputs": [],
   "source": []
  },
  {
   "cell_type": "code",
   "execution_count": null,
   "metadata": {},
   "outputs": [],
   "source": []
  }
 ],
 "metadata": {
  "colab": {
   "authorship_tag": "ABX9TyOl+Q+QSL1faFdOmHvegRli",
   "mount_file_id": "1A_FCrK6iFGWmRTQOZNDLAZzqDxbkhk_s",
   "provenance": []
  },
  "kernelspec": {
   "display_name": "Python 3 (ipykernel)",
   "language": "python",
   "name": "python3"
  },
  "language_info": {
   "codemirror_mode": {
    "name": "ipython",
    "version": 3
   },
   "file_extension": ".py",
   "mimetype": "text/x-python",
   "name": "python",
   "nbconvert_exporter": "python",
   "pygments_lexer": "ipython3",
   "version": "3.12.7"
  }
 },
 "nbformat": 4,
 "nbformat_minor": 4
}
