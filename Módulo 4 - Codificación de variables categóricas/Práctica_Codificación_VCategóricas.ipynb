{
 "cells": [
  {
   "cell_type": "markdown",
   "id": "e9095d08",
   "metadata": {},
   "source": [
    "<img style=\"float: left;;\" src='Figures/iteso.jpg' width=\"100\" height=\"200\"/></a>\n",
    "\n",
    "# <center> <font color= #000047> Práctica Codificación de Variables Categóricas </font> </center>"
   ]
  },
  {
   "cell_type": "markdown",
   "id": "dcc220a1",
   "metadata": {},
   "source": [
    "Considerando el conjunto de datos `melb_data.csv` con sus características:\n",
    "\n",
    "- **Rooms:** Number of rooms\n",
    "\n",
    "- **Price:** Price in dollars\n",
    "\n",
    "- **Method:** S - property sold; SP - property sold prior; PI - property passed in; PN - sold prior not disclosed; SN - sold not disclosed; NB - no bid; VB - vendor bid; W - withdrawn prior to auction; SA - sold after auction; SS - sold after auction price not disclosed. N/A - price or highest bid not available.\n",
    "\n",
    "- **Type:** br - bedroom(s); h - house,cottage,villa, semi,terrace; u - unit, duplex; t - townhouse; dev site - development site; o res - other residential.\n",
    "\n",
    "- **SellerG:** Real Estate Agent\n",
    "\n",
    "- **Date:** Date sold\n",
    "\n",
    "- **Distance:** Distance from CBD\n",
    "\n",
    "- **Regionname:** General Region (West, North West, North, North east …etc)\n",
    "\n",
    "- **Propertycount:** Number of properties that exist in the suburb.\n",
    "\n",
    "- **Bedroom2 :** Scraped # of Bedrooms (from different source)\n",
    "\n",
    "- **Bathroom:** Number of Bathrooms\n",
    "\n",
    "- **Car:** Number of carspots\n",
    "\n",
    "- **Landsize:** Land Size\n",
    "\n",
    "- **BuildingArea:** Building Size\n",
    "\n",
    "- **CouncilArea:** Governing council for the area"
   ]
  },
  {
   "cell_type": "code",
   "execution_count": null,
   "id": "15feaa57",
   "metadata": {},
   "outputs": [],
   "source": [
    "import pandas as pd\n",
    "from sklearn.model_selection import train_test_split\n",
    "\n",
    "# Leyendo el dataset\n",
    "data = pd.read_csv('melb_data.csv')"
   ]
  },
  {
   "cell_type": "code",
   "execution_count": null,
   "id": "c4079a02-821c-41cf-a98a-978746a1b8a9",
   "metadata": {},
   "outputs": [],
   "source": [
    "data.head()"
   ]
  },
  {
   "cell_type": "code",
   "execution_count": null,
   "id": "30c1ee7c-8d18-4de6-97b7-3bc98843c91a",
   "metadata": {},
   "outputs": [],
   "source": [
    "data.info()"
   ]
  },
  {
   "cell_type": "code",
   "execution_count": null,
   "id": "cfedff87-ce03-4155-b814-0377787743d7",
   "metadata": {},
   "outputs": [],
   "source": [
    "categorical_cols = [cname for cname in data.columns if data[cname].dtype == \"object\"]\n",
    "categorical_cols"
   ]
  },
  {
   "cell_type": "code",
   "execution_count": null,
   "id": "3e42d207-f7b9-4eed-a33f-270fdc47483c",
   "metadata": {},
   "outputs": [],
   "source": [
    "for name in categorical_cols:\n",
    "    print(data[name].value_counts(), 'Valores unicos', data[name].nunique(), end='\\n\\n')"
   ]
  },
  {
   "cell_type": "code",
   "execution_count": null,
   "id": "886db1c8",
   "metadata": {},
   "outputs": [],
   "source": [
    "# separar las variables de predicción y la predicción\n",
    "y = data.Price\n",
    "X = data.drop(['Price'], axis=1)\n"
   ]
  },
  {
   "cell_type": "code",
   "execution_count": null,
   "id": "740c9b9f",
   "metadata": {},
   "outputs": [],
   "source": [
    "# Dividir los datos en entrenamiento y testeo\n",
    "X_train_full, X_test_full, y_train, y_test = train_test_split(X, y, train_size=0.8, test_size=0.2,\n",
    "                                                                random_state=0)"
   ]
  },
  {
   "cell_type": "markdown",
   "id": "a3728f0c",
   "metadata": {},
   "source": [
    "#### Limpiar el dataset"
   ]
  },
  {
   "cell_type": "code",
   "execution_count": null,
   "id": "c184b39a",
   "metadata": {},
   "outputs": [],
   "source": [
    "# Eliminar las columnas que tengan algún nan (el aproach más simple)\n",
    "cols_with_missing = [col for col in X_train_full.columns if X_train_full[col].isnull().any()] \n",
    "X_train_full.drop(cols_with_missing, axis=1, inplace=True)\n",
    "X_test_full.drop(cols_with_missing, axis=1, inplace=True)"
   ]
  },
  {
   "cell_type": "code",
   "execution_count": null,
   "id": "ab103046",
   "metadata": {},
   "outputs": [],
   "source": [
    "#Seleccionar las columnas categóricas con una pequeña cardinalidad (arbitrario) \n",
    "low_cardinality_cols = [cname for cname in X_train_full.columns if X_train_full[cname].nunique() < 10 and \n",
    "                        X_train_full[cname].dtype == \"object\"]\n",
    "\n",
    "# Seleccionar las columnas numéricas\n",
    "numerical_cols = [cname for cname in X_train_full.columns if X_train_full[cname].dtype in ['int64', 'float64']]"
   ]
  },
  {
   "cell_type": "code",
   "execution_count": null,
   "id": "78a21221-0abf-432b-a62c-b1c7dd5225d3",
   "metadata": {},
   "outputs": [],
   "source": [
    "low_cardinality_cols"
   ]
  },
  {
   "cell_type": "code",
   "execution_count": null,
   "id": "2abab4f4",
   "metadata": {},
   "outputs": [],
   "source": [
    "# Obtener las columnas seleccionadas\n",
    "my_cols = low_cardinality_cols + numerical_cols\n",
    "X_train = X_train_full[my_cols].copy()\n",
    "X_test = X_test_full[my_cols].copy()"
   ]
  },
  {
   "cell_type": "code",
   "execution_count": null,
   "id": "52a72590",
   "metadata": {},
   "outputs": [],
   "source": [
    "X_train.head(5)"
   ]
  },
  {
   "cell_type": "code",
   "execution_count": null,
   "id": "25446309",
   "metadata": {},
   "outputs": [],
   "source": [
    "# Obtener la lista de las variables categóricas\n",
    "s = (X_train.dtypes == 'object')\n",
    "object_cols = list(s[s].index)\n",
    "object_cols"
   ]
  },
  {
   "cell_type": "markdown",
   "id": "78e7ed99",
   "metadata": {},
   "source": [
    "Definimos una función `score_codification()` para comparar enfoques diferentes para tratar con variables categóricas. Esta función obtiene el error absoluto medio (**MAE**) de un modelo de RandomForest. "
   ]
  },
  {
   "cell_type": "code",
   "execution_count": null,
   "id": "23b2ffd8",
   "metadata": {},
   "outputs": [],
   "source": []
  },
  {
   "cell_type": "markdown",
   "id": "afdff91b-6f58-4bb0-8f80-757f00c383eb",
   "metadata": {},
   "source": [
    "Se desea obtener un valor de **MAE** lo más bajo posible."
   ]
  },
  {
   "cell_type": "markdown",
   "id": "6ac30462",
   "metadata": {},
   "source": [
    "#### 1.- Eliminando Variables Categóricas\n",
    "Elimine las variables categóricas de $X\\_train$ y $X\\_test$ y obtenga el MAE mediante la función `score_codification()`\n"
   ]
  },
  {
   "cell_type": "code",
   "execution_count": null,
   "id": "c6b60984",
   "metadata": {},
   "outputs": [],
   "source": [
    "# Eliminar variables categóricas\n"
   ]
  },
  {
   "cell_type": "markdown",
   "id": "c110135e",
   "metadata": {},
   "source": [
    "#### 2.- Codificación One-Hot.\n",
    "Aplique una codificación One-Hot a las variables categóricas y obtenga el MAE mediante la función `score_codification()`\n"
   ]
  },
  {
   "cell_type": "code",
   "execution_count": null,
   "id": "4ae61a6e",
   "metadata": {},
   "outputs": [],
   "source": [
    "# One-hot encoding\n",
    "\n"
   ]
  },
  {
   "cell_type": "code",
   "execution_count": null,
   "id": "fd8f0715-ec88-425f-9b03-67c1eca8293e",
   "metadata": {},
   "outputs": [],
   "source": []
  },
  {
   "cell_type": "markdown",
   "id": "af688890",
   "metadata": {},
   "source": [
    "#### 3.- Codificación por Conteos\n",
    "Aplique una codificación por $conteos$ o $frecuencias$ de categorías a las variables categóricas y obtenga el MAE mediante la función `score_codification()`. **¿En qué casos puede ser útil este tipo de codificación?**"
   ]
  },
  {
   "cell_type": "code",
   "execution_count": null,
   "id": "9073b697-2d8e-4e0d-b141-c4e730d021d6",
   "metadata": {},
   "outputs": [],
   "source": []
  },
  {
   "cell_type": "code",
   "execution_count": null,
   "id": "ea5f944d-fb7e-4122-b9d7-378f6f4c9040",
   "metadata": {},
   "outputs": [],
   "source": []
  }
 ],
 "metadata": {
  "kernelspec": {
   "display_name": "Python 3 (ipykernel)",
   "language": "python",
   "name": "python3"
  },
  "language_info": {
   "codemirror_mode": {
    "name": "ipython",
    "version": 3
   },
   "file_extension": ".py",
   "mimetype": "text/x-python",
   "name": "python",
   "nbconvert_exporter": "python",
   "pygments_lexer": "ipython3",
   "version": "3.12.7"
  }
 },
 "nbformat": 4,
 "nbformat_minor": 5
}
