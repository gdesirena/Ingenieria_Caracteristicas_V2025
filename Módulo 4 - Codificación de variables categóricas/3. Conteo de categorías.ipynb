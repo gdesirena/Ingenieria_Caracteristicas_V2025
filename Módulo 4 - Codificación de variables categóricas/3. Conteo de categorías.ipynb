{
 "cells": [
  {
   "cell_type": "markdown",
   "metadata": {},
   "source": [
    "<img style=\"float: left;;\" src='Figures/iteso.jpg' width=\"100\" height=\"200\"/></a>\n",
    "\n",
    "# <center> <font color= #000047> 3.- Conteo de categorías </font> </center>"
   ]
  },
  {
   "cell_type": "code",
   "execution_count": null,
   "metadata": {
    "executionInfo": {
     "elapsed": 2191,
     "status": "ok",
     "timestamp": 1678244039491,
     "user": {
      "displayName": "Carlos Arellano",
      "userId": "03055712073717640513"
     },
     "user_tz": 360
    },
    "id": "nWi6ATDXvYXT"
   },
   "outputs": [],
   "source": [
    "import pandas as pd\n",
    "import numpy as np\n",
    "\n",
    "data=pd.read_csv('temps.txt',sep='\\s+',header=None) # Fuente: http://astro.iam.udg.mx/Estacion/NOAAPRMO.TXT\n",
    "                                                         #         http://astro.iam.udg.mx/Estacion/NOAAMO.TXT\n",
    "data.columns=['Temperatura máxima','Temperatura mínima','HDD','CDD','Rain']\n",
    "d=['Sábado','Domingo','Lunes','Martes','Miércoles','Jueves','Viernes']\n",
    "dias=[d[i%7] for i in range(len(data))]\n",
    "catego=['Soleado','Mayormente soleado','Parcialmente nublado','Mayormente nublado','Nublado','Lluvioso']\n",
    "prono=[catego[-1] if data['Rain'][i]>0 else catego[int(round(1.2*(data['HDD'][i]-data['CDD'][i])+2))] for i in range(len(data))]\n",
    "df=pd.DataFrame(columns=['Días','Pronóstico','Temperatura máxima','Temperatura mínima'],index=range(len(data)))\n",
    "df.iloc[:,2:4]=data.iloc[:,0:2]\n",
    "df['Días']=dias\n",
    "df['Pronóstico']=prono\n",
    "\n",
    "txt1=\"Pedro Perez Pereira, pobre pintor portuguez, pinta preciosos paisajes para poder partir para Paris.\"\n",
    "txt2=\"Preciosos gatos y perros con mancha quiero. Partir de izquierda a derecha para poder llegar a algun lugar.\"\n",
    "txt3=\"En un lugar de la Mancha, cuyo nombre no quiero acordarme...\""
   ]
  },
  {
   "cell_type": "code",
   "execution_count": null,
   "metadata": {
    "colab": {
     "base_uri": "https://localhost:8080/",
     "height": 206
    },
    "executionInfo": {
     "elapsed": 804,
     "status": "ok",
     "timestamp": 1678244054001,
     "user": {
      "displayName": "Carlos Arellano",
      "userId": "03055712073717640513"
     },
     "user_tz": 360
    },
    "id": "Nxcr6RIkvmiq",
    "outputId": "f3bdfa65-d0e4-4efd-85cb-559f29a9f20e"
   },
   "outputs": [],
   "source": [
    "df.head()"
   ]
  },
  {
   "cell_type": "code",
   "execution_count": null,
   "metadata": {},
   "outputs": [],
   "source": [
    "#Cardinalidad de `Pronóstico`\n"
   ]
  },
  {
   "cell_type": "code",
   "execution_count": null,
   "metadata": {
    "colab": {
     "base_uri": "https://localhost:8080/"
    },
    "executionInfo": {
     "elapsed": 198,
     "status": "ok",
     "timestamp": 1678244231211,
     "user": {
      "displayName": "Carlos Arellano",
      "userId": "03055712073717640513"
     },
     "user_tz": 360
    },
    "id": "-qbDalm5I__Q",
    "outputId": "f6fec15e-fe15-4350-a680-cbef26530ba7"
   },
   "outputs": [],
   "source": []
  },
  {
   "cell_type": "code",
   "execution_count": null,
   "metadata": {
    "colab": {
     "base_uri": "https://localhost:8080/",
     "height": 206
    },
    "executionInfo": {
     "elapsed": 267,
     "status": "ok",
     "timestamp": 1678244264415,
     "user": {
      "displayName": "Carlos Arellano",
      "userId": "03055712073717640513"
     },
     "user_tz": 360
    },
    "id": "NgyPw_KaJrW_",
    "outputId": "d030e46e-b4ea-4bb2-cc18-ad27c7c1e768"
   },
   "outputs": [],
   "source": [
    "#Creación de la nueva variable con el conteo\n"
   ]
  },
  {
   "cell_type": "code",
   "execution_count": null,
   "metadata": {
    "colab": {
     "base_uri": "https://localhost:8080/",
     "height": 206
    },
    "executionInfo": {
     "elapsed": 174,
     "status": "ok",
     "timestamp": 1678244387885,
     "user": {
      "displayName": "Carlos Arellano",
      "userId": "03055712073717640513"
     },
     "user_tz": 360
    },
    "id": "BBu_OIINJzck",
    "outputId": "c78e0fc7-d2a5-40b6-a94c-39d239f56844"
   },
   "outputs": [],
   "source": [
    "#probabilidad de aparición de la categoría\n"
   ]
  },
  {
   "cell_type": "code",
   "execution_count": null,
   "metadata": {},
   "outputs": [],
   "source": [
    "#Prob. con value_conts\n"
   ]
  },
  {
   "cell_type": "markdown",
   "metadata": {
    "id": "AUrIh7DkvqvM"
   },
   "source": [
    "# Bag of words"
   ]
  },
  {
   "cell_type": "code",
   "execution_count": null,
   "metadata": {
    "executionInfo": {
     "elapsed": 1130,
     "status": "ok",
     "timestamp": 1678244527588,
     "user": {
      "displayName": "Carlos Arellano",
      "userId": "03055712073717640513"
     },
     "user_tz": 360
    },
    "id": "cWwfagxFvsOd"
   },
   "outputs": [],
   "source": [
    "#CountVectorizer con sklearn\n"
   ]
  },
  {
   "cell_type": "code",
   "execution_count": null,
   "metadata": {},
   "outputs": [],
   "source": [
    "#Texto 1\n"
   ]
  },
  {
   "cell_type": "code",
   "execution_count": null,
   "metadata": {},
   "outputs": [],
   "source": [
    "#Texto 2\n"
   ]
  },
  {
   "cell_type": "code",
   "execution_count": null,
   "metadata": {},
   "outputs": [],
   "source": [
    "#Texto 3\n"
   ]
  },
  {
   "cell_type": "code",
   "execution_count": null,
   "metadata": {
    "colab": {
     "base_uri": "https://localhost:8080/"
    },
    "executionInfo": {
     "elapsed": 166,
     "status": "ok",
     "timestamp": 1678244617767,
     "user": {
      "displayName": "Carlos Arellano",
      "userId": "03055712073717640513"
     },
     "user_tz": 360
    },
    "id": "aV3g3Q8uvs8w",
    "outputId": "5afaf13f-d369-4f9f-d00c-f9700ff93ab4"
   },
   "outputs": [],
   "source": []
  },
  {
   "cell_type": "code",
   "execution_count": null,
   "metadata": {
    "colab": {
     "base_uri": "https://localhost:8080/"
    },
    "executionInfo": {
     "elapsed": 169,
     "status": "ok",
     "timestamp": 1678244795199,
     "user": {
      "displayName": "Carlos Arellano",
      "userId": "03055712073717640513"
     },
     "user_tz": 360
    },
    "id": "DgkFtuayLJvX",
    "outputId": "ff8e254e-d9f9-4895-e908-316a2f603793"
   },
   "outputs": [],
   "source": [
    "#contador.get_feature_names_out()\n",
    "# En NLP ----> vocabulario\n"
   ]
  },
  {
   "cell_type": "code",
   "execution_count": null,
   "metadata": {
    "colab": {
     "base_uri": "https://localhost:8080/",
     "height": 236
    },
    "executionInfo": {
     "elapsed": 183,
     "status": "ok",
     "timestamp": 1678244911911,
     "user": {
      "displayName": "Carlos Arellano",
      "userId": "03055712073717640513"
     },
     "user_tz": 360
    },
    "id": "RR-ihJ4WLy-_",
    "outputId": "cd90045d-34d6-4c36-f7b9-9a6416e7714f"
   },
   "outputs": [],
   "source": [
    "#Matriz de frecuencias\n"
   ]
  },
  {
   "cell_type": "markdown",
   "metadata": {},
   "source": [
    "### Conteo de Frecuencias en Análisis de Sentimientos con Bag of Words"
   ]
  },
  {
   "cell_type": "markdown",
   "metadata": {},
   "source": [
    "El uso de conteo de frecuencias (Bag of Words) permite transformar texto en variables numéricas útiles para algoritmos de análisis de sentimientos."
   ]
  },
  {
   "cell_type": "code",
   "execution_count": null,
   "metadata": {},
   "outputs": [],
   "source": [
    "import pandas as pd\n",
    "\n",
    "data = {\n",
    "    'review': [\n",
    "        'Me encantó la película, fue excelente y divertida',\n",
    "        'Horrible, no me gustó nada',\n",
    "        'Muy buena actuación y gran historia',\n",
    "        'Pésima, aburrida y larga',\n",
    "        'Excelente, la mejor que he visto',\n",
    "        'No la recomiendo, fue una pérdida de tiempo'\n",
    "    ],\n",
    "    'sentiment': [1, 0, 1, 0, 1, 0]\n",
    "}\n",
    "df = pd.DataFrame(data)\n",
    "df"
   ]
  },
  {
   "cell_type": "code",
   "execution_count": null,
   "metadata": {},
   "outputs": [],
   "source": [
    "# Bag of Words con conteo de frecuencias\n"
   ]
  },
  {
   "cell_type": "code",
   "execution_count": null,
   "metadata": {},
   "outputs": [],
   "source": [
    "#Entrenamos un modelo de regresión logística \n",
    "\n",
    "# Modelo con conteo de frecuencias\n"
   ]
  },
  {
   "cell_type": "code",
   "execution_count": null,
   "metadata": {},
   "outputs": [],
   "source": [
    "df2 = pd.DataFrame({\n",
    "    'review': [\n",
    "        'excelente excelente excelente me encantó',\n",
    "        'mala mala mala experiencia',\n",
    "        'buena buena historia',\n",
    "        'horrible horrible no la recomiendo',\n",
    "        'excelente actuación excelente película',\n",
    "        'no me gustó nada nada nada'\n",
    "    ],\n",
    "    'sentiment': [1, 0, 1, 0, 1, 0]\n",
    "})\n"
   ]
  },
  {
   "cell_type": "code",
   "execution_count": null,
   "metadata": {},
   "outputs": [],
   "source": [
    "# Bag of Words con conteo de frecuencias\n",
    "X2_freq = vectorizer_freq.fit_transform(df2['review'])\n",
    "df2_freq = pd.DataFrame(X2_freq.toarray(), columns=vectorizer_freq.get_feature_names_out())\n",
    "df2_freq"
   ]
  },
  {
   "cell_type": "markdown",
   "metadata": {
    "id": "Me-L9ctwvtnF"
   },
   "source": [
    "### n-grams"
   ]
  },
  {
   "cell_type": "code",
   "execution_count": null,
   "metadata": {},
   "outputs": [],
   "source": [
    "help(CountVectorizer)"
   ]
  },
  {
   "cell_type": "code",
   "execution_count": null,
   "metadata": {
    "colab": {
     "base_uri": "https://localhost:8080/",
     "height": 254
    },
    "executionInfo": {
     "elapsed": 174,
     "status": "ok",
     "timestamp": 1678245233381,
     "user": {
      "displayName": "Carlos Arellano",
      "userId": "03055712073717640513"
     },
     "user_tz": 360
    },
    "id": "BAA46ierMe8n",
    "outputId": "b7130b35-c3de-4dbd-c8fa-a3e2d1d854f9"
   },
   "outputs": [],
   "source": [
    "#2-Gramas\n",
    "\n"
   ]
  },
  {
   "cell_type": "markdown",
   "metadata": {},
   "source": [
    "#### Otros casos de uso del conteo de frecuencias en variables categóricas\n",
    "\n",
    "- **Detección de valores atípicos o categorías raras:** Las categorías con baja frecuencia pueden ser agrupadas como \"otros\" o tratadas de forma especial.\n",
    "- **Modelos de scoring crediticio:** En variables como ocupación, ciudad o producto, el conteo de frecuencia ayuda a reducir la dimensionalidad y a identificar categorías relevantes.\n",
    "- **Sistemas de recomendación:** El conteo de frecuencia de productos, géneros o autores puede ser útil como variable de entrada para modelos de recomendación.\n",
    "- **Análisis de churn o abandono:** La frecuencia de ciertas acciones o categorías (por ejemplo, tipo de queja, canal de contacto) puede ser predictiva del abandono de clientes.\n",
    "- **Preprocesamiento para modelos de árboles:** Los algoritmos como Random Forest o XGBoost pueden beneficiarse del conteo de frecuencia en lugar de One-Hot cuando hay muchas categorías.\n",
    "- **Agrupación de categorías poco frecuentes:** Permite identificar y agrupar categorías poco representadas para evitar ruido en el modelo."
   ]
  },
  {
   "cell_type": "code",
   "execution_count": null,
   "metadata": {},
   "outputs": [],
   "source": []
  }
 ],
 "metadata": {
  "colab": {
   "authorship_tag": "ABX9TyNC+Jim04VX4mvOK9BJVpGc",
   "mount_file_id": "1lU37d4ao3hMs-MWc2XJKvimD6E4rns4W",
   "provenance": []
  },
  "kernelspec": {
   "display_name": "Python 3 (ipykernel)",
   "language": "python",
   "name": "python3"
  },
  "language_info": {
   "codemirror_mode": {
    "name": "ipython",
    "version": 3
   },
   "file_extension": ".py",
   "mimetype": "text/x-python",
   "name": "python",
   "nbconvert_exporter": "python",
   "pygments_lexer": "ipython3",
   "version": "3.12.7"
  }
 },
 "nbformat": 4,
 "nbformat_minor": 4
}
