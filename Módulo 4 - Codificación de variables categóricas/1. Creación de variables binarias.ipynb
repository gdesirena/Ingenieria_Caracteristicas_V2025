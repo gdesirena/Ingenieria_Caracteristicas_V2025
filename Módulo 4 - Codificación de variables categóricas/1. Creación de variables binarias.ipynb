{
 "cells": [
  {
   "cell_type": "markdown",
   "metadata": {},
   "source": [
    "<img style=\"float: left;;\" src='Figures/iteso.jpg' width=\"100\" height=\"200\"/></a>\n",
    "\n",
    "# <center> <font color= #000047> 1.- Creación de Variables Binarias </font> </center>"
   ]
  },
  {
   "cell_type": "markdown",
   "metadata": {},
   "source": [
    "En ciencia de datos y machine learning, muchas veces los modelos requieren que todas las variables sean numéricas. Sin embargo, en la práctica, es común encontrar variables categóricas (por ejemplo, color, país, tipo de producto). Por ello, es necesario transformar estas variables en representaciones numéricas mediante técnicas de codificación adecuadas."
   ]
  },
  {
   "cell_type": "markdown",
   "metadata": {},
   "source": [
    "Las variables binarias son aquellas que solo pueden tomar dos valores posibles, como 0/1, Sí/No, Verdadero/Falso, etc. En ciencia de datos y machine learning, es fundamental codificar correctamente estas variables para que los algoritmos puedan interpretarlas y aprovechar su información.\n"
   ]
  },
  {
   "cell_type": "code",
   "execution_count": null,
   "metadata": {
    "executionInfo": {
     "elapsed": 2249,
     "status": "ok",
     "timestamp": 1677634684664,
     "user": {
      "displayName": "Carlos Arellano",
      "userId": "03055712073717640513"
     },
     "user_tz": 360
    },
    "id": "U77KJF45osqp"
   },
   "outputs": [],
   "source": [
    "import pandas as pd\n",
    "import numpy as np\n",
    "from sklearn.linear_model import LinearRegression"
   ]
  },
  {
   "cell_type": "code",
   "execution_count": null,
   "metadata": {
    "colab": {
     "base_uri": "https://localhost:8080/",
     "height": 206
    },
    "executionInfo": {
     "elapsed": 5,
     "status": "ok",
     "timestamp": 1677634684664,
     "user": {
      "displayName": "Carlos Arellano",
      "userId": "03055712073717640513"
     },
     "user_tz": 360
    },
    "id": "ncOXnUQOo7zq",
    "outputId": "4016eec8-5f23-48b9-ae56-5d0ef65e5a2c"
   },
   "outputs": [],
   "source": [
    "#Dataset de ejemplo\n",
    "np.random.seed(1)\n",
    "categorías=['Guadalajara','Zapopan','Ciudad de México','Monterrey','Morelia','Mexicali']\n",
    "ponderación=[1/4,1/5,1/4,7/40,1/20,3/40]\n",
    "limites=[(3500,6000),(3000,12000),(4000,18000),(3000,6000),(2000,5000),(3500,5000)]\n",
    "ciudad=np.random.choice(categorías,size=20,p=ponderación)\n",
    "rentas=[]\n",
    "for c in ciudad:\n",
    "    rentas.append(np.random.randint(*limites[categorías.index(c)]))\n",
    "df=pd.DataFrame()\n",
    "df['Rentas']=rentas\n",
    "df['Ciudad']=ciudad\n",
    "df.head()"
   ]
  },
  {
   "cell_type": "markdown",
   "metadata": {
    "id": "jjCj0l1mo-bf"
   },
   "source": [
    "# Codificación One-Hot"
   ]
  },
  {
   "cell_type": "markdown",
   "metadata": {},
   "source": [
    "Aunque el one-hot encoding se utiliza principalmente para variables categóricas con más de dos categorías, también puede aplicarse a variables binarias. Consiste en crear una columna para cada valor posible, asignando 1 si la observación pertenece a esa categoría y 0 en caso contrario.\n",
    "\n",
    "El uso de la codificación one-hot es especialmente útil cuando no hay un orden inherente en las categorías y todas las categorías son igualmente importantes. Esto es común en variables categóricas como el género, el estado civil, la región geográfica, entre otros.\n"
   ]
  },
  {
   "cell_type": "code",
   "execution_count": null,
   "metadata": {
    "id": "QsPj7KDepAE9",
    "scrolled": true
   },
   "outputs": [],
   "source": [
    "# Codifica todas las variables categóricas"
   ]
  },
  {
   "cell_type": "code",
   "execution_count": null,
   "metadata": {
    "id": "ute9rsDQ1BqA",
    "scrolled": true
   },
   "outputs": [],
   "source": [
    "# No agrega el prefijo"
   ]
  },
  {
   "cell_type": "code",
   "execution_count": null,
   "metadata": {
    "id": "e4bKBb171SmY",
    "scrolled": true
   },
   "outputs": [],
   "source": [
    "# Codifica solo 'Ciudad' (Agrega el prefijo)"
   ]
  },
  {
   "cell_type": "code",
   "execution_count": null,
   "metadata": {
    "colab": {
     "base_uri": "https://localhost:8080/",
     "height": 112
    },
    "executionInfo": {
     "elapsed": 342,
     "status": "ok",
     "timestamp": 1677635245535,
     "user": {
      "displayName": "Carlos Arellano",
      "userId": "03055712073717640513"
     },
     "user_tz": 360
    },
    "id": "WWNgaKK_1oHv",
    "outputId": "171fbe0a-4476-4c72-bade-3a4224d4b822"
   },
   "outputs": [],
   "source": [
    "# Especificamos el prefijo\n"
   ]
  },
  {
   "cell_type": "markdown",
   "metadata": {},
   "source": [
    "### One-hot encoding con Scikit-learn"
   ]
  },
  {
   "cell_type": "markdown",
   "metadata": {},
   "source": [
    "La librería `scikit-learn` también permite realizar one-hot encoding de manera eficiente usando la clase `OneHotEncoder`. Es especialmente útil cuando se trabaja con pipelines o datos para modelos de machine learning.\n"
   ]
  },
  {
   "cell_type": "code",
   "execution_count": null,
   "metadata": {},
   "outputs": [],
   "source": [
    "#from sklearn.preprocessing import OneHotEncoder \n",
    "from sklearn.preprocessing import OneHotEncoder\n",
    "\n",
    "df_ejemplo = pd.DataFrame({'Color': ['Rojo', 'Azul', 'Verde', 'Azul', 'Rojo']})\n",
    "encoder = OneHotEncoder(sparse_output=False)\n",
    "onehot = encoder.fit_transform(df_ejemplo[['Color']])\n",
    "df_onehot_sklearn = pd.DataFrame(onehot, columns=encoder.get_feature_names_out(['Color']))\n",
    "df_onehot_sklearn"
   ]
  },
  {
   "cell_type": "code",
   "execution_count": null,
   "metadata": {},
   "outputs": [],
   "source": [
    "#Ejemplo: credit aproval\n",
    "data = pd.read_csv(\"credit_approval_uci.csv\")\n",
    "data.head()"
   ]
  },
  {
   "cell_type": "code",
   "execution_count": null,
   "metadata": {},
   "outputs": [],
   "source": [
    "#codificación conscikit-learn\n",
    "encoder = OneHotEncoder(sparse_output=False)"
   ]
  },
  {
   "cell_type": "code",
   "execution_count": null,
   "metadata": {},
   "outputs": [],
   "source": []
  },
  {
   "cell_type": "code",
   "execution_count": null,
   "metadata": {},
   "outputs": [],
   "source": [
    "#Transformamos a un dataframe\n",
    "\n",
    "# agregamos el nombre de las variables categoricas encodeadas\n"
   ]
  },
  {
   "cell_type": "code",
   "execution_count": null,
   "metadata": {},
   "outputs": [],
   "source": [
    "#Concatenamos con los datos numéricos\n",
    "\n",
    "# Drop variables categoricas\n"
   ]
  },
  {
   "cell_type": "markdown",
   "metadata": {},
   "source": [
    "### Ventajas de la Codificación One-Hot\n",
    "\n",
    "**Preservación de la Información:** Mantiene la distintividad de las etiquetas sin implicar ninguna ordinalidad.\n",
    "\n",
    "**Compatibilidad:** Proporciona una representación numérica de los datos categóricos, lo que la hace adecuada para muchos algoritmos de aprendizaje automático.\n",
    "\n",
    "### Casos de Uso\n",
    "\n",
    "**Datos Categóricos Nominales:** \n",
    "\n",
    "**Modelos de Aprendizaje Automático:** Es particularmente beneficiosa para algoritmos que no pueden manejar datos categóricos directamente, como la regresión lineal, regresión logística y redes neuronales.\n",
    "\n",
    "**Manejo de Valores Faltantes:** La codificación one-hot maneja eficientemente los valores faltantes. Si una categoría está ausente, resulta en todos ceros en las columnas codificadas, lo cual puede ser útil para ciertos modelos de ML.\n",
    "\n",
    "### Desafíos de la Codificación One-Hot\n",
    "\n",
    "**Aumento de la Dimensionalidad:** Puede llevar a un alto número de nuevas columnas (dimensiones) en tu conjunto de datos, aumentando la complejidad computacional y los requerimientos de almacenamiento.\n",
    "\n",
    "**Multicolinealidad:** Las nuevas columnas binarias creadas pueden estar correlacionadas, lo que puede ser problemático para algunos modelos que asumen independencia entre las características.\n",
    "\n",
    "**Esparsidad de Datos:** La codificación one-hot puede resultar en matrices dispersas donde la mayoría de las entradas son ceros, lo que puede ser ineficiente en memoria y afectar el rendimiento del modelo.\n"
   ]
  },
  {
   "cell_type": "markdown",
   "metadata": {
    "id": "qZu4B3wxpARv"
   },
   "source": [
    "# Codificación Ficticia"
   ]
  },
  {
   "cell_type": "markdown",
   "metadata": {},
   "source": [
    "La codificación ficticia es similar al one-hot, pero elimina una de las columnas para evitar multicolinealidad (trampa de las variables ficticias). Para variables binarias, basta con una columna que indique la presencia (1) o ausencia (0) de una de las categorías."
   ]
  },
  {
   "cell_type": "code",
   "execution_count": null,
   "metadata": {
    "colab": {
     "base_uri": "https://localhost:8080/",
     "height": 112
    },
    "executionInfo": {
     "elapsed": 201,
     "status": "ok",
     "timestamp": 1677635331960,
     "user": {
      "displayName": "Carlos Arellano",
      "userId": "03055712073717640513"
     },
     "user_tz": 360
    },
    "id": "vWMtkNZLpCk7",
    "outputId": "125eebcf-bd14-4940-afbd-b2a18fd3162e"
   },
   "outputs": [],
   "source": []
  },
  {
   "cell_type": "code",
   "execution_count": null,
   "metadata": {},
   "outputs": [],
   "source": [
    "df"
   ]
  },
  {
   "cell_type": "code",
   "execution_count": null,
   "metadata": {},
   "outputs": [],
   "source": [
    "#Buscar donde 'Ciudad' es CDMX\n"
   ]
  },
  {
   "cell_type": "code",
   "execution_count": null,
   "metadata": {
    "colab": {
     "base_uri": "https://localhost:8080/",
     "height": 35
    },
    "executionInfo": {
     "elapsed": 4,
     "status": "ok",
     "timestamp": 1677635438813,
     "user": {
      "displayName": "Carlos Arellano",
      "userId": "03055712073717640513"
     },
     "user_tz": 360
    },
    "id": "40mxV9DD29Nx",
    "outputId": "776097e1-70c8-47ef-c2a5-93f3d16fce92"
   },
   "outputs": [],
   "source": []
  },
  {
   "cell_type": "markdown",
   "metadata": {},
   "source": [
    "**Codificación Ficticia con Scikit-learn**"
   ]
  },
  {
   "cell_type": "code",
   "execution_count": null,
   "metadata": {},
   "outputs": [],
   "source": [
    "#instanciar el objeto de la clase OneHotEncoder\n"
   ]
  },
  {
   "cell_type": "code",
   "execution_count": null,
   "metadata": {},
   "outputs": [],
   "source": [
    "#Transformar las variables categoricas\n"
   ]
  },
  {
   "cell_type": "code",
   "execution_count": null,
   "metadata": {},
   "outputs": [],
   "source": [
    "#Transformamos a un dataframe\n"
   ]
  },
  {
   "cell_type": "markdown",
   "metadata": {
    "id": "7eUgt6JLpDAa"
   },
   "source": [
    "# Codificación de Efectos"
   ]
  },
  {
   "cell_type": "markdown",
   "metadata": {},
   "source": [
    "- La categoría de referencia ahora está representada por el vector cuyos elementos son todos –1.\n",
    "- Da lugar a modelos únicos e interpretables.\n",
    "- El vector de todos los –1 es un vector denso, que resulta costoso tanto para el almacenamiento como para el cálculo."
   ]
  },
  {
   "cell_type": "code",
   "execution_count": null,
   "metadata": {
    "colab": {
     "base_uri": "https://localhost:8080/"
    },
    "executionInfo": {
     "elapsed": 164,
     "status": "ok",
     "timestamp": 1677635683927,
     "user": {
      "displayName": "Carlos Arellano",
      "userId": "03055712073717640513"
     },
     "user_tz": 360
    },
    "id": "BY18DbMxpFOg",
    "outputId": "26d8738e-ba5f-42e5-fc71-87d4f7f8e2a8"
   },
   "outputs": [],
   "source": [
    "#generar la codificación de efectos\n"
   ]
  },
  {
   "cell_type": "code",
   "execution_count": null,
   "metadata": {
    "colab": {
     "base_uri": "https://localhost:8080/",
     "height": 363
    },
    "executionInfo": {
     "elapsed": 174,
     "status": "ok",
     "timestamp": 1677635769444,
     "user": {
      "displayName": "Carlos Arellano",
      "userId": "03055712073717640513"
     },
     "user_tz": 360
    },
    "id": "21l7aY914T54",
    "outputId": "fa4f7312-c3f2-40a3-fa90-db5f27afddbf"
   },
   "outputs": [],
   "source": []
  },
  {
   "cell_type": "markdown",
   "metadata": {
    "id": "vsKZ0icLpHJF"
   },
   "source": [
    "# Regresión lineal"
   ]
  },
  {
   "cell_type": "markdown",
   "metadata": {},
   "source": [
    "En modelos de regresión lineal, las variables binarias suelen codificarse como 0 y 1. Esto permite interpretar el coeficiente como el efecto promedio de pertenecer a la categoría 1 respecto a la categoría 0."
   ]
  },
  {
   "cell_type": "markdown",
   "metadata": {},
   "source": [
    "### Reg lineal con OneHot"
   ]
  },
  {
   "cell_type": "code",
   "execution_count": null,
   "metadata": {},
   "outputs": [],
   "source": [
    "#Basado en la codificación One-Hot\n"
   ]
  },
  {
   "cell_type": "code",
   "execution_count": null,
   "metadata": {
    "colab": {
     "base_uri": "https://localhost:8080/"
    },
    "executionInfo": {
     "elapsed": 169,
     "status": "ok",
     "timestamp": 1677636855048,
     "user": {
      "displayName": "Carlos Arellano",
      "userId": "03055712073717640513"
     },
     "user_tz": 360
    },
    "id": "hcpa2aVDpJob",
    "outputId": "94e73aa6-b01c-469d-e7ad-934f3d0f9480"
   },
   "outputs": [],
   "source": [
    "#Obtenemos una regresión lineal apartir de la transformación OH\n"
   ]
  },
  {
   "cell_type": "code",
   "execution_count": null,
   "metadata": {
    "colab": {
     "base_uri": "https://localhost:8080/"
    },
    "executionInfo": {
     "elapsed": 190,
     "status": "ok",
     "timestamp": 1677636861989,
     "user": {
      "displayName": "Carlos Arellano",
      "userId": "03055712073717640513"
     },
     "user_tz": 360
    },
    "id": "vGc72hkg8uLh",
    "outputId": "4544585a-109c-48ad-a2a8-0e882f69b2a0"
   },
   "outputs": [],
   "source": []
  },
  {
   "cell_type": "code",
   "execution_count": null,
   "metadata": {
    "colab": {
     "base_uri": "https://localhost:8080/"
    },
    "executionInfo": {
     "elapsed": 166,
     "status": "ok",
     "timestamp": 1677636869842,
     "user": {
      "displayName": "Carlos Arellano",
      "userId": "03055712073717640513"
     },
     "user_tz": 360
    },
    "id": "rrUZvmfR8v3o",
    "outputId": "ef5dd42d-556a-4a6d-89a5-da57ade73d74"
   },
   "outputs": [],
   "source": []
  },
  {
   "cell_type": "markdown",
   "metadata": {},
   "source": [
    "$$ \\hat{y} = a1*x_1 + a2*x_2 + ... + a5*x_5 + a0$$"
   ]
  },
  {
   "cell_type": "code",
   "execution_count": null,
   "metadata": {
    "colab": {
     "base_uri": "https://localhost:8080/",
     "height": 237
    },
    "executionInfo": {
     "elapsed": 189,
     "status": "ok",
     "timestamp": 1677637002635,
     "user": {
      "displayName": "Carlos Arellano",
      "userId": "03055712073717640513"
     },
     "user_tz": 360
    },
    "id": "Plzs7d4U8xyo",
    "outputId": "10dc6b36-af18-46cd-dafa-aab946ffde48"
   },
   "outputs": [],
   "source": []
  },
  {
   "cell_type": "code",
   "execution_count": null,
   "metadata": {
    "colab": {
     "base_uri": "https://localhost:8080/"
    },
    "executionInfo": {
     "elapsed": 173,
     "status": "ok",
     "timestamp": 1677637029992,
     "user": {
      "displayName": "Carlos Arellano",
      "userId": "03055712073717640513"
     },
     "user_tz": 360
    },
    "id": "IHXisvML9SNQ",
    "outputId": "393a65c5-4c8d-489a-b35b-933d7f687a35"
   },
   "outputs": [],
   "source": []
  },
  {
   "cell_type": "code",
   "execution_count": null,
   "metadata": {
    "colab": {
     "base_uri": "https://localhost:8080/",
     "height": 237
    },
    "executionInfo": {
     "elapsed": 269,
     "status": "ok",
     "timestamp": 1677637181992,
     "user": {
      "displayName": "Carlos Arellano",
      "userId": "03055712073717640513"
     },
     "user_tz": 360
    },
    "id": "7T2eg-z79Y4g",
    "outputId": "aafaa39c-c541-4bfd-cdf6-5502a8f66ddd"
   },
   "outputs": [],
   "source": []
  },
  {
   "cell_type": "code",
   "execution_count": null,
   "metadata": {
    "colab": {
     "base_uri": "https://localhost:8080/"
    },
    "executionInfo": {
     "elapsed": 199,
     "status": "ok",
     "timestamp": 1677637193633,
     "user": {
      "displayName": "Carlos Arellano",
      "userId": "03055712073717640513"
     },
     "user_tz": 360
    },
    "id": "Vh-g6UrY94ni",
    "outputId": "bf752300-0a49-4dc5-c279-6e7859935a5b"
   },
   "outputs": [],
   "source": []
  },
  {
   "cell_type": "markdown",
   "metadata": {
    "id": "Uo5HTN2L-OHq"
   },
   "source": [
    "**Para la codificación One-Hot, en una regresión lineal, la intersección es el promedio de los valores promedios de las rentas de cada categoría. Los coeficientes son el resultante de la resta entre el promedio de las categorías y el promedio general.**"
   ]
  },
  {
   "cell_type": "markdown",
   "metadata": {},
   "source": [
    "### Reg lineal con Codificación Ficticia"
   ]
  },
  {
   "cell_type": "code",
   "execution_count": null,
   "metadata": {
    "colab": {
     "base_uri": "https://localhost:8080/"
    },
    "executionInfo": {
     "elapsed": 312,
     "status": "ok",
     "timestamp": 1677637554190,
     "user": {
      "displayName": "Carlos Arellano",
      "userId": "03055712073717640513"
     },
     "user_tz": 360
    },
    "id": "PRq7B5r9_Ehz",
    "outputId": "69a66abd-3603-4753-8ec2-e98569e0d639"
   },
   "outputs": [],
   "source": []
  },
  {
   "cell_type": "code",
   "execution_count": null,
   "metadata": {
    "colab": {
     "base_uri": "https://localhost:8080/"
    },
    "executionInfo": {
     "elapsed": 178,
     "status": "ok",
     "timestamp": 1677637713581,
     "user": {
      "displayName": "Carlos Arellano",
      "userId": "03055712073717640513"
     },
     "user_tz": 360
    },
    "id": "u99NG6bl_Y1g",
    "outputId": "c056034c-cc64-47b2-f62e-bb3f58c98b65"
   },
   "outputs": [],
   "source": []
  },
  {
   "cell_type": "code",
   "execution_count": null,
   "metadata": {
    "colab": {
     "base_uri": "https://localhost:8080/"
    },
    "executionInfo": {
     "elapsed": 217,
     "status": "ok",
     "timestamp": 1677637745070,
     "user": {
      "displayName": "Carlos Arellano",
      "userId": "03055712073717640513"
     },
     "user_tz": 360
    },
    "id": "dWHsN6xWAE-p",
    "outputId": "c9763c57-7f32-4255-9b32-407f25cb5a3e"
   },
   "outputs": [],
   "source": []
  },
  {
   "cell_type": "code",
   "execution_count": null,
   "metadata": {
    "colab": {
     "base_uri": "https://localhost:8080/"
    },
    "executionInfo": {
     "elapsed": 2,
     "status": "ok",
     "timestamp": 1677637759061,
     "user": {
      "displayName": "Carlos Arellano",
      "userId": "03055712073717640513"
     },
     "user_tz": 360
    },
    "id": "LBUrScfFAHbp",
    "outputId": "10e65b0b-a98c-4d50-a244-fe84c646e9e7"
   },
   "outputs": [],
   "source": []
  },
  {
   "cell_type": "code",
   "execution_count": null,
   "metadata": {
    "colab": {
     "base_uri": "https://localhost:8080/",
     "height": 237
    },
    "executionInfo": {
     "elapsed": 182,
     "status": "ok",
     "timestamp": 1677637843814,
     "user": {
      "displayName": "Carlos Arellano",
      "userId": "03055712073717640513"
     },
     "user_tz": 360
    },
    "id": "oO94Gb7pAS8Y",
    "outputId": "061583c3-86a1-4b2c-cd72-bca6c6fa3170"
   },
   "outputs": [],
   "source": []
  },
  {
   "cell_type": "code",
   "execution_count": null,
   "metadata": {
    "colab": {
     "base_uri": "https://localhost:8080/"
    },
    "executionInfo": {
     "elapsed": 216,
     "status": "ok",
     "timestamp": 1677637829739,
     "user": {
      "displayName": "Carlos Arellano",
      "userId": "03055712073717640513"
     },
     "user_tz": 360
    },
    "id": "Ev71dqkqAano",
    "outputId": "bd5ccb95-ad90-4247-9c05-beb9d9fa3a25"
   },
   "outputs": [],
   "source": []
  },
  {
   "cell_type": "markdown",
   "metadata": {
    "id": "rj23Ue0pA8lj"
   },
   "source": [
    "**En la codificación Ficticia, la intersección de la regresión lineal corresponde al promedio de la categoría de referencia. Los coeficientes son la diferencia entre el promedio de cada categoría y la intersección.**"
   ]
  },
  {
   "cell_type": "markdown",
   "metadata": {},
   "source": [
    "### Reg lineal con Codificación de Efectos"
   ]
  },
  {
   "cell_type": "code",
   "execution_count": null,
   "metadata": {
    "colab": {
     "base_uri": "https://localhost:8080/"
    },
    "executionInfo": {
     "elapsed": 196,
     "status": "ok",
     "timestamp": 1677638120413,
     "user": {
      "displayName": "Carlos Arellano",
      "userId": "03055712073717640513"
     },
     "user_tz": 360
    },
    "id": "VI76kqZlBWNs",
    "outputId": "616d82e7-cfb2-490e-99ae-31aab61616d2"
   },
   "outputs": [],
   "source": []
  },
  {
   "cell_type": "code",
   "execution_count": null,
   "metadata": {},
   "outputs": [],
   "source": []
  },
  {
   "cell_type": "code",
   "execution_count": null,
   "metadata": {},
   "outputs": [],
   "source": []
  },
  {
   "cell_type": "markdown",
   "metadata": {
    "id": "4ZQ8xkyVDqr0"
   },
   "source": [
    "**Para la codificación de Efectos, en una regresión lineal, la intersección es el promedio general y los coeficientes, la diferencia entre los promedios de cada variable y el promedio general (a esto se le conoce como efecto principal).**"
   ]
  },
  {
   "cell_type": "code",
   "execution_count": null,
   "metadata": {},
   "outputs": [],
   "source": []
  },
  {
   "cell_type": "markdown",
   "metadata": {},
   "source": [
    "### Ventajas de la Codificación Effect\n",
    "\n",
    "**Evita la Multicolinealidad**: Al usar -1 en lugar de la categoría base, la codificación por efecto ayuda a manejar la multicolinealidad mejor que la codificación one-hot.\n",
    "\n",
    "**Coeficientes Interpretables:** En modelos lineales, los coeficientes de las variables codificadas por efecto se interpretan como desviaciones respecto a la media general, lo que a veces puede hacer que el modelo sea más fácil de interpretar.\n",
    "\n",
    "### Casos de Uso\n",
    "\n",
    "**Modelos Lineales:** Al usar regresión lineal u otros modelos lineales, la codificación por efecto ayuda a manejar eficazmente los problemas de multicolinealidad y hace que los coeficientes sean más interpretables.\n",
    "\n",
    "**ANOVA (Análisis de Varianza):** La codificación por efecto se utiliza a menudo en modelos ANOVA para comparar medias de grupos.\n",
    "\n",
    "en conclusión la codificación por efecto es particularmente beneficiosa para modelos lineales debido a su capacidad para manejar la multicolinealidad y hacer que los coeficientes sean interpretables."
   ]
  },
  {
   "cell_type": "code",
   "execution_count": null,
   "metadata": {},
   "outputs": [],
   "source": []
  }
 ],
 "metadata": {
  "colab": {
   "authorship_tag": "ABX9TyNhSH5Yy9N6m9Dzp6yNz1Ph",
   "provenance": []
  },
  "kernelspec": {
   "display_name": "Python 3 (ipykernel)",
   "language": "python",
   "name": "python3"
  },
  "language_info": {
   "codemirror_mode": {
    "name": "ipython",
    "version": 3
   },
   "file_extension": ".py",
   "mimetype": "text/x-python",
   "name": "python",
   "nbconvert_exporter": "python",
   "pygments_lexer": "ipython3",
   "version": "3.12.7"
  }
 },
 "nbformat": 4,
 "nbformat_minor": 4
}
