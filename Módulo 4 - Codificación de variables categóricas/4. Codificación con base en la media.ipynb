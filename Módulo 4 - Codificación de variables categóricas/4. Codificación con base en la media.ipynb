{
 "cells": [
  {
   "cell_type": "markdown",
   "metadata": {},
   "source": [
    "<img style=\"float: left;;\" src='Figures/iteso.jpg' width=\"100\" height=\"200\"/></a>\n",
    "\n",
    "# <center> <font color= #000047> 4.- Codificación con base en la media </font> </center>"
   ]
  },
  {
   "cell_type": "code",
   "execution_count": 1,
   "metadata": {
    "colab": {
     "base_uri": "https://localhost:8080/",
     "height": 206
    },
    "executionInfo": {
     "elapsed": 2724,
     "status": "ok",
     "timestamp": 1678844528158,
     "user": {
      "displayName": "Carlos Arellano",
      "userId": "03055712073717640513"
     },
     "user_tz": 360
    },
    "id": "7dzYW8V5wOIL",
    "outputId": "472d7fb0-0e74-4dbf-8297-d34b545a8ad4"
   },
   "outputs": [
    {
     "data": {
      "text/html": [
       "<div>\n",
       "<style scoped>\n",
       "    .dataframe tbody tr th:only-of-type {\n",
       "        vertical-align: middle;\n",
       "    }\n",
       "\n",
       "    .dataframe tbody tr th {\n",
       "        vertical-align: top;\n",
       "    }\n",
       "\n",
       "    .dataframe thead th {\n",
       "        text-align: right;\n",
       "    }\n",
       "</style>\n",
       "<table border=\"1\" class=\"dataframe\">\n",
       "  <thead>\n",
       "    <tr style=\"text-align: right;\">\n",
       "      <th></th>\n",
       "      <th>Días</th>\n",
       "      <th>Pronóstico</th>\n",
       "      <th>Temperatura máxima</th>\n",
       "      <th>Temperatura mínima</th>\n",
       "    </tr>\n",
       "  </thead>\n",
       "  <tbody>\n",
       "    <tr>\n",
       "      <th>0</th>\n",
       "      <td>Sábado</td>\n",
       "      <td>Parcialmente nublado</td>\n",
       "      <td>28.2</td>\n",
       "      <td>11.2</td>\n",
       "    </tr>\n",
       "    <tr>\n",
       "      <th>1</th>\n",
       "      <td>Domingo</td>\n",
       "      <td>Parcialmente nublado</td>\n",
       "      <td>29.1</td>\n",
       "      <td>10.7</td>\n",
       "    </tr>\n",
       "    <tr>\n",
       "      <th>2</th>\n",
       "      <td>Lunes</td>\n",
       "      <td>Mayormente nublado</td>\n",
       "      <td>26.1</td>\n",
       "      <td>10.4</td>\n",
       "    </tr>\n",
       "    <tr>\n",
       "      <th>3</th>\n",
       "      <td>Martes</td>\n",
       "      <td>Mayormente soleado</td>\n",
       "      <td>29.4</td>\n",
       "      <td>11.1</td>\n",
       "    </tr>\n",
       "    <tr>\n",
       "      <th>4</th>\n",
       "      <td>Miércoles</td>\n",
       "      <td>Mayormente soleado</td>\n",
       "      <td>29.8</td>\n",
       "      <td>11.1</td>\n",
       "    </tr>\n",
       "  </tbody>\n",
       "</table>\n",
       "</div>"
      ],
      "text/plain": [
       "        Días            Pronóstico Temperatura máxima Temperatura mínima\n",
       "0     Sábado  Parcialmente nublado               28.2               11.2\n",
       "1    Domingo  Parcialmente nublado               29.1               10.7\n",
       "2      Lunes    Mayormente nublado               26.1               10.4\n",
       "3     Martes    Mayormente soleado               29.4               11.1\n",
       "4  Miércoles    Mayormente soleado               29.8               11.1"
      ]
     },
     "execution_count": 1,
     "metadata": {},
     "output_type": "execute_result"
    }
   ],
   "source": [
    "import pandas as pd\n",
    "import numpy as np\n",
    "\n",
    "\n",
    "data=pd.read_csv('temps.txt',sep='\\s+',header=None) # Fuente: http://astro.iam.udg.mx/Estacion/NOAAPRMO.TXT\n",
    "                                                         #         http://astro.iam.udg.mx/Estacion/NOAAMO.TXT\n",
    "data.columns=['Temperatura máxima','Temperatura mínima','HDD','CDD','Rain']\n",
    "d=['Sábado','Domingo','Lunes','Martes','Miércoles','Jueves','Viernes']\n",
    "dias=[d[i%7] for i in range(len(data))]\n",
    "catego=['Soleado','Mayormente soleado','Parcialmente nublado','Mayormente nublado','Nublado','Lluvioso']\n",
    "prono=[catego[-1] if data['Rain'][i]>0 else catego[int(round(1.2*(data['HDD'][i]-data['CDD'][i])+2))] for i in range(len(data))]\n",
    "df=pd.DataFrame(columns=['Días','Pronóstico','Temperatura máxima','Temperatura mínima'],index=range(len(data)))\n",
    "df.iloc[:,2:4]=data.iloc[:,0:2]\n",
    "df['Días']=dias\n",
    "df['Pronóstico']=prono\n",
    "df.head()"
   ]
  },
  {
   "cell_type": "code",
   "execution_count": 2,
   "metadata": {
    "colab": {
     "base_uri": "https://localhost:8080/"
    },
    "executionInfo": {
     "elapsed": 13,
     "status": "ok",
     "timestamp": 1678844528160,
     "user": {
      "displayName": "Carlos Arellano",
      "userId": "03055712073717640513"
     },
     "user_tz": 360
    },
    "id": "kog_lDkKwTA1",
    "outputId": "c20393d6-0cdc-496e-be87-2c26e1e2d584"
   },
   "outputs": [
    {
     "data": {
      "text/plain": [
       "Pronóstico\n",
       "Lluvioso                12.850000\n",
       "Mayormente nublado      10.683333\n",
       "Mayormente soleado      11.435714\n",
       "Nublado                  9.500000\n",
       "Parcialmente nublado    11.261111\n",
       "Soleado                 11.800000\n",
       "Name: Temperatura mínima, dtype: float64"
      ]
     },
     "execution_count": 2,
     "metadata": {},
     "output_type": "execute_result"
    }
   ],
   "source": [
    "#Codificando a traves del promedio\n"
   ]
  },
  {
   "cell_type": "code",
   "execution_count": 3,
   "metadata": {
    "colab": {
     "base_uri": "https://localhost:8080/",
     "height": 206
    },
    "executionInfo": {
     "elapsed": 10,
     "status": "ok",
     "timestamp": 1678844528161,
     "user": {
      "displayName": "Carlos Arellano",
      "userId": "03055712073717640513"
     },
     "user_tz": 360
    },
    "id": "NXIxXp33Pp4L",
    "outputId": "320ac2a2-925a-4290-d21a-b90fe6d9a759"
   },
   "outputs": [
    {
     "data": {
      "text/html": [
       "<div>\n",
       "<style scoped>\n",
       "    .dataframe tbody tr th:only-of-type {\n",
       "        vertical-align: middle;\n",
       "    }\n",
       "\n",
       "    .dataframe tbody tr th {\n",
       "        vertical-align: top;\n",
       "    }\n",
       "\n",
       "    .dataframe thead th {\n",
       "        text-align: right;\n",
       "    }\n",
       "</style>\n",
       "<table border=\"1\" class=\"dataframe\">\n",
       "  <thead>\n",
       "    <tr style=\"text-align: right;\">\n",
       "      <th></th>\n",
       "      <th>Días</th>\n",
       "      <th>Pronóstico</th>\n",
       "      <th>Temperatura máxima</th>\n",
       "      <th>Temperatura mínima</th>\n",
       "      <th>Promedio</th>\n",
       "    </tr>\n",
       "  </thead>\n",
       "  <tbody>\n",
       "    <tr>\n",
       "      <th>0</th>\n",
       "      <td>Sábado</td>\n",
       "      <td>Parcialmente nublado</td>\n",
       "      <td>28.2</td>\n",
       "      <td>11.2</td>\n",
       "      <td>11.261111</td>\n",
       "    </tr>\n",
       "    <tr>\n",
       "      <th>1</th>\n",
       "      <td>Domingo</td>\n",
       "      <td>Parcialmente nublado</td>\n",
       "      <td>29.1</td>\n",
       "      <td>10.7</td>\n",
       "      <td>11.261111</td>\n",
       "    </tr>\n",
       "    <tr>\n",
       "      <th>2</th>\n",
       "      <td>Lunes</td>\n",
       "      <td>Mayormente nublado</td>\n",
       "      <td>26.1</td>\n",
       "      <td>10.4</td>\n",
       "      <td>10.683333</td>\n",
       "    </tr>\n",
       "    <tr>\n",
       "      <th>3</th>\n",
       "      <td>Martes</td>\n",
       "      <td>Mayormente soleado</td>\n",
       "      <td>29.4</td>\n",
       "      <td>11.1</td>\n",
       "      <td>11.435714</td>\n",
       "    </tr>\n",
       "    <tr>\n",
       "      <th>4</th>\n",
       "      <td>Miércoles</td>\n",
       "      <td>Mayormente soleado</td>\n",
       "      <td>29.8</td>\n",
       "      <td>11.1</td>\n",
       "      <td>11.435714</td>\n",
       "    </tr>\n",
       "  </tbody>\n",
       "</table>\n",
       "</div>"
      ],
      "text/plain": [
       "        Días            Pronóstico Temperatura máxima Temperatura mínima  \\\n",
       "0     Sábado  Parcialmente nublado               28.2               11.2   \n",
       "1    Domingo  Parcialmente nublado               29.1               10.7   \n",
       "2      Lunes    Mayormente nublado               26.1               10.4   \n",
       "3     Martes    Mayormente soleado               29.4               11.1   \n",
       "4  Miércoles    Mayormente soleado               29.8               11.1   \n",
       "\n",
       "    Promedio  \n",
       "0  11.261111  \n",
       "1  11.261111  \n",
       "2  10.683333  \n",
       "3  11.435714  \n",
       "4  11.435714  "
      ]
     },
     "execution_count": 3,
     "metadata": {},
     "output_type": "execute_result"
    }
   ],
   "source": []
  },
  {
   "cell_type": "code",
   "execution_count": 4,
   "metadata": {
    "colab": {
     "base_uri": "https://localhost:8080/",
     "height": 206
    },
    "executionInfo": {
     "elapsed": 148,
     "status": "ok",
     "timestamp": 1678844632473,
     "user": {
      "displayName": "Carlos Arellano",
      "userId": "03055712073717640513"
     },
     "user_tz": 360
    },
    "id": "hLlYJvJ5P3G3",
    "outputId": "6e2457cc-f73b-490d-911c-7c1acc68f5f3"
   },
   "outputs": [
    {
     "data": {
      "text/html": [
       "<div>\n",
       "<style scoped>\n",
       "    .dataframe tbody tr th:only-of-type {\n",
       "        vertical-align: middle;\n",
       "    }\n",
       "\n",
       "    .dataframe tbody tr th {\n",
       "        vertical-align: top;\n",
       "    }\n",
       "\n",
       "    .dataframe thead th {\n",
       "        text-align: right;\n",
       "    }\n",
       "</style>\n",
       "<table border=\"1\" class=\"dataframe\">\n",
       "  <thead>\n",
       "    <tr style=\"text-align: right;\">\n",
       "      <th></th>\n",
       "      <th>Días</th>\n",
       "      <th>Temperatura máxima</th>\n",
       "      <th>Temperatura mínima</th>\n",
       "      <th>Promedio</th>\n",
       "      <th>Mayormente nublado</th>\n",
       "      <th>Mayormente soleado</th>\n",
       "      <th>Nublado</th>\n",
       "      <th>Parcialmente nublado</th>\n",
       "      <th>Soleado</th>\n",
       "    </tr>\n",
       "  </thead>\n",
       "  <tbody>\n",
       "    <tr>\n",
       "      <th>0</th>\n",
       "      <td>Sábado</td>\n",
       "      <td>28.2</td>\n",
       "      <td>11.2</td>\n",
       "      <td>11.261111</td>\n",
       "      <td>0</td>\n",
       "      <td>0</td>\n",
       "      <td>0</td>\n",
       "      <td>1</td>\n",
       "      <td>0</td>\n",
       "    </tr>\n",
       "    <tr>\n",
       "      <th>1</th>\n",
       "      <td>Domingo</td>\n",
       "      <td>29.1</td>\n",
       "      <td>10.7</td>\n",
       "      <td>11.261111</td>\n",
       "      <td>0</td>\n",
       "      <td>0</td>\n",
       "      <td>0</td>\n",
       "      <td>1</td>\n",
       "      <td>0</td>\n",
       "    </tr>\n",
       "    <tr>\n",
       "      <th>2</th>\n",
       "      <td>Lunes</td>\n",
       "      <td>26.1</td>\n",
       "      <td>10.4</td>\n",
       "      <td>10.683333</td>\n",
       "      <td>1</td>\n",
       "      <td>0</td>\n",
       "      <td>0</td>\n",
       "      <td>0</td>\n",
       "      <td>0</td>\n",
       "    </tr>\n",
       "    <tr>\n",
       "      <th>3</th>\n",
       "      <td>Martes</td>\n",
       "      <td>29.4</td>\n",
       "      <td>11.1</td>\n",
       "      <td>11.435714</td>\n",
       "      <td>0</td>\n",
       "      <td>1</td>\n",
       "      <td>0</td>\n",
       "      <td>0</td>\n",
       "      <td>0</td>\n",
       "    </tr>\n",
       "    <tr>\n",
       "      <th>4</th>\n",
       "      <td>Miércoles</td>\n",
       "      <td>29.8</td>\n",
       "      <td>11.1</td>\n",
       "      <td>11.435714</td>\n",
       "      <td>0</td>\n",
       "      <td>1</td>\n",
       "      <td>0</td>\n",
       "      <td>0</td>\n",
       "      <td>0</td>\n",
       "    </tr>\n",
       "  </tbody>\n",
       "</table>\n",
       "</div>"
      ],
      "text/plain": [
       "        Días Temperatura máxima Temperatura mínima   Promedio  \\\n",
       "0     Sábado               28.2               11.2  11.261111   \n",
       "1    Domingo               29.1               10.7  11.261111   \n",
       "2      Lunes               26.1               10.4  10.683333   \n",
       "3     Martes               29.4               11.1  11.435714   \n",
       "4  Miércoles               29.8               11.1  11.435714   \n",
       "\n",
       "   Mayormente nublado  Mayormente soleado  Nublado  Parcialmente nublado  \\\n",
       "0                   0                   0        0                     1   \n",
       "1                   0                   0        0                     1   \n",
       "2                   1                   0        0                     0   \n",
       "3                   0                   1        0                     0   \n",
       "4                   0                   1        0                     0   \n",
       "\n",
       "   Soleado  \n",
       "0        0  \n",
       "1        0  \n",
       "2        0  \n",
       "3        0  \n",
       "4        0  "
      ]
     },
     "execution_count": 4,
     "metadata": {},
     "output_type": "execute_result"
    }
   ],
   "source": [
    "#Codificando a través de la codificación de Efectos\n"
   ]
  },
  {
   "cell_type": "code",
   "execution_count": 5,
   "metadata": {
    "colab": {
     "base_uri": "https://localhost:8080/",
     "height": 35
    },
    "executionInfo": {
     "elapsed": 137,
     "status": "ok",
     "timestamp": 1678844919972,
     "user": {
      "displayName": "Carlos Arellano",
      "userId": "03055712073717640513"
     },
     "user_tz": 360
    },
    "id": "oOHezKrG8BvP",
    "outputId": "d64d132d-12e9-479d-a88a-e94e35829571"
   },
   "outputs": [
    {
     "data": {
      "text/plain": [
       "'Lluvioso'"
      ]
     },
     "execution_count": 5,
     "metadata": {},
     "output_type": "execute_result"
    }
   ],
   "source": []
  },
  {
   "cell_type": "code",
   "execution_count": 6,
   "metadata": {
    "colab": {
     "base_uri": "https://localhost:8080/",
     "height": 112
    },
    "executionInfo": {
     "elapsed": 144,
     "status": "ok",
     "timestamp": 1678845133962,
     "user": {
      "displayName": "Carlos Arellano",
      "userId": "03055712073717640513"
     },
     "user_tz": 360
    },
    "id": "vS-avYvA84Z2",
    "outputId": "5f1f70af-3b9b-4f03-f044-b4f89ee775e7"
   },
   "outputs": [
    {
     "data": {
      "text/html": [
       "<div>\n",
       "<style scoped>\n",
       "    .dataframe tbody tr th:only-of-type {\n",
       "        vertical-align: middle;\n",
       "    }\n",
       "\n",
       "    .dataframe tbody tr th {\n",
       "        vertical-align: top;\n",
       "    }\n",
       "\n",
       "    .dataframe thead th {\n",
       "        text-align: right;\n",
       "    }\n",
       "</style>\n",
       "<table border=\"1\" class=\"dataframe\">\n",
       "  <thead>\n",
       "    <tr style=\"text-align: right;\">\n",
       "      <th></th>\n",
       "      <th>Días</th>\n",
       "      <th>Temperatura máxima</th>\n",
       "      <th>Temperatura mínima</th>\n",
       "      <th>Promedio</th>\n",
       "      <th>Mayormente nublado</th>\n",
       "      <th>Mayormente soleado</th>\n",
       "      <th>Nublado</th>\n",
       "      <th>Parcialmente nublado</th>\n",
       "      <th>Soleado</th>\n",
       "    </tr>\n",
       "  </thead>\n",
       "  <tbody>\n",
       "    <tr>\n",
       "      <th>17</th>\n",
       "      <td>Martes</td>\n",
       "      <td>27.9</td>\n",
       "      <td>11.5</td>\n",
       "      <td>12.85</td>\n",
       "      <td>-1</td>\n",
       "      <td>-1</td>\n",
       "      <td>-1</td>\n",
       "      <td>-1</td>\n",
       "      <td>-1</td>\n",
       "    </tr>\n",
       "    <tr>\n",
       "      <th>44</th>\n",
       "      <td>Lunes</td>\n",
       "      <td>26.6</td>\n",
       "      <td>14.2</td>\n",
       "      <td>12.85</td>\n",
       "      <td>-1</td>\n",
       "      <td>-1</td>\n",
       "      <td>-1</td>\n",
       "      <td>-1</td>\n",
       "      <td>-1</td>\n",
       "    </tr>\n",
       "  </tbody>\n",
       "</table>\n",
       "</div>"
      ],
      "text/plain": [
       "      Días Temperatura máxima Temperatura mínima  Promedio  \\\n",
       "17  Martes               27.9               11.5     12.85   \n",
       "44   Lunes               26.6               14.2     12.85   \n",
       "\n",
       "    Mayormente nublado  Mayormente soleado  Nublado  Parcialmente nublado  \\\n",
       "17                  -1                  -1       -1                    -1   \n",
       "44                  -1                  -1       -1                    -1   \n",
       "\n",
       "    Soleado  \n",
       "17       -1  \n",
       "44       -1  "
      ]
     },
     "execution_count": 6,
     "metadata": {},
     "output_type": "execute_result"
    }
   ],
   "source": []
  },
  {
   "cell_type": "code",
   "execution_count": 7,
   "metadata": {
    "executionInfo": {
     "elapsed": 2,
     "status": "ok",
     "timestamp": 1678845439332,
     "user": {
      "displayName": "Carlos Arellano",
      "userId": "03055712073717640513"
     },
     "user_tz": 360
    },
    "id": "Fd5e2Svh98KT"
   },
   "outputs": [],
   "source": [
    "# Regresión lineal\n",
    "from sklearn.linear_model import LinearRegression"
   ]
  },
  {
   "cell_type": "code",
   "execution_count": 8,
   "metadata": {
    "colab": {
     "base_uri": "https://localhost:8080/",
     "height": 74
    },
    "executionInfo": {
     "elapsed": 171,
     "status": "ok",
     "timestamp": 1678845508553,
     "user": {
      "displayName": "Carlos Arellano",
      "userId": "03055712073717640513"
     },
     "user_tz": 360
    },
    "id": "lpmTD4jN-44v",
    "outputId": "2b4d71e5-479b-4a5f-f6db-ac51a30b320e"
   },
   "outputs": [
    {
     "data": {
      "text/plain": [
       "LinearRegression()"
      ]
     },
     "execution_count": 8,
     "metadata": {},
     "output_type": "execute_result"
    }
   ],
   "source": []
  },
  {
   "cell_type": "code",
   "execution_count": 11,
   "metadata": {
    "colab": {
     "base_uri": "https://localhost:8080/"
    },
    "executionInfo": {
     "elapsed": 149,
     "status": "ok",
     "timestamp": 1678845674804,
     "user": {
      "displayName": "Carlos Arellano",
      "userId": "03055712073717640513"
     },
     "user_tz": 360
    },
    "id": "PG1o_kO__sF3",
    "outputId": "488a0eba-5b82-41bb-cf0f-a42817a05e1b"
   },
   "outputs": [
    {
     "data": {
      "text/plain": [
       "{'Mayormente nublado': -0.5716931216931218,\n",
       " 'Mayormente soleado': 0.1806878306878308,\n",
       " 'Nublado': -1.7550264550264554,\n",
       " 'Parcialmente nublado': 0.00608465608465564,\n",
       " 'Soleado': 0.5449735449735462}"
      ]
     },
     "execution_count": 11,
     "metadata": {},
     "output_type": "execute_result"
    }
   ],
   "source": [
    "#mapeo de Categorías con coeficientes de la regresión lineal\n"
   ]
  },
  {
   "cell_type": "code",
   "execution_count": 12,
   "metadata": {
    "colab": {
     "base_uri": "https://localhost:8080/"
    },
    "executionInfo": {
     "elapsed": 140,
     "status": "ok",
     "timestamp": 1678845749847,
     "user": {
      "displayName": "Carlos Arellano",
      "userId": "03055712073717640513"
     },
     "user_tz": 360
    },
    "id": "GpGoXWezAANP",
    "outputId": "ff90c232-ba54-4e4b-9a00-57a814493f02"
   },
   "outputs": [
    {
     "data": {
      "text/plain": [
       "{'Mayormente nublado': -0.5716931216931218,\n",
       " 'Mayormente soleado': 0.1806878306878308,\n",
       " 'Nublado': -1.7550264550264554,\n",
       " 'Parcialmente nublado': 0.00608465608465564,\n",
       " 'Soleado': 0.5449735449735462,\n",
       " 'Lluvioso': 11.255026455026455}"
      ]
     },
     "execution_count": 12,
     "metadata": {},
     "output_type": "execute_result"
    }
   ],
   "source": [
    "#Mapeo de la categoria de referencia con la intercepción\n"
   ]
  },
  {
   "cell_type": "code",
   "execution_count": 13,
   "metadata": {
    "colab": {
     "base_uri": "https://localhost:8080/",
     "height": 206
    },
    "executionInfo": {
     "elapsed": 139,
     "status": "ok",
     "timestamp": 1678845887327,
     "user": {
      "displayName": "Carlos Arellano",
      "userId": "03055712073717640513"
     },
     "user_tz": 360
    },
    "id": "oCJT6nZVASjX",
    "outputId": "b447c691-d7a6-4b62-de3e-a67a48984508"
   },
   "outputs": [
    {
     "data": {
      "text/html": [
       "<div>\n",
       "<style scoped>\n",
       "    .dataframe tbody tr th:only-of-type {\n",
       "        vertical-align: middle;\n",
       "    }\n",
       "\n",
       "    .dataframe tbody tr th {\n",
       "        vertical-align: top;\n",
       "    }\n",
       "\n",
       "    .dataframe thead th {\n",
       "        text-align: right;\n",
       "    }\n",
       "</style>\n",
       "<table border=\"1\" class=\"dataframe\">\n",
       "  <thead>\n",
       "    <tr style=\"text-align: right;\">\n",
       "      <th></th>\n",
       "      <th>Días</th>\n",
       "      <th>Pronóstico</th>\n",
       "      <th>Temperatura máxima</th>\n",
       "      <th>Temperatura mínima</th>\n",
       "      <th>Promedio</th>\n",
       "      <th>P_Efectos</th>\n",
       "    </tr>\n",
       "  </thead>\n",
       "  <tbody>\n",
       "    <tr>\n",
       "      <th>0</th>\n",
       "      <td>Sábado</td>\n",
       "      <td>Parcialmente nublado</td>\n",
       "      <td>28.2</td>\n",
       "      <td>11.2</td>\n",
       "      <td>11.261111</td>\n",
       "      <td>0.006085</td>\n",
       "    </tr>\n",
       "    <tr>\n",
       "      <th>1</th>\n",
       "      <td>Domingo</td>\n",
       "      <td>Parcialmente nublado</td>\n",
       "      <td>29.1</td>\n",
       "      <td>10.7</td>\n",
       "      <td>11.261111</td>\n",
       "      <td>0.006085</td>\n",
       "    </tr>\n",
       "    <tr>\n",
       "      <th>2</th>\n",
       "      <td>Lunes</td>\n",
       "      <td>Mayormente nublado</td>\n",
       "      <td>26.1</td>\n",
       "      <td>10.4</td>\n",
       "      <td>10.683333</td>\n",
       "      <td>-0.571693</td>\n",
       "    </tr>\n",
       "    <tr>\n",
       "      <th>3</th>\n",
       "      <td>Martes</td>\n",
       "      <td>Mayormente soleado</td>\n",
       "      <td>29.4</td>\n",
       "      <td>11.1</td>\n",
       "      <td>11.435714</td>\n",
       "      <td>0.180688</td>\n",
       "    </tr>\n",
       "    <tr>\n",
       "      <th>4</th>\n",
       "      <td>Miércoles</td>\n",
       "      <td>Mayormente soleado</td>\n",
       "      <td>29.8</td>\n",
       "      <td>11.1</td>\n",
       "      <td>11.435714</td>\n",
       "      <td>0.180688</td>\n",
       "    </tr>\n",
       "  </tbody>\n",
       "</table>\n",
       "</div>"
      ],
      "text/plain": [
       "        Días            Pronóstico Temperatura máxima Temperatura mínima  \\\n",
       "0     Sábado  Parcialmente nublado               28.2               11.2   \n",
       "1    Domingo  Parcialmente nublado               29.1               10.7   \n",
       "2      Lunes    Mayormente nublado               26.1               10.4   \n",
       "3     Martes    Mayormente soleado               29.4               11.1   \n",
       "4  Miércoles    Mayormente soleado               29.8               11.1   \n",
       "\n",
       "    Promedio  P_Efectos  \n",
       "0  11.261111   0.006085  \n",
       "1  11.261111   0.006085  \n",
       "2  10.683333  -0.571693  \n",
       "3  11.435714   0.180688  \n",
       "4  11.435714   0.180688  "
      ]
     },
     "execution_count": 13,
     "metadata": {},
     "output_type": "execute_result"
    }
   ],
   "source": []
  },
  {
   "cell_type": "markdown",
   "metadata": {},
   "source": [
    "### ¿Cuál es la mejor metodología con datasets con alta cardinalidad?\n",
    "\n",
    "Cuando se trabaja con variables categóricas de alta cardinalidad (muchas categorías únicas), las metodologías tradicionales como One-Hot Encoding pueden generar matrices muy grandes y dispersas, lo que afecta el rendimiento y la eficiencia del modelo.\n",
    "\n",
    "**Las mejores alternativas suelen ser:**\n",
    "\n",
    "- **Codificación en base a la media:** Es eficiente y no aumenta la dimensionalidad, pero debe usarse con técnicas de regularización o validación cruzada para evitar sobreajuste.\n",
    "- **Codificación en base a conteo (frecuecnia):** Reemplaza cada categoría por su frecuencia o conteo en el dataset. Es simple y útil para modelos basados en árboles.\n",
    "\n",
    "**Recomendación:**\n",
    "\n",
    "- Usar codificación por media o frecuencia para modelos tradicionales.\n",
    "- Siempre validar el riesgo de sobreajuste y aplicar regularización o validación cruzada."
   ]
  },
  {
   "cell_type": "code",
   "execution_count": null,
   "metadata": {},
   "outputs": [],
   "source": []
  }
 ],
 "metadata": {
  "colab": {
   "authorship_tag": "ABX9TyN5Leu0Y7XQ40bhXnWqtSSw",
   "mount_file_id": "1R5PVmze38VoJ28S0wJ0REBPUcjUAyxye",
   "provenance": []
  },
  "kernelspec": {
   "display_name": "Python 3 (ipykernel)",
   "language": "python",
   "name": "python3"
  },
  "language_info": {
   "codemirror_mode": {
    "name": "ipython",
    "version": 3
   },
   "file_extension": ".py",
   "mimetype": "text/x-python",
   "name": "python",
   "nbconvert_exporter": "python",
   "pygments_lexer": "ipython3",
   "version": "3.12.7"
  }
 },
 "nbformat": 4,
 "nbformat_minor": 4
}
