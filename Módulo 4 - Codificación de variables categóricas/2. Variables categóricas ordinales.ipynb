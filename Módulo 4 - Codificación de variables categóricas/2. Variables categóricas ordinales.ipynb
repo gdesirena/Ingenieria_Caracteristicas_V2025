{
 "cells": [
  {
   "cell_type": "markdown",
   "metadata": {},
   "source": [
    "<img style=\"float: left;;\" src='Figures/iteso.jpg' width=\"100\" height=\"200\"/></a>\n",
    "\n",
    "# <center> <font color= #000047> 2.- Variables Categóricas Ordinales </font> </center>"
   ]
  },
  {
   "cell_type": "markdown",
   "metadata": {},
   "source": [
    "Las variables categóricas ordinales son aquellas cuyos valores representan categorías con un orden inherente, pero sin una distancia numérica definida entre ellas. Ejemplos comunes incluyen niveles educativos, clasificaciones de satisfacción, o tamaños (pequeño, mediano, grande)."
   ]
  },
  {
   "cell_type": "markdown",
   "metadata": {},
   "source": [
    "# Codificación Ordinal Simple (Label Encoding)\n",
    "\n",
    "Consiste en asignar un número entero a cada categoría, respetando el orden natural de la variable.\n",
    "\n",
    "**Ejemplo:**\n",
    "\n",
    "Supongamos la variable `Nivel de Educación` con las categorías:\n",
    "\n",
    "- Primaria\n",
    "- Secundaria\n",
    "- Preparatoria\n",
    "- Universidad\n",
    "\n",
    "La codificación sería:\n",
    "\n",
    "| Nivel de Educación | Codificación |\n",
    "|-------------------|--------------|\n",
    "| Primaria          | 1            |\n",
    "| Secundaria        | 2            |\n",
    "| Preparatoria      | 3            |\n",
    "| Universidad       | 4            |\n",
    "\n",
    "Esta técnica es sencilla y mantiene el orden, pero asume que la distancia entre categorías es igual, lo cual no siempre es cierto."
   ]
  },
  {
   "cell_type": "code",
   "execution_count": null,
   "metadata": {},
   "outputs": [],
   "source": [
    "# Ejemplo de codificación ordinal simple en pandas\n",
    "import pandas as pd\n",
    "\n",
    "df = pd.DataFrame({\n",
    "    'Nivel de Educación': ['Primaria', 'Secundaria', 'Universidad', 'Preparatoria', 'Secundaria']\n",
    "})"
   ]
  },
  {
   "cell_type": "code",
   "execution_count": null,
   "metadata": {},
   "outputs": [],
   "source": [
    "\n",
    "orden = ['Primaria', 'Secundaria', 'Preparatoria', 'Universidad']\n",
    "df['Nivel Codificado'] = df['Nivel de Educación'].apply(lambda x: orden.index(x) + 1)\n",
    "df"
   ]
  },
  {
   "cell_type": "code",
   "execution_count": null,
   "metadata": {},
   "outputs": [],
   "source": []
  },
  {
   "cell_type": "markdown",
   "metadata": {},
   "source": [
    "# Contraste polinómico: relación polinomial entre categorías"
   ]
  },
  {
   "cell_type": "code",
   "execution_count": null,
   "metadata": {
    "colab": {
     "base_uri": "https://localhost:8080/",
     "height": 206
    },
    "executionInfo": {
     "elapsed": 403,
     "status": "ok",
     "timestamp": 1678238409456,
     "user": {
      "displayName": "Carlos Arellano",
      "userId": "03055712073717640513"
     },
     "user_tz": 360
    },
    "id": "yUPeBbnaozcA",
    "outputId": "cfa51a9e-fdd4-4368-a2db-803e9f1f2804"
   },
   "outputs": [],
   "source": [
    "import pandas as pd\n",
    "import numpy as np\n",
    "data=pd.read_csv('temps.txt',sep='\\s+',header=None) # Fuente: http://astro.iam.udg.mx/Estacion/NOAAPRMO.TXT\n",
    "                                                         #         http://astro.iam.udg.mx/Estacion/NOAAMO.TXT\n",
    "data.columns=['Temperatura máxima','Temperatura mínima','HDD','CDD','Rain']\n",
    "d=['Sábado','Domingo','Lunes','Martes','Miércoles','Jueves','Viernes']\n",
    "dias=[d[i%7] for i in range(len(data))]\n",
    "catego=['Soleado','Mayormente soleado','Parcialmente nublado','Mayormente nublado','Nublado','Lluvioso']\n",
    "prono=[catego[-1] if data['Rain'][i]>0 else catego[int(round(1.2*(data['HDD'][i]-data['CDD'][i])+2))] for i in range(len(data))]\n",
    "df=pd.DataFrame(columns=['Días','Pronóstico','Temperatura máxima','Temperatura mínima'],index=range(len(data)))\n",
    "df.iloc[:,2:4]=data.iloc[:,0:2]\n",
    "df['Días']=dias\n",
    "df['Pronóstico']=prono\n",
    "df.head()"
   ]
  },
  {
   "cell_type": "markdown",
   "metadata": {
    "id": "mSkrgmfCpXdT"
   },
   "source": [
    "## Codificación lineal"
   ]
  },
  {
   "cell_type": "markdown",
   "metadata": {},
   "source": [
    "- Encontrar $X =\\{x_1,..,x_n\\}$ donde $n$ el número de categorías"
   ]
  },
  {
   "cell_type": "code",
   "execution_count": null,
   "metadata": {},
   "outputs": [],
   "source": [
    "df['Días'].nunique()"
   ]
  },
  {
   "cell_type": "code",
   "execution_count": null,
   "metadata": {
    "colab": {
     "base_uri": "https://localhost:8080/"
    },
    "executionInfo": {
     "elapsed": 165,
     "status": "ok",
     "timestamp": 1678239118420,
     "user": {
      "displayName": "Carlos Arellano",
      "userId": "03055712073717640513"
     },
     "user_tz": 360
    },
    "id": "gGrgUu2ApZOn",
    "outputId": "8b181567-70eb-41cf-9a3f-f9989b406bd1"
   },
   "outputs": [],
   "source": [
    "#Codificación para la variable `Días`\n"
   ]
  },
  {
   "cell_type": "code",
   "execution_count": null,
   "metadata": {
    "colab": {
     "base_uri": "https://localhost:8080/"
    },
    "executionInfo": {
     "elapsed": 210,
     "status": "ok",
     "timestamp": 1678239226280,
     "user": {
      "displayName": "Carlos Arellano",
      "userId": "03055712073717640513"
     },
     "user_tz": 360
    },
    "id": "TZHnAHrI2LIw",
    "outputId": "216ad4a4-df97-46f8-a556-1d056f8108ab"
   },
   "outputs": [],
   "source": []
  },
  {
   "cell_type": "code",
   "execution_count": null,
   "metadata": {
    "colab": {
     "base_uri": "https://localhost:8080/"
    },
    "executionInfo": {
     "elapsed": 188,
     "status": "ok",
     "timestamp": 1678239293389,
     "user": {
      "displayName": "Carlos Arellano",
      "userId": "03055712073717640513"
     },
     "user_tz": 360
    },
    "id": "HsqzDWNA2ldA",
    "outputId": "4dac0f7e-9ac7-418d-8166-ad6888b6f583"
   },
   "outputs": [],
   "source": [
    "#Ordenar las categorías\n"
   ]
  },
  {
   "cell_type": "code",
   "execution_count": null,
   "metadata": {
    "colab": {
     "base_uri": "https://localhost:8080/"
    },
    "executionInfo": {
     "elapsed": 187,
     "status": "ok",
     "timestamp": 1678239457261,
     "user": {
      "displayName": "Carlos Arellano",
      "userId": "03055712073717640513"
     },
     "user_tz": 360
    },
    "id": "5ko3uGTd211n",
    "outputId": "70711e7b-4a03-4b2c-8710-508c5f20921d"
   },
   "outputs": [],
   "source": [
    "#Definimos los valores de a0, a1\n"
   ]
  },
  {
   "cell_type": "code",
   "execution_count": null,
   "metadata": {
    "colab": {
     "base_uri": "https://localhost:8080/",
     "height": 206
    },
    "executionInfo": {
     "elapsed": 12,
     "status": "ok",
     "timestamp": 1678239529725,
     "user": {
      "displayName": "Carlos Arellano",
      "userId": "03055712073717640513"
     },
     "user_tz": 360
    },
    "id": "Q7cYa65N3d5A",
    "outputId": "14e3f6c1-0127-4df3-84e7-b2e6b8bdb677"
   },
   "outputs": [],
   "source": [
    "#Creamos una nueva columna con la transformación de `Dias`\n"
   ]
  },
  {
   "cell_type": "code",
   "execution_count": null,
   "metadata": {},
   "outputs": [],
   "source": []
  },
  {
   "cell_type": "code",
   "execution_count": null,
   "metadata": {
    "colab": {
     "base_uri": "https://localhost:8080/"
    },
    "executionInfo": {
     "elapsed": 187,
     "status": "ok",
     "timestamp": 1678239694644,
     "user": {
      "displayName": "Carlos Arellano",
      "userId": "03055712073717640513"
     },
     "user_tz": 360
    },
    "id": "B1hj8E-U3vjw",
    "outputId": "9ac9b378-1fa4-4297-e1db-ae20be54c6d7"
   },
   "outputs": [],
   "source": [
    "#Codificando la variable `Pronóstico`\n"
   ]
  },
  {
   "cell_type": "code",
   "execution_count": null,
   "metadata": {
    "colab": {
     "base_uri": "https://localhost:8080/"
    },
    "executionInfo": {
     "elapsed": 7,
     "status": "ok",
     "timestamp": 1678240409685,
     "user": {
      "displayName": "Carlos Arellano",
      "userId": "03055712073717640513"
     },
     "user_tz": 360
    },
    "id": "-3CZ3M3L5p7T",
    "outputId": "8cc0ad25-1c84-4942-8354-eb0e9381db27"
   },
   "outputs": [],
   "source": []
  },
  {
   "cell_type": "code",
   "execution_count": null,
   "metadata": {
    "colab": {
     "base_uri": "https://localhost:8080/"
    },
    "executionInfo": {
     "elapsed": 179,
     "status": "ok",
     "timestamp": 1678240795319,
     "user": {
      "displayName": "Carlos Arellano",
      "userId": "03055712073717640513"
     },
     "user_tz": 360
    },
    "id": "m3ch3BDR4X0I",
    "outputId": "9e330cab-b7c9-4140-f14e-922e7b93ecda"
   },
   "outputs": [],
   "source": [
    "#Asignamos los valores de a0, a1\n",
    "\n",
    "#Realizamos la transformación\n"
   ]
  },
  {
   "cell_type": "code",
   "execution_count": null,
   "metadata": {
    "colab": {
     "base_uri": "https://localhost:8080/",
     "height": 206
    },
    "executionInfo": {
     "elapsed": 186,
     "status": "ok",
     "timestamp": 1678240848389,
     "user": {
      "displayName": "Carlos Arellano",
      "userId": "03055712073717640513"
     },
     "user_tz": 360
    },
    "id": "1VMaAAi077wQ",
    "outputId": "5cadd217-0fb6-4171-d570-f3aee3a4ce0a"
   },
   "outputs": [],
   "source": [
    "#Creamos una nueva columna `Pronóstico_lin`\n"
   ]
  },
  {
   "cell_type": "code",
   "execution_count": null,
   "metadata": {},
   "outputs": [],
   "source": []
  },
  {
   "cell_type": "markdown",
   "metadata": {
    "id": "RF_w3GbppZ1C"
   },
   "source": [
    "## Codificación cuadrática"
   ]
  },
  {
   "cell_type": "code",
   "execution_count": null,
   "metadata": {
    "colab": {
     "base_uri": "https://localhost:8080/"
    },
    "executionInfo": {
     "elapsed": 179,
     "status": "ok",
     "timestamp": 1678240979668,
     "user": {
      "displayName": "Carlos Arellano",
      "userId": "03055712073717640513"
     },
     "user_tz": 360
    },
    "id": "Hev5cLVy8EoW",
    "outputId": "894ee347-f2ee-43e0-a08c-5de571027cdb"
   },
   "outputs": [],
   "source": [
    "#Codificación de la variable `Pronóstico` cuadrática\n"
   ]
  },
  {
   "cell_type": "code",
   "execution_count": null,
   "metadata": {
    "colab": {
     "base_uri": "https://localhost:8080/"
    },
    "executionInfo": {
     "elapsed": 185,
     "status": "ok",
     "timestamp": 1678240984587,
     "user": {
      "displayName": "Carlos Arellano",
      "userId": "03055712073717640513"
     },
     "user_tz": 360
    },
    "id": "ko1162bk8HdX",
    "outputId": "55ec8814-c88e-4c96-ccf8-6ffc8c183c15"
   },
   "outputs": [],
   "source": [
    "#sus coeficientes deben de sumar cero\n",
    "np.sum(list(Pronóstico_lin.values()))"
   ]
  },
  {
   "cell_type": "code",
   "execution_count": null,
   "metadata": {
    "colab": {
     "base_uri": "https://localhost:8080/",
     "height": 206
    },
    "executionInfo": {
     "elapsed": 10,
     "status": "ok",
     "timestamp": 1678241022895,
     "user": {
      "displayName": "Carlos Arellano",
      "userId": "03055712073717640513"
     },
     "user_tz": 360
    },
    "id": "C4fOqQTc9Stf",
    "outputId": "a8ee9c1b-54e3-4d2d-bc7d-bb48ee83c09a"
   },
   "outputs": [],
   "source": []
  },
  {
   "cell_type": "code",
   "execution_count": null,
   "metadata": {
    "colab": {
     "base_uri": "https://localhost:8080/"
    },
    "executionInfo": {
     "elapsed": 158,
     "status": "ok",
     "timestamp": 1678241531063,
     "user": {
      "displayName": "Carlos Arellano",
      "userId": "03055712073717640513"
     },
     "user_tz": 360
    },
    "id": "VdOQIQ4D9cGW",
    "outputId": "f6a0710f-3b12-446c-debf-70bd0f0085d8"
   },
   "outputs": [],
   "source": [
    "#Codificación de `Días` cuadrática\n"
   ]
  },
  {
   "cell_type": "code",
   "execution_count": null,
   "metadata": {
    "colab": {
     "base_uri": "https://localhost:8080/"
    },
    "executionInfo": {
     "elapsed": 178,
     "status": "ok",
     "timestamp": 1678241603588,
     "user": {
      "displayName": "Carlos Arellano",
      "userId": "03055712073717640513"
     },
     "user_tz": 360
    },
    "id": "dtsqRIRi_jtQ",
    "outputId": "92c5caa4-98df-4f37-c58a-c8754f42aea0"
   },
   "outputs": [],
   "source": [
    "#sus coeficientes deben de sumar cero\n"
   ]
  },
  {
   "cell_type": "code",
   "execution_count": null,
   "metadata": {
    "colab": {
     "base_uri": "https://localhost:8080/",
     "height": 206
    },
    "executionInfo": {
     "elapsed": 176,
     "status": "ok",
     "timestamp": 1678241649141,
     "user": {
      "displayName": "Carlos Arellano",
      "userId": "03055712073717640513"
     },
     "user_tz": 360
    },
    "id": "LT1kR74W_tLY",
    "outputId": "0ab10742-5361-424a-f1ea-d119dc9edb33"
   },
   "outputs": [],
   "source": []
  },
  {
   "cell_type": "markdown",
   "metadata": {
    "id": "4znvqFfjpcPA"
   },
   "source": [
    "## Regresión lineal"
   ]
  },
  {
   "cell_type": "markdown",
   "metadata": {},
   "source": [
    "Aplicamos modelos de regresión lineal para las variables transformadas"
   ]
  },
  {
   "cell_type": "code",
   "execution_count": null,
   "metadata": {
    "executionInfo": {
     "elapsed": 1585,
     "status": "ok",
     "timestamp": 1678241770236,
     "user": {
      "displayName": "Carlos Arellano",
      "userId": "03055712073717640513"
     },
     "user_tz": 360
    },
    "id": "VBGVt0TIpe1f"
   },
   "outputs": [],
   "source": [
    "from sklearn.linear_model import LinearRegression"
   ]
  },
  {
   "cell_type": "code",
   "execution_count": null,
   "metadata": {
    "executionInfo": {
     "elapsed": 2,
     "status": "ok",
     "timestamp": 1678241791991,
     "user": {
      "displayName": "Carlos Arellano",
      "userId": "03055712073717640513"
     },
     "user_tz": 360
    },
    "id": "G7cBxA4iph4C"
   },
   "outputs": [],
   "source": [
    "import matplotlib.pyplot as plt"
   ]
  },
  {
   "cell_type": "code",
   "execution_count": null,
   "metadata": {},
   "outputs": [],
   "source": [
    "Pronóstico_lin"
   ]
  },
  {
   "cell_type": "code",
   "execution_count": null,
   "metadata": {
    "colab": {
     "base_uri": "https://localhost:8080/",
     "height": 265
    },
    "executionInfo": {
     "elapsed": 678,
     "status": "ok",
     "timestamp": 1678241848192,
     "user": {
      "displayName": "Carlos Arellano",
      "userId": "03055712073717640513"
     },
     "user_tz": 360
    },
    "id": "nNgCCZLEAX23",
    "outputId": "8760ddf8-45d5-4457-c0e8-8bfa0a733ad8"
   },
   "outputs": [],
   "source": [
    "plt.scatter(df['Pronóstico_lin'],df['Temperatura mínima'])\n",
    "plt.xlabel('Pronóstico_lin')\n",
    "plt.ylabel('Temperatura mínima')\n",
    "plt.grid()"
   ]
  },
  {
   "cell_type": "code",
   "execution_count": null,
   "metadata": {},
   "outputs": [],
   "source": [
    "Pronóstico_cuad"
   ]
  },
  {
   "cell_type": "code",
   "execution_count": null,
   "metadata": {
    "colab": {
     "base_uri": "https://localhost:8080/",
     "height": 265
    },
    "executionInfo": {
     "elapsed": 790,
     "status": "ok",
     "timestamp": 1678242037835,
     "user": {
      "displayName": "Carlos Arellano",
      "userId": "03055712073717640513"
     },
     "user_tz": 360
    },
    "id": "dMU3PbxLAlX_",
    "outputId": "8efebeb7-3169-40d3-86c6-203d788d3c47"
   },
   "outputs": [],
   "source": [
    "plt.scatter(df['Pronóstico_cuad'],df['Temperatura mínima'])\n",
    "plt.grid()"
   ]
  },
  {
   "cell_type": "code",
   "execution_count": null,
   "metadata": {
    "colab": {
     "base_uri": "https://localhost:8080/",
     "height": 51
    },
    "executionInfo": {
     "elapsed": 207,
     "status": "ok",
     "timestamp": 1678242459588,
     "user": {
      "displayName": "Carlos Arellano",
      "userId": "03055712073717640513"
     },
     "user_tz": 360
    },
    "id": "uLeDnwOdBTvY",
    "outputId": "fb1e9a0a-9d78-4517-a836-b9fe90abf50c"
   },
   "outputs": [],
   "source": [
    "lin=LinearRegression()\n",
    "lin.fit(df[['Pronóstico_lin','Pronóstico_cuad']],df['Temperatura mínima'])"
   ]
  },
  {
   "cell_type": "code",
   "execution_count": null,
   "metadata": {
    "colab": {
     "base_uri": "https://localhost:8080/",
     "height": 265
    },
    "executionInfo": {
     "elapsed": 556,
     "status": "ok",
     "timestamp": 1678242580003,
     "user": {
      "displayName": "Carlos Arellano",
      "userId": "03055712073717640513"
     },
     "user_tz": 360
    },
    "id": "pwWPHX_4C61a",
    "outputId": "586fd274-d4a4-4501-d631-b3c41fb2a0cd"
   },
   "outputs": [],
   "source": [
    "#Grafica de la predicción\n",
    "f=lin.predict(df[['Pronóstico_lin','Pronóstico_cuad']])\n",
    "plt.scatter(df['Pronóstico_lin'],df['Temperatura mínima'],label='Observaciones')\n",
    "plt.scatter(df['Pronóstico_lin'],f,label='Predicción')\n",
    "plt.legend()\n",
    "plt.grid()"
   ]
  },
  {
   "cell_type": "code",
   "execution_count": null,
   "metadata": {
    "colab": {
     "base_uri": "https://localhost:8080/",
     "height": 265
    },
    "executionInfo": {
     "elapsed": 235,
     "status": "ok",
     "timestamp": 1678242677301,
     "user": {
      "displayName": "Carlos Arellano",
      "userId": "03055712073717640513"
     },
     "user_tz": 360
    },
    "id": "i0N_r3aLDYI3",
    "outputId": "607a0c2a-d5d3-4cae-c6b5-b659af058018"
   },
   "outputs": [],
   "source": [
    "plt.scatter(df['Pronóstico_cuad'],df['Temperatura mínima'],label='Observaciones')\n",
    "plt.scatter(df['Pronóstico_cuad'],f,label='Predicción')\n",
    "plt.legend()\n",
    "plt.grid()"
   ]
  },
  {
   "cell_type": "code",
   "execution_count": null,
   "metadata": {},
   "outputs": [],
   "source": []
  }
 ],
 "metadata": {
  "colab": {
   "authorship_tag": "ABX9TyMM8HDkvbsMXOC2FhEYtzRv",
   "mount_file_id": "1JSF0SlxEpnOEjdWeyj3IzGPio-lJX3cE",
   "provenance": []
  },
  "kernelspec": {
   "display_name": "Python 3 (ipykernel)",
   "language": "python",
   "name": "python3"
  },
  "language_info": {
   "codemirror_mode": {
    "name": "ipython",
    "version": 3
   },
   "file_extension": ".py",
   "mimetype": "text/x-python",
   "name": "python",
   "nbconvert_exporter": "python",
   "pygments_lexer": "ipython3",
   "version": "3.12.7"
  }
 },
 "nbformat": 4,
 "nbformat_minor": 4
}
