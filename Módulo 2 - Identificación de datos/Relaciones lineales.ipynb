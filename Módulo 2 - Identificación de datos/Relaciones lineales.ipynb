{
 "cells": [
  {
   "cell_type": "markdown",
   "metadata": {},
   "source": [
    "<img style=\"float: left;;\" src='Figures/iteso.jpg' width=\"100\" height=\"200\"/></a>\n",
    "\n",
    "# <center> <font color= #000047> Relaciones Lineales </font> </center>"
   ]
  },
  {
   "cell_type": "code",
   "execution_count": null,
   "metadata": {},
   "outputs": [],
   "source": [
    "from sklearn.datasets import load_wine\n",
    "import numpy as np\n",
    "import seaborn as sns\n",
    "from scipy.optimize import minimize\n",
    "import matplotlib.pyplot as plt\n",
    "import pandas as pd"
   ]
  },
  {
   "cell_type": "markdown",
   "metadata": {},
   "source": [
    "Hasta este punto, hemos analizado cada variable individualmente utilizando sus distribuciones, así como medidas de forma y dispersión. Además, es posible explorar las relaciones entre dos o más variables tanto de manera gráfica como mediante estadísticos. Ahora nos enfocaremos en el estudio de la relación entre dos variables cuantitativas utilizando la covarianza, correlación y relaciones lineales que puedan existir."
   ]
  },
  {
   "cell_type": "markdown",
   "metadata": {},
   "source": [
    "## Covarianza"
   ]
  },
  {
   "cell_type": "markdown",
   "metadata": {},
   "source": [
    "La **covarianza** mide el grado en que dos variables varían juntas. Si ambas variables tienden a aumentar o disminuir al mismo tiempo, la covarianza será positiva. Si una aumenta mientras la otra disminuye, la covarianza será negativa. Consideremos dos conjuntos de datos $X$ y $Y$ con el mismo número de muestras: $(x_1,y_1),(x_2,y_2),...,(x_n,y_n)$ podemos calcular la covarianza Covarianza como:\n",
    "\n",
    "$$ \\mathrm{Cov}(X, Y) = \\frac{1}{n-1} \\sum_{i=1}^{n} (x_i - \\bar{x})(y_i - \\bar{y}) $$\n",
    "\n",
    "Donde:\n",
    "- $x_i, y_i$ son los valores de las variables $X$ y $Y$.\n",
    "- $\\bar{x}, \\bar{y}$ son las medias de $X$ y $Y$.\n",
    "- $n$ es el número de observaciones.\n",
    "\n",
    "La covarianza depende de las unidades de las variables y su magnitud no es fácil de interpretar directamente.\n",
    "\n",
    "> Si $\\mathrm{Cov}(X, Y)=0$ entonces no existe relación lineal entre $X$ e $Y$.\n",
    "\n",
    "> Si $\\mathrm{Cov}(X, Y)>0$ entonces existe una relación lineal directa o positiva entre $X$ e $Y$. Esto es, a mayores valores de $X$, en promedio tenemos mayores valores de Y y viceversa.\n",
    "\n",
    "> Si $\\mathrm{Cov}(X, Y)<0$ entonces existe una relación lineal inversa o negativa entre $X$ e $Y$. Esto es, a mayores valores de $X$, en promedio tenemos menores valores de $Y$ y viceversa.\n",
    "\n",
    " "
   ]
  },
  {
   "cell_type": "code",
   "execution_count": null,
   "metadata": {},
   "outputs": [],
   "source": [
    "iris = sns.load_dataset('iris')\n",
    "iris.head()"
   ]
  },
  {
   "cell_type": "code",
   "execution_count": null,
   "metadata": {},
   "outputs": [],
   "source": [
    "iris = iris.iloc[:,:-1]"
   ]
  },
  {
   "cell_type": "code",
   "execution_count": null,
   "metadata": {},
   "outputs": [],
   "source": [
    "# Gráfica de dispersión de  petal_width vs petal_length\n",
    "plt.figure(figsize=(6,4))\n",
    "plt.scatter(iris['petal_length'],iris['petal_width'])\n",
    "plt.xlabel('petal_length')\n",
    "plt.ylabel('petal_width')\n",
    "plt.title('petal_width vs petal_length')\n",
    "plt.grid()"
   ]
  },
  {
   "cell_type": "code",
   "execution_count": null,
   "metadata": {},
   "outputs": [],
   "source": [
    "cov_mat = iris.cov()\n",
    "cov_mat"
   ]
  },
  {
   "cell_type": "code",
   "execution_count": null,
   "metadata": {},
   "outputs": [],
   "source": [
    "#La covarianza entre petal_length y sepal_width es negativa; la relación lineal entre las variables es inversa.\n",
    "cov_mat.loc[\"petal_length\", \"sepal_width\"] "
   ]
  },
  {
   "cell_type": "markdown",
   "metadata": {},
   "source": [
    "#### Propiedades de la covarianza\n",
    "Dada una muestra $(x_1,y_1),(x_2,y_2),...,(x_n,y_n)$, se cumplen las siguientes propiedades relacionadas con la covarianza $\\mathrm{Cov}(X, Y)$:\n",
    "\n",
    "1. Si transformamos linealmente las variables originales $\\hat{X}=a+bX$, $\\hat{Y}=c+dY$, la covarianza $\\mathrm{Cov}(\\hat{X}, \\hat{Y})$ es la covarianza original multiplicada por $bd$. Las constantes que se suman no alteran el resultado $\\mathrm{Cov}(\\hat{X}, \\hat{Y}) = bd\\mathrm{Cov}(X, Y)$.\n"
   ]
  },
  {
   "cell_type": "code",
   "execution_count": null,
   "metadata": {},
   "outputs": [],
   "source": [
    "iris[\"petal_length_transform\"] = 5 + 2*iris[\"petal_length\"]\n",
    "iris[\"petal_width_transform\"] = 3 - 4*iris[\"petal_width\"]\n",
    "\n",
    "cov_mat = iris.cov()\n",
    "cov_mat\n"
   ]
  },
  {
   "cell_type": "code",
   "execution_count": null,
   "metadata": {},
   "outputs": [],
   "source": [
    "cov_mat.loc[\"petal_length\", \"petal_width\"]"
   ]
  },
  {
   "cell_type": "code",
   "execution_count": null,
   "metadata": {},
   "outputs": [],
   "source": [
    "cov_mat.loc[\"petal_length_transform\", \"petal_width_transform\"], 2*(-4)*cov_mat.loc[\"petal_length\", \"petal_width\"]"
   ]
  },
  {
   "cell_type": "markdown",
   "metadata": {},
   "source": [
    "2. La covarianza de una variable consigo misma es la varianza de la variable: $\\mathrm{Cov}(X, X) = \\mathrm{Cov}^2(X) $ "
   ]
  },
  {
   "cell_type": "code",
   "execution_count": null,
   "metadata": {},
   "outputs": [],
   "source": [
    "iris[\"petal_length\"].var()"
   ]
  },
  {
   "cell_type": "code",
   "execution_count": null,
   "metadata": {},
   "outputs": [],
   "source": [
    "cov_mat.loc[\"petal_length\", \"petal_length\"]"
   ]
  },
  {
   "cell_type": "markdown",
   "metadata": {},
   "source": [
    "3. La covarianza entre $X$ e $Y$ es igual a la covarianza entre $Y$ y $X$:  $\\mathrm{Cov}(X, Y) = \\mathrm{Cov}(Y, X) $ "
   ]
  },
  {
   "cell_type": "code",
   "execution_count": null,
   "metadata": {},
   "outputs": [],
   "source": [
    "cov_mat.loc[\"petal_length\", \"petal_width\"] == cov_mat.loc[\"petal_width\", \"petal_length\"]"
   ]
  },
  {
   "cell_type": "markdown",
   "metadata": {},
   "source": [
    "4. La covarianza puede calcularse también de la siguiente manera: $\\mathrm{Cov}(X, Y)= \\frac{\\sum_{i=1}^n x_iy_i}{n-1} - \\frac{n}{n-1}\\bar{X}\\bar{Y}$"
   ]
  },
  {
   "cell_type": "code",
   "execution_count": null,
   "metadata": {},
   "outputs": [],
   "source": [
    "def cov_alterna(x, y): #En ocasiones, esta formulación es más sencilla de calcular que la de la definición, incluso para las computadoras.\n",
    "  n = len(x)\n",
    "  \n",
    "  return ((x * y).sum() / (n - 1)) - ((n / (n - 1)) * x.mean() * y.mean())\n",
    "\n",
    "cov_mat.loc[\"petal_length\", \"petal_width\"]"
   ]
  },
  {
   "cell_type": "code",
   "execution_count": null,
   "metadata": {},
   "outputs": [],
   "source": [
    "cov_alterna(iris[\"petal_length\"], iris[\"petal_width\"])"
   ]
  },
  {
   "cell_type": "markdown",
   "metadata": {},
   "source": [
    "## Correlación"
   ]
  },
  {
   "cell_type": "markdown",
   "metadata": {
    "executionInfo": {
     "elapsed": 2764,
     "status": "ok",
     "timestamp": 1675213872172,
     "user": {
      "displayName": "Carlos Arellano",
      "userId": "03055712073717640513"
     },
     "user_tz": 360
    },
    "id": "O-jiDwY--cid"
   },
   "source": [
    "Aunque la covarianza nos da el signo de la relación entre dos variables, al depender de las unidades de $X$ y de $Y$, no sabemos si un valor es alto o bajo; sólo sabemos el signo. Para solucionar esto, estandarizamos los valores.\n",
    "\n",
    "Dada una muestra $(x_1,y_1),(x_2,y_2),...,(x_n,y_n)$, calculamos la correlación entre $X$ e $Y$, y la denotamos por $r(X,Y)$ al cociente de la covarianza dividida entre el producto de las desviaciones estándar.\n",
    "\n",
    "\n",
    "$$ r(X,Y) = \\frac{\\mathrm{Cov}(X, Y)}{\\sigma_X \\sigma_Y} $$\n",
    "\n",
    "Donde:\n",
    "- $\\mathrm{Cov}(X, Y)$ es la covarianza entre $X$ y $Y$.\n",
    "- $\\sigma_X, \\sigma_Y$ son las desviaciones estándar de $X$ y $Y$.\n",
    "\n",
    "Este estadístico, también conocido como Coeficiente de correlación de Pearson se encuentra entre -1 y 1.\n",
    "\n",
    "> $r(X,Y) = 1$: correlación positiva perfecta.\n",
    "\n",
    "> $r(X,Y) = -1$: correlación negativa perfecta.\n",
    "\n",
    "> $r(X,Y) = 0$: no hay relación lineal.\n",
    "\n",
    "La correlación es adimensional y permite comparar relaciones entre variables de diferentes unidades."
   ]
  },
  {
   "cell_type": "markdown",
   "metadata": {},
   "source": [
    "Cuando una variable es una transformación lineal de otra, la correlación es perfecta. Por ejemplo, si tenemos dos variables, una que mide distancia recorrida en cierto tiempo y otra que mide velocidad (asumiendo que la velocidad es constante en ese mismo tiempo), el coeficiente de correlación será 1."
   ]
  },
  {
   "cell_type": "code",
   "execution_count": null,
   "metadata": {},
   "outputs": [],
   "source": [
    "iris.head()"
   ]
  },
  {
   "cell_type": "code",
   "execution_count": null,
   "metadata": {},
   "outputs": [],
   "source": [
    "corr_mat = iris.corr()\n",
    "corr_mat"
   ]
  },
  {
   "cell_type": "markdown",
   "metadata": {},
   "source": [
    "#### Propiedades de la correlación\n",
    "Dada una muestra $(x_1,y_1),(x_2,y_2),...,(x_n,y_n)$, se cumplen las siguientes propiedades relacionadas con la correlación $r(X, Y)$:\n",
    "\n",
    "1. Si transformamos linealmente las variables originales $\\hat{X}=a+bX$, $\\hat{Y}=c+dY$, la correlación $r(\\hat{X}, \\hat{Y})$ es la correlación original multiplicada por el signo de $bd$ para cualquier $b\\neq 0,, d\\neq 0$.  $$r(\\hat{X}, \\hat{Y}) = \\frac{bd}{|bd|} r(X, Y)$$\n"
   ]
  },
  {
   "cell_type": "code",
   "execution_count": null,
   "metadata": {},
   "outputs": [],
   "source": [
    "iris[\"petal_length_transform\"] = 5 + 2*iris[\"petal_length\"]\n",
    "iris[\"petal_width_transform\"] = 3 - 4*iris[\"petal_width\"]\n",
    "\n",
    "corr_mat = iris.corr()\n",
    "corr_mat.loc[\"petal_length\", \"petal_width\"]"
   ]
  },
  {
   "cell_type": "code",
   "execution_count": null,
   "metadata": {},
   "outputs": [],
   "source": [
    " corr_mat.loc[\"petal_length\", \"petal_width\"]*((2*-4)/(abs(2*-4)))"
   ]
  },
  {
   "cell_type": "code",
   "execution_count": null,
   "metadata": {},
   "outputs": [],
   "source": [
    "corr_mat.loc[\"petal_length_transform\", \"petal_width_transform\"]"
   ]
  },
  {
   "cell_type": "markdown",
   "metadata": {},
   "source": [
    "2. La correlación de una variable consigo misma es 1"
   ]
  },
  {
   "cell_type": "code",
   "execution_count": null,
   "metadata": {},
   "outputs": [],
   "source": [
    "corr_mat.loc[\"petal_length\", \"petal_length\"]"
   ]
  },
  {
   "cell_type": "markdown",
   "metadata": {},
   "source": [
    "3. La correlación entre $X$ e $Y$ es igual a la correlación entre $Y$ y $X$"
   ]
  },
  {
   "cell_type": "code",
   "execution_count": null,
   "metadata": {},
   "outputs": [],
   "source": [
    "corr_mat.loc[\"petal_length\", \"petal_width\"]"
   ]
  },
  {
   "cell_type": "code",
   "execution_count": null,
   "metadata": {},
   "outputs": [],
   "source": [
    "corr_mat.loc[\"petal_width\", \"petal_length\"]"
   ]
  },
  {
   "cell_type": "markdown",
   "metadata": {},
   "source": [
    "¿Qué valor tendría la correlación entre X y −X?"
   ]
  },
  {
   "cell_type": "code",
   "execution_count": null,
   "metadata": {},
   "outputs": [],
   "source": [
    "corr = iris.corr(numeric_only=True)\n",
    "\n",
    "# Graficar el mapa de calor de correlaciones\n",
    "plt.figure(figsize=(6,4))\n",
    "sns.heatmap(corr, annot=True, cmap='coolwarm', fmt=\".2f\")\n",
    "plt.title('Matriz de correlación del dataset Iris')\n",
    "plt.show()"
   ]
  },
  {
   "cell_type": "markdown",
   "metadata": {
    "id": "6PKkey4K6NGc"
   },
   "source": [
    "# ¿Cómo se ven las correlaciones?"
   ]
  },
  {
   "cell_type": "code",
   "execution_count": null,
   "metadata": {
    "colab": {
     "base_uri": "https://localhost:8080/",
     "height": 270
    },
    "executionInfo": {
     "elapsed": 7,
     "status": "ok",
     "timestamp": 1675213872173,
     "user": {
      "displayName": "Carlos Arellano",
      "userId": "03055712073717640513"
     },
     "user_tz": 360
    },
    "id": "9QE4Nf-3_QXV",
    "outputId": "6d48738e-56bb-46e1-9315-9a01766e606c"
   },
   "outputs": [],
   "source": [
    "LW=load_wine()\n",
    "data=LW.data\n",
    "names=LW.feature_names\n",
    "df=pd.DataFrame(data=data,columns=names)\n",
    "df.head()"
   ]
  },
  {
   "cell_type": "code",
   "execution_count": null,
   "metadata": {},
   "outputs": [],
   "source": [
    "wine_corr = df.corr()\n",
    "wine_corr"
   ]
  },
  {
   "cell_type": "code",
   "execution_count": null,
   "metadata": {
    "scrolled": true
   },
   "outputs": [],
   "source": [
    "print(LW.DESCR)"
   ]
  },
  {
   "cell_type": "markdown",
   "metadata": {
    "id": "5XZXxtumZ8FB"
   },
   "source": [
    "## Relación entre `flavanoids` y `ash`"
   ]
  },
  {
   "cell_type": "code",
   "execution_count": null,
   "metadata": {
    "colab": {
     "base_uri": "https://localhost:8080/",
     "height": 265
    },
    "executionInfo": {
     "elapsed": 440,
     "status": "ok",
     "timestamp": 1675213872607,
     "user": {
      "displayName": "Carlos Arellano",
      "userId": "03055712073717640513"
     },
     "user_tz": 360
    },
    "id": "dWcGFt9QZ86k",
    "outputId": "e01d29d9-79c2-427c-b921-857fadb3a209"
   },
   "outputs": [],
   "source": [
    "# Gráfica flavanoids vs ash\n",
    "plt.figure(figsize=(8,6))\n",
    "plt.scatter(df['flavanoids'],df['ash'])\n",
    "plt.xlabel('flavanoids')\n",
    "plt.ylabel('ash')\n",
    "plt.title('flavanoids vs ash')\n",
    "plt.grid()"
   ]
  },
  {
   "cell_type": "markdown",
   "metadata": {
    "id": "Wz9YVB2PaBop"
   },
   "source": [
    "## Relación entre `alcalinity_of_ash` y `ash`"
   ]
  },
  {
   "cell_type": "code",
   "execution_count": null,
   "metadata": {
    "colab": {
     "base_uri": "https://localhost:8080/",
     "height": 265
    },
    "executionInfo": {
     "elapsed": 437,
     "status": "ok",
     "timestamp": 1675213875191,
     "user": {
      "displayName": "Carlos Arellano",
      "userId": "03055712073717640513"
     },
     "user_tz": 360
    },
    "id": "E_1qsGLUZ_H6",
    "outputId": "65ab0f0d-223e-4265-a253-84e95c0b8fda"
   },
   "outputs": [],
   "source": [
    "# Gráfica alcalinity_of_ash vs ash\n",
    "plt.scatter(df['alcalinity_of_ash'],df['ash'])\n",
    "plt.xlabel('alcalinity_of_ash')\n",
    "plt.ylabel('ash')\n",
    "plt.title('alcalinity_of_ash vs ash')\n",
    "plt.grid()"
   ]
  },
  {
   "cell_type": "markdown",
   "metadata": {},
   "source": [
    "#### Relación lineal"
   ]
  },
  {
   "cell_type": "markdown",
   "metadata": {
    "id": "1hhjqsGEaG9e"
   },
   "source": [
    "Encontrar la mejor función lineal que relacione a las variables"
   ]
  },
  {
   "cell_type": "code",
   "execution_count": null,
   "metadata": {
    "executionInfo": {
     "elapsed": 193,
     "status": "ok",
     "timestamp": 1675213912077,
     "user": {
      "displayName": "Carlos Arellano",
      "userId": "03055712073717640513"
     },
     "user_tz": 360
    },
    "id": "IFQnP_V1h5D8"
   },
   "outputs": [],
   "source": [
    "minimize?"
   ]
  },
  {
   "cell_type": "code",
   "execution_count": null,
   "metadata": {
    "executionInfo": {
     "elapsed": 165,
     "status": "ok",
     "timestamp": 1675214218750,
     "user": {
      "displayName": "Carlos Arellano",
      "userId": "03055712073717640513"
     },
     "user_tz": 360
    },
    "id": "5IdQZadRaMeE"
   },
   "outputs": [],
   "source": [
    "# Definimos 'fun', el criterio de minimizacion\n",
    "#\n",
    "# ash=a[0]+a[1]*flavanoids\n",
    "# y = mx + b \n",
    "# y = AX  ---->  [a0,a1]*[1, x]\n",
    "def fun(a,x,y):\n",
    "    f=a[0]+a[1]*x\n",
    "    return np.mean((f-y)**2)"
   ]
  },
  {
   "cell_type": "code",
   "execution_count": null,
   "metadata": {
    "colab": {
     "base_uri": "https://localhost:8080/"
    },
    "executionInfo": {
     "elapsed": 162,
     "status": "ok",
     "timestamp": 1675214359391,
     "user": {
      "displayName": "Carlos Arellano",
      "userId": "03055712073717640513"
     },
     "user_tz": 360
    },
    "id": "DDYiTS6JjGQQ",
    "outputId": "33c5ad6d-181e-4e4d-bb80-e179753a3a70"
   },
   "outputs": [],
   "source": [
    "a0=np.random.rand(2) # Dos elementos uniformemente distrubuidos entre 0 y 1\n",
    "sol=minimize(fun,a0,args=(df.flavanoids,df.ash))\n",
    "sol"
   ]
  },
  {
   "cell_type": "markdown",
   "metadata": {
    "id": "wgFvzX5-kDE1"
   },
   "source": [
    "---\n",
    "La ecuación óptima que relaciona `flavanoids` y `ash` es \n",
    "$$\n",
    "ash=2.3+0.0316\\;flavanoids,\n",
    "$$\n",
    "con un $mse=0.07385$."
   ]
  },
  {
   "cell_type": "code",
   "execution_count": null,
   "metadata": {},
   "outputs": [],
   "source": [
    "sol.x"
   ]
  },
  {
   "cell_type": "code",
   "execution_count": null,
   "metadata": {},
   "outputs": [],
   "source": [
    "fun(sol.x,df.flavanoids,df.ash)"
   ]
  },
  {
   "cell_type": "code",
   "execution_count": null,
   "metadata": {
    "colab": {
     "base_uri": "https://localhost:8080/",
     "height": 265
    },
    "executionInfo": {
     "elapsed": 616,
     "status": "ok",
     "timestamp": 1675214759662,
     "user": {
      "displayName": "Carlos Arellano",
      "userId": "03055712073717640513"
     },
     "user_tz": 360
    },
    "id": "xlNbzIkbaNVk",
    "outputId": "8f7b2a35-92bc-430e-bd1f-85d9605f6fb0"
   },
   "outputs": [],
   "source": [
    "# Flavanoids vs ash\n",
    "\n",
    "x=df.flavanoids\n",
    "a=sol.x\n",
    "f_fl_ash=a[0]+a[1]*x #ecuación de la recta\n",
    "plt.figure(figsize=(5,4))\n",
    "plt.scatter(df.flavanoids,df.ash,s=5) # s=size\n",
    "plt.plot(x,f_fl_ash,'r') # 'r'=red\n",
    "plt.xlabel('flavanoids')\n",
    "plt.ylabel('ash')\n",
    "plt.title(f'alcalinity_of_ash vs ash correlación: {np.round(wine_corr.loc['flavanoids', 'ash'],3)}')\n",
    "plt.grid() # Cuadrícula de fondo"
   ]
  },
  {
   "cell_type": "code",
   "execution_count": null,
   "metadata": {
    "colab": {
     "base_uri": "https://localhost:8080/"
    },
    "executionInfo": {
     "elapsed": 153,
     "status": "ok",
     "timestamp": 1675214944465,
     "user": {
      "displayName": "Carlos Arellano",
      "userId": "03055712073717640513"
     },
     "user_tz": 360
    },
    "id": "hQAd_gPeaPbm",
    "outputId": "333e681c-d5b6-4ea8-b797-f6cf49df9239"
   },
   "outputs": [],
   "source": [
    "# Función lineal que relaciona Ash vs su alcalinidad\n",
    "#\n",
    "# Usamos la misma función 'fun' (criterio de optimización) y las mismas condiciones iniciales 'a0'\n",
    "sol2=minimize(fun,a0,args=(df.alcalinity_of_ash,df.ash))\n",
    "sol2"
   ]
  },
  {
   "cell_type": "markdown",
   "metadata": {
    "id": "JRMjZ9KxmV1b"
   },
   "source": [
    "---\n",
    "La ecuación óptima que relaciona `alcalinity_of_ash` con `ash` es\n",
    "$$\n",
    "ash=1.656+0.0364\\;alcalinity\\_of\\_ash,\n",
    "$$\n",
    "con un $mse=0.06013$."
   ]
  },
  {
   "cell_type": "code",
   "execution_count": null,
   "metadata": {
    "colab": {
     "base_uri": "https://localhost:8080/",
     "height": 265
    },
    "executionInfo": {
     "elapsed": 439,
     "status": "ok",
     "timestamp": 1675215262584,
     "user": {
      "displayName": "Carlos Arellano",
      "userId": "03055712073717640513"
     },
     "user_tz": 360
    },
    "id": "Skc6TRdFmwft",
    "outputId": "67a46f5b-b0c3-49a1-86df-8b05831dbd3b"
   },
   "outputs": [],
   "source": [
    "a=sol2.x\n",
    "x=df.alcalinity_of_ash\n",
    "f=a[0]+a[1]*x\n",
    "plt.scatter(x,df.ash,s=5)\n",
    "plt.plot(x,f,'r')\n",
    "plt.grid()"
   ]
  },
  {
   "cell_type": "code",
   "execution_count": null,
   "metadata": {},
   "outputs": [],
   "source": [
    "wine_corr.loc['alcalinity_of_ash', 'ash']"
   ]
  },
  {
   "cell_type": "markdown",
   "metadata": {},
   "source": [
    "## Relación lineal usando Librerías"
   ]
  },
  {
   "cell_type": "code",
   "execution_count": null,
   "metadata": {},
   "outputs": [],
   "source": [
    "from sklearn.linear_model import LinearRegression"
   ]
  },
  {
   "cell_type": "code",
   "execution_count": null,
   "metadata": {},
   "outputs": [],
   "source": [
    "lin = LinearRegression()"
   ]
  },
  {
   "cell_type": "code",
   "execution_count": null,
   "metadata": {},
   "outputs": [],
   "source": [
    "df['flavanoids'].values.shape"
   ]
  },
  {
   "cell_type": "code",
   "execution_count": null,
   "metadata": {},
   "outputs": [],
   "source": [
    "df['flavanoids'].shape"
   ]
  },
  {
   "cell_type": "code",
   "execution_count": null,
   "metadata": {},
   "outputs": [],
   "source": [
    "df[[ 'flavanoids']].shape"
   ]
  },
  {
   "cell_type": "code",
   "execution_count": null,
   "metadata": {},
   "outputs": [],
   "source": [
    "lin.fit(df[[ 'flavanoids']].values,df['ash'])"
   ]
  },
  {
   "cell_type": "code",
   "execution_count": null,
   "metadata": {},
   "outputs": [],
   "source": [
    "lin.coef_"
   ]
  },
  {
   "cell_type": "code",
   "execution_count": null,
   "metadata": {},
   "outputs": [],
   "source": [
    "lin.intercept_"
   ]
  },
  {
   "cell_type": "code",
   "execution_count": null,
   "metadata": {},
   "outputs": [],
   "source": [
    "# y = coef_+x +intercept\n",
    "f_linprog= lin.predict(df[[ 'flavanoids']])"
   ]
  },
  {
   "cell_type": "code",
   "execution_count": null,
   "metadata": {},
   "outputs": [],
   "source": [
    "plt.scatter(df.flavanoids,df.ash,s=5) # s=size\n",
    "x=df.flavanoids\n",
    "#a=sol.x\n",
    "#f_m=a[0]+a[1]*x #ecuación de la recta\n",
    "plt.plot(x,f_fl_ash,'r') # 'r'=red\n",
    "plt.plot(x,f_linprog,'k') # 'r'=black\n",
    "plt.grid() # Cuadrícula de fondo"
   ]
  },
  {
   "cell_type": "markdown",
   "metadata": {},
   "source": [
    "Es importante resaltar que la covarianza y el coeficiente de correlación no detectan relaciones no lineales entre las variables. Por ejemplo, si la relación entre $X$ e $Y$ es cuadrática (o polinímica de mayor órden), logarítmica, exponencial, etc., podríamos tener un coeficiente de correlación cercano a 0, pero esto no significaría que no hay relación entre $X$ e $Y$, sólo significa que no hay relación lineal entre estas variables."
   ]
  },
  {
   "cell_type": "code",
   "execution_count": null,
   "metadata": {},
   "outputs": [],
   "source": []
  }
 ],
 "metadata": {
  "colab": {
   "authorship_tag": "ABX9TyNkivbAWaZ3leJ2iVs6pLkj",
   "provenance": []
  },
  "kernelspec": {
   "display_name": "Python 3 (ipykernel)",
   "language": "python",
   "name": "python3"
  },
  "language_info": {
   "codemirror_mode": {
    "name": "ipython",
    "version": 3
   },
   "file_extension": ".py",
   "mimetype": "text/x-python",
   "name": "python",
   "nbconvert_exporter": "python",
   "pygments_lexer": "ipython3",
   "version": "3.12.7"
  }
 },
 "nbformat": 4,
 "nbformat_minor": 4
}
