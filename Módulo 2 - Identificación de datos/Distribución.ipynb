{
 "cells": [
  {
   "cell_type": "markdown",
   "metadata": {},
   "source": [
    "<img style=\"float: left;;\" src='Figures/iteso.jpg' width=\"100\" height=\"200\"/></a>\n",
    "\n",
    "# <center> <font color= #000047> Distribución de Datos </font> </center>"
   ]
  },
  {
   "cell_type": "code",
   "execution_count": null,
   "metadata": {
    "executionInfo": {
     "elapsed": 1826,
     "status": "ok",
     "timestamp": 1675818739316,
     "user": {
      "displayName": "Carlos Arellano",
      "userId": "03055712073717640513"
     },
     "user_tz": 360
    },
    "id": "GuZUNBV307ip"
   },
   "outputs": [],
   "source": [
    "from sklearn.datasets import load_wine\n",
    "import pandas as pd\n",
    "import numpy as np\n",
    "import matplotlib.pyplot as plt\n",
    "from scipy import stats"
   ]
  },
  {
   "cell_type": "code",
   "execution_count": null,
   "metadata": {
    "colab": {
     "base_uri": "https://localhost:8080/",
     "height": 270
    },
    "executionInfo": {
     "elapsed": 9,
     "status": "ok",
     "timestamp": 1675818739320,
     "user": {
      "displayName": "Carlos Arellano",
      "userId": "03055712073717640513"
     },
     "user_tz": 360
    },
    "id": "rwKixISG3Em7",
    "outputId": "566d31e4-4888-4acf-b29d-a3fcd2ead3dc"
   },
   "outputs": [],
   "source": [
    "LW=load_wine()\n",
    "data=LW.data\n",
    "names=LW.feature_names\n",
    "df=pd.DataFrame(data=data,columns=names)\n",
    "df.head()"
   ]
  },
  {
   "cell_type": "markdown",
   "metadata": {
    "id": "zmIUDxwY3l63"
   },
   "source": [
    "# Distribución"
   ]
  },
  {
   "cell_type": "code",
   "execution_count": null,
   "metadata": {},
   "outputs": [],
   "source": [
    "#'total phenols'\n",
    "#df.loc[:,'total phenols']"
   ]
  },
  {
   "cell_type": "code",
   "execution_count": null,
   "metadata": {
    "colab": {
     "base_uri": "https://localhost:8080/",
     "height": 265
    },
    "executionInfo": {
     "elapsed": 869,
     "status": "ok",
     "timestamp": 1675818760924,
     "user": {
      "displayName": "Carlos Arellano",
      "userId": "03055712073717640513"
     },
     "user_tz": 360
    },
    "id": "PtI5CPhC3Wfy",
    "outputId": "55f1cb88-203f-4323-f3f9-1c5f63e6e685"
   },
   "outputs": [],
   "source": [
    "x=df.alcohol # objeto de tipo series\n",
    "h=x.hist(bins=10)"
   ]
  },
  {
   "cell_type": "code",
   "execution_count": null,
   "metadata": {},
   "outputs": [],
   "source": [
    "type(x)"
   ]
  },
  {
   "cell_type": "code",
   "execution_count": null,
   "metadata": {},
   "outputs": [],
   "source": [
    "x"
   ]
  },
  {
   "cell_type": "code",
   "execution_count": null,
   "metadata": {
    "colab": {
     "base_uri": "https://localhost:8080/",
     "height": 334
    },
    "executionInfo": {
     "elapsed": 414,
     "status": "ok",
     "timestamp": 1675219765610,
     "user": {
      "displayName": "Carlos Arellano",
      "userId": "03055712073717640513"
     },
     "user_tz": 360
    },
    "id": "4M2OiS7a321i",
    "outputId": "97d83864-e998-4a71-d4ba-ad6d10bead59"
   },
   "outputs": [],
   "source": [
    "plt.hist(x);"
   ]
  },
  {
   "cell_type": "code",
   "execution_count": null,
   "metadata": {
    "colab": {
     "base_uri": "https://localhost:8080/",
     "height": 499
    },
    "executionInfo": {
     "elapsed": 1655,
     "status": "ok",
     "timestamp": 1675219894587,
     "user": {
      "displayName": "Carlos Arellano",
      "userId": "03055712073717640513"
     },
     "user_tz": 360
    },
    "id": "EWU4srJr4or9",
    "outputId": "741d07b9-2e3d-4ba9-e5ca-4d11017aeff2"
   },
   "outputs": [],
   "source": [
    "h=df.hist(figsize=(10,8))"
   ]
  },
  {
   "cell_type": "markdown",
   "metadata": {
    "id": "rINMXPdT45vr"
   },
   "source": [
    "# Medidas de posición o de tendencia central"
   ]
  },
  {
   "cell_type": "markdown",
   "metadata": {},
   "source": [
    "### Media aritmética"
   ]
  },
  {
   "cell_type": "markdown",
   "metadata": {},
   "source": [
    "La **media** es el promedio aritmético de un conjunto de datos.\n",
    "\n",
    "$$ \\bar{x} = \\frac{1}{n} \\sum_{i=1}^{n} x_i $$\n",
    "\n",
    "Donde $x_i$ son los valores y $n$ es el número total de datos."
   ]
  },
  {
   "cell_type": "code",
   "execution_count": null,
   "metadata": {},
   "outputs": [],
   "source": [
    "# Ejemplo de cálculo de la media en Python\n",
    "datos = [10, 12, 15, 18, 20] # conjunto de datos\n",
    "media = np.mean(datos)       # cálculo de la media con python\n",
    "print('Media:', media) "
   ]
  },
  {
   "cell_type": "code",
   "execution_count": null,
   "metadata": {
    "colab": {
     "base_uri": "https://localhost:8080/"
    },
    "executionInfo": {
     "elapsed": 4,
     "status": "ok",
     "timestamp": 1675220001959,
     "user": {
      "displayName": "Carlos Arellano",
      "userId": "03055712073717640513"
     },
     "user_tz": 360
    },
    "id": "Fk-aWUBl49Cn",
    "outputId": "974f199c-f136-40da-eee4-c79a40064d73"
   },
   "outputs": [],
   "source": [
    "# Considerando la característica \"alcohol\" del dataframe df\n",
    "x.mean()"
   ]
  },
  {
   "cell_type": "code",
   "execution_count": null,
   "metadata": {
    "colab": {
     "base_uri": "https://localhost:8080/"
    },
    "executionInfo": {
     "elapsed": 148,
     "status": "ok",
     "timestamp": 1675220030335,
     "user": {
      "displayName": "Carlos Arellano",
      "userId": "03055712073717640513"
     },
     "user_tz": 360
    },
    "id": "7kirvY505KKw",
    "outputId": "72a4a0e3-b253-4fd4-9818-0eb87d3240f9"
   },
   "outputs": [],
   "source": [
    "#Esto es equivalente a utilizar el método de la librería de numpy\n",
    "np.mean(x)"
   ]
  },
  {
   "cell_type": "code",
   "execution_count": null,
   "metadata": {
    "colab": {
     "base_uri": "https://localhost:8080/"
    },
    "executionInfo": {
     "elapsed": 150,
     "status": "ok",
     "timestamp": 1675220047504,
     "user": {
      "displayName": "Carlos Arellano",
      "userId": "03055712073717640513"
     },
     "user_tz": 360
    },
    "id": "NqbicXTp5RGf",
    "outputId": "30272907-6940-47d6-efc2-60a23fca48d6"
   },
   "outputs": [],
   "source": [
    "# Obtención de la media de todas las características en el dataset\n",
    "s_mean = df.mean()\n",
    "s_mean"
   ]
  },
  {
   "cell_type": "code",
   "execution_count": null,
   "metadata": {},
   "outputs": [],
   "source": [
    "#Media de la carcaterística flavanoids\n",
    "s_mean['flavanoids'] "
   ]
  },
  {
   "cell_type": "code",
   "execution_count": null,
   "metadata": {},
   "outputs": [],
   "source": [
    "plt.figure(figsize=(5, 4))\n",
    "plt.hist(x, bins=8, alpha=0.6, color='blue', edgecolor='black', label='Datos')\n",
    "plt.axvline(x.mean(), color='red', linestyle='dashed', linewidth=2, label=f'Media = {media:.2f}')\n",
    "plt.title('Distribución de \\'alcohol\\' y su media')\n",
    "plt.xlabel('Valor')\n",
    "plt.ylabel('Frecuencia')\n",
    "plt.legend()\n",
    "plt.show()\n"
   ]
  },
  {
   "cell_type": "markdown",
   "metadata": {},
   "source": [
    "### Media Recortada"
   ]
  },
  {
   "cell_type": "markdown",
   "metadata": {},
   "source": [
    "La **media recortada** es una medida de tendencia central que se calcula eliminando un porcentaje igual de los valores más bajos y más altos de un conjunto de datos antes de calcular la media. Esto reduce el efecto de los valores atípicos (outliers) en el promedio.\n",
    "\n",
    "La media recortada del $p\\%$ se calcula eliminando el $p\\%$ de los datos más pequeños y el $p\\%$ de los datos más grandes, y luego calculando la media de los datos restantes."
   ]
  },
  {
   "cell_type": "markdown",
   "metadata": {},
   "source": [
    "Sea el conjunto de datos definido como sigue: $X=\\{x_1 \\leq x_2 \\leq ... \\leq x_n\\}$\n",
    "\n",
    "Si consideramos un $p$ porcentaje que se desea recortar y a $n$ como el número de elementos totales del conjunto de datos.\n",
    "\n",
    "Entonces:\n",
    "\n",
    "$$r = floor(n*p/100)$$ \n",
    "\n",
    "$$X_{t} = \\{x_{1+r},..,x_{n-r}\\}$$"
   ]
  },
  {
   "cell_type": "markdown",
   "metadata": {},
   "source": [
    "Fórmula:\n",
    "\n",
    "$$ \\bar{x}_{recortada} = \\frac{1}{n-2k} \\sum_{i=r+1}^{n-r} x_{i} $$\n",
    "\n",
    "donde $k$ es el número de valores eliminados en cada extremo y $x_{i}$ son los datos ordenados."
   ]
  },
  {
   "cell_type": "code",
   "execution_count": null,
   "metadata": {},
   "outputs": [],
   "source": [
    "def media_recortada(datos, porcentaje_recorte):\n",
    "    media_recortada = None\n",
    "    n = len(datos)\n",
    "    r = int(n * porcentaje_recorte)\n",
    "    datos_ordenados = sorted(datos)\n",
    "    datos_recortados = datos_ordenados[r:n-r] if n - 2*r > 0 else []\n",
    "    if datos_recortados:\n",
    "        media_recortada = sum(datos_recortados) / len(datos_recortados)\n",
    "        print(f'Media recortada ({porcentaje_recorte*100}%): {media_recortada}', )\n",
    "    else:\n",
    "        print('No hay suficientes datos para calcular la media recortada con este porcentaje.')\n",
    "    return media_recortada"
   ]
  },
  {
   "cell_type": "code",
   "execution_count": null,
   "metadata": {},
   "outputs": [],
   "source": [
    "media_recortada(x, 0.1)"
   ]
  },
  {
   "cell_type": "code",
   "execution_count": null,
   "metadata": {
    "scrolled": true
   },
   "outputs": [],
   "source": [
    "stats.tmean?"
   ]
  },
  {
   "cell_type": "code",
   "execution_count": null,
   "metadata": {
    "colab": {
     "base_uri": "https://localhost:8080/"
    },
    "executionInfo": {
     "elapsed": 177,
     "status": "ok",
     "timestamp": 1675220277365,
     "user": {
      "displayName": "Carlos Arellano",
      "userId": "03055712073717640513"
     },
     "user_tz": 360
    },
    "id": "BSX2wLdN5VSH",
    "outputId": "c184c5ed-b730-421e-c833-3be2e2fe58ab"
   },
   "outputs": [],
   "source": [
    "stats.tmean(x,(12,14)) # Conociendo el limite inferior y superior"
   ]
  },
  {
   "cell_type": "code",
   "execution_count": null,
   "metadata": {},
   "outputs": [],
   "source": [
    "stats.trim_mean?"
   ]
  },
  {
   "cell_type": "code",
   "execution_count": null,
   "metadata": {
    "colab": {
     "base_uri": "https://localhost:8080/"
    },
    "executionInfo": {
     "elapsed": 152,
     "status": "ok",
     "timestamp": 1675220340865,
     "user": {
      "displayName": "Carlos Arellano",
      "userId": "03055712073717640513"
     },
     "user_tz": 360
    },
    "id": "rEkVjDFy6NZy",
    "outputId": "7c0f943b-eb2f-4916-c232-f1131f8a79c8"
   },
   "outputs": [],
   "source": [
    "stats.trim_mean(x,0.1)"
   ]
  },
  {
   "cell_type": "code",
   "execution_count": null,
   "metadata": {},
   "outputs": [],
   "source": [
    "x2 = np.array([1.3,1.5,2.0,4.7,8.9,10,11.5])\n",
    "x2"
   ]
  },
  {
   "cell_type": "code",
   "execution_count": null,
   "metadata": {},
   "outputs": [],
   "source": [
    "# p 5% de los datos\n",
    "stats.trim_mean(x2,0.05), x2.mean()"
   ]
  },
  {
   "cell_type": "code",
   "execution_count": null,
   "metadata": {},
   "outputs": [],
   "source": [
    "# p 15%\n",
    "stats.trim_mean(x2,0.15), x2.mean()"
   ]
  },
  {
   "cell_type": "markdown",
   "metadata": {},
   "source": [
    "La media recortada puede ayudarnos a:\n",
    "- Reducir el efecto de los valores atípicos (outliers) en el cálculo de la media.\n",
    "- Proporcionar una medida de tendencia central más robusta en distribuciones sesgadas o con extremos.\n",
    "\n",
    "Sin embargo:\n",
    "- Se puede perder información al eliminar datos, lo que puede ser problemático si el conjunto de datos es pequeño.\n",
    "- El porcentaje de recorte debe elegirse cuidadosamente; un valor inadecuado puede distorsionar los resultados.\n"
   ]
  },
  {
   "cell_type": "markdown",
   "metadata": {},
   "source": [
    "### Media ponderada"
   ]
  },
  {
   "cell_type": "markdown",
   "metadata": {},
   "source": [
    "Toma en cuenta la importancia o peso de cada valor en el conjunto de datos. Es útil cuando algunos datos tienen mayor relevancia que otros.\n",
    "\n",
    "\n",
    "$$ \\bar{x}_p = \\frac{\\sum_{i=1}^{n} w_i x_i}{\\sum_{i=1}^{n} w_i} $$\n",
    "\n",
    "Donde:\n",
    "- $x_i$ son los valores de los datos.\n",
    "- $w_i$ son los pesos asignados a cada valor.\n",
    "- $n$ es el número total de datos."
   ]
  },
  {
   "cell_type": "markdown",
   "metadata": {},
   "source": [
    "Considere las siguientes calificaciones y pesos de la materia:\n",
    "\n",
    "- Examen 1: 80 (peso 20%)\n",
    "- Examen 2: 90 (peso 30%)\n",
    "- Proyecto: 95 (peso 50%)\n",
    "\n",
    "La media ponderada sería:\n",
    "\n",
    "$$ \\bar{x}_p = \\frac{80 \\times 0.2 + 90 \\times 0.3 + 95 \\times 0.5}{0.2 + 0.3 + 0.5} = 91.5 $$"
   ]
  },
  {
   "cell_type": "code",
   "execution_count": null,
   "metadata": {},
   "outputs": [],
   "source": [
    "np.average?"
   ]
  },
  {
   "cell_type": "code",
   "execution_count": null,
   "metadata": {
    "colab": {
     "base_uri": "https://localhost:8080/"
    },
    "executionInfo": {
     "elapsed": 160,
     "status": "ok",
     "timestamp": 1675220432768,
     "user": {
      "displayName": "Carlos Arellano",
      "userId": "03055712073717640513"
     },
     "user_tz": 360
    },
    "id": "sG7mefh_6c6C",
    "outputId": "1d090437-dc84-4654-c65c-f52027d772d6"
   },
   "outputs": [],
   "source": [
    "np.average(x)"
   ]
  },
  {
   "cell_type": "code",
   "execution_count": null,
   "metadata": {
    "colab": {
     "base_uri": "https://localhost:8080/"
    },
    "executionInfo": {
     "elapsed": 165,
     "status": "ok",
     "timestamp": 1675220471275,
     "user": {
      "displayName": "Carlos Arellano",
      "userId": "03055712073717640513"
     },
     "user_tz": 360
    },
    "id": "VMY5r2Xf67r3",
    "outputId": "3a136cb3-cb67-4320-943a-639d717a6679"
   },
   "outputs": [],
   "source": [
    "x.shape"
   ]
  },
  {
   "cell_type": "code",
   "execution_count": null,
   "metadata": {
    "id": "K6S6tVcV6zWH"
   },
   "outputs": [],
   "source": [
    "w=np.ones(x.shape)\n",
    "w[0]=2              # A la primera observación le estamos dando el doble de importancia"
   ]
  },
  {
   "cell_type": "code",
   "execution_count": null,
   "metadata": {
    "colab": {
     "base_uri": "https://localhost:8080/"
    },
    "executionInfo": {
     "elapsed": 160,
     "status": "ok",
     "timestamp": 1675220551941,
     "user": {
      "displayName": "Carlos Arellano",
      "userId": "03055712073717640513"
     },
     "user_tz": 360
    },
    "id": "yVc0of8_7IBC",
    "outputId": "cf632447-c6fa-45d0-d85d-cda01fbf6567"
   },
   "outputs": [],
   "source": [
    "x[0]"
   ]
  },
  {
   "cell_type": "code",
   "execution_count": null,
   "metadata": {
    "colab": {
     "base_uri": "https://localhost:8080/"
    },
    "executionInfo": {
     "elapsed": 153,
     "status": "ok",
     "timestamp": 1675220587460,
     "user": {
      "displayName": "Carlos Arellano",
      "userId": "03055712073717640513"
     },
     "user_tz": 360
    },
    "id": "qxaE_ijt7VU_",
    "outputId": "6494d9da-3914-4212-e4f7-baa7fef90eef"
   },
   "outputs": [],
   "source": [
    "np.average(x,weights=w) # Media ponderada"
   ]
  },
  {
   "cell_type": "markdown",
   "metadata": {},
   "source": [
    "La media ponderada:\n",
    "- Permite dar mayor importancia a ciertos valores según su relevancia.\n",
    "- Es útil en situaciones donde los datos no tienen la misma representatividad.\n",
    "- Refleja mejor la realidad en contextos como calificaciones, encuestas o promedios ponderados.\n",
    "\n",
    "Sin embargo: \n",
    "- Requiere conocer los pesos adecuados para cada valor.\n",
    "- Si los pesos no están bien definidos, el resultado puede ser engañoso.\n",
    "- Puede ser más compleja de calcular y entender que la media simple."
   ]
  },
  {
   "cell_type": "markdown",
   "metadata": {},
   "source": [
    "### Media geométrica"
   ]
  },
  {
   "cell_type": "markdown",
   "metadata": {},
   "source": [
    "Se utiliza principalmente para datos positivos y multiplicativos, como tasas de crecimiento, rendimientos financieros o proporciones.\n",
    "\n",
    "$$ \\bar{x}_g = \\sqrt[n]{x_1 \\cdot x_2 \\cdot \\ldots \\cdot x_n} $$\n",
    "\n",
    "Donde:\n",
    "- $x_1, x_2, \\ldots, x_n$ son los valores del conjunto de datos.\n",
    "- $n$ es el número total de valores.\n",
    "\n",
    "Es especialmente útil cuando los datos representan factores de cambio relativos (por ejemplo, tasas de crecimiento anual). A diferencia de la media aritmética, la media geométrica minimiza el impacto de valores extremos altos y es más apropiada para promediar razones o porcentajes."
   ]
  },
  {
   "cell_type": "markdown",
   "metadata": {},
   "source": [
    "Supongamos que una inversión crece los siguientes años a tasas del 10%, 20% y 30%. Para calcular la tasa promedio de crecimiento:\n",
    "\n",
    "- Convertimos los porcentajes a factores: 1.10, 1.20, 1.30\n",
    "- Aplicamos la fórmula:\n",
    "\n",
    "$$ \\bar{x}_g = \\sqrt[3]{1.10 \\times 1.20 \\times 1.30} \\approx 1.196 $$\n",
    "\n",
    "La tasa promedio de crecimiento es aproximadamente 19.6%."
   ]
  },
  {
   "cell_type": "code",
   "execution_count": null,
   "metadata": {},
   "outputs": [],
   "source": [
    "tasas = [1.10, 1.20, 1.30]\n",
    "media_geom = stats.gmean(tasas)\n",
    "print('Media geométrica de las tasas de crecimiento:', media_geom, 'ó', (media_geom-1)*100, '%')"
   ]
  },
  {
   "cell_type": "code",
   "execution_count": null,
   "metadata": {
    "scrolled": true
   },
   "outputs": [],
   "source": [
    "stats.gmean?"
   ]
  },
  {
   "cell_type": "code",
   "execution_count": null,
   "metadata": {
    "colab": {
     "base_uri": "https://localhost:8080/"
    },
    "executionInfo": {
     "elapsed": 171,
     "status": "ok",
     "timestamp": 1675220712753,
     "user": {
      "displayName": "Carlos Arellano",
      "userId": "03055712073717640513"
     },
     "user_tz": 360
    },
    "id": "v1yQnUWp7ZHH",
    "outputId": "a26c0e4b-8eb4-4d4d-bcd9-adff90dc3a52"
   },
   "outputs": [],
   "source": [
    "#Media geométrica\n",
    "stats.gmean(x)"
   ]
  },
  {
   "cell_type": "markdown",
   "metadata": {},
   "source": [
    "La media geométrica:\n",
    "- Es adecuada para promediar tasas de crecimiento, razones y porcentajes.\n",
    "- Reduce el impacto de valores extremos altos.\n",
    "- Refleja mejor el comportamiento multiplicativo de los datos.\n",
    "\n",
    "Sin embargo:\n",
    "- Solo se puede aplicar a datos positivos.\n",
    "- No es adecuada para datos con valores negativos o nulos."
   ]
  },
  {
   "cell_type": "markdown",
   "metadata": {},
   "source": [
    "### Media armónica  "
   ]
  },
  {
   "cell_type": "markdown",
   "metadata": {},
   "source": [
    "Se utiliza principalmente cuando los datos son tasas o razones, como velocidades o precios unitarios.\n",
    "\n",
    "$$ \\bar{x}_a = \\frac{n}{\\sum_{i=1}^{n} \\frac{1}{x_i}} $$\n",
    "\n",
    "Donde:\n",
    "- $x_i$ son los valores del conjunto de datos.\n",
    "- $n$ es el número total de valores.\n",
    "\n",
    "Es especialmente útil cuando se desea promediar magnitudes que se expresan como \"por unidad\" (por ejemplo, velocidad promedio en trayectos de igual distancia, o costo promedio por unidad).\n",
    "\n",
    "A diferencia de la media aritmética y la geométrica, la media armónica da más peso a los valores pequeños.\n"
   ]
  },
  {
   "cell_type": "markdown",
   "metadata": {},
   "source": [
    "Supongamos que un automóvil recorre una distancia a $60 km/h$ y regresa a $40 km/h$. ¿Cuál es la velocidad promedio?\n",
    "\n",
    "el cálculo de la media armónica sería:\n",
    "\n",
    "$$ \\bar{x}_a = \\frac{2}{\\frac{1}{60} + \\frac{1}{40}} = 48 \\text{ km/h} $$"
   ]
  },
  {
   "cell_type": "code",
   "execution_count": null,
   "metadata": {
    "scrolled": true
   },
   "outputs": [],
   "source": [
    "stats.hmean?"
   ]
  },
  {
   "cell_type": "code",
   "execution_count": null,
   "metadata": {},
   "outputs": [],
   "source": [
    "velocidades = [60, 40]\n",
    "media_armonica = stats.hmean(velocidades)\n",
    "print('Media armónica de las velocidades:', media_armonica, 'km/h')"
   ]
  },
  {
   "cell_type": "code",
   "execution_count": null,
   "metadata": {
    "colab": {
     "base_uri": "https://localhost:8080/"
    },
    "executionInfo": {
     "elapsed": 165,
     "status": "ok",
     "timestamp": 1675220786304,
     "user": {
      "displayName": "Carlos Arellano",
      "userId": "03055712073717640513"
     },
     "user_tz": 360
    },
    "id": "-dWHBgwE73sL",
    "outputId": "0d1dc4b0-1c82-4f94-f5ce-89a6dc48dadd"
   },
   "outputs": [],
   "source": [
    "#@title Media armónica   \n",
    "stats.hmean(x)"
   ]
  },
  {
   "cell_type": "markdown",
   "metadata": {},
   "source": [
    "La media armónica:\n",
    "- Es adecuada para promediar tasas o razones.\n",
    "- Da más peso a los valores pequeños, lo que puede ser útil en ciertos contextos.\n",
    "- Útil cuando los datos representan magnitudes \"por unidad\".\n",
    "\n",
    "Sin embargo:\n",
    "- Solo se puede aplicar a datos positivos y distintos de cero.\n",
    "- Es muy sensible a valores cercanos a cero.\n",
    "- Puede no ser intuitiva "
   ]
  },
  {
   "cell_type": "markdown",
   "metadata": {},
   "source": [
    "### Moda"
   ]
  },
  {
   "cell_type": "markdown",
   "metadata": {},
   "source": [
    "La moda es una medida de tendencia central que representa el valor que aparece con mayor frecuencia en un conjunto de datos.\n",
    "La moda es útil para describir conjuntos de datos donde un valor ocurre con mucha frecuencia. Puede haber más de una moda (bimodal, multimodal) o ninguna si todos los valores son únicos."
   ]
  },
  {
   "cell_type": "code",
   "execution_count": null,
   "metadata": {},
   "outputs": [],
   "source": [
    "datos_ejemplo = [2, 4, 4, 6, 8, 4, 6, 8, 8, 8]\n",
    "moda = stats.mode(datos_ejemplo, keepdims=True)\n",
    "print('Moda:', moda.mode[0], 'Frecuencia:', moda.count[0])"
   ]
  },
  {
   "cell_type": "code",
   "execution_count": null,
   "metadata": {
    "colab": {
     "base_uri": "https://localhost:8080/"
    },
    "executionInfo": {
     "elapsed": 176,
     "status": "ok",
     "timestamp": 1675220877011,
     "user": {
      "displayName": "Carlos Arellano",
      "userId": "03055712073717640513"
     },
     "user_tz": 360
    },
    "id": "Zwe3Dqab8Jpn",
    "outputId": "0b2a38bf-9734-4749-a319-66341d5a64bb"
   },
   "outputs": [],
   "source": [
    "x.mode()"
   ]
  },
  {
   "cell_type": "code",
   "execution_count": null,
   "metadata": {
    "colab": {
     "base_uri": "https://localhost:8080/"
    },
    "executionInfo": {
     "elapsed": 196,
     "status": "ok",
     "timestamp": 1675220947696,
     "user": {
      "displayName": "Carlos Arellano",
      "userId": "03055712073717640513"
     },
     "user_tz": 360
    },
    "id": "w_CO7pxl8fzd",
    "outputId": "172e08fe-82d2-4a8c-821b-8d313bb8954d"
   },
   "outputs": [],
   "source": [
    "mo=stats.mode(x)\n",
    "mo"
   ]
  },
  {
   "cell_type": "code",
   "execution_count": null,
   "metadata": {
    "colab": {
     "base_uri": "https://localhost:8080/"
    },
    "executionInfo": {
     "elapsed": 166,
     "status": "ok",
     "timestamp": 1675220962916,
     "user": {
      "displayName": "Carlos Arellano",
      "userId": "03055712073717640513"
     },
     "user_tz": 360
    },
    "id": "o7QC3usl8q0n",
    "outputId": "81d56a5a-0ada-46f7-dbb9-c08d41042f37"
   },
   "outputs": [],
   "source": [
    "mo[0]"
   ]
  },
  {
   "cell_type": "code",
   "execution_count": null,
   "metadata": {
    "colab": {
     "base_uri": "https://localhost:8080/"
    },
    "executionInfo": {
     "elapsed": 170,
     "status": "ok",
     "timestamp": 1675220967948,
     "user": {
      "displayName": "Carlos Arellano",
      "userId": "03055712073717640513"
     },
     "user_tz": 360
    },
    "id": "g2EflyuR80xv",
    "outputId": "96a56710-3be2-41ab-fcc2-e8ce92286a53"
   },
   "outputs": [],
   "source": [
    "mo[1]"
   ]
  },
  {
   "cell_type": "markdown",
   "metadata": {},
   "source": [
    "### Mediana"
   ]
  },
  {
   "cell_type": "markdown",
   "metadata": {},
   "source": [
    "La mediana representa el valor central de un conjunto de datos ordenados. Es especialmente útil cuando los datos contienen valores atípicos o están sesgados.\n",
    "\n",
    "- Si el número de datos ($n$) es impar:\n",
    "\n",
    "$$ \\text{Mediana} = x_{\\frac{n+1}{2}} $$\n",
    "\n",
    "- Si el número de datos ($n$) es par:\n",
    "\n",
    "$$ \\text{Mediana} = \\frac{x_{\\frac{n}{2}} + x_{\\frac{n}{2}+1}}{2} $$\n",
    "\n",
    "Donde $x_i$ representa los datos ordenados de menor a mayor.\n",
    "\n",
    "La mediana divide el conjunto de datos en dos partes iguales: el 50% de los valores son menores o iguales a la mediana y el otro 50% son mayores o iguales. Es menos sensible a valores extremos que la media.\n"
   ]
  },
  {
   "cell_type": "code",
   "execution_count": null,
   "metadata": {},
   "outputs": [],
   "source": [
    "datos1 = [3, 7, 9, 15, 21]\n",
    "datos2 = [4, 8, 15, 16]\n",
    "print('Mediana (impar):', np.median(datos1))\n",
    "print('Mediana (par):', np.median(datos2))"
   ]
  },
  {
   "cell_type": "code",
   "execution_count": null,
   "metadata": {
    "colab": {
     "base_uri": "https://localhost:8080/"
    },
    "executionInfo": {
     "elapsed": 168,
     "status": "ok",
     "timestamp": 1675221021897,
     "user": {
      "displayName": "Carlos Arellano",
      "userId": "03055712073717640513"
     },
     "user_tz": 360
    },
    "id": "4NFkREzV88_h",
    "outputId": "87282da9-fc1f-4c0e-8eb4-e577865e7bf1"
   },
   "outputs": [],
   "source": [
    "x.median()"
   ]
  },
  {
   "cell_type": "code",
   "execution_count": null,
   "metadata": {
    "colab": {
     "base_uri": "https://localhost:8080/"
    },
    "executionInfo": {
     "elapsed": 188,
     "status": "ok",
     "timestamp": 1675221033893,
     "user": {
      "displayName": "Carlos Arellano",
      "userId": "03055712073717640513"
     },
     "user_tz": 360
    },
    "id": "3hjd9PiX9DLv",
    "outputId": "8a399517-e82c-47fc-da75-060a60387014"
   },
   "outputs": [],
   "source": [
    "np.median(x)"
   ]
  },
  {
   "cell_type": "code",
   "execution_count": null,
   "metadata": {},
   "outputs": [],
   "source": [
    "plt.figure(figsize=(10, 4))\n",
    "plt.hist(x, bins=20, alpha=0.6, color='blue', edgecolor='black', label='Datos')\n",
    "plt.axvline(x.mean(), color='red', linestyle='dashed', linewidth=2, label=f'Media = {x.mean():.2f}')\n",
    "plt.axvline(x.median(), color='green', linestyle='dashed', linewidth=2, label=f'Mediana = {x.median():.2f}')\n",
    "plt.axvline(stats.mode(x)[0], color='purple', linestyle='dashed', linewidth=2, label=f'Moda = {stats.mode(x)}')\n",
    "plt.title('Distribución de los datos con media, mediana y moda')\n",
    "plt.xlabel('Valor')\n",
    "plt.ylabel('Frecuencia')\n",
    "plt.legend()\n",
    "plt.show()"
   ]
  },
  {
   "cell_type": "markdown",
   "metadata": {},
   "source": [
    "### Cuantiles o percentiles"
   ]
  },
  {
   "cell_type": "markdown",
   "metadata": {},
   "source": [
    "- **Cuartiles:** Dividen los datos en 4 partes iguales.\n",
    "- **Deciles:** Dividen los datos en 10 partes iguales.\n",
    "- **Percentiles:** Dividen los datos en 100 partes iguales."
   ]
  },
  {
   "cell_type": "markdown",
   "metadata": {},
   "source": [
    "#### Cuartiles"
   ]
  },
  {
   "cell_type": "markdown",
   "metadata": {},
   "source": [
    "Dada una muestra $x_1,x_2,...,x_n$, podemos ordenar los datos de menor a mayor y dividirlos en cuatro partes con la misma cantidad de datos. Los cortes de estas divisiones son lo que llamamos cuartiles. Para dividir un conjunto de datos en cuatro partes, necesitamos tres cuartiles, identificados como $Q_1$, $Q_2$ y $Q_3$.\n",
    "\n",
    "Junto con el mínimo y el máximo, estos 5 valores sirven para resumir la distribución de una variable, con menos detalle que un histograma pero con más información que usando sólo la media y la varianza."
   ]
  },
  {
   "cell_type": "code",
   "execution_count": null,
   "metadata": {
    "colab": {
     "base_uri": "https://localhost:8080/"
    },
    "executionInfo": {
     "elapsed": 153,
     "status": "ok",
     "timestamp": 1675221156594,
     "user": {
      "displayName": "Carlos Arellano",
      "userId": "03055712073717640513"
     },
     "user_tz": 360
    },
    "id": "mpZD3yYZ9GGS",
    "outputId": "44b27f28-b867-4f69-bd79-dcbd0abfa165"
   },
   "outputs": [],
   "source": [
    "x.quantile(0.25) # Primer cuartíl"
   ]
  },
  {
   "cell_type": "code",
   "execution_count": null,
   "metadata": {
    "colab": {
     "base_uri": "https://localhost:8080/"
    },
    "executionInfo": {
     "elapsed": 200,
     "status": "ok",
     "timestamp": 1675221208394,
     "user": {
      "displayName": "Carlos Arellano",
      "userId": "03055712073717640513"
     },
     "user_tz": 360
    },
    "id": "LQEoHQn29kER",
    "outputId": "df1f9e58-9258-4b73-f695-e07d1aa88ec7"
   },
   "outputs": [],
   "source": [
    "x.quantile(0.1) # Primer decíl"
   ]
  },
  {
   "cell_type": "code",
   "execution_count": null,
   "metadata": {
    "colab": {
     "base_uri": "https://localhost:8080/"
    },
    "executionInfo": {
     "elapsed": 166,
     "status": "ok",
     "timestamp": 1675221250286,
     "user": {
      "displayName": "Carlos Arellano",
      "userId": "03055712073717640513"
     },
     "user_tz": 360
    },
    "id": "jh8c6_pA9wsf",
    "outputId": "18607f6d-47d2-4820-a1a8-48565e831989"
   },
   "outputs": [],
   "source": [
    "np.quantile(x,0.25)"
   ]
  },
  {
   "cell_type": "code",
   "execution_count": null,
   "metadata": {
    "colab": {
     "base_uri": "https://localhost:8080/"
    },
    "executionInfo": {
     "elapsed": 152,
     "status": "ok",
     "timestamp": 1675221288542,
     "user": {
      "displayName": "Carlos Arellano",
      "userId": "03055712073717640513"
     },
     "user_tz": 360
    },
    "id": "8VXDbiMC967n",
    "outputId": "64ccc8a1-31f7-401d-c47b-bd4eaa0820a5"
   },
   "outputs": [],
   "source": [
    "np.quantile(x,[0.25,0.5,0.75]) # Primero, segundo y tercer cuartíl"
   ]
  },
  {
   "cell_type": "code",
   "execution_count": null,
   "metadata": {
    "colab": {
     "base_uri": "https://localhost:8080/"
    },
    "executionInfo": {
     "elapsed": 161,
     "status": "ok",
     "timestamp": 1675221348553,
     "user": {
      "displayName": "Carlos Arellano",
      "userId": "03055712073717640513"
     },
     "user_tz": 360
    },
    "id": "CPaEbF9v-ERm",
    "outputId": "f197463c-e572-4f43-cae4-3652a9a2dc27"
   },
   "outputs": [],
   "source": [
    "x.quantile([0.25,0.5,0.75])"
   ]
  },
  {
   "cell_type": "code",
   "execution_count": null,
   "metadata": {},
   "outputs": [],
   "source": [
    "df.describe()"
   ]
  },
  {
   "cell_type": "markdown",
   "metadata": {},
   "source": [
    "El segundo cuartil es igual a la Mediana, un estadístico que también se puede considerar una medida de tendencia central. "
   ]
  },
  {
   "cell_type": "code",
   "execution_count": null,
   "metadata": {},
   "outputs": [],
   "source": [
    "x.quantile(0.5), x.median()"
   ]
  },
  {
   "cell_type": "code",
   "execution_count": null,
   "metadata": {
    "colab": {
     "base_uri": "https://localhost:8080/"
    },
    "executionInfo": {
     "elapsed": 159,
     "status": "ok",
     "timestamp": 1675221492112,
     "user": {
      "displayName": "Carlos Arellano",
      "userId": "03055712073717640513"
     },
     "user_tz": 360
    },
    "id": "4HhNMRak-j9P",
    "outputId": "6d83ce4f-68a4-4972-89e0-31fa149e7247"
   },
   "outputs": [],
   "source": [
    "np.percentile(x,25) # Primer cuartíl"
   ]
  },
  {
   "cell_type": "code",
   "execution_count": null,
   "metadata": {},
   "outputs": [],
   "source": [
    "q1 = np.percentile(x, 25)\n",
    "q2 = np.percentile(x, 50)  # Mediana\n",
    "q3 = np.percentile(x, 75)\n",
    "percentil_90 = np.percentile(x, 90)\n",
    "decil_3 = np.percentile(x, 30)\n",
    "print('Q1 (25%):', q1)\n",
    "print('Q2 (Mediana, 50%):', q2)\n",
    "print('Q3 (75%):', q3)\n",
    "print('Percentil 90:', percentil_90)\n",
    "print('Decil 3 (30%):', decil_3)"
   ]
  },
  {
   "cell_type": "markdown",
   "metadata": {},
   "source": [
    "##### Rango intercuartílico"
   ]
  },
  {
   "cell_type": "markdown",
   "metadata": {},
   "source": [
    "La diferencia entre el $Q_3$ y $Q_1$ es lo que llamamos Rango intercuartílico y lo representamos con $IQR$ por Inter-quartile range. Es una medida de dispersión de los datos, ya que representa el ancho del 50% central de los datos. Mientras más dispersos estén los datos, mayor será esta distancia.\n",
    "\n",
    "$$IQR=Q_3−Q_1$$"
   ]
  },
  {
   "cell_type": "code",
   "execution_count": null,
   "metadata": {
    "colab": {
     "base_uri": "https://localhost:8080/"
    },
    "executionInfo": {
     "elapsed": 266,
     "status": "ok",
     "timestamp": 1675820130130,
     "user": {
      "displayName": "Carlos Arellano",
      "userId": "03055712073717640513"
     },
     "user_tz": 360
    },
    "id": "u4Z8gr2AqJHE",
    "outputId": "52fde262-a5e1-4112-c747-60ca65fb4ac3"
   },
   "outputs": [],
   "source": [
    "stats.iqr(x,rng=(0,100))"
   ]
  },
  {
   "cell_type": "code",
   "execution_count": null,
   "metadata": {
    "colab": {
     "base_uri": "https://localhost:8080/"
    },
    "executionInfo": {
     "elapsed": 182,
     "status": "ok",
     "timestamp": 1675820183081,
     "user": {
      "displayName": "Carlos Arellano",
      "userId": "03055712073717640513"
     },
     "user_tz": 360
    },
    "id": "_MwiYBy7qdu0",
    "outputId": "cdaaab8e-1cf1-4738-fa9e-a9aa622022e2"
   },
   "outputs": [],
   "source": [
    "#@title Rango intercuartílico\n",
    "stats.iqr(x)"
   ]
  },
  {
   "cell_type": "code",
   "execution_count": null,
   "metadata": {
    "colab": {
     "base_uri": "https://localhost:8080/"
    },
    "executionInfo": {
     "elapsed": 198,
     "status": "ok",
     "timestamp": 1675820266900,
     "user": {
      "displayName": "Carlos Arellano",
      "userId": "03055712073717640513"
     },
     "user_tz": 360
    },
    "id": "PMiv4rCBqqvr",
    "outputId": "a6715d93-7cb0-4ed8-b372-39fb6f744081"
   },
   "outputs": [],
   "source": [
    "q1,q3=np.quantile(x,(0.25,0.75))\n",
    "q1,q3"
   ]
  },
  {
   "cell_type": "code",
   "execution_count": null,
   "metadata": {
    "colab": {
     "base_uri": "https://localhost:8080/"
    },
    "executionInfo": {
     "elapsed": 214,
     "status": "ok",
     "timestamp": 1675820275712,
     "user": {
      "displayName": "Carlos Arellano",
      "userId": "03055712073717640513"
     },
     "user_tz": 360
    },
    "id": "1naSHfzQq_N6",
    "outputId": "72f1f6c3-0a3a-4c4c-ead7-04477bdf81d5"
   },
   "outputs": [],
   "source": [
    "q3-q1"
   ]
  },
  {
   "cell_type": "code",
   "execution_count": null,
   "metadata": {
    "executionInfo": {
     "elapsed": 3,
     "status": "ok",
     "timestamp": 1675820340654,
     "user": {
      "displayName": "Carlos Arellano",
      "userId": "03055712073717640513"
     },
     "user_tz": 360
    },
    "id": "VpUlYTWSrBWj"
   },
   "outputs": [],
   "source": [
    "q1,q3=x.quantile([0.25,0.75])"
   ]
  },
  {
   "cell_type": "code",
   "execution_count": null,
   "metadata": {
    "colab": {
     "base_uri": "https://localhost:8080/"
    },
    "executionInfo": {
     "elapsed": 176,
     "status": "ok",
     "timestamp": 1675820346467,
     "user": {
      "displayName": "Carlos Arellano",
      "userId": "03055712073717640513"
     },
     "user_tz": 360
    },
    "id": "-eRsogj7rRNi",
    "outputId": "5d901399-d849-479d-b95a-a4dcf24a470a"
   },
   "outputs": [],
   "source": [
    "q1,q3"
   ]
  },
  {
   "cell_type": "markdown",
   "metadata": {},
   "source": [
    "##### Representación gráfica"
   ]
  },
  {
   "cell_type": "code",
   "execution_count": null,
   "metadata": {},
   "outputs": [],
   "source": [
    "plt.figure(figsize=(6, 4))\n",
    "plt.boxplot(x, vert=False, patch_artist=True, boxprops=dict(facecolor='lightblue'))\n",
    "plt.title('Diagrama de cajas (Boxplot)')\n",
    "plt.xlabel('alcohol')\n",
    "plt.show()"
   ]
  },
  {
   "cell_type": "markdown",
   "metadata": {},
   "source": [
    "1. En este caso la característica está representada en el eje x.\n",
    "2. La línea vertical del medio de la caja, en \"amarillo\", es la mediana\n",
    "3. La línea vertical izquierda de la caja es el 1er cuartil, y la línea vertical de la derecha es el 3er cuartil.\n",
    "5. El ancho de la caja es el Rango intercuartílico $IQR$. Por lo tanto, mientras mayor sea la dispersión, más grande será la caja.\n",
    "6. Los extremos de las líneas verticales, son llamados Bigotes son el mínimo y el máximo. Cuando hay valores atípicos, son los valores más bajos y altos que no sean valores atípicos.\n",
    "7. Los valores atípicos se definen en este contexto como valores más altos que $Q_3+(1.5∗IQR)$\n",
    " o más bajos que $Q_1−(1.5∗IQR)$. Estos valores se representan con puntos."
   ]
  },
  {
   "cell_type": "markdown",
   "metadata": {
    "id": "glUWjCPVlhLr"
   },
   "source": [
    "# Medidas de disperción"
   ]
  },
  {
   "cell_type": "markdown",
   "metadata": {},
   "source": [
    "### Varianza y desviación estandar"
   ]
  },
  {
   "cell_type": "markdown",
   "metadata": {},
   "source": [
    "La **varianza** y la **desviación estándar** son medidas de dispersión que indican cuánto se alejan los datos respecto a la media.\n",
    "\n",
    "$$ \\sigma^2 = \\frac{1}{n} \\sum_{i=1}^{n} (x_i - \\bar{x})^2 $$\n",
    "\n",
    "Para una muestra, la fórmula es:\n",
    "\n",
    "$$ s^2 = \\frac{1}{n-1} \\sum_{i=1}^{n} (x_i - \\bar{x})^2 $$\n",
    "\n",
    "Donde:\n",
    "- $x_i$ son los valores de los datos.\n",
    "- $\\bar{x}$ es la media.\n",
    "- $n$ es el número de datos."
   ]
  },
  {
   "cell_type": "code",
   "execution_count": null,
   "metadata": {},
   "outputs": [],
   "source": [
    "x = np.array([10, 12, 15, 18, 20])\n",
    "varianza_poblacional = x.var(ddof=0)\n",
    "varianza_muestral = x.var(ddof=1)\n",
    "desv_std_poblacional = x.std(ddof=0)\n",
    "desv_std_muestral = x.std(ddof=1)\n",
    "print('Varianza poblacional:', varianza_poblacional)\n",
    "print('Varianza muestral:', varianza_muestral)\n",
    "print('Desviación estándar poblacional:', desv_std_poblacional)\n",
    "print('Desviación estándar muestral:', desv_std_muestral)"
   ]
  },
  {
   "cell_type": "markdown",
   "metadata": {},
   "source": [
    "- `x.std(ddof=0)`: Calcula la desviación estándar considerando que los datos corresponden a toda la población. El divisor es $n$.\n",
    "- `x.std(ddof=1)`: Calcula la desviación estándar muestral, es decir, cuando los datos son una muestra de una población más grande. El divisor es $n-1$ (corrección de Bessel).\n",
    "\n",
    "La corrección de Bessel (`ddof=1`) ajusta el sesgo en la estimación de la varianza y desviación estándar cuando se trabaja con muestras."
   ]
  },
  {
   "cell_type": "code",
   "execution_count": null,
   "metadata": {
    "colab": {
     "base_uri": "https://localhost:8080/",
     "height": 176
    },
    "executionInfo": {
     "elapsed": 196,
     "status": "ok",
     "timestamp": 1675819402758,
     "user": {
      "displayName": "Carlos Arellano",
      "userId": "03055712073717640513"
     },
     "user_tz": 360
    },
    "id": "RFnn0kBjljos",
    "outputId": "7aea815d-4829-4380-da62-074ae6240ca6"
   },
   "outputs": [],
   "source": [
    "df.head(2)"
   ]
  },
  {
   "cell_type": "code",
   "execution_count": null,
   "metadata": {
    "colab": {
     "base_uri": "https://localhost:8080/"
    },
    "executionInfo": {
     "elapsed": 192,
     "status": "ok",
     "timestamp": 1675819426807,
     "user": {
      "displayName": "Carlos Arellano",
      "userId": "03055712073717640513"
     },
     "user_tz": 360
    },
    "id": "6qKEccbrnsOm",
    "outputId": "a90ebfe6-7bbc-458f-c4f6-5e90cfc577c5"
   },
   "outputs": [],
   "source": [
    "x.var() # Varianza muestral"
   ]
  },
  {
   "cell_type": "code",
   "execution_count": null,
   "metadata": {
    "colab": {
     "base_uri": "https://localhost:8080/"
    },
    "executionInfo": {
     "elapsed": 7,
     "status": "ok",
     "timestamp": 1675819434734,
     "user": {
      "displayName": "Carlos Arellano",
      "userId": "03055712073717640513"
     },
     "user_tz": 360
    },
    "id": "IltXH6a9nyGE",
    "outputId": "fd9d96d1-e6ed-4318-f3ea-9c8d94d41b14"
   },
   "outputs": [],
   "source": [
    "x.std() # Desviación estandar muestral"
   ]
  },
  {
   "cell_type": "code",
   "execution_count": null,
   "metadata": {
    "colab": {
     "base_uri": "https://localhost:8080/"
    },
    "executionInfo": {
     "elapsed": 206,
     "status": "ok",
     "timestamp": 1675819466831,
     "user": {
      "displayName": "Carlos Arellano",
      "userId": "03055712073717640513"
     },
     "user_tz": 360
    },
    "id": "5g6TAT9dn4VB",
    "outputId": "3276a8c7-8e8f-492f-adcc-c69bb3cc4e7a"
   },
   "outputs": [],
   "source": [
    "df.std()"
   ]
  },
  {
   "cell_type": "code",
   "execution_count": null,
   "metadata": {
    "colab": {
     "base_uri": "https://localhost:8080/"
    },
    "executionInfo": {
     "elapsed": 207,
     "status": "ok",
     "timestamp": 1675819532736,
     "user": {
      "displayName": "Carlos Arellano",
      "userId": "03055712073717640513"
     },
     "user_tz": 360
    },
    "id": "Cz0GseDVn73c",
    "outputId": "a55ba2b6-d1fb-4349-a9ca-3597cf584f4e"
   },
   "outputs": [],
   "source": [
    "np.var(x) # Varianza del conjunto completo"
   ]
  },
  {
   "cell_type": "code",
   "execution_count": null,
   "metadata": {
    "colab": {
     "base_uri": "https://localhost:8080/"
    },
    "executionInfo": {
     "elapsed": 3,
     "status": "ok",
     "timestamp": 1675819537954,
     "user": {
      "displayName": "Carlos Arellano",
      "userId": "03055712073717640513"
     },
     "user_tz": 360
    },
    "id": "GC0eLJTgoL98",
    "outputId": "cc343849-42c7-46cb-a18f-f0b1fb859af6"
   },
   "outputs": [],
   "source": [
    "np.std(x) # Std del conjunto completo"
   ]
  },
  {
   "cell_type": "code",
   "execution_count": null,
   "metadata": {
    "colab": {
     "base_uri": "https://localhost:8080/"
    },
    "executionInfo": {
     "elapsed": 176,
     "status": "ok",
     "timestamp": 1675819664961,
     "user": {
      "displayName": "Carlos Arellano",
      "userId": "03055712073717640513"
     },
     "user_tz": 360
    },
    "id": "KmXjzNaRooAi",
    "outputId": "0943184a-01bf-4b9e-fc33-1ef86b153acb"
   },
   "outputs": [],
   "source": [
    "x.var(ddof=0) # Varianza del conjunto completo"
   ]
  },
  {
   "cell_type": "code",
   "execution_count": null,
   "metadata": {
    "colab": {
     "base_uri": "https://localhost:8080/"
    },
    "executionInfo": {
     "elapsed": 206,
     "status": "ok",
     "timestamp": 1675819773500,
     "user": {
      "displayName": "Carlos Arellano",
      "userId": "03055712073717640513"
     },
     "user_tz": 360
    },
    "id": "DHJCjQVGpCWp",
    "outputId": "b392f561-aeca-485f-8c30-ea01fb3d1e41"
   },
   "outputs": [],
   "source": [
    "x.std(ddof=0) # Std del conjunto completo"
   ]
  },
  {
   "cell_type": "markdown",
   "metadata": {},
   "source": [
    "### Recorrido max-min"
   ]
  },
  {
   "cell_type": "markdown",
   "metadata": {},
   "source": [
    "Es una medida de dispersión que se calcula como la diferencia entre el valor máximo y el valor mínimo de un conjunto de datos.\n",
    "\n",
    "$$ R = x_{\\text{max}} - x_{\\text{min}} $$\n",
    "\n",
    "Donde:\n",
    "- $x_{\\text{max}}$ es el valor máximo del conjunto de datos.\n",
    "- $x_{\\text{min}}$ es el valor mínimo del conjunto de datos.\n"
   ]
  },
  {
   "cell_type": "code",
   "execution_count": null,
   "metadata": {
    "colab": {
     "base_uri": "https://localhost:8080/"
    },
    "executionInfo": {
     "elapsed": 190,
     "status": "ok",
     "timestamp": 1675819843542,
     "user": {
      "displayName": "Carlos Arellano",
      "userId": "03055712073717640513"
     },
     "user_tz": 360
    },
    "id": "B3yahJ6EpGr0",
    "outputId": "bce50ccf-151b-49d1-bd27-93ae37984254"
   },
   "outputs": [],
   "source": [
    "# Rango\n",
    "x.max()-x.min() # Desde Pandas"
   ]
  },
  {
   "cell_type": "code",
   "execution_count": null,
   "metadata": {
    "colab": {
     "base_uri": "https://localhost:8080/"
    },
    "executionInfo": {
     "elapsed": 185,
     "status": "ok",
     "timestamp": 1675819874482,
     "user": {
      "displayName": "Carlos Arellano",
      "userId": "03055712073717640513"
     },
     "user_tz": 360
    },
    "id": "knNhvgArpX10",
    "outputId": "89ab45e3-41a1-4d61-c73e-039ef18d22b3"
   },
   "outputs": [],
   "source": [
    "np.max(x)-np.min(x) # Desde Numpy"
   ]
  },
  {
   "cell_type": "code",
   "execution_count": null,
   "metadata": {
    "colab": {
     "base_uri": "https://localhost:8080/"
    },
    "executionInfo": {
     "elapsed": 228,
     "status": "ok",
     "timestamp": 1675819896295,
     "user": {
      "displayName": "Carlos Arellano",
      "userId": "03055712073717640513"
     },
     "user_tz": 360
    },
    "id": "OHfDdtFapfat",
    "outputId": "9e561661-33f1-4ee0-f511-384a5ad73a71"
   },
   "outputs": [],
   "source": [
    "max(x)-min(x) # "
   ]
  },
  {
   "cell_type": "code",
   "execution_count": null,
   "metadata": {
    "colab": {
     "base_uri": "https://localhost:8080/"
    },
    "executionInfo": {
     "elapsed": 184,
     "status": "ok",
     "timestamp": 1675819918403,
     "user": {
      "displayName": "Carlos Arellano",
      "userId": "03055712073717640513"
     },
     "user_tz": 360
    },
    "id": "qelPpUmTpkts",
    "outputId": "7dda7183-7b8f-415e-8e65-b32fb06addcd"
   },
   "outputs": [],
   "source": [
    "np.ptp(x)"
   ]
  },
  {
   "cell_type": "code",
   "execution_count": null,
   "metadata": {
    "colab": {
     "base_uri": "https://localhost:8080/"
    },
    "executionInfo": {
     "elapsed": 201,
     "status": "ok",
     "timestamp": 1675819957963,
     "user": {
      "displayName": "Carlos Arellano",
      "userId": "03055712073717640513"
     },
     "user_tz": 360
    },
    "id": "GJ5ORbUZpqG8",
    "outputId": "8ca72c78-ad8f-45d4-ce52-133d992f6a8a"
   },
   "outputs": [],
   "source": [
    "df.max()-df.min()"
   ]
  },
  {
   "cell_type": "code",
   "execution_count": null,
   "metadata": {
    "colab": {
     "base_uri": "https://localhost:8080/"
    },
    "executionInfo": {
     "elapsed": 193,
     "status": "ok",
     "timestamp": 1675820007086,
     "user": {
      "displayName": "Carlos Arellano",
      "userId": "03055712073717640513"
     },
     "user_tz": 360
    },
    "id": "ycSHJhETpzxU",
    "outputId": "aef62374-632e-43d1-c8a1-f1d00807c170"
   },
   "outputs": [],
   "source": [
    "np.max(df,axis=0)-np.min(df,axis=0)"
   ]
  },
  {
   "cell_type": "markdown",
   "metadata": {},
   "source": [
    "El recorrido max-min:\n",
    "\n",
    "- Es muy fácil y rápido de calcular.\n",
    "- Permite obtener una idea rápida de la dispersión total de los datos.\n",
    "- Es útil para comparar la variabilidad entre diferentes conjuntos de datos.\n",
    "- No requiere cálculos complejos ni fórmulas avanzadas."
   ]
  },
  {
   "cell_type": "markdown",
   "metadata": {},
   "source": [
    "### Coeficiente de variación de Pearson"
   ]
  },
  {
   "cell_type": "markdown",
   "metadata": {},
   "source": [
    "Es una medida relativa de dispersión que indica el grado de variabilidad de los datos respecto a su media. Se expresa como un porcentaje y permite comparar la dispersión entre diferentes conjuntos de datos, incluso si tienen unidades o medias distintas.\n",
    "\n",
    "$$ CV = \\frac{\\sigma}{\\bar{x}} \\times 100 $$\n",
    "\n",
    "Donde:\n",
    "- $\\sigma$ es la desviación estándar.\n",
    "- $\\bar{x}$ es la media.\n",
    "\n",
    "\n",
    "- Un CV bajo indica que los datos están poco dispersos respecto a la media.\n",
    "- Un CV alto indica mayor dispersión relativa.\n",
    "\n",
    "Supongamos que tenemos dos conjuntos de datos con:\n",
    "\n",
    "- A: media = 50, desviación estándar = 5 → CV = (5/50)*100 = 10%\n",
    "- B: media = 100, desviación estándar = 20 → CV = (20/100)*100 = 20%\n",
    "\n",
    "Podemos concluir que el conjunto B es relativamente más disperso que el conjunto A."
   ]
  },
  {
   "cell_type": "code",
   "execution_count": null,
   "metadata": {
    "colab": {
     "base_uri": "https://localhost:8080/"
    },
    "executionInfo": {
     "elapsed": 167,
     "status": "ok",
     "timestamp": 1675820441451,
     "user": {
      "displayName": "Carlos Arellano",
      "userId": "03055712073717640513"
     },
     "user_tz": 360
    },
    "id": "B5CuaRYArSok",
    "outputId": "bb5fabdf-a2ff-41ee-d776-d882a137ba64"
   },
   "outputs": [],
   "source": [
    "# Coeficiente de variación de Pearson\n",
    "stats.variation(x)"
   ]
  },
  {
   "cell_type": "code",
   "execution_count": null,
   "metadata": {
    "colab": {
     "base_uri": "https://localhost:8080/"
    },
    "executionInfo": {
     "elapsed": 186,
     "status": "ok",
     "timestamp": 1675820466008,
     "user": {
      "displayName": "Carlos Arellano",
      "userId": "03055712073717640513"
     },
     "user_tz": 360
    },
    "id": "xe1EUmwgrp1D",
    "outputId": "6e015f7f-d414-4a41-d66e-5548f4240db9"
   },
   "outputs": [],
   "source": [
    "stats.variation(df)"
   ]
  },
  {
   "cell_type": "code",
   "execution_count": null,
   "metadata": {
    "colab": {
     "base_uri": "https://localhost:8080/"
    },
    "executionInfo": {
     "elapsed": 162,
     "status": "ok",
     "timestamp": 1675820580032,
     "user": {
      "displayName": "Carlos Arellano",
      "userId": "03055712073717640513"
     },
     "user_tz": 360
    },
    "id": "NkqebWWprv0j",
    "outputId": "615f0166-0b76-4f79-a320-5dc8c3deca12"
   },
   "outputs": [],
   "source": [
    "df.std(ddof=0)"
   ]
  },
  {
   "cell_type": "code",
   "execution_count": null,
   "metadata": {
    "colab": {
     "base_uri": "https://localhost:8080/"
    },
    "executionInfo": {
     "elapsed": 177,
     "status": "ok",
     "timestamp": 1675820629649,
     "user": {
      "displayName": "Carlos Arellano",
      "userId": "03055712073717640513"
     },
     "user_tz": 360
    },
    "id": "SggybuTSsGyG",
    "outputId": "0d09c854-8633-4994-b11d-e533b809b820"
   },
   "outputs": [],
   "source": [
    "x.std(ddof=0)/np.abs(x.mean())"
   ]
  },
  {
   "cell_type": "markdown",
   "metadata": {
    "id": "hqjVW-GowiDv"
   },
   "source": [
    "# Medidas de forma"
   ]
  },
  {
   "cell_type": "markdown",
   "metadata": {},
   "source": [
    "Las **medidas de forma** describen la forma de la distribución de los datos, permitiendo identificar si los datos están sesgados (asimetría) o si presentan colas y picos más o menos pronunciados que una distribución normal (curtosis).\n"
   ]
  },
  {
   "cell_type": "markdown",
   "metadata": {},
   "source": [
    "#### Asimetría (skewness)"
   ]
  },
  {
   "cell_type": "markdown",
   "metadata": {},
   "source": [
    "Formalmente, decimos que una distribución de frecuencias es simétrica si la media aritmética $\\bar{X}$ es igual a la mediana $X_M$. Esto significa que en cualquier otro caso, la distribución es asimétrica.\n",
    "\n",
    "**Tercer momento central**\n",
    "\n",
    "El $k$-ésimo momento central de una variable aleatoria $X$ es:\n",
    "\n",
    "$$ \\mu_k = \\frac{1}{n} \\sum_{i=1}^{n} (x_i - \\bar{x})^k $$\n",
    "\n",
    "Para $k=3$ (tercer momento central):\n",
    "\n",
    "$$ \\mu_3 = \\frac{1}{n} \\sum_{i=1}^{n} (x_i - \\bar{x})^3 $$\n",
    "\n",
    "La asimetría se define como:\n",
    "\n",
    "$$ \\text{Asimetría} = \\gamma_1 = \\frac{\\mu_3}{\\sigma^3} $$\n",
    "\n",
    "Donde:\n",
    "- $\\mu_3$ es el tercer momento central.\n",
    "- $\\sigma$ es la desviación estándar.\n",
    "\n",
    "Esta fórmula permite cuantificar la asimetría de una distribución en función de sus momentos centrales.\n",
    "> Si $\\text{Asimetría}=0$, la distribución es simétrica.\n",
    "\n",
    "> Si $\\text{Asimetría}>0$, la cola derecha es más larga (asimetría a la derecha).\n",
    "\n",
    "> Si $\\text{Asimetría}<0$, la cola izquierda es más larga (asimetría a la izquierda)."
   ]
  },
  {
   "cell_type": "code",
   "execution_count": null,
   "metadata": {},
   "outputs": [],
   "source": [
    "import numpy as np\n",
    "import matplotlib.pyplot as plt\n",
    "np.random.seed(0)\n",
    "\n",
    "#Datoso Simétricos\n",
    "datos_simetricos = np.random.normal(loc=0, scale=1, size=1000)\n",
    "media_sim = np.mean(datos_simetricos)\n",
    "mediana_sim = np.median(datos_simetricos)\n",
    "\n",
    "#atos asimétricos positivos (distribución exponencial)\n",
    "datos_asim_pos = np.random.exponential(scale=1, size=1000)\n",
    "media_pos = np.mean(datos_asim_pos)\n",
    "mediana_pos = np.median(datos_asim_pos)\n",
    "\n",
    "# Datos asimétricos negativos (simulación: invertir exponencial)\n",
    "datos_asim_neg = -np.random.exponential(scale=1, size=1000)\n",
    "media_neg = np.mean(datos_asim_neg)\n",
    "mediana_neg = np.median(datos_asim_neg)"
   ]
  },
  {
   "cell_type": "code",
   "execution_count": null,
   "metadata": {},
   "outputs": [],
   "source": [
    "fig, axs = plt.subplots(1, 3, figsize=(18, 4))\n",
    "# Gráfica simétrica\n",
    "axs[0].hist(datos_simetricos, bins=30, color='skyblue', edgecolor='black', alpha=0.7)\n",
    "axs[0].axvline(media_sim, color='red', linestyle='dashed', linewidth=2, label=f'Media: {media_sim:.2f}')\n",
    "axs[0].axvline(mediana_sim, color='green', linestyle='dashed', linewidth=2, label=f'Mediana: {mediana_sim:.2f}')\n",
    "axs[0].set_title('Simétrica (Normal)')\n",
    "axs[0].legend()\n",
    "\n",
    "# Gráfica asimetría positiva\n",
    "axs[1].hist(datos_asim_pos, bins=30, color='orange', edgecolor='black', alpha=0.7)\n",
    "axs[1].axvline(media_pos, color='red', linestyle='dashed', linewidth=2, label=f'Media: {media_pos:.2f}')\n",
    "axs[1].axvline(mediana_pos, color='green', linestyle='dashed', linewidth=2, label=f'Mediana: {mediana_pos:.2f}')\n",
    "axs[1].set_title('Asimetría positiva (cola derecha)')\n",
    "axs[1].legend()\n",
    "\n",
    "# Gráfica asimetría negativa\n",
    "axs[2].hist(datos_asim_neg, bins=30, color='purple', edgecolor='black', alpha=0.7)\n",
    "axs[2].axvline(media_neg, color='red', linestyle='dashed', linewidth=2, label=f'Media: {media_neg:.2f}')\n",
    "axs[2].axvline(mediana_neg, color='green', linestyle='dashed', linewidth=2, label=f'Mediana: {mediana_neg:.2f}')\n",
    "axs[2].set_title('Asimetría negativa (cola izquierda)')\n",
    "axs[2].legend()\n",
    "\n",
    "plt.tight_layout()\n",
    "plt.show()"
   ]
  },
  {
   "cell_type": "code",
   "execution_count": null,
   "metadata": {},
   "outputs": [],
   "source": [
    "#Graficamos la distribución de nuestros datos\n",
    "plt.hist(df['alcohol']);"
   ]
  },
  {
   "cell_type": "code",
   "execution_count": null,
   "metadata": {
    "colab": {
     "base_uri": "https://localhost:8080/"
    },
    "executionInfo": {
     "elapsed": 3,
     "status": "ok",
     "timestamp": 1675821777972,
     "user": {
      "displayName": "Carlos Arellano",
      "userId": "03055712073717640513"
     },
     "user_tz": 360
    },
    "id": "N-cU4s_owkfK",
    "outputId": "fd89d67b-fc30-4bc7-af65-d3f3f42509e5"
   },
   "outputs": [],
   "source": [
    "# (Simetría/Sesgo) de la caracterísitca 'alcohol'\n",
    "df['alcohol'].skew()"
   ]
  },
  {
   "cell_type": "code",
   "execution_count": null,
   "metadata": {
    "colab": {
     "base_uri": "https://localhost:8080/"
    },
    "executionInfo": {
     "elapsed": 133,
     "status": "ok",
     "timestamp": 1675821916653,
     "user": {
      "displayName": "Carlos Arellano",
      "userId": "03055712073717640513"
     },
     "user_tz": 360
    },
    "id": "-bRLOjdixKcr",
    "outputId": "c70e3fbb-64ba-4bd4-a3ea-66471d7023e4"
   },
   "outputs": [],
   "source": [
    "df.skew()"
   ]
  },
  {
   "cell_type": "code",
   "execution_count": null,
   "metadata": {
    "colab": {
     "base_uri": "https://localhost:8080/",
     "height": 282
    },
    "executionInfo": {
     "elapsed": 191,
     "status": "ok",
     "timestamp": 1675821990923,
     "user": {
      "displayName": "Carlos Arellano",
      "userId": "03055712073717640513"
     },
     "user_tz": 360
    },
    "id": "-8mHnVbgxSA6",
    "outputId": "62ccc9e1-38c0-4ce5-bb3a-31ec70f73bb8"
   },
   "outputs": [],
   "source": [
    "df['magnesium'].hist()"
   ]
  },
  {
   "cell_type": "code",
   "execution_count": null,
   "metadata": {
    "colab": {
     "base_uri": "https://localhost:8080/",
     "height": 282
    },
    "executionInfo": {
     "elapsed": 646,
     "status": "ok",
     "timestamp": 1675822021497,
     "user": {
      "displayName": "Carlos Arellano",
      "userId": "03055712073717640513"
     },
     "user_tz": 360
    },
    "id": "J-vYK6qIxh2y",
    "outputId": "609f9394-04e3-4b04-ecec-1e957ae7474b"
   },
   "outputs": [],
   "source": [
    "df['od280/od315_of_diluted_wines'].hist()"
   ]
  },
  {
   "cell_type": "markdown",
   "metadata": {},
   "source": [
    "### Curtósis"
   ]
  },
  {
   "cell_type": "markdown",
   "metadata": {},
   "source": [
    "Otra medida que se utiliza para describir la forma de la distribución es la **kurtósis** o **curtósis**. Esta utiliza el **momento central estandarizado de orden 4** para detectar valores extremos. En presencia de valores extremos, la forma de la distribución parece más puntiaguda; por esto la kurtósis se conoce como una medida del apuntalamiento de la distribución.\n",
    "\n",
    "Dada una muestra $x1,x2,...,xn$ la curtósis se calcula como:\n",
    "\n",
    "**cuarto momento central:**\n",
    "\n",
    "$$ \\mu_4 = \\frac{1}{n} \\sum_{i=1}^{n} (x_i - \\bar{x})^4 $$\n",
    "\n",
    "La curtosis se define como:\n",
    "\n",
    "$$ \\text{Curtosis} = \\gamma_2 = \\frac{\\mu_4}{\\sigma^4} $$\n",
    "\n",
    "Donde:\n",
    "- $\\mu_4$ es el cuarto momento central.\n",
    "- $\\sigma$ es la desviación estándar.\n",
    "\n",
    "$$ \\gamma_2 = \\frac{\\frac{1}{n} \\sum_{i=1}^{n} (x_i - \\bar{x})^4}{\\left(\\frac{1}{n} \\sum_{i=1}^{n} (x_i - \\bar{x})^2\\right)^2} $$\n",
    "\n",
    "Donde:\n",
    "- $x_i$ son los valores de los datos.\n",
    "- $\\bar{x}$ es la media de los datos.\n",
    "- $n$ es el número total de datos.\n",
    "  \n",
    "> **Curtosis** cercana a **3** indica una distribución normal (mesocúrtica).\n",
    "\n",
    "> **Curtosis mayor** a **3**: leptocúrtica (pico alto y colas largas).\n",
    "\n",
    "> **Curtosis menor** a **3**: platicúrtica (pico bajo y colas cortas).\n"
   ]
  },
  {
   "cell_type": "code",
   "execution_count": null,
   "metadata": {},
   "outputs": [],
   "source": [
    "# Distribución mesocúrtica (normal)\n",
    "np.random.seed(0)\n",
    "mesocurtica = np.random.normal(loc=0, scale=1, size=1000)\n",
    "media_meso = np.mean(mesocurtica)\n",
    "mediana_meso = np.median(mesocurtica)\n",
    "\n",
    "# Distribución leptocúrtica (Laplace: picos altos y colas largas)\n",
    "leptocurtica = np.random.laplace(loc=0, scale=0.5, size=1000)\n",
    "media_lepto = np.mean(leptocurtica)\n",
    "mediana_lepto = np.median(leptocurtica)\n",
    "\n",
    "# Distribución platicúrtica (Uniforme: picos bajos y colas cortas)\n",
    "platicurtica = np.random.uniform(low=-2, high=2, size=1000)\n",
    "media_plati = np.mean(platicurtica)\n",
    "mediana_plati = np.median(platicurtica)\n"
   ]
  },
  {
   "cell_type": "code",
   "execution_count": null,
   "metadata": {},
   "outputs": [],
   "source": [
    "fig, axs = plt.subplots(1, 3, figsize=(18, 4))\n",
    "\n",
    "# Mesocúrtica\n",
    "axs[0].hist(mesocurtica, bins=30, color='skyblue', edgecolor='black', alpha=0.7)\n",
    "axs[0].axvline(media_meso, color='red', linestyle='dashed', linewidth=2, label=f'Media: {media_meso:.2f}')\n",
    "axs[0].axvline(mediana_meso, color='green', linestyle='dashed', linewidth=2, label=f'Mediana: {mediana_meso:.2f}')\n",
    "axs[0].set_title('Mesocúrtica (Normal)')\n",
    "axs[0].legend()\n",
    "\n",
    "# Leptocúrtica\n",
    "axs[1].hist(leptocurtica, bins=30, color='orange', edgecolor='black', alpha=0.7)\n",
    "axs[1].axvline(media_lepto, color='red', linestyle='dashed', linewidth=2, label=f'Media: {media_lepto:.2f}')\n",
    "axs[1].axvline(mediana_lepto, color='green', linestyle='dashed', linewidth=2, label=f'Mediana: {mediana_lepto:.2f}')\n",
    "axs[1].set_title('Leptocúrtica (Laplace)')\n",
    "axs[1].legend()\n",
    "\n",
    "# Platicúrtica\n",
    "axs[2].hist(platicurtica, bins=30, color='purple', edgecolor='black', alpha=0.7)\n",
    "axs[2].axvline(media_plati, color='red', linestyle='dashed', linewidth=2, label=f'Media: {media_plati:.2f}')\n",
    "axs[2].axvline(mediana_plati, color='green', linestyle='dashed', linewidth=2, label=f'Mediana: {mediana_plati:.2f}')\n",
    "axs[2].set_title('Platicúrtica (Uniforme)')\n",
    "axs[2].legend()\n",
    "\n",
    "plt.tight_layout()\n",
    "plt.show()"
   ]
  },
  {
   "cell_type": "code",
   "execution_count": null,
   "metadata": {
    "colab": {
     "base_uri": "https://localhost:8080/"
    },
    "executionInfo": {
     "elapsed": 133,
     "status": "ok",
     "timestamp": 1675822130961,
     "user": {
      "displayName": "Carlos Arellano",
      "userId": "03055712073717640513"
     },
     "user_tz": 360
    },
    "id": "7BWzN0v3yAR5",
    "outputId": "b7c4e118-05e0-4b4c-e976-eb3eeefed126"
   },
   "outputs": [],
   "source": [
    "#En python podemos calcular la Curtósis con el método kurt\n",
    "x.kurt()"
   ]
  },
  {
   "cell_type": "code",
   "execution_count": null,
   "metadata": {
    "colab": {
     "base_uri": "https://localhost:8080/"
    },
    "executionInfo": {
     "elapsed": 136,
     "status": "ok",
     "timestamp": 1675822171855,
     "user": {
      "displayName": "Carlos Arellano",
      "userId": "03055712073717640513"
     },
     "user_tz": 360
    },
    "id": "kUjr-Ex8yGUy",
    "outputId": "0d4a23fc-751c-4a35-f4c9-eef461364c52"
   },
   "outputs": [],
   "source": [
    "df.kurt()"
   ]
  },
  {
   "cell_type": "code",
   "execution_count": null,
   "metadata": {},
   "outputs": [],
   "source": [
    "df.hist(figsize=(10,8));"
   ]
  },
  {
   "cell_type": "markdown",
   "metadata": {},
   "source": [
    "Los datos reales son más complejos que la teoría, incluso estos que son batante sencillos. Se recomienda siempre acompañar el análisis de la asimetría con algún gráfico como un histograma, un diagrama de cajas, un polígono de frecuencias, etc."
   ]
  }
 ],
 "metadata": {
  "colab": {
   "authorship_tag": "ABX9TyMMCOzfKTu0WXBeOWxUgxmK",
   "provenance": []
  },
  "kernelspec": {
   "display_name": "Python 3 (ipykernel)",
   "language": "python",
   "name": "python3"
  },
  "language_info": {
   "codemirror_mode": {
    "name": "ipython",
    "version": 3
   },
   "file_extension": ".py",
   "mimetype": "text/x-python",
   "name": "python",
   "nbconvert_exporter": "python",
   "pygments_lexer": "ipython3",
   "version": "3.12.7"
  }
 },
 "nbformat": 4,
 "nbformat_minor": 4
}
