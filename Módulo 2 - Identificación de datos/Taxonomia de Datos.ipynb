{
 "cells": [
  {
   "cell_type": "markdown",
   "metadata": {},
   "source": [
    "<img style=\"float: left;;\" src='Figures/iteso.jpg' width=\"100\" height=\"200\"/></a>\n",
    "\n",
    "# <center> <font color= #000047> Taxonomía de Datos </font> </center>\n",
    "\n"
   ]
  },
  {
   "cell_type": "markdown",
   "metadata": {},
   "source": [
    "\n",
    "Un dato es una representacion simbolica (numerica, alfabetica, algoritmica, espacial, etc.) de un atributo o variable cuantitativa o cualitativa. Los datos\n",
    "describen hechos empiricos, fenomenos y entidades. Tambien suele ser llamado\n",
    "dato a un valor que recibe una computadora por algun medio, los datos representan la informacion que el programador manipula en la construccion de una\n",
    "solucion o en el desarrollo de un algoritmo.\n",
    "\n",
    "## Clasificacion de tipos de datos.\n",
    "\n",
    "Dentro de taxonomia numerica de los datos, se puede encontrar la siguiente\n",
    "clasificacion de la naturaleza de los datos para posibles caracterizaciones.\n",
    "\n",
    "### Datos doble estado o binarios.\n",
    "Son obtenidos cuando solo presentan\n",
    "en la caracteristica evaluada dos posibilidades de respuesta, como ausencia o presencia de alguna caracteristica. Generalmente son codificadas\n",
    "como 0 para las negativas y 1 para las positivas. Presentan una distribucion estadistica binomial y el calculo de sus estadisticos basicos deben de\n",
    "realizarse con las formulas diseadas para esta distribucion \n",
    "\n",
    "### Datos multi estado o cualitativos.\n",
    "Presentan mas de dos posibilidades\n",
    "de respuesta y pueden ser con secuencia logica o sin esta, es decir, este\n",
    "tipo de datos engloba a los estadisticos nominales (sin secuencia logica) y\n",
    "a los ordinales (con secuencia logica), cada uno de ellos con caracteristicas\n",
    "propias y metodos diseados para cada uno\n",
    "\n",
    "#### Datos nominales\n",
    "Son aquellos con mas de dos posibilidades de\n",
    "respuesta pero que no llevan un orden logico. Por ejemplo, a los\n",
    "colores se pueden asignar un numero a cada uno, es decir, rojo = 1,\n",
    "amarillo = 2, azul = 3, etc; sin embargo, no se puede concluir que\n",
    "rojo es menor que azul, son diferentes pero no en orden o secuencia\n",
    "logica.\n",
    "\n",
    "#### Datos ordinales.\n",
    "Pueden ser ordenados con una secuencia logica.\n",
    "Por ejemplo, al tamao de hoja se puede asignar un numero para\n",
    "designar que tan grande es, es decir, que puede ser chica = 1, mediana\n",
    "= 2, grande = 3. En este caso si se puede decir que grande es mas que\n",
    "chica o que la mediana aunque no de una manera cuantitativa. Estos\n",
    "datos cumplen generalmente con las distribuciones polinomiales u\n",
    "otras distribuciones derivadas de variables discretas. No obstante,\n",
    "datos ordinales y nominales son estadisticamente diferentes.\n",
    "\n",
    "\n",
    "### Datos cuantitativos. \n",
    "\n",
    "Son datos que pueden contarse y que son continuos (presentan cualquier valor real); generalmente con una distribucion normal e incluso algunos datos discretos pueden ser utilizados con\n",
    "un buen muestreo, pero mediante estadisticos de tendencia central para\n",
    "obtener normalidad. Ejemplos de este tipo de datos pueden ser la altura\n",
    "de planta, peso de fruto y de semilla, cantidad de materia, numero de\n",
    "hojas, de frutos y de flores, entre otras (si el muestreo es adecuado)\n",
    "\n"
   ]
  },
  {
   "cell_type": "code",
   "execution_count": null,
   "metadata": {},
   "outputs": [],
   "source": [
    "import pandas as pd\n",
    "import numpy as np"
   ]
  },
  {
   "cell_type": "code",
   "execution_count": null,
   "metadata": {},
   "outputs": [],
   "source": [
    "df_bank = pd.read_csv('Data/bank.csv')"
   ]
  },
  {
   "cell_type": "code",
   "execution_count": null,
   "metadata": {},
   "outputs": [],
   "source": [
    "df_bank.head()"
   ]
  },
  {
   "cell_type": "code",
   "execution_count": null,
   "metadata": {},
   "outputs": [],
   "source": [
    "df_bank.tail()"
   ]
  },
  {
   "cell_type": "code",
   "execution_count": null,
   "metadata": {},
   "outputs": [],
   "source": [
    "df_bank.shape"
   ]
  },
  {
   "cell_type": "code",
   "execution_count": null,
   "metadata": {},
   "outputs": [],
   "source": [
    "df_bank.columns"
   ]
  },
  {
   "cell_type": "code",
   "execution_count": null,
   "metadata": {},
   "outputs": [],
   "source": [
    "df_bank.info()"
   ]
  },
  {
   "cell_type": "markdown",
   "metadata": {},
   "source": [
    "## Categorícos y Numéricos"
   ]
  },
  {
   "cell_type": "code",
   "execution_count": null,
   "metadata": {},
   "outputs": [],
   "source": [
    "help(df_bank.select_dtypes)"
   ]
  },
  {
   "cell_type": "code",
   "execution_count": null,
   "metadata": {},
   "outputs": [],
   "source": [
    "df_bank.head(2)"
   ]
  },
  {
   "cell_type": "code",
   "execution_count": null,
   "metadata": {},
   "outputs": [],
   "source": [
    "# Obteniendo datos cuantitativos\n",
    "df_bank_cuantitativos = df_bank.select_dtypes(include='number')\n",
    "df_bank_cuantitativos.head()"
   ]
  },
  {
   "cell_type": "code",
   "execution_count": null,
   "metadata": {},
   "outputs": [],
   "source": [
    "#Obteniendo datos cualitativos\n",
    "df_bank_categoricos = df_bank.select_dtypes(include='object')\n",
    "df_bank_categoricos.head()"
   ]
  },
  {
   "cell_type": "code",
   "execution_count": null,
   "metadata": {},
   "outputs": [],
   "source": [
    "#Otra alternativa para obtener datos categóricos\n",
    "df_bank.select_dtypes(exclude='number')"
   ]
  },
  {
   "cell_type": "code",
   "execution_count": null,
   "metadata": {},
   "outputs": [],
   "source": [
    "df_bank_categoricos['education'].nunique(), df_bank_categoricos['education'].unique()"
   ]
  },
  {
   "cell_type": "code",
   "execution_count": null,
   "metadata": {},
   "outputs": [],
   "source": [
    "#Guardamos las columnas originales de df_bank\n",
    "columns_bank = df_bank.columns\n",
    "columns_bank"
   ]
  },
  {
   "cell_type": "code",
   "execution_count": null,
   "metadata": {},
   "outputs": [],
   "source": [
    "#Guardar las columnas de las variables cuantitivas\n",
    "columns_cuantitativas = df_bank_cuantitativos.columns\n",
    "columns_cuantitativas"
   ]
  },
  {
   "cell_type": "code",
   "execution_count": null,
   "metadata": {},
   "outputs": [],
   "source": [
    "#Guardar las columnas de las variables categóricas\n",
    "columns_categoricas = df_bank_categoricos.columns\n",
    "columns_categoricas"
   ]
  },
  {
   "cell_type": "code",
   "execution_count": null,
   "metadata": {},
   "outputs": [],
   "source": [
    "# Categóricos (Multiestado o cualitativos) --->  (nominales, ordinales)\n",
    "df_bank_categoricos.head()"
   ]
  },
  {
   "cell_type": "code",
   "execution_count": null,
   "metadata": {},
   "outputs": [],
   "source": [
    "# Valores únicos y categorías de la columna default\n",
    "df_bank_categoricos['default'].unique(), df_bank_categoricos['default'].nunique()"
   ]
  },
  {
   "cell_type": "code",
   "execution_count": null,
   "metadata": {},
   "outputs": [],
   "source": [
    "# Lista de columnas y sus categorías\n",
    "for col in columns_categoricas:\n",
    "    print(f'* La columna {col} tiene {df_bank_categoricos[col].nunique()} categorías y son:\\n {df_bank_categoricos[col].unique()}')"
   ]
  },
  {
   "cell_type": "markdown",
   "metadata": {},
   "source": [
    "### Categóricas Ordinales\n"
   ]
  },
  {
   "cell_type": "code",
   "execution_count": null,
   "metadata": {},
   "outputs": [],
   "source": [
    "#ordenados con una secuencia logica\n",
    "ordinales_cat = ['education', 'month'] #algunas de las columnas consideradas como ordinales"
   ]
  },
  {
   "cell_type": "code",
   "execution_count": null,
   "metadata": {
    "scrolled": true
   },
   "outputs": [],
   "source": [
    "# dataframes con datos ordinales categóricos\n",
    "df_bank_categoricos_ord = df_bank_categoricos[ordinales_cat]\n",
    "df_bank_categoricos_ord.head()"
   ]
  },
  {
   "cell_type": "markdown",
   "metadata": {},
   "source": [
    "### Categóricas Nominales"
   ]
  },
  {
   "cell_type": "code",
   "execution_count": null,
   "metadata": {},
   "outputs": [],
   "source": [
    "nominales_cat = list(set(df_bank_categoricos.columns.to_list()) \n",
    "                     - set(df_bank_categoricos_ord.columns.to_list()))"
   ]
  },
  {
   "cell_type": "code",
   "execution_count": null,
   "metadata": {},
   "outputs": [],
   "source": [
    "nominales_cat"
   ]
  },
  {
   "cell_type": "code",
   "execution_count": null,
   "metadata": {},
   "outputs": [],
   "source": [
    "# Base de datos con datos nominales categóricos\n",
    "df_bank_categoricos_nom = df_bank_categoricos[nominales_cat]\n",
    "df_bank_categoricos_nom"
   ]
  },
  {
   "cell_type": "code",
   "execution_count": null,
   "metadata": {},
   "outputs": [],
   "source": []
  },
  {
   "cell_type": "markdown",
   "metadata": {},
   "source": [
    "# Valores Faltantes"
   ]
  },
  {
   "cell_type": "code",
   "execution_count": null,
   "metadata": {},
   "outputs": [],
   "source": [
    "#Cargamos un dataset de peliculas\n",
    "df_movie = pd.read_csv('Data/movie_metadata.csv')\n",
    "df_movie.head()"
   ]
  },
  {
   "cell_type": "code",
   "execution_count": null,
   "metadata": {},
   "outputs": [],
   "source": [
    "#Obtenemos la información general del dataframe\n",
    "df_movie.info()"
   ]
  },
  {
   "cell_type": "code",
   "execution_count": null,
   "metadata": {},
   "outputs": [],
   "source": [
    "df_movie['color']"
   ]
  },
  {
   "cell_type": "markdown",
   "metadata": {},
   "source": [
    "### Manejando datos Faltantes (intro)"
   ]
  },
  {
   "cell_type": "code",
   "execution_count": null,
   "metadata": {},
   "outputs": [],
   "source": [
    "#Eliminando todos los renglones que contengan na\n",
    "df_movie_clean = df_movie.dropna()\n",
    "df_movie_clean.head(3)"
   ]
  },
  {
   "cell_type": "code",
   "execution_count": null,
   "metadata": {},
   "outputs": [],
   "source": [
    "#verificar que no se tengan valores faltantes\n",
    "df_movie.info() "
   ]
  },
  {
   "cell_type": "code",
   "execution_count": null,
   "metadata": {},
   "outputs": [],
   "source": [
    "df_movie_clean.info()\n"
   ]
  },
  {
   "cell_type": "markdown",
   "metadata": {},
   "source": [
    "## tratar datos faltantes en columnas numéricas"
   ]
  },
  {
   "cell_type": "code",
   "execution_count": null,
   "metadata": {},
   "outputs": [],
   "source": [
    "# Para columnas numéricas\n",
    "df_movie['duration']"
   ]
  },
  {
   "cell_type": "code",
   "execution_count": null,
   "metadata": {},
   "outputs": [],
   "source": [
    "#promedio\n",
    "df_movie['duration'].mean()"
   ]
  },
  {
   "cell_type": "code",
   "execution_count": null,
   "metadata": {},
   "outputs": [],
   "source": [
    "#rellenar los datos faltantes con el promedio \n",
    "df_movie['duration'].fillna(df_movie['duration'].mean())"
   ]
  },
  {
   "cell_type": "markdown",
   "metadata": {},
   "source": [
    "## tratar datos faltantes en columnas categóricas"
   ]
  },
  {
   "cell_type": "code",
   "execution_count": null,
   "metadata": {},
   "outputs": [],
   "source": [
    "df_movie['color'].unique()"
   ]
  },
  {
   "cell_type": "code",
   "execution_count": null,
   "metadata": {},
   "outputs": [],
   "source": [
    "df_movie['color']=df_movie['color'].fillna('Unknow')"
   ]
  },
  {
   "cell_type": "code",
   "execution_count": null,
   "metadata": {},
   "outputs": [],
   "source": [
    "df_movie['color'].fillna('Unknow', inplace=True)\n"
   ]
  },
  {
   "cell_type": "code",
   "execution_count": null,
   "metadata": {},
   "outputs": [],
   "source": []
  }
 ],
 "metadata": {
  "kernelspec": {
   "display_name": "Python 3 (ipykernel)",
   "language": "python",
   "name": "python3"
  },
  "language_info": {
   "codemirror_mode": {
    "name": "ipython",
    "version": 3
   },
   "file_extension": ".py",
   "mimetype": "text/x-python",
   "name": "python",
   "nbconvert_exporter": "python",
   "pygments_lexer": "ipython3",
   "version": "3.12.7"
  }
 },
 "nbformat": 4,
 "nbformat_minor": 4
}
