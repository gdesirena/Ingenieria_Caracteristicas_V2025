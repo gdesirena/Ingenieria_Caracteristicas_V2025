{
 "cells": [
  {
   "cell_type": "markdown",
   "metadata": {},
   "source": [
    "<img style=\"float: left;;\" src='Figures/iteso.jpg' width=\"100\" height=\"200\"/></a>\n",
    "\n",
    "# <center> <font color= #000047> Transformación Logaritmico Recíproco </font> </center>"
   ]
  },
  {
   "cell_type": "markdown",
   "metadata": {},
   "source": [
    "La transformación de variables numéricas es una técnica fundamental en el preprocesamiento de datos. Permite modificar la distribución de las variables para mejorar la relación con el modelo, reducir la asimetría, estabilizar la varianza y cumplir supuestos estadísticos."
   ]
  },
  {
   "cell_type": "code",
   "execution_count": null,
   "metadata": {
    "executionInfo": {
     "elapsed": 3458,
     "status": "ok",
     "timestamp": 1679449167697,
     "user": {
      "displayName": "Carlos Arellano",
      "userId": "03055712073717640513"
     },
     "user_tz": 360
    },
    "id": "d3j616xr2UmG"
   },
   "outputs": [],
   "source": [
    "import numpy as np\n",
    "import matplotlib.pyplot as plt\n",
    "import pandas as pd\n",
    "from sklearn.linear_model import LinearRegression\n",
    "from sklearn.datasets import fetch_california_housing\n",
    "from sklearn.model_selection import train_test_split\n",
    "\n",
    "housing = fetch_california_housing()\n",
    "df=pd.DataFrame(data=housing.data,columns=housing.feature_names)\n",
    "df[housing.target_names[0]]=housing.target"
   ]
  },
  {
   "cell_type": "code",
   "execution_count": null,
   "metadata": {},
   "outputs": [],
   "source": [
    "df.info()"
   ]
  },
  {
   "cell_type": "code",
   "execution_count": null,
   "metadata": {},
   "outputs": [],
   "source": []
  },
  {
   "cell_type": "code",
   "execution_count": null,
   "metadata": {
    "colab": {
     "base_uri": "https://localhost:8080/",
     "height": 444
    },
    "executionInfo": {
     "elapsed": 2191,
     "status": "ok",
     "timestamp": 1679449204750,
     "user": {
      "displayName": "Carlos Arellano",
      "userId": "03055712073717640513"
     },
     "user_tz": 360
    },
    "id": "539RnIX42dQQ",
    "outputId": "7430b9b0-ebde-424c-9b44-9ababa25626b"
   },
   "outputs": [],
   "source": []
  },
  {
   "cell_type": "markdown",
   "metadata": {
    "id": "6sxG5jKh2dpx"
   },
   "source": [
    "# Transformación logarítmica"
   ]
  },
  {
   "cell_type": "markdown",
   "metadata": {},
   "source": [
    "Pensemos un momento en los logaritmos decimales (base 10). En la escala logarítmica hay la misma distancia entre 1 y 10 que entre 10 y 100 y que entre 100 y 1000. ¿Qué quiere decir esto?. Pues que si transformamos cada variable en su logaritmo, los valores entre 1 y 10 se expandirán, mientras que los más altos se comprimirán. Por eso la transformación logarítmica es útil para transformar distribuciones con sesgo positivo (con cola más larga hacia la derecha): la parte izquierda se expandirá, mientras que la derecha se comprimirá, favoreciendo que la curva resultante se ajuste mejor a una normal."
   ]
  },
  {
   "cell_type": "markdown",
   "metadata": {},
   "source": [
    "\n",
    "$$ X_{log} = \\log(X) $$\n",
    "\n",
    "- Reduce la asimetría positiva (colas largas a la derecha).\n",
    "- Solo se aplica a valores positivos."
   ]
  },
  {
   "cell_type": "code",
   "execution_count": null,
   "metadata": {
    "colab": {
     "base_uri": "https://localhost:8080/",
     "height": 269
    },
    "executionInfo": {
     "elapsed": 467,
     "status": "ok",
     "timestamp": 1679449795073,
     "user": {
      "displayName": "Carlos Arellano",
      "userId": "03055712073717640513"
     },
     "user_tz": 360
    },
    "id": "Gb8utbb52iI4",
    "outputId": "dd475c26-a8a6-4b1f-f811-bfbebbedc02a"
   },
   "outputs": [],
   "source": [
    "# Gráfica de X vs X'\n",
    "x=np.linspace(0.1,10,100)\n",
    "xp=np.log10(x)\n",
    "plt.plot(x,xp)\n",
    "plt.plot(x,x-1,'--k')\n",
    "plt.axis([0,10,-1,5])\n",
    "plt.grid()"
   ]
  },
  {
   "cell_type": "markdown",
   "metadata": {},
   "source": [
    "Esta transformación logarítmica solo vale para números mayores que cero, aunque si tenemos una distribución con valores negativos podríamos **sumar una constante a cada valor** para que fuese mayor que cero antes de calcular su logaritmo. Cuando la nueva curva se ajusta a la campana se dice que sigue una distribución lognormal."
   ]
  },
  {
   "cell_type": "code",
   "execution_count": null,
   "metadata": {},
   "outputs": [],
   "source": [
    "#restar el valor minimo de cada columna y sumarle uno para calcular después el logaritmo\n"
   ]
  },
  {
   "cell_type": "code",
   "execution_count": null,
   "metadata": {
    "colab": {
     "base_uri": "https://localhost:8080/",
     "height": 444
    },
    "executionInfo": {
     "elapsed": 2047,
     "status": "ok",
     "timestamp": 1679450445804,
     "user": {
      "displayName": "Carlos Arellano",
      "userId": "03055712073717640513"
     },
     "user_tz": 360
    },
    "id": "U0fXaUZYCILI",
    "outputId": "7609eb19-7daf-4c33-844d-c0ab68a09d41"
   },
   "outputs": [],
   "source": [
    "#df_log=df.copy()\n"
   ]
  },
  {
   "cell_type": "code",
   "execution_count": null,
   "metadata": {
    "colab": {
     "base_uri": "https://localhost:8080/"
    },
    "executionInfo": {
     "elapsed": 248,
     "status": "ok",
     "timestamp": 1679450571032,
     "user": {
      "displayName": "Carlos Arellano",
      "userId": "03055712073717640513"
     },
     "user_tz": 360
    },
    "id": "mpf1vSHgDKmu",
    "outputId": "64e67d06-9623-4efd-a24c-a3adcd59fb2c"
   },
   "outputs": [],
   "source": [
    "#Obtener el sesgo\n",
    "sesgo=df.skew()\n",
    "sesgo"
   ]
  },
  {
   "cell_type": "code",
   "execution_count": null,
   "metadata": {
    "colab": {
     "base_uri": "https://localhost:8080/"
    },
    "executionInfo": {
     "elapsed": 231,
     "status": "ok",
     "timestamp": 1679450582708,
     "user": {
      "displayName": "Carlos Arellano",
      "userId": "03055712073717640513"
     },
     "user_tz": 360
    },
    "id": "4bD0D36zDNyH",
    "outputId": "c5e6ab1c-20a7-4096-fc26-a687fb566475"
   },
   "outputs": [],
   "source": [
    "sesgo_log=df_log.skew()\n",
    "sesgo_log"
   ]
  },
  {
   "cell_type": "markdown",
   "metadata": {
    "id": "LEExWkFi2iwP"
   },
   "source": [
    "# Transformación recíproca"
   ]
  },
  {
   "cell_type": "markdown",
   "metadata": {},
   "source": [
    "En ocasiones, si la distribución está muy sesgada, puede hacerse la transformación recíproca, más potente y que produce un efecto similar a la logarítmica. Otra tercera posibilidad, menos potente que la logarítmica, es transformar calculando la raíz cuadrada de cada valor.\n",
    "\n",
    "Convierte una variable $X$ en $1/X$.\n",
    "\n",
    "$$ X_{rec} = \\frac{1}{X} $$\n",
    "\n",
    "- Reduce la asimetría positiva.\n",
    "- No se puede aplicar si hay ceros."
   ]
  },
  {
   "cell_type": "code",
   "execution_count": null,
   "metadata": {
    "colab": {
     "base_uri": "https://localhost:8080/",
     "height": 269
    },
    "executionInfo": {
     "elapsed": 448,
     "status": "ok",
     "timestamp": 1679451150102,
     "user": {
      "displayName": "Carlos Arellano",
      "userId": "03055712073717640513"
     },
     "user_tz": 360
    },
    "id": "faTAHBDH2mCx",
    "outputId": "192df9bc-5d09-4093-92ad-13256af92e0b"
   },
   "outputs": [],
   "source": [
    "# Gráfica X vs X'\n",
    "plt.plot(x,xp+1,label='$log_{10}$')\n",
    "plt.plot(x,np.log(x)+1,label='$ln$')\n",
    "plt.plot(x,np.sqrt(x),label='raíz')\n",
    "plt.plot(x,1/x,label='recíproco')\n",
    "plt.plot(x,x,'--k')\n",
    "plt.ylim([0,5])\n",
    "plt.legend()\n",
    "plt.grid()"
   ]
  },
  {
   "cell_type": "code",
   "execution_count": null,
   "metadata": {
    "colab": {
     "base_uri": "https://localhost:8080/",
     "height": 444
    },
    "executionInfo": {
     "elapsed": 2496,
     "status": "ok",
     "timestamp": 1679451424080,
     "user": {
      "displayName": "Carlos Arellano",
      "userId": "03055712073717640513"
     },
     "user_tz": 360
    },
    "id": "Oeue3XnEGfIH",
    "outputId": "e8de9670-74bb-4efc-b164-3b1e920387fe"
   },
   "outputs": [],
   "source": [
    "#Histograma de la transformación reciproca\n",
    "df_r=1/(df-df.min()+1)\n",
    "H=df_r.hist(figsize=(10,7),bins=50)"
   ]
  },
  {
   "cell_type": "code",
   "execution_count": null,
   "metadata": {
    "colab": {
     "base_uri": "https://localhost:8080/"
    },
    "executionInfo": {
     "elapsed": 150,
     "status": "ok",
     "timestamp": 1679451470084,
     "user": {
      "displayName": "Carlos Arellano",
      "userId": "03055712073717640513"
     },
     "user_tz": 360
    },
    "id": "Iewf8h6XGvog",
    "outputId": "ff9012fc-e3aa-4522-8967-8a0f331db102"
   },
   "outputs": [],
   "source": [
    "sesgo"
   ]
  },
  {
   "cell_type": "code",
   "execution_count": null,
   "metadata": {
    "colab": {
     "base_uri": "https://localhost:8080/"
    },
    "executionInfo": {
     "elapsed": 171,
     "status": "ok",
     "timestamp": 1679451477403,
     "user": {
      "displayName": "Carlos Arellano",
      "userId": "03055712073717640513"
     },
     "user_tz": 360
    },
    "id": "svdl3AH2G7cU",
    "outputId": "1f0c74e2-0d3e-4072-f9b0-22ba00ce88f8"
   },
   "outputs": [],
   "source": [
    "sesgo_log"
   ]
  },
  {
   "cell_type": "code",
   "execution_count": null,
   "metadata": {
    "colab": {
     "base_uri": "https://localhost:8080/"
    },
    "executionInfo": {
     "elapsed": 149,
     "status": "ok",
     "timestamp": 1679451519807,
     "user": {
      "displayName": "Carlos Arellano",
      "userId": "03055712073717640513"
     },
     "user_tz": 360
    },
    "id": "dWUDww8uG9MU",
    "outputId": "e4f3a67a-eb5a-4ac2-c997-83362d3ae610"
   },
   "outputs": [],
   "source": [
    "sesgo_r=df_r.skew()\n",
    "sesgo_r"
   ]
  },
  {
   "cell_type": "markdown",
   "metadata": {
    "id": "0SMVowl12nJP"
   },
   "source": [
    "# Ejemplos con Regresión Lineal"
   ]
  },
  {
   "cell_type": "code",
   "execution_count": null,
   "metadata": {
    "colab": {
     "base_uri": "https://localhost:8080/"
    },
    "executionInfo": {
     "elapsed": 138,
     "status": "ok",
     "timestamp": 1679452424688,
     "user": {
      "displayName": "Carlos Arellano",
      "userId": "03055712073717640513"
     },
     "user_tz": 360
    },
    "id": "LmZRRQzl2oWw",
    "outputId": "15cf42a1-cc53-4b95-cec9-1a8b243b5fcc"
   },
   "outputs": [],
   "source": [
    "#Qué trnasformación utilizar?\n"
   ]
  },
  {
   "cell_type": "code",
   "execution_count": null,
   "metadata": {
    "colab": {
     "base_uri": "https://localhost:8080/"
    },
    "executionInfo": {
     "elapsed": 5,
     "status": "ok",
     "timestamp": 1679452792953,
     "user": {
      "displayName": "Carlos Arellano",
      "userId": "03055712073717640513"
     },
     "user_tz": 360
    },
    "id": "HWwvCeVLKBN1",
    "outputId": "f0e9513c-4d9b-4e10-dc92-257470aaf610"
   },
   "outputs": [],
   "source": [
    "# Aplicamos logaritmo a las variables 0,2,4,6 y 8.\n",
    "# Recíproco a las variables 3 y 5.\n",
    "# Y ninguna transformación a las variables 1 y 7\n",
    "#\n"
   ]
  },
  {
   "cell_type": "code",
   "execution_count": null,
   "metadata": {
    "colab": {
     "base_uri": "https://localhost:8080/",
     "height": 74
    },
    "executionInfo": {
     "elapsed": 208,
     "status": "ok",
     "timestamp": 1679452868349,
     "user": {
      "displayName": "Carlos Arellano",
      "userId": "03055712073717640513"
     },
     "user_tz": 360
    },
    "id": "M5rv8H0dL-X6",
    "outputId": "500ce998-489a-4bc5-dc7a-6c8dc7341fc8"
   },
   "outputs": [],
   "source": []
  },
  {
   "cell_type": "code",
   "execution_count": null,
   "metadata": {
    "colab": {
     "base_uri": "https://localhost:8080/"
    },
    "executionInfo": {
     "elapsed": 206,
     "status": "ok",
     "timestamp": 1679452933416,
     "user": {
      "displayName": "Carlos Arellano",
      "userId": "03055712073717640513"
     },
     "user_tz": 360
    },
    "id": "7QNe5segMQyq",
    "outputId": "42b1cac5-1c20-45ac-b784-70fd8773f9fd"
   },
   "outputs": [],
   "source": [
    "# Transformación para MedHouseVal -> log10\n"
   ]
  },
  {
   "cell_type": "code",
   "execution_count": null,
   "metadata": {
    "colab": {
     "base_uri": "https://localhost:8080/",
     "height": 281
    },
    "executionInfo": {
     "elapsed": 838,
     "status": "ok",
     "timestamp": 1679453204435,
     "user": {
      "displayName": "Carlos Arellano",
      "userId": "03055712073717640513"
     },
     "user_tz": 360
    },
    "id": "HWxaMDg9MnLB",
    "outputId": "e4681463-b71b-4310-fc28-043e0f9b4bef"
   },
   "outputs": [],
   "source": [
    "#Visualización de la regresión datos originales\n",
    "\n"
   ]
  },
  {
   "cell_type": "code",
   "execution_count": null,
   "metadata": {
    "colab": {
     "base_uri": "https://localhost:8080/",
     "height": 281
    },
    "executionInfo": {
     "elapsed": 2146,
     "status": "ok",
     "timestamp": 1679453342486,
     "user": {
      "displayName": "Carlos Arellano",
      "userId": "03055712073717640513"
     },
     "user_tz": 360
    },
    "id": "I8ezbmJkNobP",
    "outputId": "dbe840eb-da04-4935-8d80-3f4c4370da8d"
   },
   "outputs": [],
   "source": [
    "#Visualización de la regresión datos transformados\n"
   ]
  },
  {
   "cell_type": "code",
   "execution_count": null,
   "metadata": {
    "colab": {
     "base_uri": "https://localhost:8080/",
     "height": 265
    },
    "executionInfo": {
     "elapsed": 2052,
     "status": "ok",
     "timestamp": 1679453807907,
     "user": {
      "displayName": "Carlos Arellano",
      "userId": "03055712073717640513"
     },
     "user_tz": 360
    },
    "id": "DBpqVjyTOcm7",
    "outputId": "6f33e445-706a-48b1-f7f2-1b44146a8321"
   },
   "outputs": [],
   "source": [
    "#Visualización de los datos transformados vs sin transformar\n"
   ]
  },
  {
   "cell_type": "markdown",
   "metadata": {},
   "source": [
    "## Ejemplo Regresión para una variable"
   ]
  },
  {
   "cell_type": "code",
   "execution_count": null,
   "metadata": {
    "colab": {
     "base_uri": "https://localhost:8080/",
     "height": 206
    },
    "executionInfo": {
     "elapsed": 849,
     "status": "ok",
     "timestamp": 1679453993164,
     "user": {
      "displayName": "Carlos Arellano",
      "userId": "03055712073717640513"
     },
     "user_tz": 360
    },
    "id": "8XAPpDDhQT5S",
    "outputId": "5b7f7696-bbef-4686-d3a8-b211dc1b12f0"
   },
   "outputs": [],
   "source": [
    "# Regresión para una variable\n",
    "#\n",
    "df = pd.read_csv('regresion.csv')"
   ]
  },
  {
   "cell_type": "code",
   "execution_count": null,
   "metadata": {},
   "outputs": [],
   "source": [
    "df.info()"
   ]
  },
  {
   "cell_type": "code",
   "execution_count": null,
   "metadata": {},
   "outputs": [],
   "source": []
  },
  {
   "cell_type": "code",
   "execution_count": null,
   "metadata": {},
   "outputs": [],
   "source": []
  },
  {
   "cell_type": "code",
   "execution_count": null,
   "metadata": {},
   "outputs": [],
   "source": []
  },
  {
   "cell_type": "markdown",
   "metadata": {},
   "source": [
    "**Qué transformación elegir? (t_log, t_r)**"
   ]
  },
  {
   "cell_type": "code",
   "execution_count": null,
   "metadata": {},
   "outputs": [],
   "source": []
  },
  {
   "cell_type": "code",
   "execution_count": null,
   "metadata": {
    "scrolled": true
   },
   "outputs": [],
   "source": [
    "#Reg Lineal con los datos sin transformar\n"
   ]
  },
  {
   "cell_type": "code",
   "execution_count": null,
   "metadata": {},
   "outputs": [],
   "source": [
    "#Reg Lineal con los datos transformados\n"
   ]
  },
  {
   "cell_type": "code",
   "execution_count": null,
   "metadata": {},
   "outputs": [],
   "source": [
    "# Gráfica de los datos transformados\n"
   ]
  },
  {
   "cell_type": "code",
   "execution_count": null,
   "metadata": {},
   "outputs": [],
   "source": [
    "# Gráfica de los datos destransformados\n"
   ]
  },
  {
   "cell_type": "markdown",
   "metadata": {},
   "source": [
    "## Resumen\n",
    "\n",
    "- **Logarítmica y recíproca:** Útiles para reducir asimetría positiva. Solo para valores positivos.\n",
    "\n",
    "**Ventajas:** Reduce la asimetría positiva, estabiliza la varianza, facilita la interpretación de los resultados en términos de porcentajes.\n",
    "\n",
    "**Desventajas:** No se puede aplicar a datos con valores negativos o cero, puede exagerar las diferencias entre valores pequeños."
   ]
  },
  {
   "cell_type": "code",
   "execution_count": null,
   "metadata": {},
   "outputs": [],
   "source": []
  }
 ],
 "metadata": {
  "colab": {
   "authorship_tag": "ABX9TyMQ/lwcdoowWVk4Qc4p12e3",
   "mount_file_id": "1hoIRgqCuMS5d0I3uQr8lr0LNFk5RSTYp",
   "provenance": []
  },
  "kernelspec": {
   "display_name": "Python 3 (ipykernel)",
   "language": "python",
   "name": "python3"
  },
  "language_info": {
   "codemirror_mode": {
    "name": "ipython",
    "version": 3
   },
   "file_extension": ".py",
   "mimetype": "text/x-python",
   "name": "python",
   "nbconvert_exporter": "python",
   "pygments_lexer": "ipython3",
   "version": "3.12.7"
  }
 },
 "nbformat": 4,
 "nbformat_minor": 4
}
