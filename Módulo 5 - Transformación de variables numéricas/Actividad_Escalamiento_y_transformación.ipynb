{
 "cells": [
  {
   "cell_type": "markdown",
   "id": "b05f7754",
   "metadata": {},
   "source": [
    "<img style=\"float: left;;\" src='Figures/iteso.jpg' width=\"100\" height=\"200\"/></a>\n",
    "\n",
    "# <center> <font color= #000047> Actividad Escalamiento y Transformación de variables numéricas </font> </center>"
   ]
  },
  {
   "cell_type": "markdown",
   "id": "99f1f5b5",
   "metadata": {
    "id": "99f1f5b5"
   },
   "source": [
    "1.- En el archivo `Escalamiento.xlsx` se encuentran dos variables numéricas que se analizarán para su posterior uso en modelos predictivos.\n",
    "\n",
    "Se entrenará una red neuronal utilizando la variable $x_1$ con una función de activación sigmoidal unipolar, mientras que la variable $x_2$ se empleará para entrenar una red neuronal con función de activación tangente hiperbólica.\n",
    "\n",
    "Realiza el escalamiento adecuado para cada variable, de modo que la red neuronal opere dentro del rango óptimo de cada función de activación.\n",
    "\n",
    "Adicionalmente, transforma cada variable mediante una función de potencia (Box-Cox o Yeo-Johnson) con el objetivo de maximizar la probabilidad de obtener una distribución Normal."
   ]
  },
  {
   "cell_type": "code",
   "execution_count": 10,
   "id": "5fd933ca",
   "metadata": {},
   "outputs": [],
   "source": []
  },
  {
   "cell_type": "markdown",
   "id": "c8b20c96",
   "metadata": {},
   "source": [
    "2.- El archivo `compra_alquila.xlsx` contiene información de personas, incluyendo ingresos, gastos comunes, estado civil, ocupación, entre otros datos, así como la decisión de si la persona compró o alquiló una casa.\n",
    "\n",
    "Utilizando esta información, entrena un algoritmo de machine learning que prediga si una persona comprará (1) o alquilará (0) una casa. El objetivo es que el modelo aprenda a tomar una decisión basada en las características proporcionadas.\n",
    "\n",
    "Prepare el modelo aplicando codificación de variables categóricas, escalamiento y transformaciones adecuadas (genera histogramas y comenta el método de transformación utilizado para cada variable). Selecciona las columnas de entrada $X$ y la columna de salida $Y$ para entrenar un modelo de clasificación que alcance un accuracy superior al 80%. Utiliza la variable `comprar` como variable objetivo."
   ]
  },
  {
   "cell_type": "code",
   "execution_count": null,
   "id": "60467404-4cbb-417b-bf6b-1e79c9df5a0a",
   "metadata": {},
   "outputs": [],
   "source": []
  }
 ],
 "metadata": {
  "colab": {
   "provenance": []
  },
  "kernelspec": {
   "display_name": "Python 3 (ipykernel)",
   "language": "python",
   "name": "python3"
  },
  "language_info": {
   "codemirror_mode": {
    "name": "ipython",
    "version": 3
   },
   "file_extension": ".py",
   "mimetype": "text/x-python",
   "name": "python",
   "nbconvert_exporter": "python",
   "pygments_lexer": "ipython3",
   "version": "3.12.7"
  }
 },
 "nbformat": 4,
 "nbformat_minor": 5
}
