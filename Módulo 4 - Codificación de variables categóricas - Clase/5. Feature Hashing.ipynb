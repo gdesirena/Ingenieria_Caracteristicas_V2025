{
 "cells": [
  {
   "cell_type": "markdown",
   "metadata": {},
   "source": [
    "<img style=\"float: left;;\" src='Figures/iteso.jpg' width=\"100\" height=\"200\"/></a>\n",
    "\n",
    "# <center> <font color= #000047> 5.- Feature Hashing </font> </center>"
   ]
  },
  {
   "cell_type": "markdown",
   "metadata": {},
   "source": [
    "Feature Hashing, también conocido como el **\"hashing trick\"**, es una técnica para transformar variables categóricas de alta cardinalidad en un espacio de características de tamaño fijo. Es especialmente útil cuando el número de categorías posibles es muy grande o desconocido.\n",
    "\n",
    "La **cardinalidad** de una variable categórica es el número de categorías únicas que contiene.\n",
    "\n",
    "Se considera que una variable tiene **alta cardinalidad** cuando el número de categorías distintas es grande en relación al número de observaciones o al contexto del problema. No existe un umbral universal, pero algunas reglas prácticas son:\n",
    "\n",
    "- Si el número de categorías es mayor a 10-20, puede considerarse moderadamente alta.\n",
    "- Si hay decenas, cientos o miles de categorías únicas, es claramente alta cardinalidad.\n",
    "- Si el número de categorías es comparable al número de filas (por ejemplo, un identificador único por registro), la cardinalidad es extremadamente alta.\n",
    "\n",
    "**Ejemplos de variables de alta cardinalidad:**\n",
    "- Códigos postales\n",
    "- Nombres de productos\n",
    "- IDs de usuario\n",
    "- Direcciones de correo electrónico\n",
    "\n",
    "**¿Por qué es importante?**\n",
    "Las variables de alta cardinalidad pueden causar problemas de memoria y sobreajuste si se codifican con técnicas tradicionales como one-hot encoding. Por eso, técnicas como feature hashing son útiles en estos casos.\n",
    "\n",
    "#### Ejemplo:\n",
    "\n",
    "Supón que tienes 10,000 países distintos y decides usar m=100 buckets. Cada país se asigna a un bucket usando una función hash y la operación módulo. Así, solo necesitas 100 columnas para representar cualquier país, aunque pierdes la capacidad de distinguir perfectamente entre todos ellos si hay colisiones.\n"
   ]
  },
  {
   "cell_type": "code",
   "execution_count": 1,
   "metadata": {
    "colab": {
     "base_uri": "https://localhost:8080/",
     "height": 206
    },
    "executionInfo": {
     "elapsed": 887,
     "status": "ok",
     "timestamp": 1678846854244,
     "user": {
      "displayName": "Carlos Arellano",
      "userId": "03055712073717640513"
     },
     "user_tz": 360
    },
    "id": "DeP2AEJdD9wP",
    "outputId": "3c3e5726-b062-42fc-d1a8-c4c46bd80244"
   },
   "outputs": [
    {
     "data": {
      "text/html": [
       "<div>\n",
       "<style scoped>\n",
       "    .dataframe tbody tr th:only-of-type {\n",
       "        vertical-align: middle;\n",
       "    }\n",
       "\n",
       "    .dataframe tbody tr th {\n",
       "        vertical-align: top;\n",
       "    }\n",
       "\n",
       "    .dataframe thead th {\n",
       "        text-align: right;\n",
       "    }\n",
       "</style>\n",
       "<table border=\"1\" class=\"dataframe\">\n",
       "  <thead>\n",
       "    <tr style=\"text-align: right;\">\n",
       "      <th></th>\n",
       "      <th>Países</th>\n",
       "    </tr>\n",
       "  </thead>\n",
       "  <tbody>\n",
       "    <tr>\n",
       "      <th>0</th>\n",
       "      <td>MEX</td>\n",
       "    </tr>\n",
       "    <tr>\n",
       "      <th>1</th>\n",
       "      <td>CHN</td>\n",
       "    </tr>\n",
       "    <tr>\n",
       "      <th>2</th>\n",
       "      <td>CAN</td>\n",
       "    </tr>\n",
       "    <tr>\n",
       "      <th>3</th>\n",
       "      <td>POL</td>\n",
       "    </tr>\n",
       "    <tr>\n",
       "      <th>4</th>\n",
       "      <td>CPV</td>\n",
       "    </tr>\n",
       "  </tbody>\n",
       "</table>\n",
       "</div>"
      ],
      "text/plain": [
       "  Países\n",
       "0    MEX\n",
       "1    CHN\n",
       "2    CAN\n",
       "3    POL\n",
       "4    CPV"
      ]
     },
     "execution_count": 1,
     "metadata": {},
     "output_type": "execute_result"
    }
   ],
   "source": [
    "import pandas as pd\n",
    "import numpy as np\n",
    "import matplotlib.pyplot as plt\n",
    "\n",
    "df=pd.read_csv('Países.csv')\n",
    "df.head()"
   ]
  },
  {
   "cell_type": "code",
   "execution_count": 2,
   "metadata": {
    "colab": {
     "base_uri": "https://localhost:8080/",
     "height": 351
    },
    "executionInfo": {
     "elapsed": 2507,
     "status": "ok",
     "timestamp": 1678847127158,
     "user": {
      "displayName": "Carlos Arellano",
      "userId": "03055712073717640513"
     },
     "user_tz": 360
    },
    "id": "C6vGpfPfEf8U",
    "outputId": "d492b254-7fd2-4a64-8c1b-9eecaf602ae7"
   },
   "outputs": [
    {
     "data": {
      "text/plain": [
       "560"
      ]
     },
     "execution_count": 2,
     "metadata": {},
     "output_type": "execute_result"
    }
   ],
   "source": [
    "len(df)"
   ]
  },
  {
   "cell_type": "code",
   "execution_count": 4,
   "metadata": {
    "colab": {
     "base_uri": "https://localhost:8080/"
    },
    "executionInfo": {
     "elapsed": 139,
     "status": "ok",
     "timestamp": 1678847289212,
     "user": {
      "displayName": "Carlos Arellano",
      "userId": "03055712073717640513"
     },
     "user_tz": 360
    },
    "id": "DtA_mnq6Ffpg",
    "outputId": "655c587d-1f2e-42e0-b4e1-0f889653550b"
   },
   "outputs": [
    {
     "data": {
      "text/plain": [
       "(91,\n",
       " array(['MEX', 'CHN', 'CAN', 'POL', 'CPV', 'PHL', 'EGY', 'FIN', 'ITA',\n",
       "        'AUS', 'CZE', 'BLZ', 'FRA', 'RUS', 'MAR', 'ESP', 'CIV', 'AND',\n",
       "        'SOM', 'CHE', 'AUT', 'BHS', 'JPN', 'PRT', 'KOR', 'COL', 'USA',\n",
       "        'NLD', 'HRV', 'SWE', 'DEU', 'BEN', 'BTN', 'SEN', 'ECU', 'LCA',\n",
       "        'BEL', 'NOR', 'GRC', 'TCD', 'KEN', 'IRN', 'CYP', 'ZAF', 'DNK',\n",
       "        'TGO', 'PAK', 'SVK', 'LSO', 'RWA', 'ARE', 'GRD', 'MDV', 'PNG',\n",
       "        'MHL', 'SVN', 'SLV', 'OMN', 'TUV', 'GNB', 'PER', 'SDN', 'GEO',\n",
       "        'ALB', 'BOL', 'GMB', 'CUB', 'GIN', 'VUT', 'COG', 'SYC', 'CAF',\n",
       "        'PRY', 'LBN', 'UGA', 'NER', 'TUR', 'MYS', 'SAU', 'TKL', 'EST',\n",
       "        'LTU', 'GNQ', 'BLR', 'FJI', 'NIU', 'MNE', 'SMR', 'JOR', 'BIH',\n",
       "        'UKR'], dtype=object))"
      ]
     },
     "execution_count": 4,
     "metadata": {},
     "output_type": "execute_result"
    }
   ],
   "source": [
    "# Cardinalidad de 'Países'\n",
    "df['Países'].nunique(),df['Países'].unique()"
   ]
  },
  {
   "cell_type": "code",
   "execution_count": 5,
   "metadata": {},
   "outputs": [
    {
     "data": {
      "text/plain": [
       "Países\n",
       "EGY    33\n",
       "CAN    31\n",
       "JPN    29\n",
       "FIN    27\n",
       "ITA    27\n",
       "       ..\n",
       "MDV     1\n",
       "PNG     1\n",
       "MHL     1\n",
       "SVN     1\n",
       "UKR     1\n",
       "Name: count, Length: 91, dtype: int64"
      ]
     },
     "execution_count": 5,
     "metadata": {},
     "output_type": "execute_result"
    }
   ],
   "source": [
    "df['Países'].value_counts()"
   ]
  },
  {
   "cell_type": "code",
   "execution_count": 6,
   "metadata": {},
   "outputs": [
    {
     "data": {
      "text/plain": [
       "<Axes: xlabel='Países'>"
      ]
     },
     "execution_count": 6,
     "metadata": {},
     "output_type": "execute_result"
    },
    {
     "data": {
      "image/png": "[encoded data removed]",
      "text/plain": [
       "<Figure size 1500x500 with 1 Axes>"
      ]
     },
     "metadata": {},
     "output_type": "display_data"
    }
   ],
   "source": [
    "vc = df['Países'].value_counts()\n",
    "vc.plot.bar(figsize=(15,5))"
   ]
  },
  {
   "cell_type": "code",
   "execution_count": 7,
   "metadata": {
    "colab": {
     "base_uri": "https://localhost:8080/",
     "height": 351
    },
    "executionInfo": {
     "elapsed": 1146,
     "status": "ok",
     "timestamp": 1678847780874,
     "user": {
      "displayName": "Carlos Arellano",
      "userId": "03055712073717640513"
     },
     "user_tz": 360
    },
    "id": "WeTAUPW7GhpP",
    "outputId": "c009af65-20b9-41dd-d30c-089d05628936"
   },
   "outputs": [
    {
     "data": {
      "text/plain": [
       "Países\n",
       "EGY     33\n",
       "CAN     64\n",
       "JPN     93\n",
       "FIN    120\n",
       "ITA    147\n",
       "      ... \n",
       "MDV    556\n",
       "PNG    557\n",
       "MHL    558\n",
       "SVN    559\n",
       "UKR    560\n",
       "Name: count, Length: 91, dtype: int64"
      ]
     },
     "execution_count": 7,
     "metadata": {},
     "output_type": "execute_result"
    }
   ],
   "source": [
    "#Suma acumulada\n",
    "sc = vc.cumsum()\n",
    "sc"
   ]
  },
  {
   "cell_type": "code",
   "execution_count": 11,
   "metadata": {
    "colab": {
     "base_uri": "https://localhost:8080/"
    },
    "executionInfo": {
     "elapsed": 149,
     "status": "ok",
     "timestamp": 1678848020027,
     "user": {
      "displayName": "Carlos Arellano",
      "userId": "03055712073717640513"
     },
     "user_tz": 360
    },
    "id": "-muSyoCuIt5w",
    "outputId": "c0f2584a-24a1-499e-b705-8e8e5f3f304c"
   },
   "outputs": [
    {
     "data": {
      "text/plain": [
       "<Axes: xlabel='Países'>"
      ]
     },
     "execution_count": 11,
     "metadata": {},
     "output_type": "execute_result"
    },
    {
     "data": {
      "image/png": "[encoded data removed]",
      "text/plain": [
       "<Figure size 1500x500 with 1 Axes>"
      ]
     },
     "metadata": {},
     "output_type": "display_data"
    }
   ],
   "source": [
    "(sc/len(df)).plot(grid=True, figsize=(15,5), xticks=range(91), rot=90)"
   ]
  },
  {
   "cell_type": "code",
   "execution_count": 14,
   "metadata": {},
   "outputs": [
    {
     "data": {
      "text/plain": [
       "(array([19, 20, 21, 22, 23, 24, 25, 26, 27, 28, 29, 30, 31, 32, 33, 34, 35,\n",
       "        36, 37, 38, 39, 40, 41, 42, 43, 44, 45, 46, 47, 48, 49, 50, 51, 52,\n",
       "        53, 54, 55, 56, 57, 58, 59, 60, 61, 62, 63, 64, 65, 66, 67, 68, 69,\n",
       "        70, 71, 72, 73, 74, 75, 76, 77, 78, 79, 80, 81, 82, 83, 84, 85, 86,\n",
       "        87, 88, 89, 90], dtype=int64),)"
      ]
     },
     "execution_count": 14,
     "metadata": {},
     "output_type": "execute_result"
    }
   ],
   "source": [
    "np.where(sc/len(df) > 0.80) # Apartir del indice 19 --> 20"
   ]
  },
  {
   "cell_type": "code",
   "execution_count": 17,
   "metadata": {},
   "outputs": [
    {
     "name": "stderr",
     "output_type": "stream",
     "text": [
      "C:\\Users\\uie70742\\AppData\\Local\\Temp\\ipykernel_36176\\2962537282.py:1: FutureWarning: Series.__getitem__ treating keys as positions is deprecated. In a future version, integer keys will always be treated as labels (consistent with DataFrame behavior). To access a value by position, use `ser.iloc[pos]`\n",
      "  sc[19]/len(df)\n"
     ]
    },
    {
     "data": {
      "text/plain": [
       "0.8160714285714286"
      ]
     },
     "execution_count": 17,
     "metadata": {},
     "output_type": "execute_result"
    }
   ],
   "source": [
    "sc[19]/len(df) # Eligiendo a m (buckets, contenedores) igual a 20 para tener más del 80%"
   ]
  },
  {
   "cell_type": "code",
   "execution_count": 18,
   "metadata": {},
   "outputs": [],
   "source": [
    "m = 20"
   ]
  },
  {
   "cell_type": "markdown",
   "metadata": {},
   "source": [
    "### ¿Cómo funciona Feature hashing?\n",
    "\n",
    "1. **Definir el número de buckets (m):**\n",
    "   Se elige un número fijo de columnas (buckets) donde se mapearán las categorías. Este número es mucho menor que la cantidad total de categorías posibles.\n",
    "\n",
    "2. **Aplicar una función hash:**\n",
    "   Cada categoría se transforma usando una función hash (por ejemplo, hash de Python, MurmurHash, etc.), que convierte el valor de la categoría en un número entero.\n",
    "\n",
    "3. **Asignar a un bucket:**\n",
    "   El valor hash se reduce al rango de buckets usando la operación módulo (`hash(categoría) % m`). Así, cada categoría se asigna a uno de los m buckets.\n",
    "\n",
    "4. **Codificación:**\n",
    "   Para cada observación, se crea un vector de longitud m, donde solo el bucket correspondiente a la categoría tiene un valor distinto de cero (por ejemplo, 1 o la frecuencia), y el resto son ceros. Si varias categorías caen en el mismo bucket, sus valores se suman (esto se llama colisión).\n",
    "\n",
    "### Algunas Ventajas:\n",
    "- Permite trabajar con variables categóricas de alta cardinalidad sin crear miles de columnas.\n",
    "- El espacio de representación es fijo y controlable.\n",
    "- Es eficiente en memoria y velocidad.\n",
    "\n",
    "### Riegos que puede haber con es:\n",
    "- Puede haber colisiones: diferentes categorías pueden terminar en el mismo bucket, perdiendo información.\n",
    "- No es interpretable: no es posible saber a qué categoría corresponde cada bucket.\n"
   ]
  },
  {
   "cell_type": "markdown",
   "metadata": {},
   "source": [
    "#### Ejemplo"
   ]
  },
  {
   "cell_type": "code",
   "execution_count": 19,
   "metadata": {},
   "outputs": [
    {
     "data": {
      "text/plain": [
       "Países\n",
       "EGY    33\n",
       "CAN    31\n",
       "JPN    29\n",
       "FIN    27\n",
       "ITA    27\n",
       "       ..\n",
       "MDV     1\n",
       "PNG     1\n",
       "MHL     1\n",
       "SVN     1\n",
       "UKR     1\n",
       "Name: count, Length: 91, dtype: int64"
      ]
     },
     "execution_count": 19,
     "metadata": {},
     "output_type": "execute_result"
    }
   ],
   "source": [
    "vc"
   ]
  },
  {
   "cell_type": "code",
   "execution_count": 22,
   "metadata": {
    "id": "p8CyG9ZWI8yH",
    "scrolled": true
   },
   "outputs": [
    {
     "data": {
      "text/plain": [
       "{'EGY': 0,\n",
       " 'CAN': 1,\n",
       " 'JPN': 2,\n",
       " 'FIN': 3,\n",
       " 'ITA': 4,\n",
       " 'FRA': 5,\n",
       " 'PRT': 6,\n",
       " 'CZE': 7,\n",
       " 'USA': 8,\n",
       " 'ESP': 9,\n",
       " 'NLD': 10,\n",
       " 'DEU': 11,\n",
       " 'PHL': 12,\n",
       " 'KOR': 13,\n",
       " 'MEX': 14,\n",
       " 'CHE': 15,\n",
       " 'AUS': 16,\n",
       " 'RUS': 17,\n",
       " 'SWE': 18,\n",
       " 'POL': 19,\n",
       " 'CHN': 20,\n",
       " 'COL': 21,\n",
       " 'BHS': 22,\n",
       " 'EST': 23,\n",
       " 'CIV': 24,\n",
       " 'COG': 25,\n",
       " 'VUT': 26,\n",
       " 'TUV': 27,\n",
       " 'CYP': 28,\n",
       " 'BEN': 29,\n",
       " 'CAF': 30,\n",
       " 'SYC': 31,\n",
       " 'GIN': 32,\n",
       " 'NIU': 33,\n",
       " 'CUB': 34,\n",
       " 'GMB': 35,\n",
       " 'BOL': 36,\n",
       " 'ALB': 37,\n",
       " 'GEO': 38,\n",
       " 'SDN': 39,\n",
       " 'PER': 40,\n",
       " 'PRY': 41,\n",
       " 'TUR': 42,\n",
       " 'LBN': 43,\n",
       " 'UGA': 44,\n",
       " 'NER': 45,\n",
       " 'FJI': 46,\n",
       " 'MYS': 47,\n",
       " 'SAU': 48,\n",
       " 'TKL': 49,\n",
       " 'LTU': 50,\n",
       " 'GNQ': 51,\n",
       " 'BLR': 52,\n",
       " 'BIH': 53,\n",
       " 'JOR': 54,\n",
       " 'SMR': 55,\n",
       " 'MNE': 56,\n",
       " 'GNB': 57,\n",
       " 'TGO': 58,\n",
       " 'OMN': 59,\n",
       " 'SLV': 60,\n",
       " 'CPV': 61,\n",
       " 'BLZ': 62,\n",
       " 'MAR': 63,\n",
       " 'AND': 64,\n",
       " 'SOM': 65,\n",
       " 'AUT': 66,\n",
       " 'HRV': 67,\n",
       " 'BTN': 68,\n",
       " 'SEN': 69,\n",
       " 'ECU': 70,\n",
       " 'LCA': 71,\n",
       " 'BEL': 72,\n",
       " 'NOR': 73,\n",
       " 'GRC': 74,\n",
       " 'TCD': 75,\n",
       " 'KEN': 76,\n",
       " 'IRN': 77,\n",
       " 'ZAF': 78,\n",
       " 'DNK': 79,\n",
       " 'PAK': 80,\n",
       " 'SVK': 81,\n",
       " 'LSO': 82,\n",
       " 'RWA': 83,\n",
       " 'ARE': 84,\n",
       " 'GRD': 85,\n",
       " 'MDV': 86,\n",
       " 'PNG': 87,\n",
       " 'MHL': 88,\n",
       " 'SVN': 89,\n",
       " 'UKR': 90}"
      ]
     },
     "execution_count": 22,
     "metadata": {},
     "output_type": "execute_result"
    }
   ],
   "source": [
    "#Por conteo de categorías\n",
    "m = 20\n",
    "key = {categorias:ids for categorias,ids in zip(vc.index, range(91))}\n",
    "key"
   ]
  },
  {
   "cell_type": "code",
   "execution_count": null,
   "metadata": {},
   "outputs": [],
   "source": []
  },
  {
   "cell_type": "markdown",
   "metadata": {},
   "source": [
    "#### Función hash"
   ]
  },
  {
   "cell_type": "markdown",
   "metadata": {},
   "source": [
    "Una función hash es una función determinista que asigna un entero potencialmente ilimitado a un rango finito de enteros [1, m]. Dado que el dominio de entrada es potencialmente mayor que el rango de salida, varios números pueden asignarse al mismo resultado. Esto se llama una colisión. Una función hash uniforme asegura que aproximadamente la misma cantidad de números se asignen a cada uno de los m contenedores.\n",
    "\n",
    "Visualmente, podemos pensar en una función hash como una máquina que recibe bolas numeradas (claves) y las dirige a uno de los m contenedores. Las bolas con el mismo número siempre serán dirigidas al mismo contenedor. Esto mantiene el espacio de características mientras reduce el almacenamiento y el tiempo de procesamiento durante el entrenamiento y evaluación de algún algoritmo de aprendizaje automático.\n",
    "\n",
    "Las funciones hash pueden construirse para cualquier objeto que pueda representarse numéricamente (lo cual es cierto para cualquier dato que pueda almacenarse en una computadora): números, cadenas, estructuras complejas, etc."
   ]
  },
  {
   "cell_type": "code",
   "execution_count": 24,
   "metadata": {
    "id": "FCcNEypNKfj5"
   },
   "outputs": [
    {
     "data": {
      "text/plain": [
       "[51,\n",
       " 44,\n",
       " 35,\n",
       " 32,\n",
       " 32,\n",
       " 32,\n",
       " 30,\n",
       " 30,\n",
       " 28,\n",
       " 28,\n",
       " 25,\n",
       " 23,\n",
       " 23,\n",
       " 22,\n",
       " 22,\n",
       " 22,\n",
       " 22,\n",
       " 21,\n",
       " 20,\n",
       " 18]"
      ]
     },
     "execution_count": 24,
     "metadata": {},
     "output_type": "execute_result"
    }
   ],
   "source": [
    "# Función Hash tomando en cuenta la frecuencia\n",
    "m=20\n",
    "cnt =[0]*m\n",
    "for obs in df['Países']:\n",
    "    i = key[obs]%m\n",
    "    cnt[i]+=1\n",
    "cnt"
   ]
  },
  {
   "cell_type": "code",
   "execution_count": 25,
   "metadata": {
    "scrolled": true
   },
   "outputs": [
    {
     "data": {
      "text/plain": [
       "{'EGY': 51,\n",
       " 'CAN': 44,\n",
       " 'JPN': 35,\n",
       " 'FIN': 32,\n",
       " 'ITA': 32,\n",
       " 'FRA': 32,\n",
       " 'PRT': 30,\n",
       " 'CZE': 30,\n",
       " 'USA': 28,\n",
       " 'ESP': 28,\n",
       " 'NLD': 25,\n",
       " 'DEU': 23,\n",
       " 'PHL': 23,\n",
       " 'KOR': 22,\n",
       " 'MEX': 22,\n",
       " 'CHE': 22,\n",
       " 'AUS': 22,\n",
       " 'RUS': 21,\n",
       " 'SWE': 20,\n",
       " 'POL': 18,\n",
       " 'CHN': 51,\n",
       " 'COL': 44,\n",
       " 'BHS': 35,\n",
       " 'EST': 32,\n",
       " 'CIV': 32,\n",
       " 'COG': 32,\n",
       " 'VUT': 30,\n",
       " 'TUV': 30,\n",
       " 'CYP': 28,\n",
       " 'BEN': 28,\n",
       " 'CAF': 25,\n",
       " 'SYC': 23,\n",
       " 'GIN': 23,\n",
       " 'NIU': 22,\n",
       " 'CUB': 22,\n",
       " 'GMB': 22,\n",
       " 'BOL': 22,\n",
       " 'ALB': 21,\n",
       " 'GEO': 20,\n",
       " 'SDN': 18,\n",
       " 'PER': 51,\n",
       " 'PRY': 44,\n",
       " 'TUR': 35,\n",
       " 'LBN': 32,\n",
       " 'UGA': 32,\n",
       " 'NER': 32,\n",
       " 'FJI': 30,\n",
       " 'MYS': 30,\n",
       " 'SAU': 28,\n",
       " 'TKL': 28,\n",
       " 'LTU': 25,\n",
       " 'GNQ': 23,\n",
       " 'BLR': 23,\n",
       " 'BIH': 22,\n",
       " 'JOR': 22,\n",
       " 'SMR': 22,\n",
       " 'MNE': 22,\n",
       " 'GNB': 21,\n",
       " 'TGO': 20,\n",
       " 'OMN': 18,\n",
       " 'SLV': 51,\n",
       " 'CPV': 44,\n",
       " 'BLZ': 35,\n",
       " 'MAR': 32,\n",
       " 'AND': 32,\n",
       " 'SOM': 32,\n",
       " 'AUT': 30,\n",
       " 'HRV': 30,\n",
       " 'BTN': 28,\n",
       " 'SEN': 28,\n",
       " 'ECU': 25,\n",
       " 'LCA': 23,\n",
       " 'BEL': 23,\n",
       " 'NOR': 22,\n",
       " 'GRC': 22,\n",
       " 'TCD': 22,\n",
       " 'KEN': 22,\n",
       " 'IRN': 21,\n",
       " 'ZAF': 20,\n",
       " 'DNK': 18,\n",
       " 'PAK': 51,\n",
       " 'SVK': 44,\n",
       " 'LSO': 35,\n",
       " 'RWA': 32,\n",
       " 'ARE': 32,\n",
       " 'GRD': 32,\n",
       " 'MDV': 30,\n",
       " 'PNG': 30,\n",
       " 'MHL': 28,\n",
       " 'SVN': 28,\n",
       " 'UKR': 25}"
      ]
     },
     "execution_count": 25,
     "metadata": {},
     "output_type": "execute_result"
    }
   ],
   "source": [
    "has_cod = {pais: cnt[ID%m] for pais, ID in key.items()}\n",
    "has_cod"
   ]
  },
  {
   "cell_type": "code",
   "execution_count": 26,
   "metadata": {},
   "outputs": [
    {
     "data": {
      "text/html": [
       "<div>\n",
       "<style scoped>\n",
       "    .dataframe tbody tr th:only-of-type {\n",
       "        vertical-align: middle;\n",
       "    }\n",
       "\n",
       "    .dataframe tbody tr th {\n",
       "        vertical-align: top;\n",
       "    }\n",
       "\n",
       "    .dataframe thead th {\n",
       "        text-align: right;\n",
       "    }\n",
       "</style>\n",
       "<table border=\"1\" class=\"dataframe\">\n",
       "  <thead>\n",
       "    <tr style=\"text-align: right;\">\n",
       "      <th></th>\n",
       "      <th>Países</th>\n",
       "      <th>hash_1</th>\n",
       "    </tr>\n",
       "  </thead>\n",
       "  <tbody>\n",
       "    <tr>\n",
       "      <th>0</th>\n",
       "      <td>MEX</td>\n",
       "      <td>22</td>\n",
       "    </tr>\n",
       "    <tr>\n",
       "      <th>1</th>\n",
       "      <td>CHN</td>\n",
       "      <td>51</td>\n",
       "    </tr>\n",
       "    <tr>\n",
       "      <th>2</th>\n",
       "      <td>CAN</td>\n",
       "      <td>44</td>\n",
       "    </tr>\n",
       "    <tr>\n",
       "      <th>3</th>\n",
       "      <td>POL</td>\n",
       "      <td>18</td>\n",
       "    </tr>\n",
       "    <tr>\n",
       "      <th>4</th>\n",
       "      <td>CPV</td>\n",
       "      <td>44</td>\n",
       "    </tr>\n",
       "  </tbody>\n",
       "</table>\n",
       "</div>"
      ],
      "text/plain": [
       "  Países  hash_1\n",
       "0    MEX      22\n",
       "1    CHN      51\n",
       "2    CAN      44\n",
       "3    POL      18\n",
       "4    CPV      44"
      ]
     },
     "execution_count": 26,
     "metadata": {},
     "output_type": "execute_result"
    }
   ],
   "source": [
    "df['hash_1']=df['Países'].map(has_cod)\n",
    "df.head()"
   ]
  },
  {
   "cell_type": "code",
   "execution_count": 27,
   "metadata": {
    "id": "XNZetwoQLVXk",
    "scrolled": true
   },
   "outputs": [
    {
     "data": {
      "text/plain": [
       "{'MEX': 0,\n",
       " 'CHN': 1,\n",
       " 'CAN': 2,\n",
       " 'POL': 3,\n",
       " 'CPV': 4,\n",
       " 'PHL': 5,\n",
       " 'EGY': 6,\n",
       " 'FIN': 7,\n",
       " 'ITA': 8,\n",
       " 'AUS': 9,\n",
       " 'CZE': 10,\n",
       " 'BLZ': 11,\n",
       " 'FRA': 12,\n",
       " 'RUS': 13,\n",
       " 'MAR': 14,\n",
       " 'ESP': 15,\n",
       " 'CIV': 16,\n",
       " 'AND': 17,\n",
       " 'SOM': 18,\n",
       " 'CHE': 19,\n",
       " 'AUT': 20,\n",
       " 'BHS': 21,\n",
       " 'JPN': 22,\n",
       " 'PRT': 23,\n",
       " 'KOR': 24,\n",
       " 'COL': 25,\n",
       " 'USA': 26,\n",
       " 'NLD': 27,\n",
       " 'HRV': 28,\n",
       " 'SWE': 29,\n",
       " 'DEU': 30,\n",
       " 'BEN': 31,\n",
       " 'BTN': 32,\n",
       " 'SEN': 33,\n",
       " 'ECU': 34,\n",
       " 'LCA': 35,\n",
       " 'BEL': 36,\n",
       " 'NOR': 37,\n",
       " 'GRC': 38,\n",
       " 'TCD': 39,\n",
       " 'KEN': 40,\n",
       " 'IRN': 41,\n",
       " 'CYP': 42,\n",
       " 'ZAF': 43,\n",
       " 'DNK': 44,\n",
       " 'TGO': 45,\n",
       " 'PAK': 46,\n",
       " 'SVK': 47,\n",
       " 'LSO': 48,\n",
       " 'RWA': 49,\n",
       " 'ARE': 50,\n",
       " 'GRD': 51,\n",
       " 'MDV': 52,\n",
       " 'PNG': 53,\n",
       " 'MHL': 54,\n",
       " 'SVN': 55,\n",
       " 'SLV': 56,\n",
       " 'OMN': 57,\n",
       " 'TUV': 58,\n",
       " 'GNB': 59,\n",
       " 'PER': 60,\n",
       " 'SDN': 61,\n",
       " 'GEO': 62,\n",
       " 'ALB': 63,\n",
       " 'BOL': 64,\n",
       " 'GMB': 65,\n",
       " 'CUB': 66,\n",
       " 'GIN': 67,\n",
       " 'VUT': 68,\n",
       " 'COG': 69,\n",
       " 'SYC': 70,\n",
       " 'CAF': 71,\n",
       " 'PRY': 72,\n",
       " 'LBN': 73,\n",
       " 'UGA': 74,\n",
       " 'NER': 75,\n",
       " 'TUR': 76,\n",
       " 'MYS': 77,\n",
       " 'SAU': 78,\n",
       " 'TKL': 79,\n",
       " 'EST': 80,\n",
       " 'LTU': 81,\n",
       " 'GNQ': 82,\n",
       " 'BLR': 83,\n",
       " 'FJI': 84,\n",
       " 'NIU': 85,\n",
       " 'MNE': 86,\n",
       " 'SMR': 87,\n",
       " 'JOR': 88,\n",
       " 'BIH': 89,\n",
       " 'UKR': 90}"
      ]
     },
     "execution_count": 27,
     "metadata": {},
     "output_type": "execute_result"
    }
   ],
   "source": [
    "# sin conteo\n",
    "key2 = {categorias:ids for categorias,ids in zip(df['Países'].unique(), range(91))}\n",
    "key2"
   ]
  },
  {
   "cell_type": "code",
   "execution_count": 28,
   "metadata": {
    "colab": {
     "base_uri": "https://localhost:8080/"
    },
    "executionInfo": {
     "elapsed": 116,
     "status": "ok",
     "timestamp": 1678848929032,
     "user": {
      "displayName": "Carlos Arellano",
      "userId": "03055712073717640513"
     },
     "user_tz": 360
    },
    "id": "_KRFVjavMCbL",
    "outputId": "50a83557-7cb6-44d5-c837-a6c20218f3f3"
   },
   "outputs": [
    {
     "data": {
      "text/plain": [
       "[24, 21, 64, 43, 23, 33, 59, 51, 32, 40, 48, 5, 30, 21, 4, 26, 5, 4, 5, 22]"
      ]
     },
     "execution_count": 28,
     "metadata": {},
     "output_type": "execute_result"
    }
   ],
   "source": [
    "# Otra función hash\n",
    "m=20\n",
    "cnt =[0]*m\n",
    "for obs in df['Países']:\n",
    "    i = key2[obs]%m\n",
    "    cnt[i]+=1\n",
    "cnt"
   ]
  },
  {
   "cell_type": "code",
   "execution_count": 29,
   "metadata": {
    "scrolled": true
   },
   "outputs": [
    {
     "data": {
      "text/plain": [
       "{'MEX': 24,\n",
       " 'CHN': 21,\n",
       " 'CAN': 64,\n",
       " 'POL': 43,\n",
       " 'CPV': 23,\n",
       " 'PHL': 33,\n",
       " 'EGY': 59,\n",
       " 'FIN': 51,\n",
       " 'ITA': 32,\n",
       " 'AUS': 40,\n",
       " 'CZE': 48,\n",
       " 'BLZ': 5,\n",
       " 'FRA': 30,\n",
       " 'RUS': 21,\n",
       " 'MAR': 4,\n",
       " 'ESP': 26,\n",
       " 'CIV': 5,\n",
       " 'AND': 4,\n",
       " 'SOM': 5,\n",
       " 'CHE': 22,\n",
       " 'AUT': 24,\n",
       " 'BHS': 21,\n",
       " 'JPN': 64,\n",
       " 'PRT': 43,\n",
       " 'KOR': 23,\n",
       " 'COL': 33,\n",
       " 'USA': 59,\n",
       " 'NLD': 51,\n",
       " 'HRV': 32,\n",
       " 'SWE': 40,\n",
       " 'DEU': 48,\n",
       " 'BEN': 5,\n",
       " 'BTN': 30,\n",
       " 'SEN': 21,\n",
       " 'ECU': 4,\n",
       " 'LCA': 26,\n",
       " 'BEL': 5,\n",
       " 'NOR': 4,\n",
       " 'GRC': 5,\n",
       " 'TCD': 22,\n",
       " 'KEN': 24,\n",
       " 'IRN': 21,\n",
       " 'CYP': 64,\n",
       " 'ZAF': 43,\n",
       " 'DNK': 23,\n",
       " 'TGO': 33,\n",
       " 'PAK': 59,\n",
       " 'SVK': 51,\n",
       " 'LSO': 32,\n",
       " 'RWA': 40,\n",
       " 'ARE': 48,\n",
       " 'GRD': 5,\n",
       " 'MDV': 30,\n",
       " 'PNG': 21,\n",
       " 'MHL': 4,\n",
       " 'SVN': 26,\n",
       " 'SLV': 5,\n",
       " 'OMN': 4,\n",
       " 'TUV': 5,\n",
       " 'GNB': 22,\n",
       " 'PER': 24,\n",
       " 'SDN': 21,\n",
       " 'GEO': 64,\n",
       " 'ALB': 43,\n",
       " 'BOL': 23,\n",
       " 'GMB': 33,\n",
       " 'CUB': 59,\n",
       " 'GIN': 51,\n",
       " 'VUT': 32,\n",
       " 'COG': 40,\n",
       " 'SYC': 48,\n",
       " 'CAF': 5,\n",
       " 'PRY': 30,\n",
       " 'LBN': 21,\n",
       " 'UGA': 4,\n",
       " 'NER': 26,\n",
       " 'TUR': 5,\n",
       " 'MYS': 4,\n",
       " 'SAU': 5,\n",
       " 'TKL': 22,\n",
       " 'EST': 24,\n",
       " 'LTU': 21,\n",
       " 'GNQ': 64,\n",
       " 'BLR': 43,\n",
       " 'FJI': 23,\n",
       " 'NIU': 33,\n",
       " 'MNE': 59,\n",
       " 'SMR': 51,\n",
       " 'JOR': 32,\n",
       " 'BIH': 40,\n",
       " 'UKR': 48}"
      ]
     },
     "execution_count": 29,
     "metadata": {},
     "output_type": "execute_result"
    }
   ],
   "source": [
    "has_cod2 = {pais: cnt[ID%m] for pais, ID in key2.items()}\n",
    "has_cod2"
   ]
  },
  {
   "cell_type": "code",
   "execution_count": 30,
   "metadata": {},
   "outputs": [
    {
     "data": {
      "text/html": [
       "<div>\n",
       "<style scoped>\n",
       "    .dataframe tbody tr th:only-of-type {\n",
       "        vertical-align: middle;\n",
       "    }\n",
       "\n",
       "    .dataframe tbody tr th {\n",
       "        vertical-align: top;\n",
       "    }\n",
       "\n",
       "    .dataframe thead th {\n",
       "        text-align: right;\n",
       "    }\n",
       "</style>\n",
       "<table border=\"1\" class=\"dataframe\">\n",
       "  <thead>\n",
       "    <tr style=\"text-align: right;\">\n",
       "      <th></th>\n",
       "      <th>Países</th>\n",
       "      <th>hash_1</th>\n",
       "      <th>hash_2</th>\n",
       "    </tr>\n",
       "  </thead>\n",
       "  <tbody>\n",
       "    <tr>\n",
       "      <th>0</th>\n",
       "      <td>MEX</td>\n",
       "      <td>22</td>\n",
       "      <td>24</td>\n",
       "    </tr>\n",
       "    <tr>\n",
       "      <th>1</th>\n",
       "      <td>CHN</td>\n",
       "      <td>51</td>\n",
       "      <td>21</td>\n",
       "    </tr>\n",
       "    <tr>\n",
       "      <th>2</th>\n",
       "      <td>CAN</td>\n",
       "      <td>44</td>\n",
       "      <td>64</td>\n",
       "    </tr>\n",
       "    <tr>\n",
       "      <th>3</th>\n",
       "      <td>POL</td>\n",
       "      <td>18</td>\n",
       "      <td>43</td>\n",
       "    </tr>\n",
       "    <tr>\n",
       "      <th>4</th>\n",
       "      <td>CPV</td>\n",
       "      <td>44</td>\n",
       "      <td>23</td>\n",
       "    </tr>\n",
       "  </tbody>\n",
       "</table>\n",
       "</div>"
      ],
      "text/plain": [
       "  Países  hash_1  hash_2\n",
       "0    MEX      22      24\n",
       "1    CHN      51      21\n",
       "2    CAN      44      64\n",
       "3    POL      18      43\n",
       "4    CPV      44      23"
      ]
     },
     "execution_count": 30,
     "metadata": {},
     "output_type": "execute_result"
    }
   ],
   "source": [
    "df['hash_2']=df['Países'].map(has_cod2)\n",
    "df.head()"
   ]
  },
  {
   "cell_type": "markdown",
   "metadata": {},
   "source": [
    "### Función hash simple (basado en el módulo)"
   ]
  },
  {
   "cell_type": "code",
   "execution_count": null,
   "metadata": {},
   "outputs": [],
   "source": []
  },
  {
   "cell_type": "code",
   "execution_count": null,
   "metadata": {},
   "outputs": [],
   "source": []
  },
  {
   "cell_type": "markdown",
   "metadata": {},
   "source": [
    "### Usando librerías"
   ]
  },
  {
   "cell_type": "markdown",
   "metadata": {},
   "source": [
    "#### FeatureHasher de scikit-learn\n",
    "\n",
    "`FeatureHasher` es una clase de scikit-learn (`sklearn.feature_extraction.FeatureHasher`) que implementa la técnica de **feature hashing** (hashing trick) para transformar variables categóricas (o texto) en un espacio de características de tamaño fijo. Es especialmente útil para datos de alta cardinalidad y/o cuando el espacio de posibles categorías es muy grande o desconocido.\n",
    "\n",
    "##### Funcionamiento\n",
    "\n",
    "1. **Entrada esperada**:\n",
    "   - Recibe una lista de diccionarios, una matriz dispersa o un DataFrame donde cada fila representa una muestra y cada columna una característica categórica o de texto.\n",
    "   - Cada valor puede ser una cadena, un número o una lista de tokens (en el caso de texto).\n",
    "\n",
    "2. **Proceso de hashing**:\n",
    "   - Para cada par `(característica, valor)` en cada muestra, se calcula un hash usando una función hash rápida (por defecto, MurmurHash3 de 32 bits).\n",
    "   - El hash se reduce al rango `[0, n_features-1]` usando la operación módulo, donde `n_features` es el número de columnas de salida (buckets).\n",
    "\n",
    "3. **Asignación de valores**:\n",
    "   - Si el valor es numérico, se suma ese valor en el bucket correspondiente.\n",
    "   - Si el valor es categórico (cadena), se suma 1 en el bucket correspondiente.\n",
    "   - Para evitar que los buckets sean siempre positivos (y reducir colisiones), el signo del valor se determina usando el hash (puede ser +1 o -1).\n",
    "\n",
    "4. **Salida**:\n",
    "   - Devuelve una matriz dispersa (`scipy.sparse`) de tamaño `(n_samples, n_features)`, donde cada fila es la representación hash de la muestra original.\n",
    "\n",
    "##### argumentos de entrada principales\n",
    "\n",
    "- `n_features`: Número de columnas (buckets) de salida. Controla la dimensionalidad y la probabilidad de colisiones.\n",
    "- `input_type`: Tipo de entrada. Puede ser `'dict'`, `'pair'`, o `'string'`.\n",
    "- `alternate_sign`: Si es `True` (por defecto), alterna el signo de los valores para reducir el sesgo por colisiones.\n",
    "\n",
    "`FeatureHasher` de scikit-learn es una herramienta poderosa para convertir variables categóricas o texto en vectores numéricos de tamaño fijo, usando hashing eficiente y controlando la dimensionalidad, a costa de perder interpretabilidad y permitir colisiones controladas."
   ]
  },
  {
   "cell_type": "code",
   "execution_count": null,
   "metadata": {},
   "outputs": [],
   "source": [
    "## Ejemplo de uso\n",
    "from sklearn.feature_extraction import FeatureHasher\n",
    "\n",
    "# Supón que tienes una lista de diccionarios con variables categóricas\n",
    "data = [\n",
    "    {'color': 'red', 'shape': 'circle'},\n",
    "    {'color': 'blue', 'shape': 'square'},\n",
    "    {'color': 'green', 'shape': 'triangle'},\n",
    "    {'color': 'red', 'shape': 'square'}\n",
    "]\n",
    "data_df = pd.DataFrame(data)\n",
    "data_df"
   ]
  },
  {
   "cell_type": "code",
   "execution_count": null,
   "metadata": {},
   "outputs": [],
   "source": [
    "# Crear el hasher con 8 buckets\n",
    "\n",
    "# Transformar los datos\n",
    "\n",
    "# X es una matriz dispersa (sparse matrix)\n",
    "\n"
   ]
  },
  {
   "cell_type": "markdown",
   "metadata": {},
   "source": [
    "**MurmurHash3** es una función hash no criptográfica, rápida y eficiente, ampliamente utilizada para aplicaciones como hash tables y feature hashing. La versión de 32 bits produce un entero de 32 bits a partir de una cadena o secuencia de bytes.\n",
    "\n",
    "- **No criptográfica:** No es segura para aplicaciones de seguridad, pero es muy rápida y tiene baja tasa de colisiones para uso general.\n",
    "- **Determinística:** La misma entrada y semilla siempre producen el mismo hash.\n",
    "- **Uniformidad:** Distribuye los valores de hash de manera uniforme, lo que es ideal para hashing en estructuras de datos y machine learning.\n",
    "\n",
    "En scikit-learn y otras librerías, MurmurHash3 se usa internamente para convertir cadenas en índices de buckets de manera eficiente y reproducible.\n"
   ]
  },
  {
   "cell_type": "code",
   "execution_count": null,
   "metadata": {},
   "outputs": [],
   "source": [
    "from sklearn.utils.murmurhash import murmurhash3_32\n",
    "\n",
    "# Ejemplo: obtener el hash de una cadena\n",
    "valor = \"Mexico\"\n",
    "hash_val = murmurhash3_32(valor, seed=0)\n",
    "print(hash_val)"
   ]
  },
  {
   "cell_type": "code",
   "execution_count": null,
   "metadata": {
    "scrolled": true
   },
   "outputs": [],
   "source": [
    "help(murmurhash3_32)"
   ]
  },
  {
   "cell_type": "code",
   "execution_count": null,
   "metadata": {
    "executionInfo": {
     "elapsed": 130,
     "status": "ok",
     "timestamp": 1678849218431,
     "user": {
      "displayName": "Carlos Arellano",
      "userId": "03055712073717640513"
     },
     "user_tz": 360
    },
    "id": "D9cUAVRhMpOl"
   },
   "outputs": [],
   "source": [
    "# Función hash MurmurHash3 de 32 bits\n"
   ]
  },
  {
   "cell_type": "code",
   "execution_count": null,
   "metadata": {
    "id": "5b0d8r_IOS14"
   },
   "outputs": [],
   "source": [
    "#!pip install category-encoders"
   ]
  },
  {
   "cell_type": "markdown",
   "metadata": {},
   "source": [
    "#### Category Encoders"
   ]
  },
  {
   "cell_type": "code",
   "execution_count": null,
   "metadata": {
    "executionInfo": {
     "elapsed": 796,
     "status": "ok",
     "timestamp": 1678849673490,
     "user": {
      "displayName": "Carlos Arellano",
      "userId": "03055712073717640513"
     },
     "user_tz": 360
    },
    "id": "DjdhcBLJPEJ0"
   },
   "outputs": [],
   "source": [
    "#Usando category_encoders para dataset de países\n"
   ]
  },
  {
   "cell_type": "code",
   "execution_count": null,
   "metadata": {
    "colab": {
     "base_uri": "https://localhost:8080/",
     "height": 487
    },
    "executionInfo": {
     "elapsed": 570,
     "status": "ok",
     "timestamp": 1678849801908,
     "user": {
      "displayName": "Carlos Arellano",
      "userId": "03055712073717640513"
     },
     "user_tz": 360
    },
    "id": "N5U9CjN9PQTo",
    "outputId": "727a7e3b-dbec-49d7-af50-faa7cbf61218"
   },
   "outputs": [],
   "source": []
  },
  {
   "cell_type": "code",
   "execution_count": null,
   "metadata": {},
   "outputs": [],
   "source": []
  }
 ],
 "metadata": {
  "colab": {
   "authorship_tag": "ABX9TyOl+Q+QSL1faFdOmHvegRli",
   "mount_file_id": "1A_FCrK6iFGWmRTQOZNDLAZzqDxbkhk_s",
   "provenance": []
  },
  "kernelspec": {
   "display_name": "Python 3 (ipykernel)",
   "language": "python",
   "name": "python3"
  },
  "language_info": {
   "codemirror_mode": {
    "name": "ipython",
    "version": 3
   },
   "file_extension": ".py",
   "mimetype": "text/x-python",
   "name": "python",
   "nbconvert_exporter": "python",
   "pygments_lexer": "ipython3",
   "version": "3.12.7"
  }
 },
 "nbformat": 4,
 "nbformat_minor": 4
}
