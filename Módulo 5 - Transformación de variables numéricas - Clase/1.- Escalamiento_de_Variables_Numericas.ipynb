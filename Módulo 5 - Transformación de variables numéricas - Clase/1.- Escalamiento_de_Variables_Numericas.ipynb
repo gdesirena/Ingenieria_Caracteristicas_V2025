{
 "cells": [
  {
   "cell_type": "markdown",
   "id": "a09343fe-8c94-49a8-b5ef-4da8e6793486",
   "metadata": {},
   "source": [
    "<img style=\"float: left;;\" src='Figures/iteso.jpg' width=\"100\" height=\"200\"/></a>\n",
    "\n",
    "# <center> <font color= #000047>Escalamiento de Variables Numéricas </font> </center>"
   ]
  },
  {
   "cell_type": "markdown",
   "id": "87579130",
   "metadata": {},
   "source": [
    "El **escalamiento de variables numéricas** es una etapa fundamental en el preprocesamiento de datos para machine learning y análisis estadístico. Consiste en transformar los valores de las variables numéricas para que tengan una escala comparable, lo que mejora el desempeño de muchos algoritmos.\n",
    "\n",
    "A continuación se explican las principales técnicas de escalamiento, cada una con ejemplos prácticos en Python."
   ]
  },
  {
   "cell_type": "markdown",
   "id": "216a0489",
   "metadata": {},
   "source": [
    "## 1. Estandarización (Standardization)\n",
    "\n",
    "La estandarización transforma los datos para que tengan media cero y desviación estándar uno. Es útil cuando los datos tienen una distribución aproximadamente normal.\n",
    "\n",
    "La fórmula es:\n",
    "\n",
    "$$ X_{est} = \\frac{X - \\mu}{\\sigma} $$\n",
    "\n",
    "donde $\\mu$ es la media y $\\sigma$ la desviación estándar."
   ]
  },
  {
   "cell_type": "code",
   "execution_count": 1,
   "id": "b431d4ee",
   "metadata": {},
   "outputs": [
    {
     "data": {
      "text/html": [
       "<div>\n",
       "<style scoped>\n",
       "    .dataframe tbody tr th:only-of-type {\n",
       "        vertical-align: middle;\n",
       "    }\n",
       "\n",
       "    .dataframe tbody tr th {\n",
       "        vertical-align: top;\n",
       "    }\n",
       "\n",
       "    .dataframe thead th {\n",
       "        text-align: right;\n",
       "    }\n",
       "</style>\n",
       "<table border=\"1\" class=\"dataframe\">\n",
       "  <thead>\n",
       "    <tr style=\"text-align: right;\">\n",
       "      <th></th>\n",
       "      <th>A</th>\n",
       "      <th>B</th>\n",
       "    </tr>\n",
       "  </thead>\n",
       "  <tbody>\n",
       "    <tr>\n",
       "      <th>0</th>\n",
       "      <td>10</td>\n",
       "      <td>100</td>\n",
       "    </tr>\n",
       "    <tr>\n",
       "      <th>1</th>\n",
       "      <td>20</td>\n",
       "      <td>150</td>\n",
       "    </tr>\n",
       "    <tr>\n",
       "      <th>2</th>\n",
       "      <td>30</td>\n",
       "      <td>200</td>\n",
       "    </tr>\n",
       "    <tr>\n",
       "      <th>3</th>\n",
       "      <td>40</td>\n",
       "      <td>250</td>\n",
       "    </tr>\n",
       "    <tr>\n",
       "      <th>4</th>\n",
       "      <td>50</td>\n",
       "      <td>300</td>\n",
       "    </tr>\n",
       "  </tbody>\n",
       "</table>\n",
       "</div>"
      ],
      "text/plain": [
       "    A    B\n",
       "0  10  100\n",
       "1  20  150\n",
       "2  30  200\n",
       "3  40  250\n",
       "4  50  300"
      ]
     },
     "execution_count": 1,
     "metadata": {},
     "output_type": "execute_result"
    }
   ],
   "source": [
    "# Ejemplo de estandarización con sklearn\n",
    "import numpy as np\n",
    "import pandas as pd\n",
    "from sklearn.preprocessing import StandardScaler\n",
    "\n",
    "data = {'A': [10, 20, 30, 40, 50], 'B': [100, 150, 200, 250, 300]}\n",
    "df = pd.DataFrame(data)\n",
    "scaler = StandardScaler()\n",
    "df_std = pd.DataFrame(scaler.fit_transform(df), columns=df.columns)\n",
    "df"
   ]
  },
  {
   "cell_type": "code",
   "execution_count": 2,
   "id": "af7e68ab-c7cd-4ee6-bb51-cea20dce284a",
   "metadata": {},
   "outputs": [
    {
     "data": {
      "image/png": "[encoded data removed]",
      "text/plain": [
       "<Figure size 640x480 with 2 Axes>"
      ]
     },
     "metadata": {},
     "output_type": "display_data"
    }
   ],
   "source": [
    "df.hist();"
   ]
  },
  {
   "cell_type": "code",
   "execution_count": 3,
   "id": "dd412897-0103-4054-9837-be2c99fa69a0",
   "metadata": {},
   "outputs": [
    {
     "data": {
      "image/png": "[encoded data removed]",
      "text/plain": [
       "<Figure size 640x480 with 2 Axes>"
      ]
     },
     "metadata": {},
     "output_type": "display_data"
    }
   ],
   "source": [
    "df_std.hist();"
   ]
  },
  {
   "cell_type": "code",
   "execution_count": 4,
   "id": "ae93aed1",
   "metadata": {},
   "outputs": [
    {
     "name": "stdout",
     "output_type": "stream",
     "text": [
      "          A         B\n",
      "0 -1.264911 -1.264911\n",
      "1 -0.632456 -0.632456\n",
      "2  0.000000  0.000000\n",
      "3  0.632456  0.632456\n",
      "4  1.264911  1.264911\n"
     ]
    }
   ],
   "source": [
    "# Estandarización manual\n",
    "df_manual = (df - df.mean()) / df.std()\n",
    "print(df_manual)"
   ]
  },
  {
   "cell_type": "code",
   "execution_count": 5,
   "id": "0d3a39f1-f077-4721-ac59-9ba34f60e8c3",
   "metadata": {},
   "outputs": [
    {
     "data": {
      "text/html": [
       "<div>\n",
       "<style scoped>\n",
       "    .dataframe tbody tr th:only-of-type {\n",
       "        vertical-align: middle;\n",
       "    }\n",
       "\n",
       "    .dataframe tbody tr th {\n",
       "        vertical-align: top;\n",
       "    }\n",
       "\n",
       "    .dataframe thead th {\n",
       "        text-align: right;\n",
       "    }\n",
       "</style>\n",
       "<table border=\"1\" class=\"dataframe\">\n",
       "  <thead>\n",
       "    <tr style=\"text-align: right;\">\n",
       "      <th></th>\n",
       "      <th>A</th>\n",
       "      <th>B</th>\n",
       "    </tr>\n",
       "  </thead>\n",
       "  <tbody>\n",
       "    <tr>\n",
       "      <th>0</th>\n",
       "      <td>-1.414214</td>\n",
       "      <td>-1.414214</td>\n",
       "    </tr>\n",
       "    <tr>\n",
       "      <th>1</th>\n",
       "      <td>-0.707107</td>\n",
       "      <td>-0.707107</td>\n",
       "    </tr>\n",
       "    <tr>\n",
       "      <th>2</th>\n",
       "      <td>0.000000</td>\n",
       "      <td>0.000000</td>\n",
       "    </tr>\n",
       "    <tr>\n",
       "      <th>3</th>\n",
       "      <td>0.707107</td>\n",
       "      <td>0.707107</td>\n",
       "    </tr>\n",
       "    <tr>\n",
       "      <th>4</th>\n",
       "      <td>1.414214</td>\n",
       "      <td>1.414214</td>\n",
       "    </tr>\n",
       "  </tbody>\n",
       "</table>\n",
       "</div>"
      ],
      "text/plain": [
       "          A         B\n",
       "0 -1.414214 -1.414214\n",
       "1 -0.707107 -0.707107\n",
       "2  0.000000  0.000000\n",
       "3  0.707107  0.707107\n",
       "4  1.414214  1.414214"
      ]
     },
     "execution_count": 5,
     "metadata": {},
     "output_type": "execute_result"
    }
   ],
   "source": [
    "df_std"
   ]
  },
  {
   "cell_type": "code",
   "execution_count": 6,
   "id": "a2946cf9-bc95-46f9-9741-b57d8247cb9c",
   "metadata": {},
   "outputs": [
    {
     "data": {
      "text/html": [
       "<div>\n",
       "<style scoped>\n",
       "    .dataframe tbody tr th:only-of-type {\n",
       "        vertical-align: middle;\n",
       "    }\n",
       "\n",
       "    .dataframe tbody tr th {\n",
       "        vertical-align: top;\n",
       "    }\n",
       "\n",
       "    .dataframe thead th {\n",
       "        text-align: right;\n",
       "    }\n",
       "</style>\n",
       "<table border=\"1\" class=\"dataframe\">\n",
       "  <thead>\n",
       "    <tr style=\"text-align: right;\">\n",
       "      <th></th>\n",
       "      <th>MedInc</th>\n",
       "      <th>HouseAge</th>\n",
       "      <th>AveRooms</th>\n",
       "      <th>AveBedrms</th>\n",
       "      <th>Population</th>\n",
       "      <th>AveOccup</th>\n",
       "      <th>Latitude</th>\n",
       "      <th>Longitude</th>\n",
       "    </tr>\n",
       "  </thead>\n",
       "  <tbody>\n",
       "    <tr>\n",
       "      <th>0</th>\n",
       "      <td>2.344766</td>\n",
       "      <td>0.982143</td>\n",
       "      <td>0.628559</td>\n",
       "      <td>-0.153758</td>\n",
       "      <td>-0.974429</td>\n",
       "      <td>-0.049597</td>\n",
       "      <td>1.052548</td>\n",
       "      <td>-1.327835</td>\n",
       "    </tr>\n",
       "    <tr>\n",
       "      <th>1</th>\n",
       "      <td>2.332238</td>\n",
       "      <td>-0.607019</td>\n",
       "      <td>0.327041</td>\n",
       "      <td>-0.263336</td>\n",
       "      <td>0.861439</td>\n",
       "      <td>-0.092512</td>\n",
       "      <td>1.043185</td>\n",
       "      <td>-1.322844</td>\n",
       "    </tr>\n",
       "    <tr>\n",
       "      <th>2</th>\n",
       "      <td>1.782699</td>\n",
       "      <td>1.856182</td>\n",
       "      <td>1.155620</td>\n",
       "      <td>-0.049016</td>\n",
       "      <td>-0.820777</td>\n",
       "      <td>-0.025843</td>\n",
       "      <td>1.038503</td>\n",
       "      <td>-1.332827</td>\n",
       "    </tr>\n",
       "    <tr>\n",
       "      <th>3</th>\n",
       "      <td>0.932968</td>\n",
       "      <td>1.856182</td>\n",
       "      <td>0.156966</td>\n",
       "      <td>-0.049833</td>\n",
       "      <td>-0.766028</td>\n",
       "      <td>-0.050329</td>\n",
       "      <td>1.038503</td>\n",
       "      <td>-1.337818</td>\n",
       "    </tr>\n",
       "    <tr>\n",
       "      <th>4</th>\n",
       "      <td>-0.012881</td>\n",
       "      <td>1.856182</td>\n",
       "      <td>0.344711</td>\n",
       "      <td>-0.032906</td>\n",
       "      <td>-0.759847</td>\n",
       "      <td>-0.085616</td>\n",
       "      <td>1.038503</td>\n",
       "      <td>-1.337818</td>\n",
       "    </tr>\n",
       "  </tbody>\n",
       "</table>\n",
       "</div>"
      ],
      "text/plain": [
       "     MedInc  HouseAge  AveRooms  AveBedrms  Population  AveOccup  Latitude  \\\n",
       "0  2.344766  0.982143  0.628559  -0.153758   -0.974429 -0.049597  1.052548   \n",
       "1  2.332238 -0.607019  0.327041  -0.263336    0.861439 -0.092512  1.043185   \n",
       "2  1.782699  1.856182  1.155620  -0.049016   -0.820777 -0.025843  1.038503   \n",
       "3  0.932968  1.856182  0.156966  -0.049833   -0.766028 -0.050329  1.038503   \n",
       "4 -0.012881  1.856182  0.344711  -0.032906   -0.759847 -0.085616  1.038503   \n",
       "\n",
       "   Longitude  \n",
       "0  -1.327835  \n",
       "1  -1.322844  \n",
       "2  -1.332827  \n",
       "3  -1.337818  \n",
       "4  -1.337818  "
      ]
     },
     "execution_count": 6,
     "metadata": {},
     "output_type": "execute_result"
    }
   ],
   "source": [
    "#Otro ejemplo\n",
    "from sklearn.datasets import fetch_california_housing\n",
    "california = fetch_california_housing()\n",
    "df_california = pd.DataFrame(california.data, columns=california.feature_names)\n",
    "from sklearn.preprocessing import StandardScaler\n",
    "scaler = StandardScaler()\n",
    "df_california_std = pd.DataFrame(scaler.fit_transform(df_california), columns=df_california.columns)\n",
    "df_california_std.head()"
   ]
  },
  {
   "cell_type": "code",
   "execution_count": 11,
   "id": "5fab2489-cb75-4758-83f5-969d59b2f2d3",
   "metadata": {},
   "outputs": [
    {
     "data": {
      "text/html": [
       "<div>\n",
       "<style scoped>\n",
       "    .dataframe tbody tr th:only-of-type {\n",
       "        vertical-align: middle;\n",
       "    }\n",
       "\n",
       "    .dataframe tbody tr th {\n",
       "        vertical-align: top;\n",
       "    }\n",
       "\n",
       "    .dataframe thead th {\n",
       "        text-align: right;\n",
       "    }\n",
       "</style>\n",
       "<table border=\"1\" class=\"dataframe\">\n",
       "  <thead>\n",
       "    <tr style=\"text-align: right;\">\n",
       "      <th></th>\n",
       "      <th>MedInc</th>\n",
       "      <th>HouseAge</th>\n",
       "      <th>AveRooms</th>\n",
       "      <th>AveBedrms</th>\n",
       "      <th>Population</th>\n",
       "      <th>AveOccup</th>\n",
       "      <th>Latitude</th>\n",
       "      <th>Longitude</th>\n",
       "    </tr>\n",
       "  </thead>\n",
       "  <tbody>\n",
       "    <tr>\n",
       "      <th>0</th>\n",
       "      <td>8.3252</td>\n",
       "      <td>41.0</td>\n",
       "      <td>6.984127</td>\n",
       "      <td>1.023810</td>\n",
       "      <td>322.0</td>\n",
       "      <td>2.555556</td>\n",
       "      <td>37.88</td>\n",
       "      <td>-122.23</td>\n",
       "    </tr>\n",
       "    <tr>\n",
       "      <th>1</th>\n",
       "      <td>8.3014</td>\n",
       "      <td>21.0</td>\n",
       "      <td>6.238137</td>\n",
       "      <td>0.971880</td>\n",
       "      <td>2401.0</td>\n",
       "      <td>2.109842</td>\n",
       "      <td>37.86</td>\n",
       "      <td>-122.22</td>\n",
       "    </tr>\n",
       "    <tr>\n",
       "      <th>2</th>\n",
       "      <td>7.2574</td>\n",
       "      <td>52.0</td>\n",
       "      <td>8.288136</td>\n",
       "      <td>1.073446</td>\n",
       "      <td>496.0</td>\n",
       "      <td>2.802260</td>\n",
       "      <td>37.85</td>\n",
       "      <td>-122.24</td>\n",
       "    </tr>\n",
       "    <tr>\n",
       "      <th>3</th>\n",
       "      <td>5.6431</td>\n",
       "      <td>52.0</td>\n",
       "      <td>5.817352</td>\n",
       "      <td>1.073059</td>\n",
       "      <td>558.0</td>\n",
       "      <td>2.547945</td>\n",
       "      <td>37.85</td>\n",
       "      <td>-122.25</td>\n",
       "    </tr>\n",
       "    <tr>\n",
       "      <th>4</th>\n",
       "      <td>3.8462</td>\n",
       "      <td>52.0</td>\n",
       "      <td>6.281853</td>\n",
       "      <td>1.081081</td>\n",
       "      <td>565.0</td>\n",
       "      <td>2.181467</td>\n",
       "      <td>37.85</td>\n",
       "      <td>-122.25</td>\n",
       "    </tr>\n",
       "    <tr>\n",
       "      <th>...</th>\n",
       "      <td>...</td>\n",
       "      <td>...</td>\n",
       "      <td>...</td>\n",
       "      <td>...</td>\n",
       "      <td>...</td>\n",
       "      <td>...</td>\n",
       "      <td>...</td>\n",
       "      <td>...</td>\n",
       "    </tr>\n",
       "    <tr>\n",
       "      <th>20635</th>\n",
       "      <td>1.5603</td>\n",
       "      <td>25.0</td>\n",
       "      <td>5.045455</td>\n",
       "      <td>1.133333</td>\n",
       "      <td>845.0</td>\n",
       "      <td>2.560606</td>\n",
       "      <td>39.48</td>\n",
       "      <td>-121.09</td>\n",
       "    </tr>\n",
       "    <tr>\n",
       "      <th>20636</th>\n",
       "      <td>2.5568</td>\n",
       "      <td>18.0</td>\n",
       "      <td>6.114035</td>\n",
       "      <td>1.315789</td>\n",
       "      <td>356.0</td>\n",
       "      <td>3.122807</td>\n",
       "      <td>39.49</td>\n",
       "      <td>-121.21</td>\n",
       "    </tr>\n",
       "    <tr>\n",
       "      <th>20637</th>\n",
       "      <td>1.7000</td>\n",
       "      <td>17.0</td>\n",
       "      <td>5.205543</td>\n",
       "      <td>1.120092</td>\n",
       "      <td>1007.0</td>\n",
       "      <td>2.325635</td>\n",
       "      <td>39.43</td>\n",
       "      <td>-121.22</td>\n",
       "    </tr>\n",
       "    <tr>\n",
       "      <th>20638</th>\n",
       "      <td>1.8672</td>\n",
       "      <td>18.0</td>\n",
       "      <td>5.329513</td>\n",
       "      <td>1.171920</td>\n",
       "      <td>741.0</td>\n",
       "      <td>2.123209</td>\n",
       "      <td>39.43</td>\n",
       "      <td>-121.32</td>\n",
       "    </tr>\n",
       "    <tr>\n",
       "      <th>20639</th>\n",
       "      <td>2.3886</td>\n",
       "      <td>16.0</td>\n",
       "      <td>5.254717</td>\n",
       "      <td>1.162264</td>\n",
       "      <td>1387.0</td>\n",
       "      <td>2.616981</td>\n",
       "      <td>39.37</td>\n",
       "      <td>-121.24</td>\n",
       "    </tr>\n",
       "  </tbody>\n",
       "</table>\n",
       "<p>20640 rows × 8 columns</p>\n",
       "</div>"
      ],
      "text/plain": [
       "       MedInc  HouseAge  AveRooms  AveBedrms  Population  AveOccup  Latitude  \\\n",
       "0      8.3252      41.0  6.984127   1.023810       322.0  2.555556     37.88   \n",
       "1      8.3014      21.0  6.238137   0.971880      2401.0  2.109842     37.86   \n",
       "2      7.2574      52.0  8.288136   1.073446       496.0  2.802260     37.85   \n",
       "3      5.6431      52.0  5.817352   1.073059       558.0  2.547945     37.85   \n",
       "4      3.8462      52.0  6.281853   1.081081       565.0  2.181467     37.85   \n",
       "...       ...       ...       ...        ...         ...       ...       ...   \n",
       "20635  1.5603      25.0  5.045455   1.133333       845.0  2.560606     39.48   \n",
       "20636  2.5568      18.0  6.114035   1.315789       356.0  3.122807     39.49   \n",
       "20637  1.7000      17.0  5.205543   1.120092      1007.0  2.325635     39.43   \n",
       "20638  1.8672      18.0  5.329513   1.171920       741.0  2.123209     39.43   \n",
       "20639  2.3886      16.0  5.254717   1.162264      1387.0  2.616981     39.37   \n",
       "\n",
       "       Longitude  \n",
       "0        -122.23  \n",
       "1        -122.22  \n",
       "2        -122.24  \n",
       "3        -122.25  \n",
       "4        -122.25  \n",
       "...          ...  \n",
       "20635    -121.09  \n",
       "20636    -121.21  \n",
       "20637    -121.22  \n",
       "20638    -121.32  \n",
       "20639    -121.24  \n",
       "\n",
       "[20640 rows x 8 columns]"
      ]
     },
     "execution_count": 11,
     "metadata": {},
     "output_type": "execute_result"
    }
   ],
   "source": [
    "df_california"
   ]
  },
  {
   "cell_type": "code",
   "execution_count": 7,
   "id": "c47b9e1d-7f59-431c-afae-3e9ae2a91785",
   "metadata": {},
   "outputs": [
    {
     "data": {
      "image/png": "[encoded data removed]",
      "text/plain": [
       "<Figure size 640x480 with 9 Axes>"
      ]
     },
     "metadata": {},
     "output_type": "display_data"
    }
   ],
   "source": [
    "df_california.hist();"
   ]
  },
  {
   "cell_type": "code",
   "execution_count": 8,
   "id": "10af7b8e-57ae-4a80-b91f-2e146208527b",
   "metadata": {},
   "outputs": [
    {
     "data": {
      "image/png": "[encoded data removed]",
      "text/plain": [
       "<Figure size 640x480 with 9 Axes>"
      ]
     },
     "metadata": {},
     "output_type": "display_data"
    }
   ],
   "source": [
    "df_california_std.hist();"
   ]
  },
  {
   "cell_type": "code",
   "execution_count": 9,
   "id": "c3caf166-752d-4937-87af-4ec38f23f62f",
   "metadata": {},
   "outputs": [
    {
     "data": {
      "text/plain": [
       "MedInc        6.609700e-17\n",
       "HouseAge      5.508083e-18\n",
       "AveRooms      6.609700e-17\n",
       "AveBedrms    -1.060306e-16\n",
       "Population   -1.101617e-17\n",
       "AveOccup      3.442552e-18\n",
       "Latitude     -1.079584e-15\n",
       "Longitude    -8.526513e-15\n",
       "dtype: float64"
      ]
     },
     "execution_count": 9,
     "metadata": {},
     "output_type": "execute_result"
    }
   ],
   "source": [
    "#Media\n",
    "df_california_std.mean()"
   ]
  },
  {
   "cell_type": "code",
   "execution_count": 10,
   "id": "47f9d49d-2795-4bd2-8ad7-173593191ac6",
   "metadata": {},
   "outputs": [
    {
     "data": {
      "text/plain": [
       "MedInc        1.000024\n",
       "HouseAge      1.000024\n",
       "AveRooms      1.000024\n",
       "AveBedrms     1.000024\n",
       "Population    1.000024\n",
       "AveOccup      1.000024\n",
       "Latitude      1.000024\n",
       "Longitude     1.000024\n",
       "dtype: float64"
      ]
     },
     "execution_count": 10,
     "metadata": {},
     "output_type": "execute_result"
    }
   ],
   "source": [
    "#Desviación estándar\n",
    "df_california_std.std()"
   ]
  },
  {
   "cell_type": "markdown",
   "id": "c71f4f22-a66f-4af5-830d-bb943ab0a7c5",
   "metadata": {},
   "source": [
    "**Ventajas:**\n",
    "- Útil para algoritmos que asumen datos centrados y con varianza unitaria (regresión lineal, SVM, PCA, redes neuronales).\n",
    "- No está acotada a un rango específico, por lo que no distorsiona outliers.\n",
    "\n",
    "**Desventajas:**\n",
    "- No garantiza un rango fijo.\n",
    "- Puede verse afectada por outliers.\n",
    "\n",
    "se recomienda utilizar esta metodología cuando:\n",
    "- Los datos tienen distribución aproximadamente normal.\n",
    "- Cuando se usan algoritmos sensibles a la escala pero no al rango.\n"
   ]
  },
  {
   "cell_type": "markdown",
   "id": "a36b86f0",
   "metadata": {},
   "source": [
    "## 2. Normalización basada en la media (Mean Normalization)\n",
    "\n",
    "Esta técnica centra los datos en torno a cero, escalando según el rango:\n",
    "\n",
    "$$ X_{norm} = \\frac{X - \\mu}{X_{max} - X_{min}} $$\n",
    "\n",
    "Es útil cuando se quiere que los datos estén entre -1 y 1 (aproximadamente)."
   ]
  },
  {
   "cell_type": "code",
   "execution_count": 12,
   "id": "c0114b2f",
   "metadata": {},
   "outputs": [
    {
     "name": "stdout",
     "output_type": "stream",
     "text": [
      "      A     B\n",
      "0 -0.50 -0.50\n",
      "1 -0.25 -0.25\n",
      "2  0.00  0.00\n",
      "3  0.25  0.25\n",
      "4  0.50  0.50\n"
     ]
    }
   ],
   "source": [
    "# Normalización basada en la media (manual)\n",
    "df_mean_norm = (df - df.mean()) / (df.max() - df.min())\n",
    "print(df_mean_norm)"
   ]
  },
  {
   "cell_type": "code",
   "execution_count": 13,
   "id": "6604be65-d047-4eb3-9277-368c3e5f531a",
   "metadata": {},
   "outputs": [
    {
     "data": {
      "text/html": [
       "<div>\n",
       "<style scoped>\n",
       "    .dataframe tbody tr th:only-of-type {\n",
       "        vertical-align: middle;\n",
       "    }\n",
       "\n",
       "    .dataframe tbody tr th {\n",
       "        vertical-align: top;\n",
       "    }\n",
       "\n",
       "    .dataframe thead th {\n",
       "        text-align: right;\n",
       "    }\n",
       "</style>\n",
       "<table border=\"1\" class=\"dataframe\">\n",
       "  <thead>\n",
       "    <tr style=\"text-align: right;\">\n",
       "      <th></th>\n",
       "      <th>MedInc</th>\n",
       "      <th>HouseAge</th>\n",
       "      <th>AveRooms</th>\n",
       "      <th>AveBedrms</th>\n",
       "      <th>Population</th>\n",
       "      <th>AveOccup</th>\n",
       "      <th>Latitude</th>\n",
       "      <th>Longitude</th>\n",
       "    </tr>\n",
       "  </thead>\n",
       "  <tbody>\n",
       "    <tr>\n",
       "      <th>0</th>\n",
       "      <td>0.307205</td>\n",
       "      <td>0.242363</td>\n",
       "      <td>0.011024</td>\n",
       "      <td>-0.002160</td>\n",
       "      <td>-0.030928</td>\n",
       "      <td>-0.000415</td>\n",
       "      <td>0.238910</td>\n",
       "      <td>-0.264970</td>\n",
       "    </tr>\n",
       "    <tr>\n",
       "      <th>1</th>\n",
       "      <td>0.305563</td>\n",
       "      <td>-0.149794</td>\n",
       "      <td>0.005736</td>\n",
       "      <td>-0.003699</td>\n",
       "      <td>0.027342</td>\n",
       "      <td>-0.000773</td>\n",
       "      <td>0.236784</td>\n",
       "      <td>-0.263974</td>\n",
       "    </tr>\n",
       "    <tr>\n",
       "      <th>2</th>\n",
       "      <td>0.233564</td>\n",
       "      <td>0.458049</td>\n",
       "      <td>0.020269</td>\n",
       "      <td>-0.000689</td>\n",
       "      <td>-0.026051</td>\n",
       "      <td>-0.000216</td>\n",
       "      <td>0.235721</td>\n",
       "      <td>-0.265966</td>\n",
       "    </tr>\n",
       "    <tr>\n",
       "      <th>3</th>\n",
       "      <td>0.122235</td>\n",
       "      <td>0.458049</td>\n",
       "      <td>0.002753</td>\n",
       "      <td>-0.000700</td>\n",
       "      <td>-0.024313</td>\n",
       "      <td>-0.000421</td>\n",
       "      <td>0.235721</td>\n",
       "      <td>-0.266962</td>\n",
       "    </tr>\n",
       "    <tr>\n",
       "      <th>4</th>\n",
       "      <td>-0.001688</td>\n",
       "      <td>0.458049</td>\n",
       "      <td>0.006046</td>\n",
       "      <td>-0.000462</td>\n",
       "      <td>-0.024117</td>\n",
       "      <td>-0.000716</td>\n",
       "      <td>0.235721</td>\n",
       "      <td>-0.266962</td>\n",
       "    </tr>\n",
       "  </tbody>\n",
       "</table>\n",
       "</div>"
      ],
      "text/plain": [
       "     MedInc  HouseAge  AveRooms  AveBedrms  Population  AveOccup  Latitude  \\\n",
       "0  0.307205  0.242363  0.011024  -0.002160   -0.030928 -0.000415  0.238910   \n",
       "1  0.305563 -0.149794  0.005736  -0.003699    0.027342 -0.000773  0.236784   \n",
       "2  0.233564  0.458049  0.020269  -0.000689   -0.026051 -0.000216  0.235721   \n",
       "3  0.122235  0.458049  0.002753  -0.000700   -0.024313 -0.000421  0.235721   \n",
       "4 -0.001688  0.458049  0.006046  -0.000462   -0.024117 -0.000716  0.235721   \n",
       "\n",
       "   Longitude  \n",
       "0  -0.264970  \n",
       "1  -0.263974  \n",
       "2  -0.265966  \n",
       "3  -0.266962  \n",
       "4  -0.266962  "
      ]
     },
     "execution_count": 13,
     "metadata": {},
     "output_type": "execute_result"
    }
   ],
   "source": [
    "from sklearn.datasets import fetch_california_housing\n",
    "california = fetch_california_housing()\n",
    "df_cal = pd.DataFrame(california.data, columns=california.feature_names)\n",
    "df_cal_mean_norm = (df_cal - df_cal.mean()) / (df_cal.max() - df_cal.min())\n",
    "df_cal_mean_norm.head()"
   ]
  },
  {
   "cell_type": "code",
   "execution_count": 14,
   "id": "4612c4d9-d04c-478b-bd4b-5230439b138d",
   "metadata": {},
   "outputs": [
    {
     "data": {
      "text/plain": [
       "<Axes: >"
      ]
     },
     "execution_count": 14,
     "metadata": {},
     "output_type": "execute_result"
    },
    {
     "data": {
      "image/png": "[encoded data removed]",
      "text/plain": [
       "<Figure size 640x480 with 1 Axes>"
      ]
     },
     "metadata": {},
     "output_type": "display_data"
    }
   ],
   "source": [
    "df_cal_mean_norm['MedInc'].hist()"
   ]
  },
  {
   "cell_type": "markdown",
   "id": "be25574e-97ba-44dc-a42a-cface0acdf2b",
   "metadata": {},
   "source": [
    "**Ventajas:**\n",
    "- Centra los datos en cero y los escala en función del rango.\n",
    "- Útil para algoritmos que requieren datos centrados y acotados.\n",
    "\n",
    "**Desventajas:**\n",
    "- Sensible a outliers.\n",
    "- Menos común en librerías estándar.\n",
    "\n",
    "esta técnica se utliza cuand se requiere centrado y escala acotada, pero no necesariamente [0,1].\n"
   ]
  },
  {
   "cell_type": "markdown",
   "id": "e9bc9d9e",
   "metadata": {},
   "source": [
    "## 3. Escalamiento de valores máximo y mínimo (Min-Max Scaling)\n",
    "\n",
    "Transforma los datos para que estén en un rango específico, típicamente [0, 1]:\n",
    "\n",
    "$$ X_{minmax} = \\frac{X - X_{min}}{X_{max} - X_{min}} $$\n",
    "\n",
    "Es muy útil cuando se requiere que los datos estén en un rango fijo."
   ]
  },
  {
   "cell_type": "code",
   "execution_count": 15,
   "id": "04418dd6",
   "metadata": {},
   "outputs": [
    {
     "data": {
      "text/html": [
       "<div>\n",
       "<style scoped>\n",
       "    .dataframe tbody tr th:only-of-type {\n",
       "        vertical-align: middle;\n",
       "    }\n",
       "\n",
       "    .dataframe tbody tr th {\n",
       "        vertical-align: top;\n",
       "    }\n",
       "\n",
       "    .dataframe thead th {\n",
       "        text-align: right;\n",
       "    }\n",
       "</style>\n",
       "<table border=\"1\" class=\"dataframe\">\n",
       "  <thead>\n",
       "    <tr style=\"text-align: right;\">\n",
       "      <th></th>\n",
       "      <th>A</th>\n",
       "      <th>B</th>\n",
       "    </tr>\n",
       "  </thead>\n",
       "  <tbody>\n",
       "    <tr>\n",
       "      <th>0</th>\n",
       "      <td>0.00</td>\n",
       "      <td>0.00</td>\n",
       "    </tr>\n",
       "    <tr>\n",
       "      <th>1</th>\n",
       "      <td>0.25</td>\n",
       "      <td>0.25</td>\n",
       "    </tr>\n",
       "    <tr>\n",
       "      <th>2</th>\n",
       "      <td>0.50</td>\n",
       "      <td>0.50</td>\n",
       "    </tr>\n",
       "    <tr>\n",
       "      <th>3</th>\n",
       "      <td>0.75</td>\n",
       "      <td>0.75</td>\n",
       "    </tr>\n",
       "    <tr>\n",
       "      <th>4</th>\n",
       "      <td>1.00</td>\n",
       "      <td>1.00</td>\n",
       "    </tr>\n",
       "  </tbody>\n",
       "</table>\n",
       "</div>"
      ],
      "text/plain": [
       "      A     B\n",
       "0  0.00  0.00\n",
       "1  0.25  0.25\n",
       "2  0.50  0.50\n",
       "3  0.75  0.75\n",
       "4  1.00  1.00"
      ]
     },
     "execution_count": 15,
     "metadata": {},
     "output_type": "execute_result"
    }
   ],
   "source": [
    "# Escalamiento Min-Max con sklearn\n",
    "from sklearn.preprocessing import MinMaxScaler\n",
    "\n",
    "scaler = MinMaxScaler()\n",
    "df_minmax = pd.DataFrame(scaler.fit_transform(df), columns=df.columns)\n",
    "df_minmax"
   ]
  },
  {
   "cell_type": "code",
   "execution_count": 16,
   "id": "4f9b7692",
   "metadata": {},
   "outputs": [
    {
     "data": {
      "text/html": [
       "<div>\n",
       "<style scoped>\n",
       "    .dataframe tbody tr th:only-of-type {\n",
       "        vertical-align: middle;\n",
       "    }\n",
       "\n",
       "    .dataframe tbody tr th {\n",
       "        vertical-align: top;\n",
       "    }\n",
       "\n",
       "    .dataframe thead th {\n",
       "        text-align: right;\n",
       "    }\n",
       "</style>\n",
       "<table border=\"1\" class=\"dataframe\">\n",
       "  <thead>\n",
       "    <tr style=\"text-align: right;\">\n",
       "      <th></th>\n",
       "      <th>A</th>\n",
       "      <th>B</th>\n",
       "    </tr>\n",
       "  </thead>\n",
       "  <tbody>\n",
       "    <tr>\n",
       "      <th>0</th>\n",
       "      <td>0.00</td>\n",
       "      <td>0.00</td>\n",
       "    </tr>\n",
       "    <tr>\n",
       "      <th>1</th>\n",
       "      <td>0.25</td>\n",
       "      <td>0.25</td>\n",
       "    </tr>\n",
       "    <tr>\n",
       "      <th>2</th>\n",
       "      <td>0.50</td>\n",
       "      <td>0.50</td>\n",
       "    </tr>\n",
       "    <tr>\n",
       "      <th>3</th>\n",
       "      <td>0.75</td>\n",
       "      <td>0.75</td>\n",
       "    </tr>\n",
       "    <tr>\n",
       "      <th>4</th>\n",
       "      <td>1.00</td>\n",
       "      <td>1.00</td>\n",
       "    </tr>\n",
       "  </tbody>\n",
       "</table>\n",
       "</div>"
      ],
      "text/plain": [
       "      A     B\n",
       "0  0.00  0.00\n",
       "1  0.25  0.25\n",
       "2  0.50  0.50\n",
       "3  0.75  0.75\n",
       "4  1.00  1.00"
      ]
     },
     "execution_count": 16,
     "metadata": {},
     "output_type": "execute_result"
    }
   ],
   "source": [
    "# Escalamiento Min-Max manual\n",
    "df_minmax_manual = (df - df.min()) / (df.max() - df.min())\n",
    "df_minmax_manual"
   ]
  },
  {
   "cell_type": "code",
   "execution_count": 17,
   "id": "e7da39da-c5f3-46aa-be5c-a8f27867bf14",
   "metadata": {},
   "outputs": [
    {
     "data": {
      "text/html": [
       "<div>\n",
       "<style scoped>\n",
       "    .dataframe tbody tr th:only-of-type {\n",
       "        vertical-align: middle;\n",
       "    }\n",
       "\n",
       "    .dataframe tbody tr th {\n",
       "        vertical-align: top;\n",
       "    }\n",
       "\n",
       "    .dataframe thead th {\n",
       "        text-align: right;\n",
       "    }\n",
       "</style>\n",
       "<table border=\"1\" class=\"dataframe\">\n",
       "  <thead>\n",
       "    <tr style=\"text-align: right;\">\n",
       "      <th></th>\n",
       "      <th>age</th>\n",
       "      <th>sex</th>\n",
       "      <th>bmi</th>\n",
       "      <th>bp</th>\n",
       "      <th>s1</th>\n",
       "      <th>s2</th>\n",
       "      <th>s3</th>\n",
       "      <th>s4</th>\n",
       "      <th>s5</th>\n",
       "      <th>s6</th>\n",
       "    </tr>\n",
       "  </thead>\n",
       "  <tbody>\n",
       "    <tr>\n",
       "      <th>0</th>\n",
       "      <td>0.666667</td>\n",
       "      <td>1.0</td>\n",
       "      <td>0.582645</td>\n",
       "      <td>0.549296</td>\n",
       "      <td>0.294118</td>\n",
       "      <td>0.256972</td>\n",
       "      <td>0.207792</td>\n",
       "      <td>0.282087</td>\n",
       "      <td>0.562217</td>\n",
       "      <td>0.439394</td>\n",
       "    </tr>\n",
       "    <tr>\n",
       "      <th>1</th>\n",
       "      <td>0.483333</td>\n",
       "      <td>0.0</td>\n",
       "      <td>0.148760</td>\n",
       "      <td>0.352113</td>\n",
       "      <td>0.421569</td>\n",
       "      <td>0.306773</td>\n",
       "      <td>0.623377</td>\n",
       "      <td>0.141044</td>\n",
       "      <td>0.222437</td>\n",
       "      <td>0.166667</td>\n",
       "    </tr>\n",
       "    <tr>\n",
       "      <th>2</th>\n",
       "      <td>0.883333</td>\n",
       "      <td>1.0</td>\n",
       "      <td>0.516529</td>\n",
       "      <td>0.436620</td>\n",
       "      <td>0.289216</td>\n",
       "      <td>0.258964</td>\n",
       "      <td>0.246753</td>\n",
       "      <td>0.282087</td>\n",
       "      <td>0.496578</td>\n",
       "      <td>0.409091</td>\n",
       "    </tr>\n",
       "    <tr>\n",
       "      <th>3</th>\n",
       "      <td>0.083333</td>\n",
       "      <td>0.0</td>\n",
       "      <td>0.301653</td>\n",
       "      <td>0.309859</td>\n",
       "      <td>0.495098</td>\n",
       "      <td>0.447211</td>\n",
       "      <td>0.233766</td>\n",
       "      <td>0.423131</td>\n",
       "      <td>0.572923</td>\n",
       "      <td>0.469697</td>\n",
       "    </tr>\n",
       "    <tr>\n",
       "      <th>4</th>\n",
       "      <td>0.516667</td>\n",
       "      <td>0.0</td>\n",
       "      <td>0.206612</td>\n",
       "      <td>0.549296</td>\n",
       "      <td>0.465686</td>\n",
       "      <td>0.417331</td>\n",
       "      <td>0.389610</td>\n",
       "      <td>0.282087</td>\n",
       "      <td>0.362385</td>\n",
       "      <td>0.333333</td>\n",
       "    </tr>\n",
       "  </tbody>\n",
       "</table>\n",
       "</div>"
      ],
      "text/plain": [
       "        age  sex       bmi        bp        s1        s2        s3        s4  \\\n",
       "0  0.666667  1.0  0.582645  0.549296  0.294118  0.256972  0.207792  0.282087   \n",
       "1  0.483333  0.0  0.148760  0.352113  0.421569  0.306773  0.623377  0.141044   \n",
       "2  0.883333  1.0  0.516529  0.436620  0.289216  0.258964  0.246753  0.282087   \n",
       "3  0.083333  0.0  0.301653  0.309859  0.495098  0.447211  0.233766  0.423131   \n",
       "4  0.516667  0.0  0.206612  0.549296  0.465686  0.417331  0.389610  0.282087   \n",
       "\n",
       "         s5        s6  \n",
       "0  0.562217  0.439394  \n",
       "1  0.222437  0.166667  \n",
       "2  0.496578  0.409091  \n",
       "3  0.572923  0.469697  \n",
       "4  0.362385  0.333333  "
      ]
     },
     "execution_count": 17,
     "metadata": {},
     "output_type": "execute_result"
    }
   ],
   "source": [
    "#Otro ejemplo\n",
    "from sklearn.datasets import load_diabetes\n",
    "diabetes = load_diabetes()\n",
    "df_diabetes = pd.DataFrame(diabetes.data, columns=diabetes.feature_names)\n",
    "scaler = MinMaxScaler()\n",
    "df_diabetes_minmax = pd.DataFrame(scaler.fit_transform(df_diabetes), columns=df_diabetes.columns)\n",
    "df_diabetes_minmax.head()"
   ]
  },
  {
   "cell_type": "code",
   "execution_count": 18,
   "id": "60962f1e-b23c-44a5-aa30-ad642e339681",
   "metadata": {},
   "outputs": [
    {
     "data": {
      "text/plain": [
       "age    0.0\n",
       "sex    0.0\n",
       "bmi    0.0\n",
       "bp     0.0\n",
       "s1     0.0\n",
       "s2     0.0\n",
       "s3     0.0\n",
       "s4     0.0\n",
       "s5     0.0\n",
       "s6     0.0\n",
       "dtype: float64"
      ]
     },
     "execution_count": 18,
     "metadata": {},
     "output_type": "execute_result"
    }
   ],
   "source": [
    "df_diabetes_minmax.min()"
   ]
  },
  {
   "cell_type": "code",
   "execution_count": 19,
   "id": "6d95d02f-9034-47dc-a1e8-7d92ec4a6317",
   "metadata": {},
   "outputs": [
    {
     "data": {
      "text/plain": [
       "age    1.0\n",
       "sex    1.0\n",
       "bmi    1.0\n",
       "bp     1.0\n",
       "s1     1.0\n",
       "s2     1.0\n",
       "s3     1.0\n",
       "s4     1.0\n",
       "s5     1.0\n",
       "s6     1.0\n",
       "dtype: float64"
      ]
     },
     "execution_count": 19,
     "metadata": {},
     "output_type": "execute_result"
    }
   ],
   "source": [
    "df_diabetes_minmax.max()"
   ]
  },
  {
   "cell_type": "markdown",
   "id": "8495b688-6bb1-422b-ad78-cd8537a8bcd5",
   "metadata": {},
   "source": [
    "**Ventajas:**\n",
    "- Escala los datos a un rango definido, normalmente [0,1].\n",
    "- Útil para algoritmos basados en distancias (KNN, redes neuronales, clustering).\n",
    "\n",
    "**Desventajas:**\n",
    "- Muy sensible a outliers: un solo valor extremo puede distorsionar la escala.\n",
    "\n",
    "es recomendable usar esta técnica cuando:\n",
    "- Se requiere un rango fijo.\n",
    "- Cuando los datos no tienen outliers significativos.\n"
   ]
  },
  {
   "cell_type": "markdown",
   "id": "1f5be3e2",
   "metadata": {},
   "source": [
    "## 4. Escalamiento de máximo absoluto (MaxAbs Scaling)\n",
    "\n",
    "Escala los datos dividiendo por el valor absoluto máximo de cada variable, útil para datos centrados en cero o con valores positivos y negativos:\n",
    "\n",
    "$$ X_{maxabs} = \\frac{X}{|X_{max}|} $$"
   ]
  },
  {
   "cell_type": "code",
   "execution_count": 20,
   "id": "e3408b3c",
   "metadata": {},
   "outputs": [
    {
     "data": {
      "text/html": [
       "<div>\n",
       "<style scoped>\n",
       "    .dataframe tbody tr th:only-of-type {\n",
       "        vertical-align: middle;\n",
       "    }\n",
       "\n",
       "    .dataframe tbody tr th {\n",
       "        vertical-align: top;\n",
       "    }\n",
       "\n",
       "    .dataframe thead th {\n",
       "        text-align: right;\n",
       "    }\n",
       "</style>\n",
       "<table border=\"1\" class=\"dataframe\">\n",
       "  <thead>\n",
       "    <tr style=\"text-align: right;\">\n",
       "      <th></th>\n",
       "      <th>A</th>\n",
       "      <th>B</th>\n",
       "    </tr>\n",
       "  </thead>\n",
       "  <tbody>\n",
       "    <tr>\n",
       "      <th>0</th>\n",
       "      <td>-1</td>\n",
       "      <td>-10</td>\n",
       "    </tr>\n",
       "    <tr>\n",
       "      <th>1</th>\n",
       "      <td>0</td>\n",
       "      <td>0</td>\n",
       "    </tr>\n",
       "    <tr>\n",
       "      <th>2</th>\n",
       "      <td>1</td>\n",
       "      <td>10</td>\n",
       "    </tr>\n",
       "    <tr>\n",
       "      <th>3</th>\n",
       "      <td>2</td>\n",
       "      <td>20</td>\n",
       "    </tr>\n",
       "  </tbody>\n",
       "</table>\n",
       "</div>"
      ],
      "text/plain": [
       "   A   B\n",
       "0 -1 -10\n",
       "1  0   0\n",
       "2  1  10\n",
       "3  2  20"
      ]
     },
     "execution_count": 20,
     "metadata": {},
     "output_type": "execute_result"
    }
   ],
   "source": [
    "# Ejemplo con valores negativos\n",
    "df2 = pd.DataFrame({'A': [-1, 0, 1, 2], 'B': [-10, 0, 10, 20]})\n",
    "from sklearn.preprocessing import MaxAbsScaler\n",
    "\n",
    "scaler = MaxAbsScaler()\n",
    "df_maxabs = pd.DataFrame(scaler.fit_transform(df2), columns=df2.columns)\n",
    "df2"
   ]
  },
  {
   "cell_type": "code",
   "execution_count": 21,
   "id": "046b7c7c-178f-4fe7-8592-13a0568b5bd7",
   "metadata": {},
   "outputs": [
    {
     "data": {
      "text/html": [
       "<div>\n",
       "<style scoped>\n",
       "    .dataframe tbody tr th:only-of-type {\n",
       "        vertical-align: middle;\n",
       "    }\n",
       "\n",
       "    .dataframe tbody tr th {\n",
       "        vertical-align: top;\n",
       "    }\n",
       "\n",
       "    .dataframe thead th {\n",
       "        text-align: right;\n",
       "    }\n",
       "</style>\n",
       "<table border=\"1\" class=\"dataframe\">\n",
       "  <thead>\n",
       "    <tr style=\"text-align: right;\">\n",
       "      <th></th>\n",
       "      <th>A</th>\n",
       "      <th>B</th>\n",
       "    </tr>\n",
       "  </thead>\n",
       "  <tbody>\n",
       "    <tr>\n",
       "      <th>0</th>\n",
       "      <td>-0.5</td>\n",
       "      <td>-0.5</td>\n",
       "    </tr>\n",
       "    <tr>\n",
       "      <th>1</th>\n",
       "      <td>0.0</td>\n",
       "      <td>0.0</td>\n",
       "    </tr>\n",
       "    <tr>\n",
       "      <th>2</th>\n",
       "      <td>0.5</td>\n",
       "      <td>0.5</td>\n",
       "    </tr>\n",
       "    <tr>\n",
       "      <th>3</th>\n",
       "      <td>1.0</td>\n",
       "      <td>1.0</td>\n",
       "    </tr>\n",
       "  </tbody>\n",
       "</table>\n",
       "</div>"
      ],
      "text/plain": [
       "     A    B\n",
       "0 -0.5 -0.5\n",
       "1  0.0  0.0\n",
       "2  0.5  0.5\n",
       "3  1.0  1.0"
      ]
     },
     "execution_count": 21,
     "metadata": {},
     "output_type": "execute_result"
    }
   ],
   "source": [
    "df_maxabs"
   ]
  },
  {
   "cell_type": "code",
   "execution_count": 22,
   "id": "22de089c",
   "metadata": {},
   "outputs": [
    {
     "data": {
      "text/html": [
       "<div>\n",
       "<style scoped>\n",
       "    .dataframe tbody tr th:only-of-type {\n",
       "        vertical-align: middle;\n",
       "    }\n",
       "\n",
       "    .dataframe tbody tr th {\n",
       "        vertical-align: top;\n",
       "    }\n",
       "\n",
       "    .dataframe thead th {\n",
       "        text-align: right;\n",
       "    }\n",
       "</style>\n",
       "<table border=\"1\" class=\"dataframe\">\n",
       "  <thead>\n",
       "    <tr style=\"text-align: right;\">\n",
       "      <th></th>\n",
       "      <th>A</th>\n",
       "      <th>B</th>\n",
       "    </tr>\n",
       "  </thead>\n",
       "  <tbody>\n",
       "    <tr>\n",
       "      <th>0</th>\n",
       "      <td>-0.5</td>\n",
       "      <td>-0.5</td>\n",
       "    </tr>\n",
       "    <tr>\n",
       "      <th>1</th>\n",
       "      <td>0.0</td>\n",
       "      <td>0.0</td>\n",
       "    </tr>\n",
       "    <tr>\n",
       "      <th>2</th>\n",
       "      <td>0.5</td>\n",
       "      <td>0.5</td>\n",
       "    </tr>\n",
       "    <tr>\n",
       "      <th>3</th>\n",
       "      <td>1.0</td>\n",
       "      <td>1.0</td>\n",
       "    </tr>\n",
       "  </tbody>\n",
       "</table>\n",
       "</div>"
      ],
      "text/plain": [
       "     A    B\n",
       "0 -0.5 -0.5\n",
       "1  0.0  0.0\n",
       "2  0.5  0.5\n",
       "3  1.0  1.0"
      ]
     },
     "execution_count": 22,
     "metadata": {},
     "output_type": "execute_result"
    }
   ],
   "source": [
    "# Escalamiento MaxAbs manual\n",
    "df_maxabs_manual = df2 / df2.abs().max()\n",
    "df_maxabs_manual"
   ]
  },
  {
   "cell_type": "markdown",
   "id": "f87abb3e-3beb-4b07-87cb-84bedec72f1e",
   "metadata": {},
   "source": [
    "**Ventajas:**\n",
    "- Preserva la dispersión de los datos centrados en cero.\n",
    "- No desplaza los datos (no centra en cero).\n",
    "- Útil para datos dispersos (sparse data).\n",
    "\n",
    "**Desventajas:**\n",
    "- Sensible a valores extremos.\n",
    "- No centra los datos.\n",
    "\n",
    "Se utiliza cuando:\n",
    "- Los datos ya están centrados en cero o contienen valores negativos y positivos.\n",
    "- Se trabaja con datos dispersos (por ejemplo, texto vectorizado).\n"
   ]
  },
  {
   "cell_type": "markdown",
   "id": "ce72b299",
   "metadata": {},
   "source": [
    "## 5. Escalamiento por cuantiles (Quantile Transformer)\n",
    "\n",
    "Esta técnica transforma la distribución de los datos para que siga una distribución uniforme o normal, usando los cuantiles de los datos.\n",
    "\n",
    "Es útil para variables con outliers o distribuciones no normales."
   ]
  },
  {
   "cell_type": "markdown",
   "id": "911e2610-7156-48a5-8a70-5930faa6f5f9",
   "metadata": {},
   "source": [
    "$$z = \\frac{X - \\bar{X}}{Q_3 - Q_1}$$\n",
    "\n",
    "donde $\\bar{X}$ es la mediana de $X$ y $Q_1$, $Q_3$ corresponden a los cuartiles uno y tres."
   ]
  },
  {
   "cell_type": "code",
   "execution_count": 23,
   "id": "bb4638c7",
   "metadata": {},
   "outputs": [
    {
     "name": "stderr",
     "output_type": "stream",
     "text": [
      "C:\\Users\\uie70742\\AppData\\Roaming\\Python\\Python312\\site-packages\\sklearn\\preprocessing\\_data.py:2846: UserWarning: n_quantiles (1000) is greater than the total number of samples (5). n_quantiles is set to n_samples.\n",
      "  warnings.warn(\n"
     ]
    },
    {
     "data": {
      "text/html": [
       "<div>\n",
       "<style scoped>\n",
       "    .dataframe tbody tr th:only-of-type {\n",
       "        vertical-align: middle;\n",
       "    }\n",
       "\n",
       "    .dataframe tbody tr th {\n",
       "        vertical-align: top;\n",
       "    }\n",
       "\n",
       "    .dataframe thead th {\n",
       "        text-align: right;\n",
       "    }\n",
       "</style>\n",
       "<table border=\"1\" class=\"dataframe\">\n",
       "  <thead>\n",
       "    <tr style=\"text-align: right;\">\n",
       "      <th></th>\n",
       "      <th>A</th>\n",
       "      <th>B</th>\n",
       "    </tr>\n",
       "  </thead>\n",
       "  <tbody>\n",
       "    <tr>\n",
       "      <th>0</th>\n",
       "      <td>0.00</td>\n",
       "      <td>0.00</td>\n",
       "    </tr>\n",
       "    <tr>\n",
       "      <th>1</th>\n",
       "      <td>0.25</td>\n",
       "      <td>0.25</td>\n",
       "    </tr>\n",
       "    <tr>\n",
       "      <th>2</th>\n",
       "      <td>0.50</td>\n",
       "      <td>0.50</td>\n",
       "    </tr>\n",
       "    <tr>\n",
       "      <th>3</th>\n",
       "      <td>0.75</td>\n",
       "      <td>0.75</td>\n",
       "    </tr>\n",
       "    <tr>\n",
       "      <th>4</th>\n",
       "      <td>1.00</td>\n",
       "      <td>1.00</td>\n",
       "    </tr>\n",
       "  </tbody>\n",
       "</table>\n",
       "</div>"
      ],
      "text/plain": [
       "      A     B\n",
       "0  0.00  0.00\n",
       "1  0.25  0.25\n",
       "2  0.50  0.50\n",
       "3  0.75  0.75\n",
       "4  1.00  1.00"
      ]
     },
     "execution_count": 23,
     "metadata": {},
     "output_type": "execute_result"
    }
   ],
   "source": [
    "# Escalamiento por cuantiles a distribución uniforme\n",
    "from sklearn.preprocessing import QuantileTransformer\n",
    "\n",
    "qt = QuantileTransformer(output_distribution='uniform', random_state=0)\n",
    "df_quantile = pd.DataFrame(qt.fit_transform(df), columns=df.columns)\n",
    "df_quantile"
   ]
  },
  {
   "cell_type": "code",
   "execution_count": 24,
   "id": "b1e48d36",
   "metadata": {},
   "outputs": [
    {
     "name": "stderr",
     "output_type": "stream",
     "text": [
      "C:\\Users\\uie70742\\AppData\\Roaming\\Python\\Python312\\site-packages\\sklearn\\preprocessing\\_data.py:2846: UserWarning: n_quantiles (1000) is greater than the total number of samples (5). n_quantiles is set to n_samples.\n",
      "  warnings.warn(\n"
     ]
    },
    {
     "data": {
      "text/html": [
       "<div>\n",
       "<style scoped>\n",
       "    .dataframe tbody tr th:only-of-type {\n",
       "        vertical-align: middle;\n",
       "    }\n",
       "\n",
       "    .dataframe tbody tr th {\n",
       "        vertical-align: top;\n",
       "    }\n",
       "\n",
       "    .dataframe thead th {\n",
       "        text-align: right;\n",
       "    }\n",
       "</style>\n",
       "<table border=\"1\" class=\"dataframe\">\n",
       "  <thead>\n",
       "    <tr style=\"text-align: right;\">\n",
       "      <th></th>\n",
       "      <th>A</th>\n",
       "      <th>B</th>\n",
       "    </tr>\n",
       "  </thead>\n",
       "  <tbody>\n",
       "    <tr>\n",
       "      <th>0</th>\n",
       "      <td>-5.199338</td>\n",
       "      <td>-5.199338</td>\n",
       "    </tr>\n",
       "    <tr>\n",
       "      <th>1</th>\n",
       "      <td>-0.674490</td>\n",
       "      <td>-0.674490</td>\n",
       "    </tr>\n",
       "    <tr>\n",
       "      <th>2</th>\n",
       "      <td>0.000000</td>\n",
       "      <td>0.000000</td>\n",
       "    </tr>\n",
       "    <tr>\n",
       "      <th>3</th>\n",
       "      <td>0.674490</td>\n",
       "      <td>0.674490</td>\n",
       "    </tr>\n",
       "    <tr>\n",
       "      <th>4</th>\n",
       "      <td>5.199338</td>\n",
       "      <td>5.199338</td>\n",
       "    </tr>\n",
       "  </tbody>\n",
       "</table>\n",
       "</div>"
      ],
      "text/plain": [
       "          A         B\n",
       "0 -5.199338 -5.199338\n",
       "1 -0.674490 -0.674490\n",
       "2  0.000000  0.000000\n",
       "3  0.674490  0.674490\n",
       "4  5.199338  5.199338"
      ]
     },
     "execution_count": 24,
     "metadata": {},
     "output_type": "execute_result"
    }
   ],
   "source": [
    "# Escalamiento por cuantiles a distribución normal\n",
    "qt_norm = QuantileTransformer(output_distribution='normal', random_state=0)\n",
    "df_quantile_norm = pd.DataFrame(qt_norm.fit_transform(df), columns=df.columns)\n",
    "df_quantile_norm"
   ]
  },
  {
   "cell_type": "code",
   "execution_count": 25,
   "id": "f8b4f5b8-9a0b-4e09-ad00-938bb858f121",
   "metadata": {},
   "outputs": [
    {
     "name": "stdout",
     "output_type": "stream",
     "text": [
      "     MedInc  HouseAge  AveRooms  AveBedrms  Population  AveOccup  Latitude  \\\n",
      "0  1.926710  0.922330  1.286364  -0.362850   -1.708905 -0.469603  0.901416   \n",
      "1  1.919438 -0.480839  0.799726  -1.181308    1.194649 -1.245612  0.886449   \n",
      "2  1.616379  5.199338  1.939500   0.372064   -1.324830 -0.039102  0.879040   \n",
      "3  1.074841  5.199338  0.477157   0.366144   -1.189522 -0.486462  0.879040   \n",
      "4  0.197589  5.199338  0.830647   0.471356   -1.176936 -1.119020  0.879040   \n",
      "\n",
      "   Longitude  \n",
      "0  -1.164444  \n",
      "1  -1.152175  \n",
      "2  -1.184447  \n",
      "3  -1.202347  \n",
      "4  -1.202347  \n"
     ]
    }
   ],
   "source": [
    "from sklearn.datasets import fetch_california_housing\n",
    "california = fetch_california_housing()\n",
    "df_cal = pd.DataFrame(california.data, columns=california.feature_names)\n",
    "qt = QuantileTransformer(output_distribution='normal', random_state=0)\n",
    "df_cal_quantile = pd.DataFrame(qt.fit_transform(df_cal), columns=df_cal.columns)\n",
    "print(df_cal_quantile.head())"
   ]
  },
  {
   "cell_type": "code",
   "execution_count": 26,
   "id": "98301b15-6525-46e1-891c-f9ddc710baf7",
   "metadata": {},
   "outputs": [
    {
     "data": {
      "image/png": "[encoded data removed]",
      "text/plain": [
       "<Figure size 640x480 with 9 Axes>"
      ]
     },
     "metadata": {},
     "output_type": "display_data"
    }
   ],
   "source": [
    "df_cal.hist();"
   ]
  },
  {
   "cell_type": "code",
   "execution_count": 27,
   "id": "b6460e63-dd72-4e3b-852a-386ff354e4d5",
   "metadata": {},
   "outputs": [
    {
     "data": {
      "image/png": "[encoded data removed]",
      "text/plain": [
       "<Figure size 640x480 with 9 Axes>"
      ]
     },
     "metadata": {},
     "output_type": "display_data"
    }
   ],
   "source": [
    "df_cal_quantile.hist();"
   ]
  },
  {
   "cell_type": "markdown",
   "id": "e00692ac-a96c-4f65-9d2e-61549dedb8d4",
   "metadata": {},
   "source": [
    "**Ventajas:**\n",
    "- Reduce el efecto de outliers.\n",
    "- Puede transformar la distribución a uniforme o normal.\n",
    "- Útil para algoritmos que asumen normalidad o para robustecer frente a valores extremos.\n",
    "\n",
    "**Desventajas:**\n",
    "- Puede distorsionar relaciones lineales entre variables.\n",
    "- Más costoso computacionalmente.\n",
    "\n",
    "Es recomendable usar escalamiento por cuantiles cuando:\n",
    "- Los datos tienen outliers o distribuciones no normales.\n",
    "- Cuando se requiere una distribución específica (normal o uniforme).\n"
   ]
  },
  {
   "cell_type": "markdown",
   "id": "52d9cdda",
   "metadata": {},
   "source": [
    "## Resumen\n",
    "\n",
    "- **Estandarización:** Media 0, desviación estándar 1.\n",
    "- **Normalización basada en la media:** Centrado en 0, escala [-1, 1].\n",
    "- **Min-Max:** Rango [0, 1] (o personalizado).\n",
    "- **MaxAbs:** Rango [-1, 1] según el valor absoluto máximo.\n",
    "- **Cuantiles:** Distribución uniforme o normal.\n"
   ]
  },
  {
   "cell_type": "markdown",
   "id": "96097787-84d0-473f-ad7f-ed6f157d061c",
   "metadata": {},
   "source": [
    "| Técnica                | Ventajas principales                          | Desventajas principales         | Usos recomendados                           |\n",
    "|------------------------|-----------------------------------------------|---------------------------------|---------------------------------------------|\n",
    "| Estandarización        | Media 0, varianza 1, útil para normalidad     | No acota rango, sensible a outliers | Regresión, SVM, PCA, redes neuronales      |\n",
    "| Normalización media    | Centra y acota, fácil de interpretar          | Sensible a outliers             | Datos centrados y acotados                  |\n",
    "| Min-Max                | Rango fijo, fácil de interpretar              | Muy sensible a outliers         | KNN, clustering, redes neuronales           |\n",
    "| MaxAbs                 | Preserva dispersión, útil para datos dispersos| No centra, sensible a outliers  | Datos dispersos, texto vectorizado          |\n",
    "| Cuantiles              | Robusto a outliers, ajusta distribución       | Distorsiona relaciones lineales | Datos con outliers, requiere normalidad     |\n",
    "\n",
    "La elección depende del algoritmo y la naturaleza de los datos. Siempre analiza la distribución y presencia de outliers antes de elegir el método de escalamiento."
   ]
  },
  {
   "cell_type": "code",
   "execution_count": null,
   "id": "08186d76-4abf-4cfa-9ad2-1a662e8e916e",
   "metadata": {},
   "outputs": [],
   "source": []
  }
 ],
 "metadata": {
  "kernelspec": {
   "display_name": "Python 3 (ipykernel)",
   "language": "python",
   "name": "python3"
  },
  "language_info": {
   "codemirror_mode": {
    "name": "ipython",
    "version": 3
   },
   "file_extension": ".py",
   "mimetype": "text/x-python",
   "name": "python",
   "nbconvert_exporter": "python",
   "pygments_lexer": "ipython3",
   "version": "3.12.7"
  }
 },
 "nbformat": 4,
 "nbformat_minor": 5
}
