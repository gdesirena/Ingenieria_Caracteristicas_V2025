{
 "cells": [
  {
   "cell_type": "markdown",
   "metadata": {},
   "source": [
    "<img style=\"float: left;;\" src='Figures/iteso.jpg' width=\"100\" height=\"200\"/></a>\n",
    "\n",
    "# <center> <font color= #000047> Extracción </font> </center>"
   ]
  },
  {
   "cell_type": "markdown",
   "metadata": {},
   "source": [
    "## Cargar archivos"
   ]
  },
  {
   "cell_type": "code",
   "execution_count": null,
   "metadata": {
    "executionInfo": {
     "elapsed": 14,
     "status": "ok",
     "timestamp": 1692217807721,
     "user": {
      "displayName": "Carlos Arellano",
      "userId": "03055712073717640513"
     },
     "user_tz": 360
    },
    "id": "ZMhPPgsWMuna"
   },
   "outputs": [],
   "source": [
    "# Almacenamos la ruta de los archivos en una variable\n",
    "ruta = 'Data/'"
   ]
  },
  {
   "cell_type": "markdown",
   "metadata": {
    "id": "7YrxXqpaM_vz"
   },
   "source": [
    "# Archivos de texto\n",
    "### De texto a `DataFrame`"
   ]
  },
  {
   "cell_type": "code",
   "execution_count": null,
   "metadata": {
    "executionInfo": {
     "elapsed": 236,
     "status": "ok",
     "timestamp": 1692217813710,
     "user": {
      "displayName": "Carlos Arellano",
      "userId": "03055712073717640513"
     },
     "user_tz": 360
    },
    "id": "lVBS42QqM93C"
   },
   "outputs": [],
   "source": [
    "import pandas as pd"
   ]
  },
  {
   "cell_type": "code",
   "execution_count": null,
   "metadata": {},
   "outputs": [],
   "source": []
  },
  {
   "cell_type": "code",
   "execution_count": null,
   "metadata": {},
   "outputs": [],
   "source": []
  },
  {
   "cell_type": "code",
   "execution_count": null,
   "metadata": {
    "id": "bC2UoY-3OERa"
   },
   "outputs": [],
   "source": [
    "# Extracción a partir de texto separado por tabular\n"
   ]
  },
  {
   "cell_type": "code",
   "execution_count": null,
   "metadata": {
    "id": "vUuAuUDwRneU"
   },
   "outputs": [],
   "source": [
    "# Extracción a partir de texto separado por comas\n"
   ]
  },
  {
   "cell_type": "code",
   "execution_count": null,
   "metadata": {
    "id": "k5UV-xudUSrt"
   },
   "outputs": [],
   "source": []
  },
  {
   "cell_type": "markdown",
   "metadata": {
    "id": "AQjLmme7SXIl"
   },
   "source": [
    "### Expresiones regulares"
   ]
  },
  {
   "cell_type": "markdown",
   "metadata": {},
   "source": [
    "Las **expresiones regulares** (regex) son patrones que se utilizan para buscar, extraer o manipular texto de manera flexible y eficiente. Permiten identificar cadenas de texto que cumplen ciertas reglas, como correos electrónicos, números de teléfono, palabras específicas, etc.\n",
    "\n",
    "##### ¿Cómo se usan en Python?\n",
    "\n",
    "En Python, se utiliza el módulo `re` para trabajar con expresiones regulares. Algunas funciones comunes son:\n",
    "\n",
    "- `re.search()`: Busca un patrón en una cadena y devuelve el primer resultado.\n",
    "- `re.match()`: Verifica si el patrón coincide al inicio de la cadena.\n",
    "- `re.findall()`: Devuelve todas las coincidencias del patrón en la cadena.\n",
    "- `re.sub()`: Reemplaza coincidencias del patrón por otro texto.\n",
    "\n",
    "##### Ejemplo básico\n",
    "\n",
    "````python\n",
    "import re\n",
    "\n",
    "texto = \"Mi correo es ejemplo@correo.com\"\n",
    "patron = r\"\\w+@\\w+\\.\\w+\"  # patrón para un correo electrónico\n",
    "\n",
    "resultado = re.search(patron, texto)\n",
    "if resultado:\n",
    "    print(\"Correo encontrado:\", resultado.group())\n",
    "```"
   ]
  },
  {
   "cell_type": "code",
   "execution_count": null,
   "metadata": {
    "id": "MWJgvNriStQN"
   },
   "outputs": [],
   "source": [
    "# Conversión de archivo de texto a una variable en python\n"
   ]
  },
  {
   "cell_type": "code",
   "execution_count": null,
   "metadata": {
    "id": "66dBBQ9XJxx7"
   },
   "outputs": [],
   "source": [
    "# Si ocurre un error durante la ejecución, la variable file se cierra siempre:\n"
   ]
  },
  {
   "cell_type": "code",
   "execution_count": null,
   "metadata": {},
   "outputs": [],
   "source": []
  },
  {
   "cell_type": "code",
   "execution_count": null,
   "metadata": {
    "id": "zyPE9c8iKm0w"
   },
   "outputs": [],
   "source": [
    "# Separamos cada palabra de la variable de texto\n"
   ]
  },
  {
   "cell_type": "code",
   "execution_count": null,
   "metadata": {
    "id": "Cc9l3pyAS-3U"
   },
   "outputs": [],
   "source": [
    "# Conteo de palabras. Expresiones regulares\n",
    "import re"
   ]
  },
  {
   "cell_type": "code",
   "execution_count": null,
   "metadata": {
    "id": "9Qj-b6vvwQkt"
   },
   "outputs": [],
   "source": []
  },
  {
   "cell_type": "code",
   "execution_count": null,
   "metadata": {
    "id": "2CEa8vfhwdbz",
    "scrolled": true
   },
   "outputs": [],
   "source": [
    "# \\w -> [a-z][A-Z][_][0-9]\n",
    "# \\W -> [*,.]\n",
    "# \\d -> [0-9]\n",
    "# \\s -> [\\t][  ]\n"
   ]
  },
  {
   "cell_type": "code",
   "execution_count": null,
   "metadata": {
    "id": "EQFMBKWgM4x6"
   },
   "outputs": [],
   "source": [
    "# Convertimos la lista a set\n"
   ]
  },
  {
   "cell_type": "code",
   "execution_count": null,
   "metadata": {
    "id": "OMIDBwsjN-X4"
   },
   "outputs": [],
   "source": [
    "# Buscamos las palabras no repetidas del set en la variable de texto para poderlas contar\n",
    "re.findall?"
   ]
  },
  {
   "cell_type": "code",
   "execution_count": null,
   "metadata": {
    "id": "UDcXo3G1zXgy"
   },
   "outputs": [],
   "source": []
  },
  {
   "cell_type": "code",
   "execution_count": null,
   "metadata": {
    "id": "2ecNdbInz-R-"
   },
   "outputs": [],
   "source": []
  },
  {
   "cell_type": "markdown",
   "metadata": {
    "id": "4BDjmVMmWm1N"
   },
   "source": [
    "# Archivos excel"
   ]
  },
  {
   "cell_type": "code",
   "execution_count": null,
   "metadata": {
    "id": "KFBkoWYwWpNY"
   },
   "outputs": [],
   "source": [
    "# A partir de la función\n",
    "\n",
    "#como leer una hoja de un archivo excel\n"
   ]
  },
  {
   "cell_type": "code",
   "execution_count": null,
   "metadata": {
    "id": "TDyzFaTvQ6J5"
   },
   "outputs": [],
   "source": [
    "# Importamos la clase ExcelFile\n"
   ]
  },
  {
   "cell_type": "code",
   "execution_count": null,
   "metadata": {
    "id": "1UFvGANEQx6h"
   },
   "outputs": [],
   "source": [
    "# A partir de la clase\n"
   ]
  },
  {
   "cell_type": "markdown",
   "metadata": {
    "id": "vQiaN1CIWsVd"
   },
   "source": [
    "# Archivos JSON"
   ]
  },
  {
   "cell_type": "code",
   "execution_count": null,
   "metadata": {
    "executionInfo": {
     "elapsed": 250,
     "status": "ok",
     "timestamp": 1692218515369,
     "user": {
      "displayName": "Carlos Arellano",
      "userId": "03055712073717640513"
     },
     "user_tz": 360
    },
    "id": "wWBS0iS0qdJw"
   },
   "outputs": [],
   "source": []
  },
  {
   "cell_type": "markdown",
   "metadata": {
    "id": "xYJ8VnaKW-bT"
   },
   "source": [
    "df_1 = pd.read_json(ruta+'data.json', orient='split')\n",
    "df_1"
   ]
  },
  {
   "cell_type": "code",
   "execution_count": null,
   "metadata": {},
   "outputs": [],
   "source": []
  },
  {
   "cell_type": "code",
   "execution_count": null,
   "metadata": {},
   "outputs": [],
   "source": []
  },
  {
   "cell_type": "markdown",
   "metadata": {
    "id": "FRQrhHL1YFV5"
   },
   "source": [
    "# Archivos XML"
   ]
  },
  {
   "cell_type": "code",
   "execution_count": null,
   "metadata": {
    "id": "CrPB-fs9YIGr"
   },
   "outputs": [],
   "source": [
    "import xml.etree.ElementTree as ET"
   ]
  },
  {
   "cell_type": "code",
   "execution_count": null,
   "metadata": {},
   "outputs": [],
   "source": [
    "archivo_1 = ET.parse(ruta+'tabla_1.xml')"
   ]
  },
  {
   "cell_type": "code",
   "execution_count": null,
   "metadata": {},
   "outputs": [],
   "source": [
    "raiz = archivo_1.getroot()"
   ]
  },
  {
   "cell_type": "code",
   "execution_count": null,
   "metadata": {},
   "outputs": [],
   "source": [
    "for nodo in raiz:\n",
    "    print(nodo.attrib, nodo.text, nodo.tag)\n",
    "    for sn in nodo:\n",
    "        print(sn.attrib, sn.text, sn.tag)"
   ]
  },
  {
   "cell_type": "code",
   "execution_count": null,
   "metadata": {},
   "outputs": [],
   "source": [
    "archivo_2 = ET.parse(ruta+'tabla_2.xml')\n",
    "root = archivo_2.getroot()\n",
    "for nodo in root:\n",
    "    print(nodo.tag, nodo.attrib, nodo.text)"
   ]
  },
  {
   "cell_type": "code",
   "execution_count": null,
   "metadata": {},
   "outputs": [],
   "source": [
    "for nodo in root:\n",
    "    for subn in nodo:\n",
    "        print(subn.tag, subn.attrib, subn.text)"
   ]
  },
  {
   "cell_type": "code",
   "execution_count": null,
   "metadata": {},
   "outputs": [],
   "source": [
    "#crear un diccionario que guarde el contenido del archivo xml\n",
    "d={}\n",
    "for nodo in raiz:\n",
    "    d[nodo.tag] = []\n",
    "for nodo in raiz:\n",
    "    d[nodo.tag].append(nodo.attrib['name'])\n",
    "\n",
    "for nodo in raiz:\n",
    "    for sn in nodo:\n",
    "        d[sn.tag]=[]\n",
    "\n",
    "for nodo in raiz:\n",
    "    for sn in nodo:\n",
    "        d[sn.tag].append(sn.text)"
   ]
  },
  {
   "cell_type": "code",
   "execution_count": null,
   "metadata": {},
   "outputs": [],
   "source": [
    "d"
   ]
  },
  {
   "cell_type": "code",
   "execution_count": null,
   "metadata": {},
   "outputs": [],
   "source": [
    "df_tabla1 = pd.DataFrame(d)\n",
    "df_tabla1"
   ]
  },
  {
   "cell_type": "code",
   "execution_count": null,
   "metadata": {},
   "outputs": [],
   "source": [
    "df_tabla1.to_csv('Data/df_tabla2.csv')"
   ]
  },
  {
   "cell_type": "code",
   "execution_count": null,
   "metadata": {},
   "outputs": [],
   "source": [
    "#para la tabla2\n",
    "root = archivo_2.getroot()"
   ]
  },
  {
   "cell_type": "code",
   "execution_count": null,
   "metadata": {},
   "outputs": [],
   "source": [
    "L=[]\n",
    "for n in root.findall('documents/document'):\n",
    "    d = {}\n",
    "    d[n.tag] = n.text\n",
    "    for k,v in n.attrib.items():\n",
    "        d[k]=v\n",
    "\n",
    "L.append(d)\n",
    "tabla2_df = pd.DataFrame(L)\n",
    "tabla2_df"
   ]
  },
  {
   "cell_type": "code",
   "execution_count": null,
   "metadata": {},
   "outputs": [],
   "source": [
    "# crear un nuevo dataframe con todo el contenido del archivo tabla2.xml"
   ]
  },
  {
   "cell_type": "code",
   "execution_count": null,
   "metadata": {},
   "outputs": [],
   "source": [
    "#Leer el archivo xml con varios renglones\n",
    "archivo = 'IFC-Subscriptions-and-Voting-Power-of-Member-Count.xml'"
   ]
  },
  {
   "cell_type": "code",
   "execution_count": null,
   "metadata": {},
   "outputs": [],
   "source": [
    "file = ET.parse(ruta+archivo)\n",
    "root = file.getroot()\n",
    "\n",
    "for nodo in root:\n",
    "    for snodo in nodo:\n",
    "        print(snodo.tag, snodo.attrib, snodo.text)\n",
    "        for ssnodo in snodo:\n",
    "            print(ssnodo.tag, ssnodo.attrib, ssnodo.text)"
   ]
  },
  {
   "cell_type": "markdown",
   "metadata": {
    "id": "-SdrSO1Q4n0Z"
   },
   "source": [
    "---"
   ]
  },
  {
   "cell_type": "markdown",
   "metadata": {
    "id": "UfDfG-2GZGbf"
   },
   "source": [
    "# Archivos imágen"
   ]
  },
  {
   "cell_type": "code",
   "execution_count": null,
   "metadata": {
    "id": "aByjGKZUZL_z"
   },
   "outputs": [],
   "source": [
    "import numpy as np\n",
    "import matplotlib.pyplot as plt"
   ]
  },
  {
   "cell_type": "code",
   "execution_count": null,
   "metadata": {},
   "outputs": [],
   "source": []
  }
 ],
 "metadata": {
  "colab": {
   "authorship_tag": "ABX9TyPqUYnWUof7Eo4SjyQR8MFR",
   "mount_file_id": "11cBGjZ8uzuVbqHGETC0huHCGxFz0MEeR",
   "provenance": [
    {
     "file_id": "11cBGjZ8uzuVbqHGETC0huHCGxFz0MEeR",
     "timestamp": 1660679616179
    }
   ]
  },
  "kernelspec": {
   "display_name": "Python 3 (ipykernel)",
   "language": "python",
   "name": "python3"
  },
  "language_info": {
   "codemirror_mode": {
    "name": "ipython",
    "version": 3
   },
   "file_extension": ".py",
   "mimetype": "text/x-python",
   "name": "python",
   "nbconvert_exporter": "python",
   "pygments_lexer": "ipython3",
   "version": "3.12.7"
  }
 },
 "nbformat": 4,
 "nbformat_minor": 4
}
