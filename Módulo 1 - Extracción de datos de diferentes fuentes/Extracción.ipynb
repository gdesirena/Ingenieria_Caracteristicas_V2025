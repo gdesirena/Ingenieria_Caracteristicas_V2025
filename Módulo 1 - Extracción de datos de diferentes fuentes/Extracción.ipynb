{
 "cells": [
  {
   "cell_type": "markdown",
   "metadata": {},
   "source": [
    "<img style=\"float: left;;\" src='Figures/iteso.jpg' width=\"100\" height=\"200\"/></a>\n",
    "\n",
    "# <center> <font color= #000047> Extracción </font> </center>"
   ]
  },
  {
   "cell_type": "markdown",
   "metadata": {},
   "source": [
    "## Cargar archivos"
   ]
  },
  {
   "cell_type": "code",
   "execution_count": null,
   "metadata": {
    "executionInfo": {
     "elapsed": 14,
     "status": "ok",
     "timestamp": 1692217807721,
     "user": {
      "displayName": "Carlos Arellano",
      "userId": "03055712073717640513"
     },
     "user_tz": 360
    },
    "id": "ZMhPPgsWMuna"
   },
   "outputs": [],
   "source": [
    "# Almacenamos la ruta de los archivos en una variable\n",
    "ruta='Data/'"
   ]
  },
  {
   "cell_type": "markdown",
   "metadata": {},
   "source": [
    "# Archivos Excel y CSV\n",
    "\n",
    "Los archivos Excel (`.xlsx`, `.xls`) y CSV (`.csv`) son formatos tabulares ampliamente utilizados para almacenar datos estructurados. Python, a través de la librería `pandas`, permite leer y manipular estos archivos de manera sencilla y eficiente."
   ]
  },
  {
   "cell_type": "code",
   "execution_count": null,
   "metadata": {
    "executionInfo": {
     "elapsed": 236,
     "status": "ok",
     "timestamp": 1692217813710,
     "user": {
      "displayName": "Carlos Arellano",
      "userId": "03055712073717640513"
     },
     "user_tz": 360
    },
    "id": "lVBS42QqM93C"
   },
   "outputs": [],
   "source": [
    "import pandas as pd"
   ]
  },
  {
   "cell_type": "code",
   "execution_count": null,
   "metadata": {},
   "outputs": [],
   "source": [
    "df_csv = pd.read_csv(ruta+'df_tabla2.csv')\n",
    "print('Contenido del archivo CSV:')\n",
    "print(df_csv)"
   ]
  },
  {
   "cell_type": "markdown",
   "metadata": {
    "id": "7YrxXqpaM_vz"
   },
   "source": [
    "# Archivos de texto\n",
    "### De texto a `DataFrame`"
   ]
  },
  {
   "cell_type": "markdown",
   "metadata": {},
   "source": [
    "`pd.read_fwf` de pandas se utiliza para leer archivos de texto con columnas de ancho fijo (fixed-width formatted lines) y cargarlos en un DataFrame"
   ]
  },
  {
   "cell_type": "code",
   "execution_count": null,
   "metadata": {
    "id": "bC2UoY-3OERa"
   },
   "outputs": [],
   "source": [
    "# Extracción a partir de texto separado por tabular\n",
    "pd.read_fwf(ruta+'texto_2.txt',header=None) # No se puede especificar el separador"
   ]
  },
  {
   "cell_type": "markdown",
   "metadata": {},
   "source": [
    "`read_table` de pandas se utiliza para leer archivos de texto delimitados (por defecto, separados por tabulaciones) y cargarlos en un DataFrame"
   ]
  },
  {
   "cell_type": "code",
   "execution_count": null,
   "metadata": {
    "id": "HQw9zaACUvWT"
   },
   "outputs": [],
   "source": [
    "pd.read_table(ruta+'texto_2.txt',header=None) # sep='\\t'"
   ]
  },
  {
   "cell_type": "code",
   "execution_count": null,
   "metadata": {
    "id": "vUuAuUDwRneU"
   },
   "outputs": [],
   "source": [
    "# Extracción a partir de texto separado por comas\n",
    "pd.read_table(ruta+'texto_1.txt',sep=',',header=None)"
   ]
  },
  {
   "cell_type": "code",
   "execution_count": null,
   "metadata": {
    "id": "k5UV-xudUSrt"
   },
   "outputs": [],
   "source": [
    "pd.read_csv(ruta+'texto_2.txt',header=None,sep='\\t') # sep=','"
   ]
  },
  {
   "cell_type": "code",
   "execution_count": null,
   "metadata": {
    "id": "MWJgvNriStQN"
   },
   "outputs": [],
   "source": [
    "# Conversión de archivo a variable\n",
    "file=open(ruta+'texto_3.txt')     # Abrir...\n",
    "texto=file.read()\n",
    "file.close()                      # ...despues cerrar"
   ]
  },
  {
   "cell_type": "code",
   "execution_count": null,
   "metadata": {
    "id": "feff8TdZtlqD"
   },
   "outputs": [],
   "source": [
    "texto"
   ]
  },
  {
   "cell_type": "code",
   "execution_count": null,
   "metadata": {
    "id": "66dBBQ9XJxx7"
   },
   "outputs": [],
   "source": [
    "# Si ocurre un error durante la ejecución, la variable file se cierra siempre:\n",
    "with open(ruta+'texto_3.txt') as file:\n",
    "  texto=file.read()"
   ]
  },
  {
   "cell_type": "code",
   "execution_count": null,
   "metadata": {
    "id": "QkESv8KTuDb6"
   },
   "outputs": [],
   "source": [
    "texto"
   ]
  },
  {
   "cell_type": "code",
   "execution_count": null,
   "metadata": {
    "id": "zyPE9c8iKm0w",
    "scrolled": true
   },
   "outputs": [],
   "source": [
    "# Separamos cada palabra de la variable de texto\n",
    "texto.split()"
   ]
  },
  {
   "cell_type": "code",
   "execution_count": null,
   "metadata": {
    "id": "-3beMzSxv4K7"
   },
   "outputs": [],
   "source": [
    "texto.split?"
   ]
  },
  {
   "cell_type": "markdown",
   "metadata": {
    "id": "AQjLmme7SXIl"
   },
   "source": [
    "### Expresiones regulares"
   ]
  },
  {
   "cell_type": "markdown",
   "metadata": {},
   "source": [
    "Las **expresiones regulares** (regex) son patrones que se utilizan para buscar, extraer o manipular texto de manera flexible y eficiente. Permiten identificar cadenas de texto que cumplen ciertas reglas, como correos electrónicos, números de teléfono, palabras específicas, etc.\n",
    "\n",
    "##### ¿Cómo se usan en Python?\n",
    "\n",
    "En Python, se utiliza el módulo `re` para trabajar con expresiones regulares. Algunas funciones comunes son:\n",
    "\n",
    "- `re.search()`: Busca un patrón en una cadena y devuelve el primer resultado.\n",
    "- `re.match()`: Verifica si el patrón coincide al inicio de la cadena.\n",
    "- `re.findall()`: Devuelve todas las coincidencias del patrón en la cadena.\n",
    "- `re.sub()`: Reemplaza coincidencias del patrón por otro texto.\n",
    "\n",
    "##### ¿Cómo definir patrones en regex?\n",
    "\n",
    "- Los patrones se definen como cadenas de texto.\n",
    "- Algunos caracteres especiales:\n",
    "  - `.` : Cualquier carácter excepto salto de línea\n",
    "  - `\\d` : Un dígito (0-9)\n",
    "  - `\\w` : Un carácter alfanumérico\n",
    "  - `\\s` : Un espacio en blanco\n",
    "  - `*` : Cero o más repeticiones\n",
    "  - `+` : Una o más repeticiones\n",
    "  - `?` : Cero o una repetición\n",
    "  - `^` : Inicio de línea\n",
    "  - `$` : Fin de línea\n",
    "  - `[abc]` : Cualquier carácter a, b o c\n",
    "  - `( )` : Agrupación"
   ]
  },
  {
   "cell_type": "markdown",
   "metadata": {},
   "source": [
    "###### Ejemplo: Correos electrónicos"
   ]
  },
  {
   "cell_type": "code",
   "execution_count": null,
   "metadata": {},
   "outputs": [],
   "source": [
    "import re\n",
    "\n",
    "texto_correo = \"Mi correo es gdesirena@iteso.mx pero anteriormente usaba gdesirena@gmail.com\"\n",
    "patron = r\"\\w+@\\w+\\.\\w+\"  # patrón para un correo electrónico\n",
    "\n",
    "resultado = re.search(patron, texto_correo)\n",
    "if resultado:\n",
    "    print(\"Correo encontrado:\", resultado.group())"
   ]
  },
  {
   "cell_type": "code",
   "execution_count": null,
   "metadata": {},
   "outputs": [],
   "source": [
    "correos = re.findall(patron, texto_correo) #Encuentra todos los correos en texto_correo\n",
    "correos"
   ]
  },
  {
   "cell_type": "code",
   "execution_count": null,
   "metadata": {},
   "outputs": [],
   "source": [
    "df_correos = pd.DataFrame({'correo': correos})\n",
    "df_correos"
   ]
  },
  {
   "cell_type": "code",
   "execution_count": null,
   "metadata": {},
   "outputs": [],
   "source": [
    "dominios = re.findall(r'@([\\w\\.-]+)', texto_correo) #captura el dominio después del @\n",
    "print('Dominios encontrados:', dominios)"
   ]
  },
  {
   "cell_type": "code",
   "execution_count": null,
   "metadata": {},
   "outputs": [],
   "source": [
    "texto_fechas = 'algunas fechas importantes son 15/09/2023 y 01/01/2024.' \n",
    "fechas = re.findall(r'\\b\\d{2}/\\d{2}/\\d{4}\\b', texto_fechas) #Encuentra todas las fechas\n",
    "print('Fechas encontradas:', fechas)"
   ]
  },
  {
   "cell_type": "markdown",
   "metadata": {
    "id": "Cc9l3pyAS-3U"
   },
   "source": [
    "###### Ejemplo: Conteo de palabras usando regex"
   ]
  },
  {
   "cell_type": "code",
   "execution_count": null,
   "metadata": {
    "id": "9Qj-b6vvwQkt"
   },
   "outputs": [],
   "source": [
    "#re.split?"
   ]
  },
  {
   "cell_type": "code",
   "execution_count": null,
   "metadata": {
    "id": "2CEa8vfhwdbz",
    "scrolled": true
   },
   "outputs": [],
   "source": [
    "L=re.split(r'\\W',texto)\n",
    "L"
   ]
  },
  {
   "cell_type": "code",
   "execution_count": null,
   "metadata": {
    "id": "EQFMBKWgM4x6"
   },
   "outputs": [],
   "source": [
    "# Convertimos la lista a set\n",
    "S=set(L)\n",
    "S.discard('')\n",
    "S"
   ]
  },
  {
   "cell_type": "code",
   "execution_count": null,
   "metadata": {
    "id": "OMIDBwsjN-X4"
   },
   "outputs": [],
   "source": [
    "# Buscamos las palabras no repetidas del set en la variable de texto para poderlas contar\n",
    "re.findall?"
   ]
  },
  {
   "cell_type": "code",
   "execution_count": null,
   "metadata": {
    "id": "UDcXo3G1zXgy"
   },
   "outputs": [],
   "source": [
    "re.findall('en',texto,flags=re.I)"
   ]
  },
  {
   "cell_type": "code",
   "execution_count": null,
   "metadata": {
    "id": "2ecNdbInz-R-"
   },
   "outputs": [],
   "source": [
    "d={}\n",
    "for palabra in S:\n",
    "    d[palabra]=len(re.findall(palabra,texto,flags=re.I))\n",
    "d"
   ]
  },
  {
   "cell_type": "code",
   "execution_count": null,
   "metadata": {
    "id": "B_1qoqTi0n7B"
   },
   "outputs": [],
   "source": [
    "df=pd.DataFrame(d.items(),columns=['Palabra','No.'])"
   ]
  },
  {
   "cell_type": "code",
   "execution_count": null,
   "metadata": {
    "id": "O5wL5GWS1oNZ"
   },
   "outputs": [],
   "source": [
    "df.head()"
   ]
  },
  {
   "cell_type": "markdown",
   "metadata": {},
   "source": [
    "https://regex101.com/"
   ]
  },
  {
   "cell_type": "markdown",
   "metadata": {
    "id": "4BDjmVMmWm1N"
   },
   "source": [
    "# Archivos excel"
   ]
  },
  {
   "cell_type": "code",
   "execution_count": null,
   "metadata": {
    "id": "KFBkoWYwWpNY"
   },
   "outputs": [],
   "source": [
    "# A partir de la función\n",
    "pd.read_excel(ruta+'API_SI.POV.DDAY_DS2_en_excel_v2_1930012.xls')"
   ]
  },
  {
   "cell_type": "code",
   "execution_count": null,
   "metadata": {
    "id": "TDyzFaTvQ6J5"
   },
   "outputs": [],
   "source": [
    "# Importamos la clase ExcelFile\n",
    "from pandas import ExcelFile"
   ]
  },
  {
   "cell_type": "code",
   "execution_count": null,
   "metadata": {
    "id": "1UFvGANEQx6h"
   },
   "outputs": [],
   "source": [
    "# A partir de la clase\n",
    "obj=ExcelFile(ruta+'API_SI.POV.DDAY_DS2_en_excel_v2_1930012.xls')\n",
    "obj.parse() # Importa la primera página"
   ]
  },
  {
   "cell_type": "markdown",
   "metadata": {
    "id": "vQiaN1CIWsVd"
   },
   "source": [
    "# Archivos JSON"
   ]
  },
  {
   "cell_type": "markdown",
   "metadata": {},
   "source": [
    "El formato JSON (JavaScript Object Notation) es ampliamente utilizado para el intercambio de datos, especialmente en aplicaciones web y APIs. Python incluye la librería estándar `json` para leer y manipular archivos JSON."
   ]
  },
  {
   "cell_type": "code",
   "execution_count": null,
   "metadata": {},
   "outputs": [],
   "source": [
    "import json\n",
    "\n",
    "json_data = '{\"personas\": [{\"nombre\": \"Ana\", \"edad\": 23}, {\"nombre\": \"Luis\", \"edad\": 31}]}'\n",
    "data = json.loads(json_data)\n",
    "print('Personas extraídas del archivo JSON:')\n",
    "for persona in data['personas']:\n",
    "    print(f'Nombre: {persona[\"nombre\"]}, Edad: {persona[\"edad\"]}')"
   ]
  },
  {
   "cell_type": "code",
   "execution_count": null,
   "metadata": {},
   "outputs": [],
   "source": [
    "from pandas import json_normalize\n",
    "\n",
    "with open('Data/data.json') as jsonfile:\n",
    "    jsondata = json.load(jsonfile)\n",
    "    \n",
    "df_json = json_normalize(jsondata['data'])\n",
    "df_json"
   ]
  },
  {
   "cell_type": "code",
   "execution_count": null,
   "metadata": {},
   "outputs": [],
   "source": [
    "df_json['categories'][0]\n"
   ]
  },
  {
   "cell_type": "markdown",
   "metadata": {
    "id": "FRQrhHL1YFV5"
   },
   "source": [
    "# Archivos XML"
   ]
  },
  {
   "cell_type": "markdown",
   "metadata": {},
   "source": [
    "El formato XML es común para el intercambio de datos estructurados. Python ofrece la librería estándar `xml.etree.ElementTree` para analizar y extraer información de archivos XML."
   ]
  },
  {
   "cell_type": "code",
   "execution_count": null,
   "metadata": {
    "id": "CrPB-fs9YIGr"
   },
   "outputs": [],
   "source": [
    "import xml.etree.ElementTree as ET"
   ]
  },
  {
   "cell_type": "code",
   "execution_count": null,
   "metadata": {},
   "outputs": [],
   "source": [
    "xml_data = '''\n",
    "<personas>\n",
    "  <persona>\n",
    "    <nombre>Ana</nombre>\n",
    "    <edad>23</edad>\n",
    "  </persona>\n",
    "  <persona>\n",
    "    <nombre>Luis</nombre>\n",
    "    <edad>31</edad>\n",
    "  </persona>\n",
    "</personas>\n",
    "'''"
   ]
  },
  {
   "cell_type": "code",
   "execution_count": null,
   "metadata": {},
   "outputs": [],
   "source": [
    "\n",
    "root = ET.fromstring(xml_data)\n",
    "print('Personas extraídas del archivo XML:')\n",
    "for persona in root.findall('persona'):\n",
    "    nombre = persona.find('nombre').text\n",
    "    edad = persona.find('edad').text\n",
    "    print(f'Nombre: {nombre}, Edad: {edad}')"
   ]
  },
  {
   "cell_type": "markdown",
   "metadata": {},
   "source": [
    "###### Ejemplo con tabla_1.xml\n"
   ]
  },
  {
   "cell_type": "code",
   "execution_count": null,
   "metadata": {
    "id": "4GwBGl3arayx"
   },
   "outputs": [],
   "source": [
    "archivo_1=ET.parse(ruta+'tabla_1.xml')\n",
    "raiz=archivo_1.getroot()"
   ]
  },
  {
   "cell_type": "code",
   "execution_count": null,
   "metadata": {
    "id": "IYVVWnnzTX4b"
   },
   "outputs": [],
   "source": [
    "for nodo in raiz:\n",
    "    print(nodo.attrib,nodo.text,nodo.tag)\n",
    "    for sn in nodo:\n",
    "        print(sn.attrib,sn.text,sn.tag)"
   ]
  },
  {
   "cell_type": "code",
   "execution_count": null,
   "metadata": {
    "colab": {
     "base_uri": "https://localhost:8080/"
    },
    "executionInfo": {
     "elapsed": 195,
     "status": "ok",
     "timestamp": 1674611008061,
     "user": {
      "displayName": "Carlos Arellano",
      "userId": "03055712073717640513"
     },
     "user_tz": 360
    },
    "id": "ust5KKPs62q7",
    "outputId": "0b924440-c8e5-41b1-d3e3-82736d425780"
   },
   "outputs": [],
   "source": [
    "archivo_2=ET.parse(ruta+'tabla_2.xml')\n",
    "root=archivo_2.getroot()\n",
    "for nodo in root:\n",
    "    print(nodo.tag,nodo.attrib,nodo.text)"
   ]
  },
  {
   "cell_type": "code",
   "execution_count": null,
   "metadata": {
    "id": "QvdB5caG7Q63"
   },
   "outputs": [],
   "source": [
    "for nodo in root:\n",
    "    for subn in nodo:\n",
    "        print(subn.tag,subn.attrib,subn.text)"
   ]
  },
  {
   "cell_type": "code",
   "execution_count": null,
   "metadata": {
    "id": "lGztj-ugBS_g"
   },
   "outputs": [],
   "source": [
    "#Extraer los datos de tabla_1.xml\n",
    "d={}\n",
    "for nodo in raiz:\n",
    "    d[nodo.tag]=[]\n",
    "for nodo in raiz:\n",
    "    d[nodo.tag].append(nodo.attrib['name'])\n",
    "for nodo in raiz:\n",
    "    for sn in nodo:\n",
    "        d[sn.tag]=[]\n",
    "for nodo in raiz:\n",
    "    for sn in nodo:\n",
    "        d[sn.tag].append(sn.text)\n",
    "d"
   ]
  },
  {
   "cell_type": "code",
   "execution_count": null,
   "metadata": {
    "id": "9HKDlmfkCFJX"
   },
   "outputs": [],
   "source": [
    "pd.DataFrame(d)"
   ]
  },
  {
   "cell_type": "markdown",
   "metadata": {
    "id": "HcfJwbBsfbli"
   },
   "source": [
    "```python\n",
    "df_1 = pd.DataFrame(columns = columnas)\n",
    "for nodo in raiz:\n",
    "  L = []\n",
    "  L.append(nodo.attrib['name'])\n",
    "  for sn in nodo:\n",
    "    L.append(sn.text)\n",
    "  df_1 = df_1.append(pd.DataFrame([L], columns=columnas), ignore_index=True)\n",
    "```"
   ]
  },
  {
   "cell_type": "code",
   "execution_count": null,
   "metadata": {
    "id": "jJql5i1PhqLo"
   },
   "outputs": [],
   "source": [
    "archivo=ET.parse(ruta+'tabla_2.xml')\n",
    "raiz=archivo.getroot()"
   ]
  },
  {
   "cell_type": "code",
   "execution_count": null,
   "metadata": {
    "id": "rdlBjCyNe4p8"
   },
   "outputs": [],
   "source": [
    "L=[]\n",
    "for n in raiz.findall('documents/document'):\n",
    "    d={}\n",
    "    d[n.tag]=n.text\n",
    "    for k,v in n.attrib.items():\n",
    "        d[k]=v\n",
    "    L.append(d)\n",
    "pd.DataFrame(L)"
   ]
  },
  {
   "cell_type": "markdown",
   "metadata": {
    "id": "VuD9knap3cLj"
   },
   "source": [
    "---"
   ]
  },
  {
   "cell_type": "code",
   "execution_count": null,
   "metadata": {
    "id": "24Ixwav93a0U"
   },
   "outputs": [],
   "source": [
    "archivo='IFC-Subscriptions-and-Voting-Power-of-Member-Count.xml'\n",
    "file=ET.parse(ruta+archivo)\n",
    "root=file.getroot()\n",
    "\n",
    "for nodo in root:\n",
    "    for snodo in nodo:\n",
    "        print(snodo.tag,snodo.attrib,snodo.text)\n",
    "        for ssnodo in snodo:\n",
    "            print(ssnodo.tag,ssnodo.attrib,ssnodo.text)"
   ]
  },
  {
   "cell_type": "markdown",
   "metadata": {
    "id": "-SdrSO1Q4n0Z"
   },
   "source": [
    "---"
   ]
  },
  {
   "cell_type": "markdown",
   "metadata": {
    "id": "ZRlzBzprYxAV"
   },
   "source": [
    "# Archivos SHP"
   ]
  },
  {
   "cell_type": "markdown",
   "metadata": {},
   "source": [
    "Los archivos Shapefile (`.shp`) son un formato estándar para almacenar información geoespacial vectorial. La librería `geopandas` permite leer y manipular estos archivos de manera sencilla. Un Shapefile suele estar acompañado de otros archivos como `.shx` y `.dbf`."
   ]
  },
  {
   "cell_type": "code",
   "execution_count": null,
   "metadata": {},
   "outputs": [],
   "source": [
    "#!pip install geopandas"
   ]
  },
  {
   "cell_type": "code",
   "execution_count": null,
   "metadata": {
    "id": "6bIHz-f0YwWC"
   },
   "outputs": [],
   "source": [
    "# %conda !pip !conda\n",
    "%pip install geopandas"
   ]
  },
  {
   "cell_type": "code",
   "execution_count": null,
   "metadata": {
    "id": "x_QzkteiY41T"
   },
   "outputs": [],
   "source": [
    "import geopandas as gpd"
   ]
  },
  {
   "cell_type": "code",
   "execution_count": null,
   "metadata": {
    "id": "OI72ru5pZGGl"
   },
   "outputs": [],
   "source": [
    "g_df = gpd.read_file('COVID_INDIA_POC-shp/COVID_INDIA_POC.shp')\n",
    "g_df"
   ]
  },
  {
   "cell_type": "code",
   "execution_count": null,
   "metadata": {},
   "outputs": [],
   "source": [
    "import matplotlib.pyplot as plt\n",
    "fig, ax = plt.subplots(figsize=(12, 8))\n",
    "g_df.plot(\n",
    "    ax=ax,\n",
    "    column=g_df.columns[0],  # Cambia por la columna que quieras destacar\n",
    "    cmap='viridis',\n",
    "    edgecolor='black',\n",
    "    legend=True\n",
    ")\n",
    "ax.set_title('COVID_INDIA_POC', fontsize=12)\n",
    "ax.axis('off')\n",
    "plt.show()"
   ]
  },
  {
   "cell_type": "markdown",
   "metadata": {},
   "source": [
    "# Archivos HTML"
   ]
  },
  {
   "cell_type": "code",
   "execution_count": null,
   "metadata": {},
   "outputs": [],
   "source": [
    "# Leer un archivo HTML local\n",
    "with open(ruta+'ejemplo.html', 'r', encoding='utf-8') as file:\n",
    "    html_content = file.read()\n",
    "print(html_content[:500])  # Muestra los primeros 500 caracteres"
   ]
  },
  {
   "cell_type": "code",
   "execution_count": null,
   "metadata": {},
   "outputs": [],
   "source": [
    "#!pip install beautifulsoup4 #Instalar BeautifulSoup si es necesario"
   ]
  },
  {
   "cell_type": "code",
   "execution_count": null,
   "metadata": {},
   "outputs": [],
   "source": [
    "# Analizar HTML con BeautifulSoup\n",
    "from bs4 import BeautifulSoup\n",
    "soup = BeautifulSoup(html_content, 'html.parser')\n",
    "\n",
    "# Extraer el título de la página\n",
    "titulo = soup.title.string\n",
    "print('Título de la página:', titulo)"
   ]
  },
  {
   "cell_type": "code",
   "execution_count": null,
   "metadata": {},
   "outputs": [],
   "source": [
    "# Extraer los enlaces de la página\n",
    "enlaces = soup.find_all('a')\n",
    "for enlace in enlaces:\n",
    "    print(enlace.get('href'))"
   ]
  },
  {
   "cell_type": "code",
   "execution_count": null,
   "metadata": {},
   "outputs": [],
   "source": [
    "#!pip install requests # Instalar requests si es necesario\n",
    "import requests\n",
    "\n",
    "url = 'https://www.python.org/'\n",
    "response = requests.get(url)\n",
    "web_html = response.text\n",
    "\n",
    "# Analizar el HTML descargado\n",
    "soup_web = BeautifulSoup(web_html, 'html.parser')\n"
   ]
  },
  {
   "cell_type": "code",
   "execution_count": null,
   "metadata": {},
   "outputs": [],
   "source": [
    "print(soup_web.title)"
   ]
  },
  {
   "cell_type": "markdown",
   "metadata": {},
   "source": [
    "###### Ejemplo sencillo webscraping "
   ]
  },
  {
   "cell_type": "code",
   "execution_count": null,
   "metadata": {},
   "outputs": [],
   "source": [
    "import requests\n",
    "from bs4 import BeautifulSoup\n",
    "import pandas as pd\n",
    " \n",
    "url = \"https://codedamn-classrooms.github.io/webscraper-python-codedamn-classroom-website/\"\n",
    "response = requests.get(url)\n",
    "soup = BeautifulSoup(response.text, \"html.parser\")\n",
    "type(soup)"
   ]
  },
  {
   "cell_type": "code",
   "execution_count": null,
   "metadata": {},
   "outputs": [],
   "source": [
    "#Obtener un dataframe con la información de los productos\n",
    "products = []\n",
    "\n",
    "for price_tag in soup.find_all(\"h4\", string=lambda s: s and s.strip().startswith(\"$\")):\n",
    "    # El nombre del producto es la cadena que sigue después del tag <a> después del precio\n",
    "    product_link = price_tag.find_next(\"a\")\n",
    "    if not product_link:\n",
    "        continue\n",
    "    product_name = product_link.text.strip()\n",
    "    product_url = product_link[\"href\"]\n",
    "    # La descripción es el siguien tag <p> después de la liga del producto\n",
    "    description_tag = product_link.find_next(\"p\")\n",
    "    description = description_tag.text.strip() if description_tag else \"\"\n",
    "    # Los numero de reviews van después de <div> \n",
    "    reviews_tag = product_link.find_next(string=lambda s: s and \"review\" in s)\n",
    "    try:\n",
    "        reviews = int(reviews_tag.strip().split()[0])\n",
    "    except Exception:\n",
    "        reviews = None\n",
    "    # Precio\n",
    "    try:\n",
    "        price = float(price_tag.text.strip().replace(\"$\", \"\"))\n",
    "    except Exception:\n",
    "        price = None\n",
    " \n",
    "    products.append({\n",
    "        \"Product Name\": product_name,\n",
    "        \"Price\": price,\n",
    "        \"Description\": description,\n",
    "        \"Reviews\": reviews,\n",
    "        \"Product URL\": product_url\n",
    "    })\n",
    " \n",
    "df = pd.DataFrame(products)\n",
    "df"
   ]
  },
  {
   "cell_type": "markdown",
   "metadata": {
    "id": "UfDfG-2GZGbf"
   },
   "source": [
    "# Archivos imágen"
   ]
  },
  {
   "cell_type": "markdown",
   "metadata": {},
   "source": [
    "Las imágenes RGB almacenan información de color en tres canales: Rojo (R), Verde (G) y Azul (B). Para leer y manipular imágenes en Python, se pueden usar las librerías `Pillow` (PIL), `matplotlib` y `numpy`. Esto permite acceder a los valores de los píxeles y realizar análisis o transformaciones."
   ]
  },
  {
   "cell_type": "code",
   "execution_count": null,
   "metadata": {
    "id": "aByjGKZUZL_z"
   },
   "outputs": [],
   "source": [
    "import numpy as np\n",
    "import matplotlib.pyplot as plt"
   ]
  },
  {
   "cell_type": "code",
   "execution_count": null,
   "metadata": {
    "colab": {
     "base_uri": "https://localhost:8080/"
    },
    "executionInfo": {
     "elapsed": 271,
     "status": "ok",
     "timestamp": 1674613070990,
     "user": {
      "displayName": "Carlos Arellano",
      "userId": "03055712073717640513"
     },
     "user_tz": 360
    },
    "id": "hSWX-twoZOKu",
    "outputId": "3dde026d-070c-47b2-9cef-01150e066ef9"
   },
   "outputs": [],
   "source": [
    "I=plt.imread(ruta+'imagen.bmp')\n",
    "I.shape"
   ]
  },
  {
   "cell_type": "code",
   "execution_count": null,
   "metadata": {
    "id": "CQLwW9Yx8Cxs"
   },
   "outputs": [],
   "source": [
    "plt.imshow(I)"
   ]
  },
  {
   "cell_type": "code",
   "execution_count": null,
   "metadata": {
    "id": "SrOKKxB1u3x5"
   },
   "outputs": [],
   "source": [
    "I[0,0,0] # pixel (0,0) de la matriz roja"
   ]
  },
  {
   "cell_type": "code",
   "execution_count": null,
   "metadata": {
    "id": "Bsf9EdmkubjY"
   },
   "outputs": [],
   "source": [
    "plt.imshow(I[:,:,0],cmap='gray') # Matriz roja"
   ]
  },
  {
   "cell_type": "code",
   "execution_count": null,
   "metadata": {
    "colab": {
     "base_uri": "https://localhost:8080/"
    },
    "executionInfo": {
     "elapsed": 125,
     "status": "ok",
     "timestamp": 1674613511938,
     "user": {
      "displayName": "Carlos Arellano",
      "userId": "03055712073717640513"
     },
     "user_tz": 360
    },
    "id": "zcCtmNp6vVkO",
    "outputId": "61317add-4722-44fd-cb15-f71a9cb9d49f"
   },
   "outputs": [],
   "source": [
    "G=I.mean(axis=2)\n",
    "G.shape"
   ]
  },
  {
   "cell_type": "code",
   "execution_count": null,
   "metadata": {
    "id": "zrDz-o3hvlVN"
   },
   "outputs": [],
   "source": [
    "plt.imshow(G)"
   ]
  },
  {
   "cell_type": "code",
   "execution_count": null,
   "metadata": {
    "id": "Xp_-mL3nvumd"
   },
   "outputs": [],
   "source": [
    "G[0,0]"
   ]
  },
  {
   "cell_type": "markdown",
   "metadata": {},
   "source": [
    "# Ejemplos de aplicaciones en Ciencias de Datos para cada tipo de archivo"
   ]
  },
  {
   "cell_type": "markdown",
   "metadata": {},
   "source": [
    "## Archivos de texto:\n",
    "> **Análisis de sentimientos:** Procesar opiniones de usuarios en archivos .txt para determinar si son positivas o negativas.\n",
    "\n",
    "> **Extracción de palabras clave:** Identificar términos importantes en grandes volúmenes de texto.\n",
    "\n",
    "> **Procesamiento de lenguaje natural (NLP):** Tokenización, lematización y análisis de frecuencia de palabras.\n",
    "\n",
    "> **Análisis de logs:** Procesar archivos de registro para detectar patrones o anomalías.\n"
   ]
  },
  {
   "cell_type": "markdown",
   "metadata": {},
   "source": [
    "### Archivos Excel y CSV\n",
    "\n",
    "> **Análisis exploratorio de datos (EDA):**\n",
    "  - Cargar un archivo de ventas y calcular el total vendido por producto.\n",
    "    \n",
    "> **Preparación de datos para modelos de machine learning:**\n",
    "  - Métodos de ingenieria de características\n",
    "    \n",
    "> **Reportes automatizados:**\n",
    "  - Generar un resumen mensual de ingresos y exportarlo a Excel."
   ]
  },
  {
   "cell_type": "markdown",
   "metadata": {},
   "source": [
    "### Archivos de imágenes RGB\n",
    "\n",
    "> **Visión por computadora:**\n",
    "  - Clasificar imágenes de dígitos escritos a mano (MNIST).\n",
    "    \n",
    "> **Procesamiento de imágenes médicas:**\n",
    "  - Detectar regiones anómalas en radiografías.\n",
    "    \n",
    "> **Extracción de características visuales:**\n",
    "  - Calcular el histograma de colores de una imagen."
   ]
  },
  {
   "cell_type": "markdown",
   "metadata": {},
   "source": [
    "### Archivos XML\n",
    "\n",
    "> **Integración de datos de sistemas empresariales:**\n",
    "  - Extraer información de clientes de un archivo XML exportado de un ERP.\n",
    "    \n",
    "> **Procesamiento de datos de sensores o dispositivos IoT:**\n",
    "  - Leer registros de temperatura almacenados en XML.\n",
    "    \n",
    "> **Análisis de datos de publicaciones científicas:**\n",
    "  - Obtener títulos y autores de artículos en formato XML"
   ]
  },
  {
   "cell_type": "markdown",
   "metadata": {},
   "source": [
    "### Archivos JSON\n",
    "\n",
    "> **Consumo de APIs web:**\n",
    "  - Obtener y analizar tweets desde la API de Twitter.\n",
    "    \n",
    "> **Almacenamiento y análisis de logs:**\n",
    "  - Procesar registros de acceso de una aplicación web.\n",
    "    \n",
    "> **Análisis de datos de aplicaciones móviles:**\n",
    "  - Leer resultados de encuestas exportadas en JSON."
   ]
  },
  {
   "cell_type": "markdown",
   "metadata": {},
   "source": [
    "### Archivos Shapefile (SHP)\n",
    "\n",
    "> **Análisis geoespacial:**\n",
    "  - Calcular la distancia entre puntos de interés en una ciudad.\n",
    "    \n",
    "> **Estudios ambientales y urbanos:**\n",
    "  - Analizar la distribución de áreas verdes en una zona urbana.\n",
    "\n",
    "> **Modelado de redes y transporte:**\n",
    "  - Determinar rutas óptimas entre dos ubicaciones."
   ]
  },
  {
   "cell_type": "markdown",
   "metadata": {},
   "source": [
    "## Archivos HTML:\n",
    "> **Web scraping:** Extraer datos estructurados de páginas web para análisis posterior.\n",
    "\n",
    "> **Construcción de datasets:** Recolectar información de múltiples páginas HTML para crear conjuntos de datos.\n",
    "\n",
    "> **Análisis de enlaces:** Estudiar la estructura de enlaces en sitios web para análisis de redes.\n",
    "\n",
    "> **Extracción de tablas:** Obtener datos tabulares de páginas HTML para análisis estadístico."
   ]
  },
  {
   "cell_type": "code",
   "execution_count": null,
   "metadata": {},
   "outputs": [],
   "source": []
  }
 ],
 "metadata": {
  "colab": {
   "authorship_tag": "ABX9TyPqUYnWUof7Eo4SjyQR8MFR",
   "mount_file_id": "11cBGjZ8uzuVbqHGETC0huHCGxFz0MEeR",
   "provenance": [
    {
     "file_id": "11cBGjZ8uzuVbqHGETC0huHCGxFz0MEeR",
     "timestamp": 1660679616179
    }
   ]
  },
  "kernelspec": {
   "display_name": "Python 3 (ipykernel)",
   "language": "python",
   "name": "python3"
  },
  "language_info": {
   "codemirror_mode": {
    "name": "ipython",
    "version": 3
   },
   "file_extension": ".py",
   "mimetype": "text/x-python",
   "name": "python",
   "nbconvert_exporter": "python",
   "pygments_lexer": "ipython3",
   "version": "3.12.7"
  }
 },
 "nbformat": 4,
 "nbformat_minor": 4
}
